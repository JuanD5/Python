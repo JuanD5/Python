{
 "cells": [
  {
   "cell_type": "markdown",
   "metadata": {},
   "source": [
    "Search Insert Position.\n",
    "\n",
    "Given a sorted array of distinct integers and a target value, return the index if the target is found. If not, return the index where it would be if it were inserted in order.\n",
    "\n",
    "You must write an algorithm with O(log n) runtime complexity.\n",
    "\n",
    " "
   ]
  },
  {
   "cell_type": "code",
   "execution_count": null,
   "metadata": {},
   "outputs": [],
   "source": [
    "a = [1,2,3,4,5,6,7]\n"
   ]
  },
  {
   "cell_type": "code",
   "execution_count": null,
   "metadata": {},
   "outputs": [],
   "source": [
    "def search_insert(nums,target):\n",
    "    \n",
    "    # dos marcadores el del prinicipio y el final. \n",
    "    l ,r = 0, len(nums)-1\n",
    "    mid_pos = (l + r) //2\n",
    "    mid_value = nums[mid_pos]\n",
    "     \n",
    "    while l <= r: # mientras que haya un número dentro del subarray en cuestión.\n",
    "        \n",
    "        if mid_value == target:\n",
    "            return mid_pos\n",
    "        \n",
    "        elif mid_value < target:\n",
    "            l = mid_pos + 1\n",
    "            \n",
    "        elif mid_value > target:\n",
    "            r = mid_value -1    "
   ]
  }
 ],
 "metadata": {
  "interpreter": {
   "hash": "66e4a4b7c121db4243309d1eb7f3fba70ad006b305f754897095e92fca8ac47b"
  },
  "kernelspec": {
   "display_name": "Python 3.8.5 64-bit ('base': conda)",
   "name": "python3"
  },
  "language_info": {
   "name": "python",
   "version": "3.8.5"
  },
  "orig_nbformat": 4
 },
 "nbformat": 4,
 "nbformat_minor": 2
}
