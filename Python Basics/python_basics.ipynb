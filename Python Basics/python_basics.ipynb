{
 "cells": [
  {
   "cell_type": "markdown",
   "metadata": {},
   "source": [
    "# The complete python course  "
   ]
  },
  {
   "cell_type": "markdown",
   "metadata": {},
   "source": [
    "## Variables and numbers"
   ]
  },
  {
   "cell_type": "markdown",
   "metadata": {},
   "source": [
    "if we have a variable name that we would not change, aka a constant, we can named it using upper case"
   ]
  },
  {
   "cell_type": "code",
   "execution_count": 1,
   "metadata": {},
   "outputs": [],
   "source": [
    "PI =3.14"
   ]
  },
  {
   "cell_type": "markdown",
   "metadata": {},
   "source": [
    "We have two main types of numbers, integers and floats "
   ]
  },
  {
   "cell_type": "code",
   "execution_count": 2,
   "metadata": {},
   "outputs": [],
   "source": [
    "age = 35 # integer\n",
    "PI = 3.14159 # floats"
   ]
  },
  {
   "cell_type": "markdown",
   "metadata": {},
   "source": [
    "Float division"
   ]
  },
  {
   "cell_type": "code",
   "execution_count": 3,
   "metadata": {},
   "outputs": [
    {
     "name": "stdout",
     "output_type": "stream",
     "text": [
      "4.0\n"
     ]
    }
   ],
   "source": [
    "float_division = 12/3\n",
    "print(float_division)"
   ]
  },
  {
   "cell_type": "code",
   "execution_count": 5,
   "metadata": {},
   "outputs": [
    {
     "data": {
      "text/plain": [
       "2.6666666666666665"
      ]
     },
     "execution_count": 5,
     "metadata": {},
     "output_type": "execute_result"
    }
   ],
   "source": [
    "8/3"
   ]
  },
  {
   "cell_type": "markdown",
   "metadata": {},
   "source": [
    "Integer division"
   ]
  },
  {
   "cell_type": "code",
   "execution_count": 4,
   "metadata": {},
   "outputs": [
    {
     "name": "stdout",
     "output_type": "stream",
     "text": [
      "4\n"
     ]
    }
   ],
   "source": [
    "integer_division = 12//3\n",
    "print(integer_division)"
   ]
  },
  {
   "cell_type": "markdown",
   "metadata": {},
   "source": [
    "The **//** operator rounds down the result of the division"
   ]
  },
  {
   "cell_type": "code",
   "execution_count": 6,
   "metadata": {},
   "outputs": [
    {
     "data": {
      "text/plain": [
       "2"
      ]
     },
     "execution_count": 6,
     "metadata": {},
     "output_type": "execute_result"
    }
   ],
   "source": [
    "8//3"
   ]
  },
  {
   "cell_type": "code",
   "execution_count": 9,
   "metadata": {},
   "outputs": [
    {
     "name": "stdout",
     "output_type": "stream",
     "text": [
      "2.6\n"
     ]
    }
   ],
   "source": [
    "float_division = 13/5 # returns the cocient of the division \n",
    "print(float_division)"
   ]
  },
  {
   "cell_type": "code",
   "execution_count": 8,
   "metadata": {},
   "outputs": [
    {
     "name": "stdout",
     "output_type": "stream",
     "text": [
      "2\n"
     ]
    }
   ],
   "source": [
    "integer_division = 13//5\n",
    "print(integer_division)"
   ]
  },
  {
   "cell_type": "markdown",
   "metadata": {},
   "source": [
    "Remainder of a division"
   ]
  },
  {
   "cell_type": "code",
   "execution_count": 11,
   "metadata": {},
   "outputs": [
    {
     "name": "stdout",
     "output_type": "stream",
     "text": [
      "3\n"
     ]
    }
   ],
   "source": [
    "remainder =  13%5\n",
    "print(remainder)"
   ]
  },
  {
   "cell_type": "markdown",
   "metadata": {},
   "source": [
    "13 // 5 = 2 and the remainder is 3 "
   ]
  },
  {
   "cell_type": "code",
   "execution_count": 12,
   "metadata": {},
   "outputs": [
    {
     "data": {
      "text/plain": [
       "25.0"
      ]
     },
     "execution_count": 12,
     "metadata": {},
     "output_type": "execute_result"
    }
   ],
   "source": [
    "125/5"
   ]
  },
  {
   "cell_type": "markdown",
   "metadata": {},
   "source": [
    "String quotes"
   ]
  },
  {
   "cell_type": "code",
   "execution_count": 15,
   "metadata": {},
   "outputs": [
    {
     "name": "stdout",
     "output_type": "stream",
     "text": [
      "He said \"you are amazing\" yesterday\n"
     ]
    }
   ],
   "source": [
    "string_with_quotes = \"hello, it's me\"\n",
    "another_with_quotes = 'He said \"you are amazing\" yesterday'\n",
    "print(another_with_quotes)"
   ]
  },
  {
   "cell_type": "markdown",
   "metadata": {},
   "source": [
    "String escaping : we use back slash on the string we want to append to another string. "
   ]
  },
  {
   "cell_type": "code",
   "execution_count": 16,
   "metadata": {},
   "outputs": [
    {
     "name": "stdout",
     "output_type": "stream",
     "text": [
      "He said \"you are amazing\" yesterday\n"
     ]
    }
   ],
   "source": [
    "another_with_quotes = \"He said \\\"you are amazing\\\" yesterday\"\n",
    "print(another_with_quotes)"
   ]
  },
  {
   "cell_type": "markdown",
   "metadata": {},
   "source": [
    "multiline strings : uses 3 quotation marks \"\"\""
   ]
  },
  {
   "cell_type": "code",
   "execution_count": 18,
   "metadata": {},
   "outputs": [
    {
     "name": "stdout",
     "output_type": "stream",
     "text": [
      "\n",
      "Hello world. \n",
      "My name is juan \n",
      "Welcome to my program\n",
      "\n"
     ]
    }
   ],
   "source": [
    "multiline_string = \"\"\"\n",
    "Hello world. \n",
    "My name is juan \n",
    "Welcome to my program\n",
    "\"\"\"\n",
    "print(multiline_string)"
   ]
  },
  {
   "cell_type": "code",
   "execution_count": 20,
   "metadata": {},
   "outputs": [
    {
     "name": "stdout",
     "output_type": "stream",
     "text": [
      "Hello world My name is Juan\n"
     ]
    }
   ],
   "source": [
    "not_a_multiline_string = \"Hello world My name is Juan\"\n",
    "print(not_a_multiline_string)"
   ]
  },
  {
   "cell_type": "code",
   "execution_count": 22,
   "metadata": {},
   "outputs": [
    {
     "name": "stdout",
     "output_type": "stream",
     "text": [
      "hello Juan\n"
     ]
    }
   ],
   "source": [
    "name = \"Juan\"\n",
    "greeting = \"hello \" +  name\n",
    "print(greeting)"
   ]
  },
  {
   "cell_type": "code",
   "execution_count": 26,
   "metadata": {},
   "outputs": [
    {
     "name": "stdout",
     "output_type": "stream",
     "text": [
      "you are 34\n"
     ]
    }
   ],
   "source": [
    "age = 34\n",
    "print(f\"you are {age}\")"
   ]
  },
  {
   "cell_type": "code",
   "execution_count": 24,
   "metadata": {},
   "outputs": [
    {
     "name": "stdout",
     "output_type": "stream",
     "text": [
      "you are 34\n"
     ]
    }
   ],
   "source": [
    "print(\"You are {}\".format(age))"
   ]
  },
  {
   "cell_type": "code",
   "execution_count": 25,
   "metadata": {},
   "outputs": [
    {
     "name": "stdout",
     "output_type": "stream",
     "text": [
      "You are 34\n"
     ]
    }
   ],
   "source": [
    "print(\"You are \"+ str(age))"
   ]
  },
  {
   "cell_type": "markdown",
   "metadata": {},
   "source": [
    "User input\n",
    "The input function always give back a string"
   ]
  },
  {
   "cell_type": "code",
   "execution_count": 27,
   "metadata": {},
   "outputs": [
    {
     "name": "stdout",
     "output_type": "stream",
     "text": [
      " Hello David, my name is Juan\n"
     ]
    }
   ],
   "source": [
    "my_name = \"Juan\"\n",
    "your_name = input(\"Enter yout name: \")\n",
    "print(f\" Hello {your_name}, my name is {my_name}\")"
   ]
  },
  {
   "cell_type": "code",
   "execution_count": 30,
   "metadata": {},
   "outputs": [
    {
     "name": "stdout",
     "output_type": "stream",
     "text": [
      "you have lived for 24 years\n",
      "<class 'str'>\n"
     ]
    }
   ],
   "source": [
    "your_age = input(\"enter your age :\")\n",
    "print( f\"you have lived for {your_age} years\")\n",
    "print(type(your_age))"
   ]
  },
  {
   "cell_type": "code",
   "execution_count": 29,
   "metadata": {},
   "outputs": [
    {
     "name": "stdout",
     "output_type": "stream",
     "text": [
      "you have lived for 300 months\n"
     ]
    }
   ],
   "source": [
    "your_age = input(\"enter your age :\")\n",
    "print( f\"you have lived for {int(your_age)*12} months\")"
   ]
  },
  {
   "cell_type": "markdown",
   "metadata": {},
   "source": [
    "One = is for asigment , two == are for comparison"
   ]
  },
  {
   "cell_type": "code",
   "execution_count": 31,
   "metadata": {},
   "outputs": [
    {
     "name": "stdout",
     "output_type": "stream",
     "text": [
      "False\n"
     ]
    }
   ],
   "source": [
    "age = 20 \n",
    "is_the_same_age = 20 == 21\n",
    "print(is_the_same_age)"
   ]
  },
  {
   "cell_type": "markdown",
   "metadata": {},
   "source": [
    "and operator: if one of the 2 conditions is false, everything will be false\n",
    "\n",
    "* it gives you the first value if it is false, other wise it gives you the second value "
   ]
  },
  {
   "cell_type": "code",
   "execution_count": 32,
   "metadata": {},
   "outputs": [
    {
     "name": "stdout",
     "output_type": "stream",
     "text": [
      " you can learn programming True\n"
     ]
    }
   ],
   "source": [
    "age = int(input(\"enter your age :\"))\n",
    "can_learn_programming = age > 0 and age < 150 \n",
    "print (f\" you can learn programming {can_learn_programming}\")"
   ]
  },
  {
   "cell_type": "code",
   "execution_count": 34,
   "metadata": {},
   "outputs": [
    {
     "name": "stdout",
     "output_type": "stream",
     "text": [
      "False\n"
     ]
    }
   ],
   "source": [
    "a = False\n",
    "b = 35 \n",
    "c = a and b \n",
    "print(c)"
   ]
  },
  {
   "cell_type": "code",
   "execution_count": 35,
   "metadata": {},
   "outputs": [
    {
     "name": "stdout",
     "output_type": "stream",
     "text": [
      "False\n"
     ]
    }
   ],
   "source": [
    "a = 35\n",
    "b = False\n",
    "c = a and b \n",
    "print(c)"
   ]
  },
  {
   "cell_type": "code",
   "execution_count": 36,
   "metadata": {},
   "outputs": [
    {
     "name": "stdout",
     "output_type": "stream",
     "text": [
      "35\n"
     ]
    }
   ],
   "source": [
    "a = 34\n",
    "b = 35 \n",
    "c = a and b \n",
    "print(c)"
   ]
  },
  {
   "cell_type": "markdown",
   "metadata": {},
   "source": [
    "Or operator : check if one of the conditions is true \n",
    "* It gives you the first value if it is true, other wise it returns the second value"
   ]
  },
  {
   "cell_type": "code",
   "execution_count": 33,
   "metadata": {},
   "outputs": [
    {
     "name": "stdout",
     "output_type": "stream",
     "text": [
      "At 24 you are usually not working False\n"
     ]
    }
   ],
   "source": [
    "age = int(input(\"enter your age :\"))\n",
    "usually_not_working = age < 18 or age > 65 \n",
    "print (f\"At {age} you are usually not working {usually_not_working}\")"
   ]
  },
  {
   "cell_type": "code",
   "execution_count": 37,
   "metadata": {},
   "outputs": [
    {
     "name": "stdout",
     "output_type": "stream",
     "text": [
      "35\n"
     ]
    }
   ],
   "source": [
    "a = False\n",
    "b = 35 \n",
    "c = a or b \n",
    "print(c)"
   ]
  },
  {
   "cell_type": "code",
   "execution_count": 38,
   "metadata": {},
   "outputs": [
    {
     "name": "stdout",
     "output_type": "stream",
     "text": [
      "35\n"
     ]
    }
   ],
   "source": [
    "a = 35\n",
    "b = False\n",
    "c = a or b \n",
    "print(c)"
   ]
  },
  {
   "cell_type": "code",
   "execution_count": 39,
   "metadata": {},
   "outputs": [
    {
     "name": "stdout",
     "output_type": "stream",
     "text": [
      "34\n"
     ]
    }
   ],
   "source": [
    "a = 34\n",
    "b = 35 \n",
    "c = a or b \n",
    "print(c)"
   ]
  },
  {
   "cell_type": "code",
   "execution_count": 40,
   "metadata": {},
   "outputs": [
    {
     "name": "stdout",
     "output_type": "stream",
     "text": [
      "False\n"
     ]
    }
   ],
   "source": [
    "print(not 35)"
   ]
  },
  {
   "cell_type": "markdown",
   "metadata": {},
   "source": [
    "Lists\n",
    "* When working with lists is better to keep its data homogeneous"
   ]
  },
  {
   "cell_type": "code",
   "execution_count": 75,
   "metadata": {},
   "outputs": [
    {
     "name": "stdout",
     "output_type": "stream",
     "text": [
      "['Rolf', 'Bob', 'Anne']\n",
      "['Rolf', 'Anne']\n"
     ]
    }
   ],
   "source": [
    "friends = [\"Rolf\", \"Bob\", \"Anne\"]\n",
    "print(friends)\n",
    "friends.remove(\"Bob\")\n",
    "print(friends)"
   ]
  },
  {
   "cell_type": "code",
   "execution_count": 44,
   "metadata": {},
   "outputs": [
    {
     "data": {
      "text/plain": [
       "2"
      ]
     },
     "execution_count": 44,
     "metadata": {},
     "output_type": "execute_result"
    }
   ],
   "source": [
    "len(friends)"
   ]
  },
  {
   "cell_type": "code",
   "execution_count": 76,
   "metadata": {},
   "outputs": [
    {
     "name": "stdout",
     "output_type": "stream",
     "text": [
      "My friends are Rolf, Anne\n"
     ]
    }
   ],
   "source": [
    "comma_separated = \", \".join(friends)\n",
    "print(f\"My friends are {comma_separated}\")"
   ]
  },
  {
   "cell_type": "markdown",
   "metadata": {},
   "source": [
    "* Pop uses the index of the value that we want to pop"
   ]
  },
  {
   "cell_type": "code",
   "execution_count": 42,
   "metadata": {},
   "outputs": [
    {
     "name": "stdout",
     "output_type": "stream",
     "text": [
      "['Rolf', 'Anne', 'Juan']\n",
      "['Anne', 'Juan']\n"
     ]
    }
   ],
   "source": [
    "friends.append(\"Juan\")\n",
    "print(friends)\n",
    "friends.pop(0)\n",
    "print(friends)"
   ]
  },
  {
   "cell_type": "code",
   "execution_count": 43,
   "metadata": {},
   "outputs": [
    {
     "data": {
      "text/plain": [
       "0"
      ]
     },
     "execution_count": 43,
     "metadata": {},
     "output_type": "execute_result"
    }
   ],
   "source": [
    "friends.count(\"Bob\")"
   ]
  },
  {
   "cell_type": "markdown",
   "metadata": {},
   "source": [
    "Tuples\n",
    "\n",
    "Does not allow modification"
   ]
  },
  {
   "cell_type": "code",
   "execution_count": 45,
   "metadata": {},
   "outputs": [
    {
     "name": "stdout",
     "output_type": "stream",
     "text": [
      "('Rolf', 'bob')\n"
     ]
    }
   ],
   "source": [
    "short_tuple = \"Rolf\", \"bob\"\n",
    "print(short_tuple)"
   ]
  },
  {
   "cell_type": "code",
   "execution_count": 46,
   "metadata": {},
   "outputs": [
    {
     "name": "stdout",
     "output_type": "stream",
     "text": [
      "('Rolf', 'bob')\n"
     ]
    }
   ],
   "source": [
    "short_tuple = (\"Rolf\", \"bob\")\n",
    "print(short_tuple)"
   ]
  },
  {
   "cell_type": "code",
   "execution_count": 47,
   "metadata": {},
   "outputs": [
    {
     "name": "stdout",
     "output_type": "stream",
     "text": [
      "Rolf\n"
     ]
    }
   ],
   "source": [
    "print(short_tuple[0])"
   ]
  },
  {
   "cell_type": "markdown",
   "metadata": {},
   "source": [
    "Sets\n",
    "* Dont hold order and doesn't allow duplicates"
   ]
  },
  {
   "cell_type": "code",
   "execution_count": 50,
   "metadata": {},
   "outputs": [
    {
     "name": "stdout",
     "output_type": "stream",
     "text": [
      "{'Ane', 'Rolf'}\n"
     ]
    }
   ],
   "source": [
    "art_friends = {\"Rolf\",\"Ane\"}\n",
    "print(art_friends)\n",
    "science_friends = {\"Jen\", \"Charlie\"}\n",
    "art_friends.add(\"Juan\")"
   ]
  },
  {
   "cell_type": "code",
   "execution_count": 51,
   "metadata": {},
   "outputs": [
    {
     "name": "stdout",
     "output_type": "stream",
     "text": [
      "{'Ane', 'Juan', 'Rolf'}\n"
     ]
    }
   ],
   "source": [
    "print(art_friends)"
   ]
  },
  {
   "cell_type": "code",
   "execution_count": 52,
   "metadata": {},
   "outputs": [
    {
     "name": "stdout",
     "output_type": "stream",
     "text": [
      "{'Ane', 'Juan', 'Rolf'}\n",
      "{'Ane', 'Juan'}\n"
     ]
    }
   ],
   "source": [
    "print(art_friends)\n",
    "art_friends.remove(\"Rolf\")\n",
    "print(art_friends)"
   ]
  },
  {
   "cell_type": "markdown",
   "metadata": {},
   "source": [
    "* Sets difference\n",
    "  \n",
    "1. Return the elements that are in the art_friends set but not in the science_friends\n",
    "\n",
    "* Symmetric difference \n",
    "\n",
    "1. Elements that are not in both sets \n",
    "\n",
    "* Intersection \n",
    "\n",
    "1. Elements that are on both sets "
   ]
  },
  {
   "cell_type": "code",
   "execution_count": 58,
   "metadata": {},
   "outputs": [
    {
     "name": "stdout",
     "output_type": "stream",
     "text": [
      "{'Ane', 'Jen', 'Rolf'}\n",
      "{'Jen', 'Charlie'}\n",
      "{'Ane', 'Rolf'}\n",
      "{'Ane', 'Rolf', 'Charlie'}\n",
      "{'Jen'}\n",
      "{'Ane', 'Jen', 'Rolf', 'Charlie'}\n"
     ]
    }
   ],
   "source": [
    "art_friends = {\"Rolf\",\"Ane\",\"Jen\"}\n",
    "print(art_friends)\n",
    "science_friends = {\"Jen\", \"Charlie\"}\n",
    "print(science_friends)\n",
    "art_but_not_science = art_friends.difference(science_friends)\n",
    "print(art_but_not_science)\n",
    "not_in_both = art_friends.symmetric_difference(science_friends)\n",
    "print(not_in_both)\n",
    "art_and_science = art_friends.intersection(science_friends)\n",
    "print(art_and_science)\n",
    "all_friends = art_friends.union(science_friends)\n",
    "print(all_friends)"
   ]
  },
  {
   "cell_type": "markdown",
   "metadata": {},
   "source": [
    "Dictionaries \n",
    "key value pairs"
   ]
  },
  {
   "cell_type": "code",
   "execution_count": 60,
   "metadata": {},
   "outputs": [
    {
     "name": "stdout",
     "output_type": "stream",
     "text": [
      "{'Rolf': 24, 'Adam': 30, 'Anne': 27}\n"
     ]
    }
   ],
   "source": [
    "friends = [(\"Rolf\", 24), (\"Adam\", 30), (\"Anne\",27)]\n",
    "friend_ages = dict(friends)\n",
    "print(friend_ages)"
   ]
  },
  {
   "cell_type": "markdown",
   "metadata": {},
   "source": [
    "Zip function\n",
    "* Pairs each element of one tuple to another"
   ]
  },
  {
   "cell_type": "code",
   "execution_count": 64,
   "metadata": {},
   "outputs": [
    {
     "name": "stdout",
     "output_type": "stream",
     "text": [
      "<zip object at 0x7fce318b4d80>\n"
     ]
    }
   ],
   "source": [
    "a = (\"John\", \"Charles\", \"Mike\")\n",
    "b = (\"Jenny\", \"Christy\", \"Monica\")\n",
    "\n",
    "x = zip(a, b)\n",
    "print(x)"
   ]
  },
  {
   "cell_type": "code",
   "execution_count": 65,
   "metadata": {},
   "outputs": [
    {
     "name": "stdout",
     "output_type": "stream",
     "text": [
      "{'John': 'Jenny', 'Charles': 'Christy', 'Mike': 'Monica'}\n"
     ]
    }
   ],
   "source": [
    "dict_x = dict(x)\n",
    "print(dict_x)"
   ]
  },
  {
   "cell_type": "code",
   "execution_count": 68,
   "metadata": {},
   "outputs": [
    {
     "name": "stdout",
     "output_type": "stream",
     "text": [
      "[1, 2, 4] [5, 6, 7]\n"
     ]
    }
   ],
   "source": [
    "list_a = [1,2,4]\n",
    "list_b = [5,6,7]\n",
    "print(list_a, list_b)"
   ]
  },
  {
   "cell_type": "code",
   "execution_count": 73,
   "metadata": {},
   "outputs": [
    {
     "name": "stdout",
     "output_type": "stream",
     "text": [
      "{1: 5, 2: 6, 4: 7}\n",
      "<class 'int'>\n"
     ]
    }
   ],
   "source": [
    "x_list = zip(list_a, list_b)\n",
    "dict_x_list = dict(x_list)\n",
    "print(dict_x_list)\n",
    "print(type(list(dict_x_list.keys())[0]))"
   ]
  },
  {
   "cell_type": "code",
   "execution_count": 74,
   "metadata": {},
   "outputs": [
    {
     "name": "stdout",
     "output_type": "stream",
     "text": [
      "{1: 5, 2: 6, 4: 7}\n"
     ]
    }
   ],
   "source": [
    "list_c = [5,6,7,8]\n",
    "x_list = zip(list_a, list_c)\n",
    "dict_x_list = dict(x_list)\n",
    "print(dict_x_list)\n"
   ]
  },
  {
   "cell_type": "markdown",
   "metadata": {},
   "source": [
    "## Flow control"
   ]
  },
  {
   "cell_type": "markdown",
   "metadata": {},
   "source": [
    "While loops are used to run something but you dont know a priori how many times, The programm will run until a condition is satisfied"
   ]
  },
  {
   "cell_type": "markdown",
   "metadata": {},
   "source": [
    "* Destructing syntax"
   ]
  },
  {
   "cell_type": "code",
   "execution_count": 77,
   "metadata": {},
   "outputs": [
    {
     "name": "stdout",
     "output_type": "stream",
     "text": [
      "Rolf is 25 years old\n",
      "Anne is 37 years old\n",
      "Charlie is 31 years old\n",
      "Bob is 22 years old\n"
     ]
    }
   ],
   "source": [
    "friends = [(\"Rolf\",25), (\"Anne\",37), (\"Charlie\",31), (\"Bob\",22)]\n",
    "for name, age in friends:\n",
    "    print(f\"{name} is {age} years old\")"
   ]
  },
  {
   "cell_type": "markdown",
   "metadata": {},
   "source": [
    "* iterating over dictionaries"
   ]
  },
  {
   "cell_type": "code",
   "execution_count": 78,
   "metadata": {},
   "outputs": [
    {
     "name": "stdout",
     "output_type": "stream",
     "text": [
      "{'Rolf': 25, 'Anne': 37, 'Charlie': 31, 'Bob': 22}\n"
     ]
    }
   ],
   "source": [
    "friends = [(\"Rolf\",25), (\"Anne\",37), (\"Charlie\",31), (\"Bob\",22)]\n",
    "friends_age = dict(friends)\n",
    "print(friends_age)"
   ]
  },
  {
   "cell_type": "code",
   "execution_count": 79,
   "metadata": {},
   "outputs": [
    {
     "name": "stdout",
     "output_type": "stream",
     "text": [
      "{'Rolf': 25, 'Anne': 37, 'Charlie': 31, 'Bob': 22}\n"
     ]
    }
   ],
   "source": [
    "list_friends = [[\"Rolf\",25], [\"Anne\",37], [\"Charlie\",31], [\"Bob\",22]]\n",
    "friends_age_list = dict(list_friends)\n",
    "print(friends_age_list)"
   ]
  },
  {
   "cell_type": "code",
   "execution_count": 80,
   "metadata": {},
   "outputs": [
    {
     "name": "stdout",
     "output_type": "stream",
     "text": [
      "Rolf\n",
      "Anne\n",
      "Charlie\n",
      "Bob\n"
     ]
    }
   ],
   "source": [
    "for name in friends_age_list:\n",
    "    print(name)"
   ]
  },
  {
   "cell_type": "code",
   "execution_count": 82,
   "metadata": {},
   "outputs": [
    {
     "name": "stdout",
     "output_type": "stream",
     "text": [
      "Rolf\n",
      "Anne\n",
      "Charlie\n",
      "Bob\n"
     ]
    }
   ],
   "source": [
    "for name in friends_age_list.keys():\n",
    "    print(name)"
   ]
  },
  {
   "cell_type": "code",
   "execution_count": 81,
   "metadata": {},
   "outputs": [
    {
     "name": "stdout",
     "output_type": "stream",
     "text": [
      "25\n",
      "37\n",
      "31\n",
      "22\n"
     ]
    }
   ],
   "source": [
    "for age in friends_age_list.values():\n",
    "    print(age)"
   ]
  },
  {
   "cell_type": "code",
   "execution_count": 83,
   "metadata": {},
   "outputs": [
    {
     "name": "stdout",
     "output_type": "stream",
     "text": [
      "Rolf 25\n",
      "Anne 37\n",
      "Charlie 31\n",
      "Bob 22\n"
     ]
    }
   ],
   "source": [
    "for name, age in friends_age_list.items():\n",
    "    print(name,age)"
   ]
  },
  {
   "cell_type": "markdown",
   "metadata": {},
   "source": [
    "Break and continue keyword"
   ]
  },
  {
   "cell_type": "code",
   "execution_count": 84,
   "metadata": {},
   "outputs": [
    {
     "name": "stdout",
     "output_type": "stream",
     "text": [
      "This car is ok\n",
      "This car is ok\n",
      "This car is bad\n",
      "This car is ok\n"
     ]
    }
   ],
   "source": [
    "cars = [\"ok\",\"ok\",\"bad\",\"ok\"]\n",
    "for status in cars:\n",
    "    print(f\"This car is {status}\")"
   ]
  },
  {
   "cell_type": "markdown",
   "metadata": {},
   "source": [
    "With the _break_ keyword the for loop stops at some point "
   ]
  },
  {
   "cell_type": "code",
   "execution_count": 87,
   "metadata": {},
   "outputs": [
    {
     "name": "stdout",
     "output_type": "stream",
     "text": [
      "This car is ok\n",
      "This car is ok\n",
      "Stopping the production line I found a bad car status\n"
     ]
    }
   ],
   "source": [
    "for status in cars:\n",
    "    if status == \"bad\":\n",
    "        print(\"Stopping the production line I found a bad car status\")\n",
    "        break \n",
    "    print(f\"This car is {status}\")"
   ]
  },
  {
   "cell_type": "markdown",
   "metadata": {},
   "source": [
    "With the _continue_ keyword the for loop can continue when a given condition is found"
   ]
  },
  {
   "cell_type": "code",
   "execution_count": 88,
   "metadata": {},
   "outputs": [
    {
     "name": "stdout",
     "output_type": "stream",
     "text": [
      "This car is ok\n",
      "This car is ok\n",
      "Skipping this car,  I found a bad car status\n",
      "This car is ok\n"
     ]
    }
   ],
   "source": [
    "for status in cars:\n",
    "    if status == \"bad\":\n",
    "        print(\"Skipping this car,  I found a bad car status\")\n",
    "        continue\n",
    "    print(f\"This car is {status}\")"
   ]
  },
  {
   "cell_type": "markdown",
   "metadata": {},
   "source": [
    "We can use the else keyword in case we run a for loop with none breaks or errors"
   ]
  },
  {
   "cell_type": "code",
   "execution_count": 89,
   "metadata": {},
   "outputs": [
    {
     "name": "stdout",
     "output_type": "stream",
     "text": [
      "This car is ok\n",
      "This car is ok\n",
      "This car is ok\n",
      "This car is ok\n",
      "All cars are ok , no bad status cars\n"
     ]
    }
   ],
   "source": [
    "cars = [\"ok\",\"ok\",\"ok\",\"ok\"]\n",
    "for status in cars:\n",
    "    if status == \"bad\":\n",
    "        print(\"Stopping the production line I found a bad car status\")\n",
    "        break \n",
    "    print(f\"This car is {status}\")\n",
    "else:\n",
    "    print(\"All cars are ok , no bad status cars\")"
   ]
  },
  {
   "cell_type": "markdown",
   "metadata": {},
   "source": [
    "List slicing "
   ]
  },
  {
   "cell_type": "code",
   "execution_count": 92,
   "metadata": {},
   "outputs": [
    {
     "name": "stdout",
     "output_type": "stream",
     "text": [
      "['Rolf', 'Charlie', 'Anna']\n",
      "['Bob', 'Jen']\n"
     ]
    }
   ],
   "source": [
    "friends = [\"Rolf\", \"Charlie\", \"Anna\", \"Bob\", \"Jen\"]\n",
    "\n",
    "print(friends[:-2]) # returns all the elements of the list except the last two\n",
    "print(friends[-2:]) # returns the last two elements of the list"
   ]
  },
  {
   "cell_type": "markdown",
   "metadata": {},
   "source": [
    "The last element of the list"
   ]
  },
  {
   "cell_type": "code",
   "execution_count": 93,
   "metadata": {},
   "outputs": [
    {
     "name": "stdout",
     "output_type": "stream",
     "text": [
      "Jen\n"
     ]
    }
   ],
   "source": [
    "print(friends[-1])"
   ]
  },
  {
   "cell_type": "markdown",
   "metadata": {},
   "source": [
    "Second to last element of the list"
   ]
  },
  {
   "cell_type": "code",
   "execution_count": 94,
   "metadata": {},
   "outputs": [
    {
     "name": "stdout",
     "output_type": "stream",
     "text": [
      "Bob\n"
     ]
    }
   ],
   "source": [
    "print(friends[-2])"
   ]
  },
  {
   "cell_type": "markdown",
   "metadata": {},
   "source": [
    "* list slicing is inclusive at the beginning but exlusive at the end"
   ]
  },
  {
   "cell_type": "code",
   "execution_count": 95,
   "metadata": {},
   "outputs": [
    {
     "name": "stdout",
     "output_type": "stream",
     "text": [
      "['Rolf', 'Charlie', 'Anna']\n"
     ]
    }
   ],
   "source": [
    "print(friends[0:3])"
   ]
  },
  {
   "cell_type": "code",
   "execution_count": 96,
   "metadata": {},
   "outputs": [
    {
     "name": "stdout",
     "output_type": "stream",
     "text": [
      "again\n",
      "again\n",
      "again\n",
      "again\n",
      "again\n"
     ]
    }
   ],
   "source": [
    "repeated_statement = [print(\"again\") for _ in range(5)]"
   ]
  },
  {
   "cell_type": "markdown",
   "metadata": {},
   "source": [
    "List and Set comprenhension"
   ]
  },
  {
   "cell_type": "code",
   "execution_count": 98,
   "metadata": {},
   "outputs": [
    {
     "data": {
      "text/plain": [
       "[9, 7]"
      ]
     },
     "execution_count": 98,
     "metadata": {},
     "output_type": "execute_result"
    }
   ],
   "source": [
    "nums = [2,4,9,8,7]\n",
    "\n",
    "odd = [num for num in nums if num%2 == 1]\n",
    "odd"
   ]
  },
  {
   "cell_type": "code",
   "execution_count": 97,
   "metadata": {},
   "outputs": [
    {
     "name": "stdout",
     "output_type": "stream",
     "text": [
      "{'Charlie', 'Rolf'}\n"
     ]
    }
   ],
   "source": [
    "friends = [\"Rolf\", \"ruth\", \"charlie\", \"Jen\"]\n",
    "guests = [\"jose\", \"Bob\", \"Rolf\", \"Charlie\", \"michael\"]\n",
    "\n",
    "friends_lower = {n.lower() for n in friends}\n",
    "guests_lower = {n.lower() for n in guests}\n",
    "present_friends = friends_lower.intersection(guests_lower)\n",
    "upper_present_friends = {name.title() for name in present_friends}\n",
    "print(upper_present_friends)"
   ]
  },
  {
   "cell_type": "markdown",
   "metadata": {},
   "source": [
    "The range function always starts at 0 by default "
   ]
  },
  {
   "cell_type": "code",
   "execution_count": 99,
   "metadata": {},
   "outputs": [
    {
     "name": "stdout",
     "output_type": "stream",
     "text": [
      "0\n",
      "1\n",
      "2\n",
      "3\n",
      "4\n"
     ]
    }
   ],
   "source": [
    "for i in range(5):\n",
    "    print(i)"
   ]
  },
  {
   "cell_type": "markdown",
   "metadata": {},
   "source": [
    "However we can changed it to start in a different index"
   ]
  },
  {
   "cell_type": "code",
   "execution_count": 102,
   "metadata": {},
   "outputs": [
    {
     "name": "stdout",
     "output_type": "stream",
     "text": [
      "1\n",
      "2\n",
      "3\n",
      "4\n"
     ]
    }
   ],
   "source": [
    "for i in range(1,5,1):\n",
    "    print(i)"
   ]
  },
  {
   "cell_type": "code",
   "execution_count": 101,
   "metadata": {},
   "outputs": [
    {
     "data": {
      "text/plain": [
       "4"
      ]
     },
     "execution_count": 101,
     "metadata": {},
     "output_type": "execute_result"
    }
   ],
   "source": [
    "len(friends)"
   ]
  },
  {
   "cell_type": "markdown",
   "metadata": {},
   "source": [
    "Here we start at 0 "
   ]
  },
  {
   "cell_type": "code",
   "execution_count": 100,
   "metadata": {},
   "outputs": [
    {
     "name": "stdout",
     "output_type": "stream",
     "text": [
      "0\n",
      "1\n",
      "2\n",
      "3\n"
     ]
    }
   ],
   "source": [
    "for i in range(len(friends)):\n",
    "    print(i)"
   ]
  },
  {
   "cell_type": "markdown",
   "metadata": {},
   "source": [
    "Here we start at 1"
   ]
  },
  {
   "cell_type": "code",
   "execution_count": 103,
   "metadata": {},
   "outputs": [
    {
     "name": "stdout",
     "output_type": "stream",
     "text": [
      "1\n",
      "2\n",
      "3\n"
     ]
    }
   ],
   "source": [
    "for i in range(1,len(friends)):\n",
    "    print(i)"
   ]
  },
  {
   "cell_type": "code",
   "execution_count": 105,
   "metadata": {},
   "outputs": [
    {
     "data": {
      "text/plain": [
       "['Rolf', 'ruth', 'charlie', 'Jen']"
      ]
     },
     "execution_count": 105,
     "metadata": {},
     "output_type": "execute_result"
    }
   ],
   "source": [
    "friends"
   ]
  },
  {
   "cell_type": "code",
   "execution_count": 104,
   "metadata": {},
   "outputs": [
    {
     "name": "stdout",
     "output_type": "stream",
     "text": [
      "Rolf\n",
      "ruth\n",
      "charlie\n",
      "Jen\n"
     ]
    }
   ],
   "source": [
    "for i in range(len(friends)):\n",
    "    print(friends[i])"
   ]
  },
  {
   "cell_type": "code",
   "execution_count": 106,
   "metadata": {},
   "outputs": [],
   "source": [
    "friends = [\"Rolf\",\"Bob\", \"Jen\", \"Anne\"]\n",
    "time_since_seen =  [3,7,15,11]\n",
    "\n",
    "long_timers = {\n",
    "    friends[i]: time_since_seen[i]\n",
    "    for i in range(len(friends))\n",
    "    if time_since_seen[i] > 8\n",
    "}"
   ]
  },
  {
   "cell_type": "code",
   "execution_count": 107,
   "metadata": {},
   "outputs": [
    {
     "data": {
      "text/plain": [
       "{'Jen': 15, 'Anne': 11}"
      ]
     },
     "execution_count": 107,
     "metadata": {},
     "output_type": "execute_result"
    }
   ],
   "source": [
    "long_timers"
   ]
  },
  {
   "cell_type": "markdown",
   "metadata": {},
   "source": [
    "Enumerate function"
   ]
  },
  {
   "cell_type": "code",
   "execution_count": 108,
   "metadata": {},
   "outputs": [],
   "source": [
    "friends = [\"Rolf\", \"John\", \"Anna\"]"
   ]
  },
  {
   "cell_type": "code",
   "execution_count": 110,
   "metadata": {},
   "outputs": [
    {
     "name": "stdout",
     "output_type": "stream",
     "text": [
      "0 Rolf\n",
      "1 John\n",
      "2 Anna\n"
     ]
    }
   ],
   "source": [
    "for counter, friend in enumerate(friends):\n",
    "    print(counter, friend)"
   ]
  },
  {
   "cell_type": "code",
   "execution_count": 113,
   "metadata": {},
   "outputs": [
    {
     "name": "stdout",
     "output_type": "stream",
     "text": [
      "((0, 'Rolf'), (1, 'John'), (2, 'Anna'))\n"
     ]
    }
   ],
   "source": [
    "counter_friends = tuple(enumerate(friends))\n",
    "print(counter_friends)"
   ]
  },
  {
   "cell_type": "code",
   "execution_count": 114,
   "metadata": {},
   "outputs": [
    {
     "name": "stdout",
     "output_type": "stream",
     "text": [
      "[(0, 'Rolf'), (1, 'John'), (2, 'Anna')]\n"
     ]
    }
   ],
   "source": [
    "counter_friends = list(enumerate(friends))\n",
    "print(counter_friends) "
   ]
  },
  {
   "cell_type": "code",
   "execution_count": 115,
   "metadata": {},
   "outputs": [
    {
     "name": "stdout",
     "output_type": "stream",
     "text": [
      "{(0, 'Rolf'), (2, 'Anna'), (1, 'John')}\n"
     ]
    }
   ],
   "source": [
    "counter_friends = set(enumerate(friends))\n",
    "print(counter_friends) "
   ]
  },
  {
   "cell_type": "code",
   "execution_count": 116,
   "metadata": {},
   "outputs": [
    {
     "name": "stdout",
     "output_type": "stream",
     "text": [
      "{0: 'Rolf', 1: 'John', 2: 'Anna'}\n"
     ]
    }
   ],
   "source": [
    "counter_friends = dict(enumerate(friends))\n",
    "print(counter_friends) "
   ]
  },
  {
   "cell_type": "markdown",
   "metadata": {},
   "source": [
    "## Functions"
   ]
  },
  {
   "cell_type": "code",
   "execution_count": 119,
   "metadata": {},
   "outputs": [],
   "source": [
    "from typing import Dict, Any"
   ]
  },
  {
   "cell_type": "code",
   "execution_count": 123,
   "metadata": {},
   "outputs": [],
   "source": [
    "ford_fiesta = {\n",
    "        \"make\": \"Ford\",\n",
    "        \"model\" : \"Fiesta\",\n",
    "        \"mileage\" : 23000,\n",
    "        \"fuel_consumed\" : 460}"
   ]
  },
  {
   "cell_type": "markdown",
   "metadata": {},
   "source": [
    "* Car is a parameter of the function "
   ]
  },
  {
   "cell_type": "code",
   "execution_count": 127,
   "metadata": {},
   "outputs": [],
   "source": [
    "def calculate_mpg(car:Dict) -> None :\n",
    "    mpg = car[\"mileage\"]/car[\"fuel_consumed\"]\n",
    "    name = f\"{car['make']} {car['model']}\"\n",
    "    print(f\"{name} does {mpg} miles per gallon\")\n",
    "     "
   ]
  },
  {
   "cell_type": "markdown",
   "metadata": {},
   "source": [
    "* ford fiesta is the argument that is pass as the car parameter to the calculate_mpg function"
   ]
  },
  {
   "cell_type": "code",
   "execution_count": 129,
   "metadata": {},
   "outputs": [
    {
     "name": "stdout",
     "output_type": "stream",
     "text": [
      "Ford Fiesta does 50.0 miles per gallon\n"
     ]
    }
   ],
   "source": [
    "calculate_mpg(car = ford_fiesta)  "
   ]
  },
  {
   "cell_type": "code",
   "execution_count": 1,
   "metadata": {},
   "outputs": [
    {
     "data": {
      "text/plain": [
       "5"
      ]
     },
     "execution_count": 1,
     "metadata": {},
     "output_type": "execute_result"
    }
   ],
   "source": [
    "def sum_function(x,y):\n",
    "    return x+y\n",
    "\n",
    "sum_function(1,4)"
   ]
  },
  {
   "cell_type": "code",
   "execution_count": 3,
   "metadata": {},
   "outputs": [
    {
     "ename": "TypeError",
     "evalue": "sum_function() takes 2 positional arguments but 3 were given",
     "output_type": "error",
     "traceback": [
      "\u001b[1;31m---------------------------------------------------------------------------\u001b[0m",
      "\u001b[1;31mTypeError\u001b[0m                                 Traceback (most recent call last)",
      "\u001b[1;32mc:\\Users\\david\\Documents\\Juan David\\Inteligencia Artificial\\Python\\Python Basics\\python_basics.ipynb Cell 3\u001b[0m in \u001b[0;36m<cell line: 1>\u001b[1;34m()\u001b[0m\n\u001b[1;32m----> <a href='vscode-notebook-cell:/c%3A/Users/david/Documents/Juan%20David/Inteligencia%20Artificial/Python/Python%20Basics/python_basics.ipynb#W2sZmlsZQ%3D%3D?line=0'>1</a>\u001b[0m sum_function(\u001b[39m1\u001b[39;49m,\u001b[39m8\u001b[39;49m,\u001b[39m3\u001b[39;49m)\n",
      "\u001b[1;31mTypeError\u001b[0m: sum_function() takes 2 positional arguments but 3 were given"
     ]
    }
   ],
   "source": [
    "sum_function(1,8,3)"
   ]
  },
  {
   "cell_type": "code",
   "execution_count": 6,
   "metadata": {},
   "outputs": [],
   "source": [
    "def sum_function(*args,**kwargs):\n",
    "    print(args)\n",
    "    value = 0\n",
    "    for n in args:\n",
    "        value += n\n",
    "    return value"
   ]
  },
  {
   "cell_type": "code",
   "execution_count": 7,
   "metadata": {},
   "outputs": [
    {
     "name": "stdout",
     "output_type": "stream",
     "text": [
      "(3, 5, 6)\n"
     ]
    },
    {
     "data": {
      "text/plain": [
       "14"
      ]
     },
     "execution_count": 7,
     "metadata": {},
     "output_type": "execute_result"
    }
   ],
   "source": [
    "sum_function(3,5,6)"
   ]
  },
  {
   "cell_type": "code",
   "execution_count": 9,
   "metadata": {},
   "outputs": [
    {
     "name": "stdout",
     "output_type": "stream",
     "text": [
      "{'x': 5, 'y': 4, 'z': 9}\n"
     ]
    },
    {
     "data": {
      "text/plain": [
       "1"
      ]
     },
     "execution_count": 9,
     "metadata": {},
     "output_type": "execute_result"
    }
   ],
   "source": [
    "def rest_function(**kwargs):\n",
    "    print(kwargs)\n",
    "    return kwargs[\"x\"] - kwargs[\"y\"]\n",
    "\n",
    "rest_function(x=5,y=4,z=9)"
   ]
  },
  {
   "cell_type": "code",
   "execution_count": 132,
   "metadata": {},
   "outputs": [],
   "source": [
    "def divide_normal(x,y):\n",
    "    return x/y\n",
    "\n"
   ]
  },
  {
   "cell_type": "code",
   "execution_count": 134,
   "metadata": {},
   "outputs": [],
   "source": [
    "divide_lambda = lambda x , y  : x/y"
   ]
  },
  {
   "cell_type": "code",
   "execution_count": 135,
   "metadata": {},
   "outputs": [
    {
     "data": {
      "text/plain": [
       "3.0"
      ]
     },
     "execution_count": 135,
     "metadata": {},
     "output_type": "execute_result"
    }
   ],
   "source": [
    "divide_lambda(15,5)"
   ]
  }
 ],
 "metadata": {
  "kernelspec": {
   "display_name": "Python 3.9.12 ('api')",
   "language": "python",
   "name": "python3"
  },
  "language_info": {
   "codemirror_mode": {
    "name": "ipython",
    "version": 3
   },
   "file_extension": ".py",
   "mimetype": "text/x-python",
   "name": "python",
   "nbconvert_exporter": "python",
   "pygments_lexer": "ipython3",
   "version": "3.9.12"
  },
  "orig_nbformat": 4,
  "vscode": {
   "interpreter": {
    "hash": "bd1743daccd822e67f87c326a93feffb4cdea09f05e5aa13eecd66286e1bba98"
   }
  }
 },
 "nbformat": 4,
 "nbformat_minor": 2
}
