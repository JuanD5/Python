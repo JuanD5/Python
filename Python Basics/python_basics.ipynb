{
 "cells": [
  {
   "cell_type": "markdown",
   "metadata": {},
   "source": [
    "# The complete python course  "
   ]
  },
  {
   "cell_type": "markdown",
   "metadata": {},
   "source": [
    "## Variables and numbers"
   ]
  },
  {
   "cell_type": "markdown",
   "metadata": {},
   "source": [
    "if we have a variable name that we would not change, aka a constant, we can named it using upper case"
   ]
  },
  {
   "cell_type": "code",
   "execution_count": 1,
   "metadata": {},
   "outputs": [],
   "source": [
    "PI =3.14"
   ]
  },
  {
   "cell_type": "markdown",
   "metadata": {},
   "source": [
    "We have two main types of numbers, integers and floats "
   ]
  },
  {
   "cell_type": "code",
   "execution_count": 2,
   "metadata": {},
   "outputs": [],
   "source": [
    "age = 35 # integer\n",
    "PI = 3.14159 # floats"
   ]
  },
  {
   "cell_type": "markdown",
   "metadata": {},
   "source": [
    "Float division"
   ]
  },
  {
   "cell_type": "code",
   "execution_count": 3,
   "metadata": {},
   "outputs": [
    {
     "name": "stdout",
     "output_type": "stream",
     "text": [
      "4.0\n"
     ]
    }
   ],
   "source": [
    "float_division = 12/3\n",
    "print(float_division)"
   ]
  },
  {
   "cell_type": "code",
   "execution_count": 5,
   "metadata": {},
   "outputs": [
    {
     "data": {
      "text/plain": [
       "2.6666666666666665"
      ]
     },
     "execution_count": 5,
     "metadata": {},
     "output_type": "execute_result"
    }
   ],
   "source": [
    "8/3"
   ]
  },
  {
   "cell_type": "markdown",
   "metadata": {},
   "source": [
    "Integer division"
   ]
  },
  {
   "cell_type": "code",
   "execution_count": 4,
   "metadata": {},
   "outputs": [
    {
     "name": "stdout",
     "output_type": "stream",
     "text": [
      "4\n"
     ]
    }
   ],
   "source": [
    "integer_division = 12//3\n",
    "print(integer_division)"
   ]
  },
  {
   "cell_type": "markdown",
   "metadata": {},
   "source": [
    "The **//** operator rounds down the result of the division"
   ]
  },
  {
   "cell_type": "code",
   "execution_count": 6,
   "metadata": {},
   "outputs": [
    {
     "data": {
      "text/plain": [
       "2"
      ]
     },
     "execution_count": 6,
     "metadata": {},
     "output_type": "execute_result"
    }
   ],
   "source": [
    "8//3"
   ]
  },
  {
   "cell_type": "code",
   "execution_count": 9,
   "metadata": {},
   "outputs": [
    {
     "name": "stdout",
     "output_type": "stream",
     "text": [
      "2.6\n"
     ]
    }
   ],
   "source": [
    "float_division = 13/5 # returns the cocient of the division \n",
    "print(float_division)"
   ]
  },
  {
   "cell_type": "code",
   "execution_count": 8,
   "metadata": {},
   "outputs": [
    {
     "name": "stdout",
     "output_type": "stream",
     "text": [
      "2\n"
     ]
    }
   ],
   "source": [
    "integer_division = 13//5\n",
    "print(integer_division)"
   ]
  },
  {
   "cell_type": "markdown",
   "metadata": {},
   "source": [
    "Remainder of a division"
   ]
  },
  {
   "cell_type": "code",
   "execution_count": 11,
   "metadata": {},
   "outputs": [
    {
     "name": "stdout",
     "output_type": "stream",
     "text": [
      "3\n"
     ]
    }
   ],
   "source": [
    "remainder =  13%5\n",
    "print(remainder)"
   ]
  },
  {
   "cell_type": "markdown",
   "metadata": {},
   "source": [
    "13 // 5 = 2 and the remainder is 3 "
   ]
  },
  {
   "cell_type": "code",
   "execution_count": 12,
   "metadata": {},
   "outputs": [
    {
     "data": {
      "text/plain": [
       "25.0"
      ]
     },
     "execution_count": 12,
     "metadata": {},
     "output_type": "execute_result"
    }
   ],
   "source": [
    "125/5"
   ]
  },
  {
   "cell_type": "markdown",
   "metadata": {},
   "source": [
    "String quotes"
   ]
  },
  {
   "cell_type": "code",
   "execution_count": 15,
   "metadata": {},
   "outputs": [
    {
     "name": "stdout",
     "output_type": "stream",
     "text": [
      "He said \"you are amazing\" yesterday\n"
     ]
    }
   ],
   "source": [
    "string_with_quotes = \"hello, it's me\"\n",
    "another_with_quotes = 'He said \"you are amazing\" yesterday'\n",
    "print(another_with_quotes)"
   ]
  },
  {
   "cell_type": "markdown",
   "metadata": {},
   "source": [
    "String escaping : we use back slash on the string we want to append to another string. "
   ]
  },
  {
   "cell_type": "code",
   "execution_count": 16,
   "metadata": {},
   "outputs": [
    {
     "name": "stdout",
     "output_type": "stream",
     "text": [
      "He said \"you are amazing\" yesterday\n"
     ]
    }
   ],
   "source": [
    "another_with_quotes = \"He said \\\"you are amazing\\\" yesterday\"\n",
    "print(another_with_quotes)"
   ]
  },
  {
   "cell_type": "markdown",
   "metadata": {},
   "source": [
    "multiline strings : uses 3 quotation marks \"\"\""
   ]
  },
  {
   "cell_type": "code",
   "execution_count": 18,
   "metadata": {},
   "outputs": [
    {
     "name": "stdout",
     "output_type": "stream",
     "text": [
      "\n",
      "Hello world. \n",
      "My name is juan \n",
      "Welcome to my program\n",
      "\n"
     ]
    }
   ],
   "source": [
    "multiline_string = \"\"\"\n",
    "Hello world. \n",
    "My name is juan \n",
    "Welcome to my program\n",
    "\"\"\"\n",
    "print(multiline_string)"
   ]
  },
  {
   "cell_type": "code",
   "execution_count": 20,
   "metadata": {},
   "outputs": [
    {
     "name": "stdout",
     "output_type": "stream",
     "text": [
      "Hello world My name is Juan\n"
     ]
    }
   ],
   "source": [
    "not_a_multiline_string = \"Hello world My name is Juan\"\n",
    "print(not_a_multiline_string)"
   ]
  },
  {
   "cell_type": "code",
   "execution_count": 22,
   "metadata": {},
   "outputs": [
    {
     "name": "stdout",
     "output_type": "stream",
     "text": [
      "hello Juan\n"
     ]
    }
   ],
   "source": [
    "name = \"Juan\"\n",
    "greeting = \"hello \" +  name\n",
    "print(greeting)"
   ]
  },
  {
   "cell_type": "code",
   "execution_count": 26,
   "metadata": {},
   "outputs": [
    {
     "name": "stdout",
     "output_type": "stream",
     "text": [
      "you are 34\n"
     ]
    }
   ],
   "source": [
    "age = 34\n",
    "print(f\"you are {age}\")"
   ]
  },
  {
   "cell_type": "code",
   "execution_count": 24,
   "metadata": {},
   "outputs": [
    {
     "name": "stdout",
     "output_type": "stream",
     "text": [
      "you are 34\n"
     ]
    }
   ],
   "source": [
    "print(\"You are {}\".format(age))"
   ]
  },
  {
   "cell_type": "code",
   "execution_count": 25,
   "metadata": {},
   "outputs": [
    {
     "name": "stdout",
     "output_type": "stream",
     "text": [
      "You are 34\n"
     ]
    }
   ],
   "source": [
    "print(\"You are \"+ str(age))"
   ]
  },
  {
   "cell_type": "markdown",
   "metadata": {},
   "source": [
    "User input\n",
    "The input function always give back a string"
   ]
  },
  {
   "cell_type": "code",
   "execution_count": 27,
   "metadata": {},
   "outputs": [
    {
     "name": "stdout",
     "output_type": "stream",
     "text": [
      " Hello David, my name is Juan\n"
     ]
    }
   ],
   "source": [
    "my_name = \"Juan\"\n",
    "your_name = input(\"Enter yout name: \")\n",
    "print(f\" Hello {your_name}, my name is {my_name}\")"
   ]
  },
  {
   "cell_type": "code",
   "execution_count": 30,
   "metadata": {},
   "outputs": [
    {
     "name": "stdout",
     "output_type": "stream",
     "text": [
      "you have lived for 24 years\n",
      "<class 'str'>\n"
     ]
    }
   ],
   "source": [
    "your_age = input(\"enter your age :\")\n",
    "print( f\"you have lived for {your_age} years\")\n",
    "print(type(your_age))"
   ]
  },
  {
   "cell_type": "code",
   "execution_count": 29,
   "metadata": {},
   "outputs": [
    {
     "name": "stdout",
     "output_type": "stream",
     "text": [
      "you have lived for 300 months\n"
     ]
    }
   ],
   "source": [
    "your_age = input(\"enter your age :\")\n",
    "print( f\"you have lived for {int(your_age)*12} months\")"
   ]
  },
  {
   "cell_type": "markdown",
   "metadata": {},
   "source": [
    "One = is for asigment , two == are for comparison"
   ]
  },
  {
   "cell_type": "code",
   "execution_count": 31,
   "metadata": {},
   "outputs": [
    {
     "name": "stdout",
     "output_type": "stream",
     "text": [
      "False\n"
     ]
    }
   ],
   "source": [
    "age = 20 \n",
    "is_the_same_age = 20 == 21\n",
    "print(is_the_same_age)"
   ]
  },
  {
   "cell_type": "markdown",
   "metadata": {},
   "source": [
    "and operator: if one of the 2 conditions is false, everything will be false\n",
    "\n",
    "* it gives you the first value if it is false, other wise it gives you the second value "
   ]
  },
  {
   "cell_type": "code",
   "execution_count": 32,
   "metadata": {},
   "outputs": [
    {
     "name": "stdout",
     "output_type": "stream",
     "text": [
      " you can learn programming True\n"
     ]
    }
   ],
   "source": [
    "age = int(input(\"enter your age :\"))\n",
    "can_learn_programming = age > 0 and age < 150 \n",
    "print (f\" you can learn programming {can_learn_programming}\")"
   ]
  },
  {
   "cell_type": "code",
   "execution_count": 34,
   "metadata": {},
   "outputs": [
    {
     "name": "stdout",
     "output_type": "stream",
     "text": [
      "False\n"
     ]
    }
   ],
   "source": [
    "a = False\n",
    "b = 35 \n",
    "c = a and b \n",
    "print(c)"
   ]
  },
  {
   "cell_type": "code",
   "execution_count": 35,
   "metadata": {},
   "outputs": [
    {
     "name": "stdout",
     "output_type": "stream",
     "text": [
      "False\n"
     ]
    }
   ],
   "source": [
    "a = 35\n",
    "b = False\n",
    "c = a and b \n",
    "print(c)"
   ]
  },
  {
   "cell_type": "code",
   "execution_count": 36,
   "metadata": {},
   "outputs": [
    {
     "name": "stdout",
     "output_type": "stream",
     "text": [
      "35\n"
     ]
    }
   ],
   "source": [
    "a = 34\n",
    "b = 35 \n",
    "c = a and b \n",
    "print(c)"
   ]
  },
  {
   "cell_type": "markdown",
   "metadata": {},
   "source": [
    "Or operator : check if one of the conditions is true \n",
    "* It gives you the first value if it is true, other wise it returns the second value"
   ]
  },
  {
   "cell_type": "code",
   "execution_count": 33,
   "metadata": {},
   "outputs": [
    {
     "name": "stdout",
     "output_type": "stream",
     "text": [
      "At 24 you are usually not working False\n"
     ]
    }
   ],
   "source": [
    "age = int(input(\"enter your age :\"))\n",
    "usually_not_working = age < 18 or age > 65 \n",
    "print (f\"At {age} you are usually not working {usually_not_working}\")"
   ]
  },
  {
   "cell_type": "code",
   "execution_count": 37,
   "metadata": {},
   "outputs": [
    {
     "name": "stdout",
     "output_type": "stream",
     "text": [
      "35\n"
     ]
    }
   ],
   "source": [
    "a = False\n",
    "b = 35 \n",
    "c = a or b \n",
    "print(c)"
   ]
  },
  {
   "cell_type": "code",
   "execution_count": 38,
   "metadata": {},
   "outputs": [
    {
     "name": "stdout",
     "output_type": "stream",
     "text": [
      "35\n"
     ]
    }
   ],
   "source": [
    "a = 35\n",
    "b = False\n",
    "c = a or b \n",
    "print(c)"
   ]
  },
  {
   "cell_type": "code",
   "execution_count": 39,
   "metadata": {},
   "outputs": [
    {
     "name": "stdout",
     "output_type": "stream",
     "text": [
      "34\n"
     ]
    }
   ],
   "source": [
    "a = 34\n",
    "b = 35 \n",
    "c = a or b \n",
    "print(c)"
   ]
  },
  {
   "cell_type": "code",
   "execution_count": 40,
   "metadata": {},
   "outputs": [
    {
     "name": "stdout",
     "output_type": "stream",
     "text": [
      "False\n"
     ]
    }
   ],
   "source": [
    "print(not 35)"
   ]
  },
  {
   "cell_type": "markdown",
   "metadata": {},
   "source": [
    "Lists\n",
    "* When working with lists is better to keep its data homogeneous"
   ]
  },
  {
   "cell_type": "code",
   "execution_count": 75,
   "metadata": {},
   "outputs": [
    {
     "name": "stdout",
     "output_type": "stream",
     "text": [
      "['Rolf', 'Bob', 'Anne']\n",
      "['Rolf', 'Anne']\n"
     ]
    }
   ],
   "source": [
    "friends = [\"Rolf\", \"Bob\", \"Anne\"]\n",
    "print(friends)\n",
    "friends.remove(\"Bob\")\n",
    "print(friends)"
   ]
  },
  {
   "cell_type": "code",
   "execution_count": 44,
   "metadata": {},
   "outputs": [
    {
     "data": {
      "text/plain": [
       "2"
      ]
     },
     "execution_count": 44,
     "metadata": {},
     "output_type": "execute_result"
    }
   ],
   "source": [
    "len(friends)"
   ]
  },
  {
   "cell_type": "code",
   "execution_count": 76,
   "metadata": {},
   "outputs": [
    {
     "name": "stdout",
     "output_type": "stream",
     "text": [
      "My friends are Rolf, Anne\n"
     ]
    }
   ],
   "source": [
    "comma_separated = \", \".join(friends)\n",
    "print(f\"My friends are {comma_separated}\")"
   ]
  },
  {
   "cell_type": "markdown",
   "metadata": {},
   "source": [
    "* Pop uses the index of the value that we want to pop"
   ]
  },
  {
   "cell_type": "code",
   "execution_count": 42,
   "metadata": {},
   "outputs": [
    {
     "name": "stdout",
     "output_type": "stream",
     "text": [
      "['Rolf', 'Anne', 'Juan']\n",
      "['Anne', 'Juan']\n"
     ]
    }
   ],
   "source": [
    "friends.append(\"Juan\")\n",
    "print(friends)\n",
    "friends.pop(0)\n",
    "print(friends)"
   ]
  },
  {
   "cell_type": "code",
   "execution_count": 43,
   "metadata": {},
   "outputs": [
    {
     "data": {
      "text/plain": [
       "0"
      ]
     },
     "execution_count": 43,
     "metadata": {},
     "output_type": "execute_result"
    }
   ],
   "source": [
    "friends.count(\"Bob\")"
   ]
  },
  {
   "cell_type": "markdown",
   "metadata": {},
   "source": [
    "Tuples\n",
    "\n",
    "Does not allow modification"
   ]
  },
  {
   "cell_type": "code",
   "execution_count": 45,
   "metadata": {},
   "outputs": [
    {
     "name": "stdout",
     "output_type": "stream",
     "text": [
      "('Rolf', 'bob')\n"
     ]
    }
   ],
   "source": [
    "short_tuple = \"Rolf\", \"bob\"\n",
    "print(short_tuple)"
   ]
  },
  {
   "cell_type": "code",
   "execution_count": 46,
   "metadata": {},
   "outputs": [
    {
     "name": "stdout",
     "output_type": "stream",
     "text": [
      "('Rolf', 'bob')\n"
     ]
    }
   ],
   "source": [
    "short_tuple = (\"Rolf\", \"bob\")\n",
    "print(short_tuple)"
   ]
  },
  {
   "cell_type": "code",
   "execution_count": 47,
   "metadata": {},
   "outputs": [
    {
     "name": "stdout",
     "output_type": "stream",
     "text": [
      "Rolf\n"
     ]
    }
   ],
   "source": [
    "print(short_tuple[0])"
   ]
  },
  {
   "cell_type": "markdown",
   "metadata": {},
   "source": [
    "Sets\n",
    "* Dont hold order and doesn't allow duplicates"
   ]
  },
  {
   "cell_type": "code",
   "execution_count": 50,
   "metadata": {},
   "outputs": [
    {
     "name": "stdout",
     "output_type": "stream",
     "text": [
      "{'Ane', 'Rolf'}\n"
     ]
    }
   ],
   "source": [
    "art_friends = {\"Rolf\",\"Ane\"}\n",
    "print(art_friends)\n",
    "science_friends = {\"Jen\", \"Charlie\"}\n",
    "art_friends.add(\"Juan\")"
   ]
  },
  {
   "cell_type": "code",
   "execution_count": 51,
   "metadata": {},
   "outputs": [
    {
     "name": "stdout",
     "output_type": "stream",
     "text": [
      "{'Ane', 'Juan', 'Rolf'}\n"
     ]
    }
   ],
   "source": [
    "print(art_friends)"
   ]
  },
  {
   "cell_type": "code",
   "execution_count": 52,
   "metadata": {},
   "outputs": [
    {
     "name": "stdout",
     "output_type": "stream",
     "text": [
      "{'Ane', 'Juan', 'Rolf'}\n",
      "{'Ane', 'Juan'}\n"
     ]
    }
   ],
   "source": [
    "print(art_friends)\n",
    "art_friends.remove(\"Rolf\")\n",
    "print(art_friends)"
   ]
  },
  {
   "cell_type": "markdown",
   "metadata": {},
   "source": [
    "* Sets difference\n",
    "  \n",
    "1. Return the elements that are in the art_friends set but not in the science_friends\n",
    "\n",
    "* Symmetric difference \n",
    "\n",
    "1. Elements that are not in both sets \n",
    "\n",
    "* Intersection \n",
    "\n",
    "1. Elements that are on both sets "
   ]
  },
  {
   "cell_type": "code",
   "execution_count": 58,
   "metadata": {},
   "outputs": [
    {
     "name": "stdout",
     "output_type": "stream",
     "text": [
      "{'Ane', 'Jen', 'Rolf'}\n",
      "{'Jen', 'Charlie'}\n",
      "{'Ane', 'Rolf'}\n",
      "{'Ane', 'Rolf', 'Charlie'}\n",
      "{'Jen'}\n",
      "{'Ane', 'Jen', 'Rolf', 'Charlie'}\n"
     ]
    }
   ],
   "source": [
    "art_friends = {\"Rolf\",\"Ane\",\"Jen\"}\n",
    "print(art_friends)\n",
    "science_friends = {\"Jen\", \"Charlie\"}\n",
    "print(science_friends)\n",
    "art_but_not_science = art_friends.difference(science_friends)\n",
    "print(art_but_not_science)\n",
    "not_in_both = art_friends.symmetric_difference(science_friends)\n",
    "print(not_in_both)\n",
    "art_and_science = art_friends.intersection(science_friends)\n",
    "print(art_and_science)\n",
    "all_friends = art_friends.union(science_friends)\n",
    "print(all_friends)"
   ]
  },
  {
   "cell_type": "markdown",
   "metadata": {},
   "source": [
    "Dictionaries \n",
    "key value pairs"
   ]
  },
  {
   "cell_type": "code",
   "execution_count": 60,
   "metadata": {},
   "outputs": [
    {
     "name": "stdout",
     "output_type": "stream",
     "text": [
      "{'Rolf': 24, 'Adam': 30, 'Anne': 27}\n"
     ]
    }
   ],
   "source": [
    "friends = [(\"Rolf\", 24), (\"Adam\", 30), (\"Anne\",27)]\n",
    "friend_ages = dict(friends)\n",
    "print(friend_ages)"
   ]
  },
  {
   "cell_type": "markdown",
   "metadata": {},
   "source": [
    "Zip function\n",
    "* Pairs each element of one tuple to another"
   ]
  },
  {
   "cell_type": "code",
   "execution_count": 64,
   "metadata": {},
   "outputs": [
    {
     "name": "stdout",
     "output_type": "stream",
     "text": [
      "<zip object at 0x7fce318b4d80>\n"
     ]
    }
   ],
   "source": [
    "a = (\"John\", \"Charles\", \"Mike\")\n",
    "b = (\"Jenny\", \"Christy\", \"Monica\")\n",
    "\n",
    "x = zip(a, b)\n",
    "print(x)"
   ]
  },
  {
   "cell_type": "code",
   "execution_count": 65,
   "metadata": {},
   "outputs": [
    {
     "name": "stdout",
     "output_type": "stream",
     "text": [
      "{'John': 'Jenny', 'Charles': 'Christy', 'Mike': 'Monica'}\n"
     ]
    }
   ],
   "source": [
    "dict_x = dict(x)\n",
    "print(dict_x)"
   ]
  },
  {
   "cell_type": "code",
   "execution_count": 68,
   "metadata": {},
   "outputs": [
    {
     "name": "stdout",
     "output_type": "stream",
     "text": [
      "[1, 2, 4] [5, 6, 7]\n"
     ]
    }
   ],
   "source": [
    "list_a = [1,2,4]\n",
    "list_b = [5,6,7]\n",
    "print(list_a, list_b)"
   ]
  },
  {
   "cell_type": "code",
   "execution_count": 73,
   "metadata": {},
   "outputs": [
    {
     "name": "stdout",
     "output_type": "stream",
     "text": [
      "{1: 5, 2: 6, 4: 7}\n",
      "<class 'int'>\n"
     ]
    }
   ],
   "source": [
    "x_list = zip(list_a, list_b)\n",
    "dict_x_list = dict(x_list)\n",
    "print(dict_x_list)\n",
    "print(type(list(dict_x_list.keys())[0]))"
   ]
  },
  {
   "cell_type": "code",
   "execution_count": 74,
   "metadata": {},
   "outputs": [
    {
     "name": "stdout",
     "output_type": "stream",
     "text": [
      "{1: 5, 2: 6, 4: 7}\n"
     ]
    }
   ],
   "source": [
    "list_c = [5,6,7,8]\n",
    "x_list = zip(list_a, list_c)\n",
    "dict_x_list = dict(x_list)\n",
    "print(dict_x_list)\n"
   ]
  },
  {
   "cell_type": "markdown",
   "metadata": {},
   "source": [
    "## Flow control"
   ]
  },
  {
   "cell_type": "markdown",
   "metadata": {},
   "source": [
    "While loops are used to run something but you dont know a priori how many times, The programm will run until a condition is satisfied"
   ]
  },
  {
   "cell_type": "markdown",
   "metadata": {},
   "source": [
    "* Destructing syntax"
   ]
  },
  {
   "cell_type": "code",
   "execution_count": 77,
   "metadata": {},
   "outputs": [
    {
     "name": "stdout",
     "output_type": "stream",
     "text": [
      "Rolf is 25 years old\n",
      "Anne is 37 years old\n",
      "Charlie is 31 years old\n",
      "Bob is 22 years old\n"
     ]
    }
   ],
   "source": [
    "friends = [(\"Rolf\",25), (\"Anne\",37), (\"Charlie\",31), (\"Bob\",22)]\n",
    "for name, age in friends:\n",
    "    print(f\"{name} is {age} years old\")"
   ]
  },
  {
   "cell_type": "markdown",
   "metadata": {},
   "source": [
    "* iterating over dictionaries"
   ]
  },
  {
   "cell_type": "code",
   "execution_count": 78,
   "metadata": {},
   "outputs": [
    {
     "name": "stdout",
     "output_type": "stream",
     "text": [
      "{'Rolf': 25, 'Anne': 37, 'Charlie': 31, 'Bob': 22}\n"
     ]
    }
   ],
   "source": [
    "friends = [(\"Rolf\",25), (\"Anne\",37), (\"Charlie\",31), (\"Bob\",22)]\n",
    "friends_age = dict(friends)\n",
    "print(friends_age)"
   ]
  },
  {
   "cell_type": "code",
   "execution_count": 79,
   "metadata": {},
   "outputs": [
    {
     "name": "stdout",
     "output_type": "stream",
     "text": [
      "{'Rolf': 25, 'Anne': 37, 'Charlie': 31, 'Bob': 22}\n"
     ]
    }
   ],
   "source": [
    "list_friends = [[\"Rolf\",25], [\"Anne\",37], [\"Charlie\",31], [\"Bob\",22]]\n",
    "friends_age_list = dict(list_friends)\n",
    "print(friends_age_list)"
   ]
  },
  {
   "cell_type": "code",
   "execution_count": 80,
   "metadata": {},
   "outputs": [
    {
     "name": "stdout",
     "output_type": "stream",
     "text": [
      "Rolf\n",
      "Anne\n",
      "Charlie\n",
      "Bob\n"
     ]
    }
   ],
   "source": [
    "for name in friends_age_list:\n",
    "    print(name)"
   ]
  },
  {
   "cell_type": "code",
   "execution_count": 82,
   "metadata": {},
   "outputs": [
    {
     "name": "stdout",
     "output_type": "stream",
     "text": [
      "Rolf\n",
      "Anne\n",
      "Charlie\n",
      "Bob\n"
     ]
    }
   ],
   "source": [
    "for name in friends_age_list.keys():\n",
    "    print(name)"
   ]
  },
  {
   "cell_type": "code",
   "execution_count": 81,
   "metadata": {},
   "outputs": [
    {
     "name": "stdout",
     "output_type": "stream",
     "text": [
      "25\n",
      "37\n",
      "31\n",
      "22\n"
     ]
    }
   ],
   "source": [
    "for age in friends_age_list.values():\n",
    "    print(age)"
   ]
  },
  {
   "cell_type": "code",
   "execution_count": 83,
   "metadata": {},
   "outputs": [
    {
     "name": "stdout",
     "output_type": "stream",
     "text": [
      "Rolf 25\n",
      "Anne 37\n",
      "Charlie 31\n",
      "Bob 22\n"
     ]
    }
   ],
   "source": [
    "for name, age in friends_age_list.items():\n",
    "    print(name,age)"
   ]
  },
  {
   "cell_type": "markdown",
   "metadata": {},
   "source": [
    "Break and continue keyword"
   ]
  },
  {
   "cell_type": "code",
   "execution_count": 84,
   "metadata": {},
   "outputs": [
    {
     "name": "stdout",
     "output_type": "stream",
     "text": [
      "This car is ok\n",
      "This car is ok\n",
      "This car is bad\n",
      "This car is ok\n"
     ]
    }
   ],
   "source": [
    "cars = [\"ok\",\"ok\",\"bad\",\"ok\"]\n",
    "for status in cars:\n",
    "    print(f\"This car is {status}\")"
   ]
  },
  {
   "cell_type": "markdown",
   "metadata": {},
   "source": [
    "With the _break_ keyword the for loop stops at some point "
   ]
  },
  {
   "cell_type": "code",
   "execution_count": 87,
   "metadata": {},
   "outputs": [
    {
     "name": "stdout",
     "output_type": "stream",
     "text": [
      "This car is ok\n",
      "This car is ok\n",
      "Stopping the production line I found a bad car status\n"
     ]
    }
   ],
   "source": [
    "for status in cars:\n",
    "    if status == \"bad\":\n",
    "        print(\"Stopping the production line I found a bad car status\")\n",
    "        break \n",
    "    print(f\"This car is {status}\")"
   ]
  },
  {
   "cell_type": "markdown",
   "metadata": {},
   "source": [
    "With the _continue_ keyword the for loop can continue when a given condition is found"
   ]
  },
  {
   "cell_type": "code",
   "execution_count": 88,
   "metadata": {},
   "outputs": [
    {
     "name": "stdout",
     "output_type": "stream",
     "text": [
      "This car is ok\n",
      "This car is ok\n",
      "Skipping this car,  I found a bad car status\n",
      "This car is ok\n"
     ]
    }
   ],
   "source": [
    "for status in cars:\n",
    "    if status == \"bad\":\n",
    "        print(\"Skipping this car,  I found a bad car status\")\n",
    "        continue\n",
    "    print(f\"This car is {status}\")"
   ]
  },
  {
   "cell_type": "markdown",
   "metadata": {},
   "source": [
    "We can use the else keyword in case we run a for loop with none breaks or errors"
   ]
  },
  {
   "cell_type": "code",
   "execution_count": 89,
   "metadata": {},
   "outputs": [
    {
     "name": "stdout",
     "output_type": "stream",
     "text": [
      "This car is ok\n",
      "This car is ok\n",
      "This car is ok\n",
      "This car is ok\n",
      "All cars are ok , no bad status cars\n"
     ]
    }
   ],
   "source": [
    "cars = [\"ok\",\"ok\",\"ok\",\"ok\"]\n",
    "for status in cars:\n",
    "    if status == \"bad\":\n",
    "        print(\"Stopping the production line I found a bad car status\")\n",
    "        break \n",
    "    print(f\"This car is {status}\")\n",
    "else:\n",
    "    print(\"All cars are ok , no bad status cars\")"
   ]
  },
  {
   "cell_type": "markdown",
   "metadata": {},
   "source": [
    "List slicing "
   ]
  },
  {
   "cell_type": "code",
   "execution_count": 92,
   "metadata": {},
   "outputs": [
    {
     "name": "stdout",
     "output_type": "stream",
     "text": [
      "['Rolf', 'Charlie', 'Anna']\n",
      "['Bob', 'Jen']\n"
     ]
    }
   ],
   "source": [
    "friends = [\"Rolf\", \"Charlie\", \"Anna\", \"Bob\", \"Jen\"]\n",
    "\n",
    "print(friends[:-2]) # returns all the elements of the list except the last two\n",
    "print(friends[-2:]) # returns the last two elements of the list"
   ]
  },
  {
   "cell_type": "markdown",
   "metadata": {},
   "source": [
    "The last element of the list"
   ]
  },
  {
   "cell_type": "code",
   "execution_count": 93,
   "metadata": {},
   "outputs": [
    {
     "name": "stdout",
     "output_type": "stream",
     "text": [
      "Jen\n"
     ]
    }
   ],
   "source": [
    "print(friends[-1])"
   ]
  },
  {
   "cell_type": "markdown",
   "metadata": {},
   "source": [
    "Second to last element of the list"
   ]
  },
  {
   "cell_type": "code",
   "execution_count": 94,
   "metadata": {},
   "outputs": [
    {
     "name": "stdout",
     "output_type": "stream",
     "text": [
      "Bob\n"
     ]
    }
   ],
   "source": [
    "print(friends[-2])"
   ]
  },
  {
   "cell_type": "markdown",
   "metadata": {},
   "source": [
    "* list slicing is inclusive at the beginning but exlusive at the end"
   ]
  },
  {
   "cell_type": "code",
   "execution_count": 95,
   "metadata": {},
   "outputs": [
    {
     "name": "stdout",
     "output_type": "stream",
     "text": [
      "['Rolf', 'Charlie', 'Anna']\n"
     ]
    }
   ],
   "source": [
    "print(friends[0:3])"
   ]
  },
  {
   "cell_type": "code",
   "execution_count": 96,
   "metadata": {},
   "outputs": [
    {
     "name": "stdout",
     "output_type": "stream",
     "text": [
      "again\n",
      "again\n",
      "again\n",
      "again\n",
      "again\n"
     ]
    }
   ],
   "source": [
    "repeated_statement = [print(\"again\") for _ in range(5)]"
   ]
  },
  {
   "cell_type": "markdown",
   "metadata": {},
   "source": [
    "List and Set comprenhension"
   ]
  },
  {
   "cell_type": "code",
   "execution_count": 98,
   "metadata": {},
   "outputs": [
    {
     "data": {
      "text/plain": [
       "[9, 7]"
      ]
     },
     "execution_count": 98,
     "metadata": {},
     "output_type": "execute_result"
    }
   ],
   "source": [
    "nums = [2,4,9,8,7]\n",
    "\n",
    "odd = [num for num in nums if num%2 == 1]\n",
    "odd"
   ]
  },
  {
   "cell_type": "code",
   "execution_count": 97,
   "metadata": {},
   "outputs": [
    {
     "name": "stdout",
     "output_type": "stream",
     "text": [
      "{'Charlie', 'Rolf'}\n"
     ]
    }
   ],
   "source": [
    "friends = [\"Rolf\", \"ruth\", \"charlie\", \"Jen\"]\n",
    "guests = [\"jose\", \"Bob\", \"Rolf\", \"Charlie\", \"michael\"]\n",
    "\n",
    "friends_lower = {n.lower() for n in friends}\n",
    "guests_lower = {n.lower() for n in guests}\n",
    "present_friends = friends_lower.intersection(guests_lower)\n",
    "upper_present_friends = {name.title() for name in present_friends}\n",
    "print(upper_present_friends)"
   ]
  },
  {
   "cell_type": "markdown",
   "metadata": {},
   "source": [
    "The range function always starts at 0 by default "
   ]
  },
  {
   "cell_type": "code",
   "execution_count": 99,
   "metadata": {},
   "outputs": [
    {
     "name": "stdout",
     "output_type": "stream",
     "text": [
      "0\n",
      "1\n",
      "2\n",
      "3\n",
      "4\n"
     ]
    }
   ],
   "source": [
    "for i in range(5):\n",
    "    print(i)"
   ]
  },
  {
   "cell_type": "markdown",
   "metadata": {},
   "source": [
    "However we can changed it to start in a different index"
   ]
  },
  {
   "cell_type": "code",
   "execution_count": 102,
   "metadata": {},
   "outputs": [
    {
     "name": "stdout",
     "output_type": "stream",
     "text": [
      "1\n",
      "2\n",
      "3\n",
      "4\n"
     ]
    }
   ],
   "source": [
    "for i in range(1,5,1):\n",
    "    print(i)"
   ]
  },
  {
   "cell_type": "code",
   "execution_count": 101,
   "metadata": {},
   "outputs": [
    {
     "data": {
      "text/plain": [
       "4"
      ]
     },
     "execution_count": 101,
     "metadata": {},
     "output_type": "execute_result"
    }
   ],
   "source": [
    "len(friends)"
   ]
  },
  {
   "cell_type": "markdown",
   "metadata": {},
   "source": [
    "Here we start at 0 "
   ]
  },
  {
   "cell_type": "code",
   "execution_count": 100,
   "metadata": {},
   "outputs": [
    {
     "name": "stdout",
     "output_type": "stream",
     "text": [
      "0\n",
      "1\n",
      "2\n",
      "3\n"
     ]
    }
   ],
   "source": [
    "for i in range(len(friends)):\n",
    "    print(i)"
   ]
  },
  {
   "cell_type": "markdown",
   "metadata": {},
   "source": [
    "Here we start at 1"
   ]
  },
  {
   "cell_type": "code",
   "execution_count": 103,
   "metadata": {},
   "outputs": [
    {
     "name": "stdout",
     "output_type": "stream",
     "text": [
      "1\n",
      "2\n",
      "3\n"
     ]
    }
   ],
   "source": [
    "for i in range(1,len(friends)):\n",
    "    print(i)"
   ]
  },
  {
   "cell_type": "code",
   "execution_count": 105,
   "metadata": {},
   "outputs": [
    {
     "data": {
      "text/plain": [
       "['Rolf', 'ruth', 'charlie', 'Jen']"
      ]
     },
     "execution_count": 105,
     "metadata": {},
     "output_type": "execute_result"
    }
   ],
   "source": [
    "friends"
   ]
  },
  {
   "cell_type": "code",
   "execution_count": 104,
   "metadata": {},
   "outputs": [
    {
     "name": "stdout",
     "output_type": "stream",
     "text": [
      "Rolf\n",
      "ruth\n",
      "charlie\n",
      "Jen\n"
     ]
    }
   ],
   "source": [
    "for i in range(len(friends)):\n",
    "    print(friends[i])"
   ]
  },
  {
   "cell_type": "code",
   "execution_count": 106,
   "metadata": {},
   "outputs": [],
   "source": [
    "friends = [\"Rolf\",\"Bob\", \"Jen\", \"Anne\"]\n",
    "time_since_seen =  [3,7,15,11]\n",
    "\n",
    "long_timers = {\n",
    "    friends[i]: time_since_seen[i]\n",
    "    for i in range(len(friends))\n",
    "    if time_since_seen[i] > 8\n",
    "}"
   ]
  },
  {
   "cell_type": "code",
   "execution_count": 107,
   "metadata": {},
   "outputs": [
    {
     "data": {
      "text/plain": [
       "{'Jen': 15, 'Anne': 11}"
      ]
     },
     "execution_count": 107,
     "metadata": {},
     "output_type": "execute_result"
    }
   ],
   "source": [
    "long_timers"
   ]
  },
  {
   "cell_type": "markdown",
   "metadata": {},
   "source": [
    "Enumerate function"
   ]
  },
  {
   "cell_type": "code",
   "execution_count": 108,
   "metadata": {},
   "outputs": [],
   "source": [
    "friends = [\"Rolf\", \"John\", \"Anna\"]"
   ]
  },
  {
   "cell_type": "code",
   "execution_count": 110,
   "metadata": {},
   "outputs": [
    {
     "name": "stdout",
     "output_type": "stream",
     "text": [
      "0 Rolf\n",
      "1 John\n",
      "2 Anna\n"
     ]
    }
   ],
   "source": [
    "for counter, friend in enumerate(friends):\n",
    "    print(counter, friend)"
   ]
  },
  {
   "cell_type": "code",
   "execution_count": 113,
   "metadata": {},
   "outputs": [
    {
     "name": "stdout",
     "output_type": "stream",
     "text": [
      "((0, 'Rolf'), (1, 'John'), (2, 'Anna'))\n"
     ]
    }
   ],
   "source": [
    "counter_friends = tuple(enumerate(friends))\n",
    "print(counter_friends)"
   ]
  },
  {
   "cell_type": "code",
   "execution_count": 114,
   "metadata": {},
   "outputs": [
    {
     "name": "stdout",
     "output_type": "stream",
     "text": [
      "[(0, 'Rolf'), (1, 'John'), (2, 'Anna')]\n"
     ]
    }
   ],
   "source": [
    "counter_friends = list(enumerate(friends))\n",
    "print(counter_friends) "
   ]
  },
  {
   "cell_type": "code",
   "execution_count": 115,
   "metadata": {},
   "outputs": [
    {
     "name": "stdout",
     "output_type": "stream",
     "text": [
      "{(0, 'Rolf'), (2, 'Anna'), (1, 'John')}\n"
     ]
    }
   ],
   "source": [
    "counter_friends = set(enumerate(friends))\n",
    "print(counter_friends) "
   ]
  },
  {
   "cell_type": "code",
   "execution_count": 116,
   "metadata": {},
   "outputs": [
    {
     "name": "stdout",
     "output_type": "stream",
     "text": [
      "{0: 'Rolf', 1: 'John', 2: 'Anna'}\n"
     ]
    }
   ],
   "source": [
    "counter_friends = dict(enumerate(friends))\n",
    "print(counter_friends) "
   ]
  },
  {
   "cell_type": "markdown",
   "metadata": {},
   "source": [
    "## Functions"
   ]
  },
  {
   "cell_type": "code",
   "execution_count": 119,
   "metadata": {},
   "outputs": [],
   "source": [
    "from typing import Dict, Any"
   ]
  },
  {
   "cell_type": "code",
   "execution_count": 123,
   "metadata": {},
   "outputs": [],
   "source": [
    "ford_fiesta = {\n",
    "        \"make\": \"Ford\",\n",
    "        \"model\" : \"Fiesta\",\n",
    "        \"mileage\" : 23000,\n",
    "        \"fuel_consumed\" : 460}"
   ]
  },
  {
   "cell_type": "markdown",
   "metadata": {},
   "source": [
    "* Car is a parameter of the function "
   ]
  },
  {
   "cell_type": "code",
   "execution_count": 127,
   "metadata": {},
   "outputs": [],
   "source": [
    "def calculate_mpg(car:Dict) -> None :\n",
    "    mpg = car[\"mileage\"]/car[\"fuel_consumed\"]\n",
    "    name = f\"{car['make']} {car['model']}\"\n",
    "    print(f\"{name} does {mpg} miles per gallon\")\n",
    "     "
   ]
  },
  {
   "cell_type": "markdown",
   "metadata": {},
   "source": [
    "* ford fiesta is the argument that is pass as the car parameter to the calculate_mpg function"
   ]
  },
  {
   "cell_type": "code",
   "execution_count": 129,
   "metadata": {},
   "outputs": [
    {
     "name": "stdout",
     "output_type": "stream",
     "text": [
      "Ford Fiesta does 50.0 miles per gallon\n"
     ]
    }
   ],
   "source": [
    "calculate_mpg(car = ford_fiesta)  "
   ]
  },
  {
   "cell_type": "code",
   "execution_count": 1,
   "metadata": {},
   "outputs": [
    {
     "data": {
      "text/plain": [
       "5"
      ]
     },
     "execution_count": 1,
     "metadata": {},
     "output_type": "execute_result"
    }
   ],
   "source": [
    "def sum_function(x,y):\n",
    "    return x+y\n",
    "\n",
    "sum_function(1,4)"
   ]
  },
  {
   "cell_type": "code",
   "execution_count": 3,
   "metadata": {},
   "outputs": [
    {
     "ename": "TypeError",
     "evalue": "sum_function() takes 2 positional arguments but 3 were given",
     "output_type": "error",
     "traceback": [
      "\u001b[1;31m---------------------------------------------------------------------------\u001b[0m",
      "\u001b[1;31mTypeError\u001b[0m                                 Traceback (most recent call last)",
      "\u001b[1;32mc:\\Users\\david\\Documents\\Juan David\\Inteligencia Artificial\\Python\\Python Basics\\python_basics.ipynb Cell 3\u001b[0m in \u001b[0;36m<cell line: 1>\u001b[1;34m()\u001b[0m\n\u001b[1;32m----> <a href='vscode-notebook-cell:/c%3A/Users/david/Documents/Juan%20David/Inteligencia%20Artificial/Python/Python%20Basics/python_basics.ipynb#W2sZmlsZQ%3D%3D?line=0'>1</a>\u001b[0m sum_function(\u001b[39m1\u001b[39;49m,\u001b[39m8\u001b[39;49m,\u001b[39m3\u001b[39;49m)\n",
      "\u001b[1;31mTypeError\u001b[0m: sum_function() takes 2 positional arguments but 3 were given"
     ]
    }
   ],
   "source": [
    "sum_function(1,8,3)"
   ]
  },
  {
   "cell_type": "code",
   "execution_count": 6,
   "metadata": {},
   "outputs": [],
   "source": [
    "def sum_function(*args,**kwargs):\n",
    "    print(args)\n",
    "    value = 0\n",
    "    for n in args:\n",
    "        value += n\n",
    "    return value"
   ]
  },
  {
   "cell_type": "code",
   "execution_count": 7,
   "metadata": {},
   "outputs": [
    {
     "name": "stdout",
     "output_type": "stream",
     "text": [
      "(3, 5, 6)\n"
     ]
    },
    {
     "data": {
      "text/plain": [
       "14"
      ]
     },
     "execution_count": 7,
     "metadata": {},
     "output_type": "execute_result"
    }
   ],
   "source": [
    "sum_function(3,5,6)"
   ]
  },
  {
   "cell_type": "code",
   "execution_count": 9,
   "metadata": {},
   "outputs": [
    {
     "name": "stdout",
     "output_type": "stream",
     "text": [
      "{'x': 5, 'y': 4, 'z': 9}\n"
     ]
    },
    {
     "data": {
      "text/plain": [
       "1"
      ]
     },
     "execution_count": 9,
     "metadata": {},
     "output_type": "execute_result"
    }
   ],
   "source": [
    "def rest_function(**kwargs):\n",
    "    print(kwargs)\n",
    "    return kwargs[\"x\"] - kwargs[\"y\"]\n",
    "\n",
    "rest_function(x=5,y=4,z=9)"
   ]
  },
  {
   "cell_type": "code",
   "execution_count": 132,
   "metadata": {},
   "outputs": [],
   "source": [
    "def divide_normal(x,y):\n",
    "    return x/y\n",
    "\n"
   ]
  },
  {
   "cell_type": "code",
   "execution_count": 134,
   "metadata": {},
   "outputs": [],
   "source": [
    "divide_lambda = lambda x , y  : x/y"
   ]
  },
  {
   "cell_type": "code",
   "execution_count": 135,
   "metadata": {},
   "outputs": [
    {
     "data": {
      "text/plain": [
       "3.0"
      ]
     },
     "execution_count": 135,
     "metadata": {},
     "output_type": "execute_result"
    }
   ],
   "source": [
    "divide_lambda(15,5)"
   ]
  },
  {
   "cell_type": "markdown",
   "metadata": {},
   "source": [
    "## Errors"
   ]
  },
  {
   "cell_type": "markdown",
   "metadata": {},
   "source": [
    "The traceback is where the error happened\n",
    "\n",
    "A named error is launched when we want to access a variable that we haven't create"
   ]
  },
  {
   "cell_type": "code",
   "execution_count": 1,
   "metadata": {},
   "outputs": [
    {
     "ename": "NameError",
     "evalue": "name 'my_variable' is not defined",
     "output_type": "error",
     "traceback": [
      "\u001b[1;31m---------------------------------------------------------------------------\u001b[0m",
      "\u001b[1;31mNameError\u001b[0m                                 Traceback (most recent call last)",
      "\u001b[1;32mc:\\Users\\david\\Documents\\Juan David\\Inteligencia Artificial\\Python\\Python Basics\\python_basics.ipynb Cell 140\u001b[0m in \u001b[0;36m<cell line: 1>\u001b[1;34m()\u001b[0m\n\u001b[1;32m----> <a href='vscode-notebook-cell:/c%3A/Users/david/Documents/Juan%20David/Inteligencia%20Artificial/Python/Python%20Basics/python_basics.ipynb#Y256sZmlsZQ%3D%3D?line=0'>1</a>\u001b[0m \u001b[39mprint\u001b[39m(my_variable)\n",
      "\u001b[1;31mNameError\u001b[0m: name 'my_variable' is not defined"
     ]
    }
   ],
   "source": [
    "print(my_variable)"
   ]
  },
  {
   "cell_type": "markdown",
   "metadata": {},
   "source": [
    "The output of the error is something called **Stack trace**\n",
    "\n",
    "1. So at the very bottom it tells you the type of error and the description of it\n",
    "2. Then it gives you the line of the script or notebook where the error ocurred\n",
    "3. It tells you the path of the function where the error happened\n",
    "4. Where the function was called? \n",
    "5. Where was the file executed  \n",
    "\n",
    "\n"
   ]
  },
  {
   "cell_type": "markdown",
   "metadata": {},
   "source": [
    "### Built in errors \n",
    "* Index Error\n",
    "* Key Error \n",
    "* Name Error\n",
    "* Attribute Error\n",
    "* Not implemented Error\n",
    "* Run time Error \n",
    "* Syntax Error\n",
    "* Identation Error\n",
    "* Tab Error\n",
    "* Type Error\n",
    "* Value Error\n",
    "* Import Error\n",
    "* DeprecationWarning "
   ]
  },
  {
   "cell_type": "markdown",
   "metadata": {},
   "source": [
    "* Index error: an index that do not exists"
   ]
  },
  {
   "cell_type": "code",
   "execution_count": 2,
   "metadata": {},
   "outputs": [
    {
     "ename": "IndexError",
     "evalue": "list index out of range",
     "output_type": "error",
     "traceback": [
      "\u001b[1;31m---------------------------------------------------------------------------\u001b[0m",
      "\u001b[1;31mIndexError\u001b[0m                                Traceback (most recent call last)",
      "\u001b[1;32mc:\\Users\\david\\Documents\\Juan David\\Inteligencia Artificial\\Python\\Python Basics\\python_basics.ipynb Cell 145\u001b[0m in \u001b[0;36m<cell line: 2>\u001b[1;34m()\u001b[0m\n\u001b[0;32m      <a href='vscode-notebook-cell:/c%3A/Users/david/Documents/Juan%20David/Inteligencia%20Artificial/Python/Python%20Basics/python_basics.ipynb#Y263sZmlsZQ%3D%3D?line=0'>1</a>\u001b[0m friends \u001b[39m=\u001b[39m [\u001b[39m'\u001b[39m\u001b[39mRolf\u001b[39m\u001b[39m'\u001b[39m, \u001b[39m'\u001b[39m\u001b[39mAnne\u001b[39m\u001b[39m'\u001b[39m]\n\u001b[1;32m----> <a href='vscode-notebook-cell:/c%3A/Users/david/Documents/Juan%20David/Inteligencia%20Artificial/Python/Python%20Basics/python_basics.ipynb#Y263sZmlsZQ%3D%3D?line=1'>2</a>\u001b[0m friends[\u001b[39m2\u001b[39;49m]\n",
      "\u001b[1;31mIndexError\u001b[0m: list index out of range"
     ]
    }
   ],
   "source": [
    "friends = ['Rolf', 'Anne']\n",
    "friends[2]"
   ]
  },
  {
   "cell_type": "markdown",
   "metadata": {},
   "source": [
    "* Key error: A key that is not defined in the dictionary or datastructure that I provide to the function"
   ]
  },
  {
   "cell_type": "code",
   "execution_count": 3,
   "metadata": {},
   "outputs": [],
   "source": [
    "def show_movie_details(movie):\n",
    "    print(f\"Name : {movie['name']}\")\n",
    "    print(f\"Director: {movie['director']}\")\n",
    "    print(f\"Release year: {movie['release']}\")"
   ]
  },
  {
   "cell_type": "code",
   "execution_count": 4,
   "metadata": {},
   "outputs": [],
   "source": [
    "my_movie = {'name' : 'Juan',\n",
    "            'director': 'David',\n",
    "            'year': 2022}"
   ]
  },
  {
   "cell_type": "code",
   "execution_count": 5,
   "metadata": {},
   "outputs": [
    {
     "name": "stdout",
     "output_type": "stream",
     "text": [
      "Name : Juan\n",
      "Director: David\n"
     ]
    },
    {
     "ename": "KeyError",
     "evalue": "'release'",
     "output_type": "error",
     "traceback": [
      "\u001b[1;31m---------------------------------------------------------------------------\u001b[0m",
      "\u001b[1;31mKeyError\u001b[0m                                  Traceback (most recent call last)",
      "\u001b[1;32mc:\\Users\\david\\Documents\\Juan David\\Inteligencia Artificial\\Python\\Python Basics\\python_basics.ipynb Cell 149\u001b[0m in \u001b[0;36m<cell line: 1>\u001b[1;34m()\u001b[0m\n\u001b[1;32m----> <a href='vscode-notebook-cell:/c%3A/Users/david/Documents/Juan%20David/Inteligencia%20Artificial/Python/Python%20Basics/python_basics.ipynb#Y301sZmlsZQ%3D%3D?line=0'>1</a>\u001b[0m show_movie_details(movie\u001b[39m=\u001b[39;49mmy_movie)\n",
      "\u001b[1;32mc:\\Users\\david\\Documents\\Juan David\\Inteligencia Artificial\\Python\\Python Basics\\python_basics.ipynb Cell 149\u001b[0m in \u001b[0;36mshow_movie_details\u001b[1;34m(movie)\u001b[0m\n\u001b[0;32m      <a href='vscode-notebook-cell:/c%3A/Users/david/Documents/Juan%20David/Inteligencia%20Artificial/Python/Python%20Basics/python_basics.ipynb#Y301sZmlsZQ%3D%3D?line=1'>2</a>\u001b[0m \u001b[39mprint\u001b[39m(\u001b[39mf\u001b[39m\u001b[39m\"\u001b[39m\u001b[39mName : \u001b[39m\u001b[39m{\u001b[39;00mmovie[\u001b[39m'\u001b[39m\u001b[39mname\u001b[39m\u001b[39m'\u001b[39m]\u001b[39m}\u001b[39;00m\u001b[39m\"\u001b[39m)\n\u001b[0;32m      <a href='vscode-notebook-cell:/c%3A/Users/david/Documents/Juan%20David/Inteligencia%20Artificial/Python/Python%20Basics/python_basics.ipynb#Y301sZmlsZQ%3D%3D?line=2'>3</a>\u001b[0m \u001b[39mprint\u001b[39m(\u001b[39mf\u001b[39m\u001b[39m\"\u001b[39m\u001b[39mDirector: \u001b[39m\u001b[39m{\u001b[39;00mmovie[\u001b[39m'\u001b[39m\u001b[39mdirector\u001b[39m\u001b[39m'\u001b[39m]\u001b[39m}\u001b[39;00m\u001b[39m\"\u001b[39m)\n\u001b[1;32m----> <a href='vscode-notebook-cell:/c%3A/Users/david/Documents/Juan%20David/Inteligencia%20Artificial/Python/Python%20Basics/python_basics.ipynb#Y301sZmlsZQ%3D%3D?line=3'>4</a>\u001b[0m \u001b[39mprint\u001b[39m(\u001b[39mf\u001b[39m\u001b[39m\"\u001b[39m\u001b[39mRelease year: \u001b[39m\u001b[39m{\u001b[39;00mmovie[\u001b[39m'\u001b[39m\u001b[39mrelease\u001b[39m\u001b[39m'\u001b[39m]\u001b[39m}\u001b[39;00m\u001b[39m\"\u001b[39m)\n",
      "\u001b[1;31mKeyError\u001b[0m: 'release'"
     ]
    }
   ],
   "source": [
    "show_movie_details(movie=my_movie)"
   ]
  },
  {
   "cell_type": "markdown",
   "metadata": {},
   "source": [
    "* Name Error: when a variable is not defined"
   ]
  },
  {
   "cell_type": "code",
   "execution_count": 6,
   "metadata": {},
   "outputs": [
    {
     "ename": "NameError",
     "evalue": "name 'hello' is not defined",
     "output_type": "error",
     "traceback": [
      "\u001b[1;31m---------------------------------------------------------------------------\u001b[0m",
      "\u001b[1;31mNameError\u001b[0m                                 Traceback (most recent call last)",
      "\u001b[1;32mc:\\Users\\david\\Documents\\Juan David\\Inteligencia Artificial\\Python\\Python Basics\\python_basics.ipynb Cell 151\u001b[0m in \u001b[0;36m<cell line: 1>\u001b[1;34m()\u001b[0m\n\u001b[1;32m----> <a href='vscode-notebook-cell:/c%3A/Users/david/Documents/Juan%20David/Inteligencia%20Artificial/Python/Python%20Basics/python_basics.ipynb#Y303sZmlsZQ%3D%3D?line=0'>1</a>\u001b[0m \u001b[39mprint\u001b[39m(hello)\n",
      "\u001b[1;31mNameError\u001b[0m: name 'hello' is not defined"
     ]
    }
   ],
   "source": [
    "print(hello)"
   ]
  },
  {
   "cell_type": "markdown",
   "metadata": {},
   "source": [
    "* Attribute Error: when an object does not have a given method"
   ]
  },
  {
   "cell_type": "code",
   "execution_count": 7,
   "metadata": {},
   "outputs": [
    {
     "ename": "AttributeError",
     "evalue": "'list' object has no attribute 'intersection'",
     "output_type": "error",
     "traceback": [
      "\u001b[1;31m---------------------------------------------------------------------------\u001b[0m",
      "\u001b[1;31mAttributeError\u001b[0m                            Traceback (most recent call last)",
      "\u001b[1;32mc:\\Users\\david\\Documents\\Juan David\\Inteligencia Artificial\\Python\\Python Basics\\python_basics.ipynb Cell 153\u001b[0m in \u001b[0;36m<cell line: 3>\u001b[1;34m()\u001b[0m\n\u001b[0;32m      <a href='vscode-notebook-cell:/c%3A/Users/david/Documents/Juan%20David/Inteligencia%20Artificial/Python/Python%20Basics/python_basics.ipynb#Y305sZmlsZQ%3D%3D?line=0'>1</a>\u001b[0m friends \u001b[39m=\u001b[39m [\u001b[39m'\u001b[39m\u001b[39mRolf\u001b[39m\u001b[39m'\u001b[39m, \u001b[39m'\u001b[39m\u001b[39mJose\u001b[39m\u001b[39m'\u001b[39m,\u001b[39m'\u001b[39m\u001b[39mCharlie\u001b[39m\u001b[39m'\u001b[39m]\n\u001b[0;32m      <a href='vscode-notebook-cell:/c%3A/Users/david/Documents/Juan%20David/Inteligencia%20Artificial/Python/Python%20Basics/python_basics.ipynb#Y305sZmlsZQ%3D%3D?line=1'>2</a>\u001b[0m friends_nearby \u001b[39m=\u001b[39m [\u001b[39m'\u001b[39m\u001b[39mRolf\u001b[39m\u001b[39m'\u001b[39m, \u001b[39m'\u001b[39m\u001b[39mAnna\u001b[39m\u001b[39m'\u001b[39m]\n\u001b[1;32m----> <a href='vscode-notebook-cell:/c%3A/Users/david/Documents/Juan%20David/Inteligencia%20Artificial/Python/Python%20Basics/python_basics.ipynb#Y305sZmlsZQ%3D%3D?line=2'>3</a>\u001b[0m friends\u001b[39m.\u001b[39;49mintersection(friends_nearby)\n",
      "\u001b[1;31mAttributeError\u001b[0m: 'list' object has no attribute 'intersection'"
     ]
    }
   ],
   "source": [
    "friends = ['Rolf', 'Jose','Charlie']\n",
    "friends_nearby = ['Rolf', 'Anna']\n",
    "friends.intersection(friends_nearby)"
   ]
  },
  {
   "cell_type": "markdown",
   "metadata": {},
   "source": [
    "* Not implemented error: for letting know the user that we havent implement the feature yet "
   ]
  },
  {
   "cell_type": "code",
   "execution_count": 8,
   "metadata": {},
   "outputs": [],
   "source": [
    "class User:\n",
    "    def __init__(self, username: str, password: int) -> None:\n",
    "        self.username = username\n",
    "        self.password = password\n",
    "        \n",
    "    def login(self):\n",
    "        raise NotImplementedError('This feature has not been implemented yet.')"
   ]
  },
  {
   "cell_type": "code",
   "execution_count": 9,
   "metadata": {},
   "outputs": [
    {
     "ename": "NotImplementedError",
     "evalue": "This feature has not been implemented yet.",
     "output_type": "error",
     "traceback": [
      "\u001b[1;31m---------------------------------------------------------------------------\u001b[0m",
      "\u001b[1;31mNotImplementedError\u001b[0m                       Traceback (most recent call last)",
      "\u001b[1;32mc:\\Users\\david\\Documents\\Juan David\\Inteligencia Artificial\\Python\\Python Basics\\python_basics.ipynb Cell 155\u001b[0m in \u001b[0;36m<cell line: 2>\u001b[1;34m()\u001b[0m\n\u001b[0;32m      <a href='vscode-notebook-cell:/c%3A/Users/david/Documents/Juan%20David/Inteligencia%20Artificial/Python/Python%20Basics/python_basics.ipynb#Y310sZmlsZQ%3D%3D?line=0'>1</a>\u001b[0m juan \u001b[39m=\u001b[39m User(username\u001b[39m=\u001b[39m\u001b[39m'\u001b[39m\u001b[39mJuan\u001b[39m\u001b[39m'\u001b[39m, password\u001b[39m=\u001b[39m\u001b[39m456\u001b[39m)\n\u001b[1;32m----> <a href='vscode-notebook-cell:/c%3A/Users/david/Documents/Juan%20David/Inteligencia%20Artificial/Python/Python%20Basics/python_basics.ipynb#Y310sZmlsZQ%3D%3D?line=1'>2</a>\u001b[0m juan\u001b[39m.\u001b[39;49mlogin()\n",
      "\u001b[1;32mc:\\Users\\david\\Documents\\Juan David\\Inteligencia Artificial\\Python\\Python Basics\\python_basics.ipynb Cell 155\u001b[0m in \u001b[0;36mUser.login\u001b[1;34m(self)\u001b[0m\n\u001b[0;32m      <a href='vscode-notebook-cell:/c%3A/Users/david/Documents/Juan%20David/Inteligencia%20Artificial/Python/Python%20Basics/python_basics.ipynb#Y310sZmlsZQ%3D%3D?line=5'>6</a>\u001b[0m \u001b[39mdef\u001b[39;00m \u001b[39mlogin\u001b[39m(\u001b[39mself\u001b[39m):\n\u001b[1;32m----> <a href='vscode-notebook-cell:/c%3A/Users/david/Documents/Juan%20David/Inteligencia%20Artificial/Python/Python%20Basics/python_basics.ipynb#Y310sZmlsZQ%3D%3D?line=6'>7</a>\u001b[0m     \u001b[39mraise\u001b[39;00m \u001b[39mNotImplementedError\u001b[39;00m(\u001b[39m'\u001b[39m\u001b[39mThis feature has not been implemented yet.\u001b[39m\u001b[39m'\u001b[39m)\n",
      "\u001b[1;31mNotImplementedError\u001b[0m: This feature has not been implemented yet."
     ]
    }
   ],
   "source": [
    "juan = User(username='Juan', password=456)\n",
    "juan.login()"
   ]
  },
  {
   "cell_type": "markdown",
   "metadata": {},
   "source": [
    "* Syntax error: when we forget to put a : or a () when writing something\n",
    "  "
   ]
  },
  {
   "cell_type": "code",
   "execution_count": 10,
   "metadata": {},
   "outputs": [
    {
     "ename": "SyntaxError",
     "evalue": "invalid syntax (435472975.py, line 1)",
     "output_type": "error",
     "traceback": [
      "\u001b[1;36m  Input \u001b[1;32mIn [10]\u001b[1;36m\u001b[0m\n\u001b[1;33m    class User\u001b[0m\n\u001b[1;37m              ^\u001b[0m\n\u001b[1;31mSyntaxError\u001b[0m\u001b[1;31m:\u001b[0m invalid syntax\n"
     ]
    }
   ],
   "source": [
    "class User\n",
    "    def __init__(self, username: str, password: int) -> None:\n",
    "        self.username = username\n",
    "        self.password = password"
   ]
  },
  {
   "cell_type": "markdown",
   "metadata": {},
   "source": [
    "* Identation error: when we dont ident our code properly"
   ]
  },
  {
   "cell_type": "code",
   "execution_count": 11,
   "metadata": {},
   "outputs": [
    {
     "ename": "IndentationError",
     "evalue": "expected an indented block (2803607696.py, line 2)",
     "output_type": "error",
     "traceback": [
      "\u001b[1;36m  Input \u001b[1;32mIn [11]\u001b[1;36m\u001b[0m\n\u001b[1;33m    raise NotImplementedError('This feature has not been implemented yet.')\u001b[0m\n\u001b[1;37m    ^\u001b[0m\n\u001b[1;31mIndentationError\u001b[0m\u001b[1;31m:\u001b[0m expected an indented block\n"
     ]
    }
   ],
   "source": [
    "def login(self):\n",
    "raise NotImplementedError('This feature has not been implemented yet.')"
   ]
  },
  {
   "cell_type": "markdown",
   "metadata": {},
   "source": [
    "* Type error: when we want to do some kind of action with an object of a given type that do not support that action"
   ]
  },
  {
   "cell_type": "code",
   "execution_count": 12,
   "metadata": {},
   "outputs": [
    {
     "ename": "TypeError",
     "evalue": "unsupported operand type(s) for +: 'int' and 'str'",
     "output_type": "error",
     "traceback": [
      "\u001b[1;31m---------------------------------------------------------------------------\u001b[0m",
      "\u001b[1;31mTypeError\u001b[0m                                 Traceback (most recent call last)",
      "\u001b[1;32mc:\\Users\\david\\Documents\\Juan David\\Inteligencia Artificial\\Python\\Python Basics\\python_basics.ipynb Cell 162\u001b[0m in \u001b[0;36m<cell line: 1>\u001b[1;34m()\u001b[0m\n\u001b[1;32m----> <a href='vscode-notebook-cell:/c%3A/Users/david/Documents/Juan%20David/Inteligencia%20Artificial/Python/Python%20Basics/python_basics.ipynb#Y321sZmlsZQ%3D%3D?line=0'>1</a>\u001b[0m \u001b[39m5\u001b[39;49m\u001b[39m+\u001b[39;49m \u001b[39m'\u001b[39;49m\u001b[39mhi\u001b[39;49m\u001b[39m'\u001b[39;49m\n",
      "\u001b[1;31mTypeError\u001b[0m: unsupported operand type(s) for +: 'int' and 'str'"
     ]
    }
   ],
   "source": [
    "5+ 'hi'"
   ]
  },
  {
   "cell_type": "markdown",
   "metadata": {},
   "source": [
    "* Value error: give a function a value of the correct type but incorrect value "
   ]
  },
  {
   "cell_type": "code",
   "execution_count": 13,
   "metadata": {},
   "outputs": [
    {
     "ename": "ValueError",
     "evalue": "invalid literal for int() with base 10: '20.5'",
     "output_type": "error",
     "traceback": [
      "\u001b[1;31m---------------------------------------------------------------------------\u001b[0m",
      "\u001b[1;31mValueError\u001b[0m                                Traceback (most recent call last)",
      "\u001b[1;32mc:\\Users\\david\\Documents\\Juan David\\Inteligencia Artificial\\Python\\Python Basics\\python_basics.ipynb Cell 164\u001b[0m in \u001b[0;36m<cell line: 1>\u001b[1;34m()\u001b[0m\n\u001b[1;32m----> <a href='vscode-notebook-cell:/c%3A/Users/david/Documents/Juan%20David/Inteligencia%20Artificial/Python/Python%20Basics/python_basics.ipynb#Y323sZmlsZQ%3D%3D?line=0'>1</a>\u001b[0m \u001b[39mint\u001b[39;49m(\u001b[39m'\u001b[39;49m\u001b[39m20.5\u001b[39;49m\u001b[39m'\u001b[39;49m)\n",
      "\u001b[1;31mValueError\u001b[0m: invalid literal for int() with base 10: '20.5'"
     ]
    }
   ],
   "source": [
    "int('20.5')"
   ]
  },
  {
   "cell_type": "markdown",
   "metadata": {},
   "source": [
    "* Import error: circular imports between modules"
   ]
  },
  {
   "cell_type": "markdown",
   "metadata": {},
   "source": [
    "* DeprecationWarning : there exists a better way to do something"
   ]
  },
  {
   "cell_type": "code",
   "execution_count": 1,
   "metadata": {},
   "outputs": [],
   "source": [
    "a = 5\n",
    "\n",
    "def check_value(value):\n",
    "    if value <5:\n",
    "        answer = 'no'\n",
    "    answer = 'yes'\n",
    "    return answer\n",
    "    \n"
   ]
  },
  {
   "cell_type": "code",
   "execution_count": 2,
   "metadata": {},
   "outputs": [
    {
     "data": {
      "text/plain": [
       "'yes'"
      ]
     },
     "execution_count": 2,
     "metadata": {},
     "output_type": "execute_result"
    }
   ],
   "source": [
    "check_value(a)"
   ]
  },
  {
   "cell_type": "code",
   "execution_count": 3,
   "metadata": {},
   "outputs": [],
   "source": [
    "def power_of_two():\n",
    "    user_input = input(\"Please enter a number\")\n",
    "    try:\n",
    "        n = float(user_input)\n",
    "    except ValueError:\n",
    "        print(\"Your input is not valid\")\n",
    "    finally:\n",
    "        n_square = n**2\n",
    "        \n",
    "    return n_square"
   ]
  },
  {
   "cell_type": "code",
   "execution_count": 6,
   "metadata": {},
   "outputs": [
    {
     "name": "stdout",
     "output_type": "stream",
     "text": [
      "Your input is not valid\n"
     ]
    },
    {
     "ename": "UnboundLocalError",
     "evalue": "local variable 'n' referenced before assignment",
     "output_type": "error",
     "traceback": [
      "\u001b[1;31m---------------------------------------------------------------------------\u001b[0m",
      "\u001b[1;31mUnboundLocalError\u001b[0m                         Traceback (most recent call last)",
      "\u001b[1;32mc:\\Users\\david\\Documents\\Juan David\\Inteligencia Artificial\\Python\\Python Basics\\python_basics.ipynb Cell 170\u001b[0m in \u001b[0;36m<cell line: 1>\u001b[1;34m()\u001b[0m\n\u001b[1;32m----> <a href='vscode-notebook-cell:/c%3A/Users/david/Documents/Juan%20David/Inteligencia%20Artificial/Python/Python%20Basics/python_basics.ipynb#Y331sZmlsZQ%3D%3D?line=0'>1</a>\u001b[0m power_of_two()\n",
      "\u001b[1;32mc:\\Users\\david\\Documents\\Juan David\\Inteligencia Artificial\\Python\\Python Basics\\python_basics.ipynb Cell 170\u001b[0m in \u001b[0;36mpower_of_two\u001b[1;34m()\u001b[0m\n\u001b[0;32m      <a href='vscode-notebook-cell:/c%3A/Users/david/Documents/Juan%20David/Inteligencia%20Artificial/Python/Python%20Basics/python_basics.ipynb#Y331sZmlsZQ%3D%3D?line=5'>6</a>\u001b[0m     \u001b[39mprint\u001b[39m(\u001b[39m\"\u001b[39m\u001b[39mYour input is not valid\u001b[39m\u001b[39m\"\u001b[39m)\n\u001b[0;32m      <a href='vscode-notebook-cell:/c%3A/Users/david/Documents/Juan%20David/Inteligencia%20Artificial/Python/Python%20Basics/python_basics.ipynb#Y331sZmlsZQ%3D%3D?line=6'>7</a>\u001b[0m \u001b[39mfinally\u001b[39;00m:\n\u001b[1;32m----> <a href='vscode-notebook-cell:/c%3A/Users/david/Documents/Juan%20David/Inteligencia%20Artificial/Python/Python%20Basics/python_basics.ipynb#Y331sZmlsZQ%3D%3D?line=7'>8</a>\u001b[0m     n_square \u001b[39m=\u001b[39m n\u001b[39m*\u001b[39m\u001b[39m*\u001b[39m\u001b[39m2\u001b[39m\n\u001b[0;32m     <a href='vscode-notebook-cell:/c%3A/Users/david/Documents/Juan%20David/Inteligencia%20Artificial/Python/Python%20Basics/python_basics.ipynb#Y331sZmlsZQ%3D%3D?line=9'>10</a>\u001b[0m \u001b[39mreturn\u001b[39;00m n_square\n",
      "\u001b[1;31mUnboundLocalError\u001b[0m: local variable 'n' referenced before assignment"
     ]
    }
   ],
   "source": [
    "power_of_two()"
   ]
  },
  {
   "cell_type": "code",
   "execution_count": 7,
   "metadata": {},
   "outputs": [],
   "source": [
    "def power_of_two():\n",
    "    user_input = input(\"Please enter a number\")\n",
    "    try:\n",
    "        n = float(user_input)\n",
    "    except ValueError:\n",
    "        print(\"Your input is not valid\")\n",
    "        n=0\n",
    "    else:\n",
    "        n_square = n**2\n",
    "        \n",
    "    return n_square"
   ]
  },
  {
   "cell_type": "code",
   "execution_count": 9,
   "metadata": {},
   "outputs": [
    {
     "name": "stdout",
     "output_type": "stream",
     "text": [
      "Your input is not valid\n"
     ]
    },
    {
     "ename": "UnboundLocalError",
     "evalue": "local variable 'n_square' referenced before assignment",
     "output_type": "error",
     "traceback": [
      "\u001b[1;31m---------------------------------------------------------------------------\u001b[0m",
      "\u001b[1;31mUnboundLocalError\u001b[0m                         Traceback (most recent call last)",
      "\u001b[1;32mc:\\Users\\david\\Documents\\Juan David\\Inteligencia Artificial\\Python\\Python Basics\\python_basics.ipynb Cell 172\u001b[0m in \u001b[0;36m<cell line: 1>\u001b[1;34m()\u001b[0m\n\u001b[1;32m----> <a href='vscode-notebook-cell:/c%3A/Users/david/Documents/Juan%20David/Inteligencia%20Artificial/Python/Python%20Basics/python_basics.ipynb#Y333sZmlsZQ%3D%3D?line=0'>1</a>\u001b[0m power_of_two()\n",
      "\u001b[1;32mc:\\Users\\david\\Documents\\Juan David\\Inteligencia Artificial\\Python\\Python Basics\\python_basics.ipynb Cell 172\u001b[0m in \u001b[0;36mpower_of_two\u001b[1;34m()\u001b[0m\n\u001b[0;32m      <a href='vscode-notebook-cell:/c%3A/Users/david/Documents/Juan%20David/Inteligencia%20Artificial/Python/Python%20Basics/python_basics.ipynb#Y333sZmlsZQ%3D%3D?line=7'>8</a>\u001b[0m \u001b[39melse\u001b[39;00m:\n\u001b[0;32m      <a href='vscode-notebook-cell:/c%3A/Users/david/Documents/Juan%20David/Inteligencia%20Artificial/Python/Python%20Basics/python_basics.ipynb#Y333sZmlsZQ%3D%3D?line=8'>9</a>\u001b[0m     n_square \u001b[39m=\u001b[39m n\u001b[39m*\u001b[39m\u001b[39m*\u001b[39m\u001b[39m2\u001b[39m\n\u001b[1;32m---> <a href='vscode-notebook-cell:/c%3A/Users/david/Documents/Juan%20David/Inteligencia%20Artificial/Python/Python%20Basics/python_basics.ipynb#Y333sZmlsZQ%3D%3D?line=10'>11</a>\u001b[0m \u001b[39mreturn\u001b[39;00m n_square\n",
      "\u001b[1;31mUnboundLocalError\u001b[0m: local variable 'n_square' referenced before assignment"
     ]
    }
   ],
   "source": [
    "power_of_two()"
   ]
  },
  {
   "cell_type": "code",
   "execution_count": 10,
   "metadata": {},
   "outputs": [],
   "source": [
    "def power_of_two():\n",
    "    user_input = input(\"Please enter a number\")\n",
    "    try:\n",
    "        n = float(user_input)\n",
    "        n_square =  n**2\n",
    "        return n_square\n",
    "    except ValueError:\n",
    "        print(\"Your input is not valid\")\n",
    "        return 0 "
   ]
  },
  {
   "cell_type": "code",
   "execution_count": 12,
   "metadata": {},
   "outputs": [
    {
     "name": "stdout",
     "output_type": "stream",
     "text": [
      "Your input is not valid\n"
     ]
    },
    {
     "data": {
      "text/plain": [
       "0"
      ]
     },
     "execution_count": 12,
     "metadata": {},
     "output_type": "execute_result"
    }
   ],
   "source": [
    "print(power_of_two())\n",
    "print(power_of_two())"
   ]
  },
  {
   "cell_type": "markdown",
   "metadata": {},
   "source": [
    "## Files"
   ]
  },
  {
   "cell_type": "markdown",
   "metadata": {},
   "source": [
    "With the read function we will have all the contents of the file as a long string "
   ]
  },
  {
   "cell_type": "markdown",
   "metadata": {},
   "source": [
    "* Its importat to always close the file in order to be able to handle other files an to not keep the samething open in memory"
   ]
  },
  {
   "cell_type": "markdown",
   "metadata": {},
   "source": [
    "#### Reading the content of the file"
   ]
  },
  {
   "cell_type": "code",
   "execution_count": 6,
   "metadata": {},
   "outputs": [],
   "source": [
    "file = open('files/data.txt','r')\n",
    "file_content = file.read()\n",
    "file.close()"
   ]
  },
  {
   "cell_type": "code",
   "execution_count": 7,
   "metadata": {},
   "outputs": [
    {
     "data": {
      "text/plain": [
       "_io.TextIOWrapper"
      ]
     },
     "execution_count": 7,
     "metadata": {},
     "output_type": "execute_result"
    }
   ],
   "source": [
    "type(file)"
   ]
  },
  {
   "cell_type": "code",
   "execution_count": 8,
   "metadata": {},
   "outputs": [
    {
     "data": {
      "text/plain": [
       "str"
      ]
     },
     "execution_count": 8,
     "metadata": {},
     "output_type": "execute_result"
    }
   ],
   "source": [
    "type(file_content)"
   ]
  },
  {
   "cell_type": "code",
   "execution_count": 9,
   "metadata": {},
   "outputs": [
    {
     "data": {
      "text/plain": [
       "'Rolf'"
      ]
     },
     "execution_count": 9,
     "metadata": {},
     "output_type": "execute_result"
    }
   ],
   "source": [
    "file_content"
   ]
  },
  {
   "cell_type": "markdown",
   "metadata": {},
   "source": [
    "#### Writing the file"
   ]
  },
  {
   "cell_type": "markdown",
   "metadata": {},
   "source": [
    "When we said open in 'w' everything that was in the file is deleted and lost"
   ]
  },
  {
   "cell_type": "code",
   "execution_count": 11,
   "metadata": {},
   "outputs": [],
   "source": [
    "file_writing = open('files/data.txt', 'w')\n",
    "file_writing.write('Juan')\n",
    "file_writing.close()"
   ]
  },
  {
   "cell_type": "code",
   "execution_count": 18,
   "metadata": {},
   "outputs": [
    {
     "name": "stdout",
     "output_type": "stream",
     "text": [
      "['Rolf', ' Anna', ' Charlie']\n"
     ]
    }
   ],
   "source": [
    "user_friends = input('Enter the name of three friends').split(sep= ',')\n",
    "print(user_friends)"
   ]
  },
  {
   "cell_type": "code",
   "execution_count": 20,
   "metadata": {},
   "outputs": [
    {
     "data": {
      "text/plain": [
       "['Rolf', 'Anna', 'Charlie']"
      ]
     },
     "execution_count": 20,
     "metadata": {},
     "output_type": "execute_result"
    }
   ],
   "source": [
    "user_friends = [x.strip() for x in user_friends]\n",
    "user_friends"
   ]
  },
  {
   "cell_type": "code",
   "execution_count": 25,
   "metadata": {},
   "outputs": [
    {
     "data": {
      "text/plain": [
       "['Rolf',\n",
       " 'Jose',\n",
       " 'Chris',\n",
       " 'Anna',\n",
       " 'Charlie',\n",
       " 'Mary',\n",
       " 'David',\n",
       " 'Sophie',\n",
       " 'Steve']"
      ]
     },
     "execution_count": 25,
     "metadata": {},
     "output_type": "execute_result"
    }
   ],
   "source": [
    "nearby_friends_file = open('files/people.txt')\n",
    "nearby_friends_content = [line.strip() for line in nearby_friends_file.readlines()]\n",
    "nearby_friends_file.close()\n",
    "nearby_friends_content"
   ]
  },
  {
   "cell_type": "code",
   "execution_count": 26,
   "metadata": {},
   "outputs": [],
   "source": [
    "user_friends_set = set(user_friends)\n",
    "nearby_friends_set = set(nearby_friends_content)"
   ]
  },
  {
   "cell_type": "code",
   "execution_count": 27,
   "metadata": {},
   "outputs": [
    {
     "data": {
      "text/plain": [
       "{'Anna', 'Charlie', 'Rolf'}"
      ]
     },
     "execution_count": 27,
     "metadata": {},
     "output_type": "execute_result"
    }
   ],
   "source": [
    "user_friends_set"
   ]
  },
  {
   "cell_type": "code",
   "execution_count": 28,
   "metadata": {},
   "outputs": [
    {
     "data": {
      "text/plain": [
       "{'Anna',\n",
       " 'Charlie',\n",
       " 'Chris',\n",
       " 'David',\n",
       " 'Jose',\n",
       " 'Mary',\n",
       " 'Rolf',\n",
       " 'Sophie',\n",
       " 'Steve'}"
      ]
     },
     "execution_count": 28,
     "metadata": {},
     "output_type": "execute_result"
    }
   ],
   "source": [
    "nearby_friends_set"
   ]
  },
  {
   "cell_type": "code",
   "execution_count": 31,
   "metadata": {},
   "outputs": [
    {
     "data": {
      "text/plain": [
       "['Anna', 'Rolf', 'Charlie']"
      ]
     },
     "execution_count": 31,
     "metadata": {},
     "output_type": "execute_result"
    }
   ],
   "source": [
    "friends_nearby = list(user_friends_set.intersection(nearby_friends_set))\n",
    "friends_nearby"
   ]
  },
  {
   "cell_type": "code",
   "execution_count": 33,
   "metadata": {},
   "outputs": [],
   "source": [
    "new_nearby_friends_file = open('files/nearby_friends.txt','w')\n",
    "new_nearby_friends_file.writelines('\\n'.join(friends_nearby) +'\\n')\n",
    "new_nearby_friends_file.close()"
   ]
  },
  {
   "cell_type": "code",
   "execution_count": 34,
   "metadata": {},
   "outputs": [
    {
     "data": {
      "text/plain": [
       "['Anna', 'Rolf', 'Charlie']"
      ]
     },
     "execution_count": 34,
     "metadata": {},
     "output_type": "execute_result"
    }
   ],
   "source": [
    "friends_nearby"
   ]
  },
  {
   "cell_type": "code",
   "execution_count": 36,
   "metadata": {},
   "outputs": [],
   "source": [
    "new_nearby_friends_file = open('files/nearby_friends_2.txt','w')\n",
    "new_nearby_friends_file.writelines(line + '\\n' for line in friends_nearby)\n",
    "new_nearby_friends_file.close()"
   ]
  },
  {
   "cell_type": "code",
   "execution_count": 37,
   "metadata": {},
   "outputs": [
    {
     "data": {
      "text/plain": [
       "['name,age,university,degree\\n',\n",
       " 'rolf,25,mit,computer science\\n',\n",
       " 'jose,90,oxford,computing\\n',\n",
       " 'anna,30,cambridge,physics']"
      ]
     },
     "execution_count": 37,
     "metadata": {},
     "output_type": "execute_result"
    }
   ],
   "source": [
    "csv_file = open('files/students.csv','r')\n",
    "students = csv_file.readlines()\n",
    "csv_file.close()\n",
    "students"
   ]
  },
  {
   "cell_type": "code",
   "execution_count": 38,
   "metadata": {},
   "outputs": [
    {
     "data": {
      "text/plain": [
       "['rolf,25,mit,computer science',\n",
       " 'jose,90,oxford,computing',\n",
       " 'anna,30,cambridge,physics']"
      ]
     },
     "execution_count": 38,
     "metadata": {},
     "output_type": "execute_result"
    }
   ],
   "source": [
    "student = [line.strip() for line in students[1:]]\n",
    "student"
   ]
  },
  {
   "cell_type": "markdown",
   "metadata": {},
   "source": [
    "### Json files"
   ]
  },
  {
   "cell_type": "code",
   "execution_count": 1,
   "metadata": {},
   "outputs": [],
   "source": [
    "import json"
   ]
  },
  {
   "cell_type": "code",
   "execution_count": 2,
   "metadata": {},
   "outputs": [],
   "source": [
    "cars =  [\n",
    "    {'make':'Ford',\n",
    "     'model':'Fiesta'},\n",
    "    {'make':'Ford',\n",
    "     'model':'Focus'}\n",
    "]"
   ]
  },
  {
   "cell_type": "markdown",
   "metadata": {},
   "source": [
    "When we use open and close, we create and scenario where we need to stepup something and tear down something else"
   ]
  },
  {
   "cell_type": "code",
   "execution_count": 5,
   "metadata": {},
   "outputs": [],
   "source": [
    "cars_json = open('cars.json','w')\n",
    "json.dump(cars,cars_json)\n",
    "cars_json.close()"
   ]
  },
  {
   "cell_type": "code",
   "execution_count": 3,
   "metadata": {},
   "outputs": [
    {
     "name": "stdout",
     "output_type": "stream",
     "text": [
      "\u001b[1;31mSignature:\u001b[0m\n",
      "\u001b[0mjson\u001b[0m\u001b[1;33m.\u001b[0m\u001b[0mdump\u001b[0m\u001b[1;33m(\u001b[0m\u001b[1;33m\n",
      "\u001b[0m    \u001b[0mobj\u001b[0m\u001b[1;33m,\u001b[0m\u001b[1;33m\n",
      "\u001b[0m    \u001b[0mfp\u001b[0m\u001b[1;33m,\u001b[0m\u001b[1;33m\n",
      "\u001b[0m    \u001b[1;33m*\u001b[0m\u001b[1;33m,\u001b[0m\u001b[1;33m\n",
      "\u001b[0m    \u001b[0mskipkeys\u001b[0m\u001b[1;33m=\u001b[0m\u001b[1;32mFalse\u001b[0m\u001b[1;33m,\u001b[0m\u001b[1;33m\n",
      "\u001b[0m    \u001b[0mensure_ascii\u001b[0m\u001b[1;33m=\u001b[0m\u001b[1;32mTrue\u001b[0m\u001b[1;33m,\u001b[0m\u001b[1;33m\n",
      "\u001b[0m    \u001b[0mcheck_circular\u001b[0m\u001b[1;33m=\u001b[0m\u001b[1;32mTrue\u001b[0m\u001b[1;33m,\u001b[0m\u001b[1;33m\n",
      "\u001b[0m    \u001b[0mallow_nan\u001b[0m\u001b[1;33m=\u001b[0m\u001b[1;32mTrue\u001b[0m\u001b[1;33m,\u001b[0m\u001b[1;33m\n",
      "\u001b[0m    \u001b[0mcls\u001b[0m\u001b[1;33m=\u001b[0m\u001b[1;32mNone\u001b[0m\u001b[1;33m,\u001b[0m\u001b[1;33m\n",
      "\u001b[0m    \u001b[0mindent\u001b[0m\u001b[1;33m=\u001b[0m\u001b[1;32mNone\u001b[0m\u001b[1;33m,\u001b[0m\u001b[1;33m\n",
      "\u001b[0m    \u001b[0mseparators\u001b[0m\u001b[1;33m=\u001b[0m\u001b[1;32mNone\u001b[0m\u001b[1;33m,\u001b[0m\u001b[1;33m\n",
      "\u001b[0m    \u001b[0mdefault\u001b[0m\u001b[1;33m=\u001b[0m\u001b[1;32mNone\u001b[0m\u001b[1;33m,\u001b[0m\u001b[1;33m\n",
      "\u001b[0m    \u001b[0msort_keys\u001b[0m\u001b[1;33m=\u001b[0m\u001b[1;32mFalse\u001b[0m\u001b[1;33m,\u001b[0m\u001b[1;33m\n",
      "\u001b[0m    \u001b[1;33m**\u001b[0m\u001b[0mkw\u001b[0m\u001b[1;33m,\u001b[0m\u001b[1;33m\n",
      "\u001b[0m\u001b[1;33m)\u001b[0m\u001b[1;33m\u001b[0m\u001b[1;33m\u001b[0m\u001b[0m\n",
      "\u001b[1;31mDocstring:\u001b[0m\n",
      "Serialize ``obj`` as a JSON formatted stream to ``fp`` (a\n",
      "``.write()``-supporting file-like object).\n",
      "\n",
      "If ``skipkeys`` is true then ``dict`` keys that are not basic types\n",
      "(``str``, ``int``, ``float``, ``bool``, ``None``) will be skipped\n",
      "instead of raising a ``TypeError``.\n",
      "\n",
      "If ``ensure_ascii`` is false, then the strings written to ``fp`` can\n",
      "contain non-ASCII characters if they appear in strings contained in\n",
      "``obj``. Otherwise, all such characters are escaped in JSON strings.\n",
      "\n",
      "If ``check_circular`` is false, then the circular reference check\n",
      "for container types will be skipped and a circular reference will\n",
      "result in an ``RecursionError`` (or worse).\n",
      "\n",
      "If ``allow_nan`` is false, then it will be a ``ValueError`` to\n",
      "serialize out of range ``float`` values (``nan``, ``inf``, ``-inf``)\n",
      "in strict compliance of the JSON specification, instead of using the\n",
      "JavaScript equivalents (``NaN``, ``Infinity``, ``-Infinity``).\n",
      "\n",
      "If ``indent`` is a non-negative integer, then JSON array elements and\n",
      "object members will be pretty-printed with that indent level. An indent\n",
      "level of 0 will only insert newlines. ``None`` is the most compact\n",
      "representation.\n",
      "\n",
      "If specified, ``separators`` should be an ``(item_separator, key_separator)``\n",
      "tuple.  The default is ``(', ', ': ')`` if *indent* is ``None`` and\n",
      "``(',', ': ')`` otherwise.  To get the most compact JSON representation,\n",
      "you should specify ``(',', ':')`` to eliminate whitespace.\n",
      "\n",
      "``default(obj)`` is a function that should return a serializable version\n",
      "of obj or raise TypeError. The default simply raises TypeError.\n",
      "\n",
      "If *sort_keys* is true (default: ``False``), then the output of\n",
      "dictionaries will be sorted by key.\n",
      "\n",
      "To use a custom ``JSONEncoder`` subclass (e.g. one that overrides the\n",
      "``.default()`` method to serialize additional types), specify it with\n",
      "the ``cls`` kwarg; otherwise ``JSONEncoder`` is used.\n",
      "\u001b[1;31mFile:\u001b[0m      c:\\users\\david\\anaconda3\\envs\\api\\lib\\json\\__init__.py\n",
      "\u001b[1;31mType:\u001b[0m      function\n"
     ]
    }
   ],
   "source": [
    "json.dump?"
   ]
  },
  {
   "cell_type": "markdown",
   "metadata": {},
   "source": [
    "The with keyword is known as a context manager"
   ]
  },
  {
   "cell_type": "code",
   "execution_count": 9,
   "metadata": {},
   "outputs": [],
   "source": [
    "with open('files/friends.json','r') as f:\n",
    "    json_file_context = json.load(f)"
   ]
  },
  {
   "cell_type": "code",
   "execution_count": 10,
   "metadata": {},
   "outputs": [
    {
     "data": {
      "text/plain": [
       "{'friends': [{'name': 'Jose', 'degree': 'Applied computing'},\n",
       "  {'name': 'Rolf', 'degree': 'Computer Science'},\n",
       "  {'name': 'Anna', 'degree': 'physics'}]}"
      ]
     },
     "execution_count": 10,
     "metadata": {},
     "output_type": "execute_result"
    }
   ],
   "source": [
    "json_file_context"
   ]
  },
  {
   "cell_type": "markdown",
   "metadata": {},
   "source": [
    "When we reach the end of the last cell, python is going to close the file for us so basically this will replace the following code:"
   ]
  },
  {
   "cell_type": "code",
   "execution_count": 7,
   "metadata": {},
   "outputs": [],
   "source": [
    "file = open('files/friends.json')\n",
    "json_file_no_context = json.load(file)\n",
    "file.close()"
   ]
  },
  {
   "cell_type": "code",
   "execution_count": 8,
   "metadata": {},
   "outputs": [
    {
     "data": {
      "text/plain": [
       "{'friends': [{'name': 'Jose', 'degree': 'Applied computing'},\n",
       "  {'name': 'Rolf', 'degree': 'Computer Science'},\n",
       "  {'name': 'Anna', 'degree': 'physics'}]}"
      ]
     },
     "execution_count": 8,
     "metadata": {},
     "output_type": "execute_result"
    }
   ],
   "source": [
    "json_file_no_context"
   ]
  },
  {
   "cell_type": "markdown",
   "metadata": {},
   "source": [
    "## Generators"
   ]
  },
  {
   "cell_type": "markdown",
   "metadata": {},
   "source": [
    "Is a function that remembers the state it's in between executions\n",
    "* We can run the function many times and it will remember what it was the last time I run it \n",
    "  \n"
   ]
  },
  {
   "cell_type": "code",
   "execution_count": 11,
   "metadata": {},
   "outputs": [],
   "source": [
    "def hundred_numbers():\n",
    "    list_numbers = []\n",
    "    i = 0\n",
    "    while i < 100:\n",
    "        list_numbers.append(i)\n",
    "        i+=1\n",
    "        \n",
    "    return list_numbers"
   ]
  },
  {
   "cell_type": "code",
   "execution_count": 12,
   "metadata": {},
   "outputs": [
    {
     "data": {
      "text/plain": [
       "[0,\n",
       " 1,\n",
       " 2,\n",
       " 3,\n",
       " 4,\n",
       " 5,\n",
       " 6,\n",
       " 7,\n",
       " 8,\n",
       " 9,\n",
       " 10,\n",
       " 11,\n",
       " 12,\n",
       " 13,\n",
       " 14,\n",
       " 15,\n",
       " 16,\n",
       " 17,\n",
       " 18,\n",
       " 19,\n",
       " 20,\n",
       " 21,\n",
       " 22,\n",
       " 23,\n",
       " 24,\n",
       " 25,\n",
       " 26,\n",
       " 27,\n",
       " 28,\n",
       " 29,\n",
       " 30,\n",
       " 31,\n",
       " 32,\n",
       " 33,\n",
       " 34,\n",
       " 35,\n",
       " 36,\n",
       " 37,\n",
       " 38,\n",
       " 39,\n",
       " 40,\n",
       " 41,\n",
       " 42,\n",
       " 43,\n",
       " 44,\n",
       " 45,\n",
       " 46,\n",
       " 47,\n",
       " 48,\n",
       " 49,\n",
       " 50,\n",
       " 51,\n",
       " 52,\n",
       " 53,\n",
       " 54,\n",
       " 55,\n",
       " 56,\n",
       " 57,\n",
       " 58,\n",
       " 59,\n",
       " 60,\n",
       " 61,\n",
       " 62,\n",
       " 63,\n",
       " 64,\n",
       " 65,\n",
       " 66,\n",
       " 67,\n",
       " 68,\n",
       " 69,\n",
       " 70,\n",
       " 71,\n",
       " 72,\n",
       " 73,\n",
       " 74,\n",
       " 75,\n",
       " 76,\n",
       " 77,\n",
       " 78,\n",
       " 79,\n",
       " 80,\n",
       " 81,\n",
       " 82,\n",
       " 83,\n",
       " 84,\n",
       " 85,\n",
       " 86,\n",
       " 87,\n",
       " 88,\n",
       " 89,\n",
       " 90,\n",
       " 91,\n",
       " 92,\n",
       " 93,\n",
       " 94,\n",
       " 95,\n",
       " 96,\n",
       " 97,\n",
       " 98,\n",
       " 99]"
      ]
     },
     "execution_count": 12,
     "metadata": {},
     "output_type": "execute_result"
    }
   ],
   "source": [
    "nums = hundred_numbers()\n",
    "nums"
   ]
  },
  {
   "cell_type": "markdown",
   "metadata": {},
   "source": [
    "But we do not need the hundred numbers at once, maybe we will need the ONE BY ONE. "
   ]
  },
  {
   "cell_type": "code",
   "execution_count": 13,
   "metadata": {},
   "outputs": [],
   "source": [
    "def hundred_numbers_generator():\n",
    "    i = 0\n",
    "    while i < 100:\n",
    "        yield i \n",
    "        i +=1 "
   ]
  },
  {
   "cell_type": "markdown",
   "metadata": {},
   "source": [
    "Basically the first time we call the function it will returns 0 stopping in line 4. Then, the next time we call the function, it will go to line 5 (i+=1) and go to line 3 (while i < 100) , then yield the value of i that for this moment will be 1"
   ]
  },
  {
   "cell_type": "markdown",
   "metadata": {},
   "source": [
    "**yield** in spanish means rendir, producir, reportar, dar"
   ]
  },
  {
   "cell_type": "code",
   "execution_count": 17,
   "metadata": {},
   "outputs": [
    {
     "name": "stdout",
     "output_type": "stream",
     "text": [
      "0\n"
     ]
    }
   ],
   "source": [
    "g = hundred_numbers_generator()\n",
    "print(next(g))"
   ]
  },
  {
   "cell_type": "markdown",
   "metadata": {},
   "source": [
    "We need to use the **next** keyword to get the second value, which in this case is 1"
   ]
  },
  {
   "cell_type": "code",
   "execution_count": 18,
   "metadata": {},
   "outputs": [
    {
     "name": "stdout",
     "output_type": "stream",
     "text": [
      "1\n"
     ]
    }
   ],
   "source": [
    "print(next(g))"
   ]
  },
  {
   "cell_type": "markdown",
   "metadata": {},
   "source": [
    "As can be seen generators remember where they stopped"
   ]
  },
  {
   "cell_type": "code",
   "execution_count": 20,
   "metadata": {},
   "outputs": [
    {
     "name": "stdout",
     "output_type": "stream",
     "text": [
      "[2, 3, 4, 5, 6, 7, 8, 9, 10, 11, 12, 13, 14, 15, 16, 17, 18, 19, 20, 21, 22, 23, 24, 25, 26, 27, 28, 29, 30, 31, 32, 33, 34, 35, 36, 37, 38, 39, 40, 41, 42, 43, 44, 45, 46, 47, 48, 49, 50, 51, 52, 53, 54, 55, 56, 57, 58, 59, 60, 61, 62, 63, 64, 65, 66, 67, 68, 69, 70, 71, 72, 73, 74, 75, 76, 77, 78, 79, 80, 81, 82, 83, 84, 85, 86, 87, 88, 89, 90, 91, 92, 93, 94, 95, 96, 97, 98, 99]\n"
     ]
    }
   ],
   "source": [
    "print(list(g))"
   ]
  },
  {
   "cell_type": "code",
   "execution_count": 19,
   "metadata": {},
   "outputs": [
    {
     "data": {
      "text/plain": [
       "range(1, 10)"
      ]
     },
     "execution_count": 19,
     "metadata": {},
     "output_type": "execute_result"
    }
   ],
   "source": [
    "a = range(1,10,1)\n",
    "a"
   ]
  },
  {
   "cell_type": "markdown",
   "metadata": {},
   "source": [
    "#### Generator class\n",
    "Notice that we create  the __next__ dunder method"
   ]
  },
  {
   "cell_type": "code",
   "execution_count": 21,
   "metadata": {},
   "outputs": [],
   "source": [
    "class FirstHundredGenerator:\n",
    "    def __init__(self) -> None:\n",
    "        self.number = 0\n",
    "        \n",
    "    def __next__(self):\n",
    "        if self.number < 100:\n",
    "            current = self.number\n",
    "            self.number +=1\n",
    "            return current\n",
    "\n",
    "        else: \n",
    "            raise StopIteration()"
   ]
  },
  {
   "cell_type": "markdown",
   "metadata": {},
   "source": [
    "All the objects that have the __next__ dunder method are called iterators\n",
    "* All generator that have the __next__ dunder method are iterators, BUT not all iterators are generators. "
   ]
  },
  {
   "cell_type": "code",
   "execution_count": 22,
   "metadata": {},
   "outputs": [
    {
     "name": "stdout",
     "output_type": "stream",
     "text": [
      "0\n",
      "1\n"
     ]
    }
   ],
   "source": [
    "my_gen  = FirstHundredGenerator()\n",
    "print(my_gen.number)\n",
    "next(my_gen)\n",
    "print(my_gen.number)"
   ]
  },
  {
   "cell_type": "markdown",
   "metadata": {},
   "source": [
    "We can not iterate over a iterator, because an **_iterator_** is different form an **_iterable_**"
   ]
  },
  {
   "cell_type": "code",
   "execution_count": 23,
   "metadata": {},
   "outputs": [
    {
     "ename": "TypeError",
     "evalue": "'FirstHundredGenerator' object is not iterable",
     "output_type": "error",
     "traceback": [
      "\u001b[1;31m---------------------------------------------------------------------------\u001b[0m",
      "\u001b[1;31mTypeError\u001b[0m                                 Traceback (most recent call last)",
      "\u001b[1;32mc:\\Users\\david\\Documents\\Juan David\\Inteligencia Artificial\\Python\\Python Basics\\python_basics.ipynb Cell 229\u001b[0m in \u001b[0;36m<cell line: 1>\u001b[1;34m()\u001b[0m\n\u001b[1;32m----> <a href='vscode-notebook-cell:/c%3A/Users/david/Documents/Juan%20David/Inteligencia%20Artificial/Python/Python%20Basics/python_basics.ipynb#Y445sZmlsZQ%3D%3D?line=0'>1</a>\u001b[0m \u001b[39mfor\u001b[39;00m i \u001b[39min\u001b[39;00m my_gen:\n\u001b[0;32m      <a href='vscode-notebook-cell:/c%3A/Users/david/Documents/Juan%20David/Inteligencia%20Artificial/Python/Python%20Basics/python_basics.ipynb#Y445sZmlsZQ%3D%3D?line=1'>2</a>\u001b[0m     \u001b[39mprint\u001b[39m(i)\n",
      "\u001b[1;31mTypeError\u001b[0m: 'FirstHundredGenerator' object is not iterable"
     ]
    }
   ],
   "source": [
    "for i in my_gen:\n",
    "    print(i)"
   ]
  },
  {
   "cell_type": "markdown",
   "metadata": {},
   "source": [
    "### Iterables"
   ]
  },
  {
   "cell_type": "markdown",
   "metadata": {},
   "source": [
    "The __iter__ dunder method needs to return an **ITERATOR**"
   ]
  },
  {
   "cell_type": "code",
   "execution_count": 24,
   "metadata": {},
   "outputs": [],
   "source": [
    "class FirstHundredIterable:\n",
    "    def __iter__(self):\n",
    "        return FirstHundredGenerator()"
   ]
  },
  {
   "cell_type": "code",
   "execution_count": 25,
   "metadata": {},
   "outputs": [
    {
     "name": "stdout",
     "output_type": "stream",
     "text": [
      "4950\n"
     ]
    }
   ],
   "source": [
    "print(sum(FirstHundredIterable()))"
   ]
  },
  {
   "cell_type": "code",
   "execution_count": 26,
   "metadata": {},
   "outputs": [
    {
     "name": "stdout",
     "output_type": "stream",
     "text": [
      "0\n",
      "1\n",
      "2\n",
      "3\n",
      "4\n",
      "5\n",
      "6\n",
      "7\n",
      "8\n",
      "9\n",
      "10\n",
      "11\n",
      "12\n",
      "13\n",
      "14\n",
      "15\n",
      "16\n",
      "17\n",
      "18\n",
      "19\n",
      "20\n",
      "21\n",
      "22\n",
      "23\n",
      "24\n",
      "25\n",
      "26\n",
      "27\n",
      "28\n",
      "29\n",
      "30\n",
      "31\n",
      "32\n",
      "33\n",
      "34\n",
      "35\n",
      "36\n",
      "37\n",
      "38\n",
      "39\n",
      "40\n",
      "41\n",
      "42\n",
      "43\n",
      "44\n",
      "45\n",
      "46\n",
      "47\n",
      "48\n",
      "49\n",
      "50\n",
      "51\n",
      "52\n",
      "53\n",
      "54\n",
      "55\n",
      "56\n",
      "57\n",
      "58\n",
      "59\n",
      "60\n",
      "61\n",
      "62\n",
      "63\n",
      "64\n",
      "65\n",
      "66\n",
      "67\n",
      "68\n",
      "69\n",
      "70\n",
      "71\n",
      "72\n",
      "73\n",
      "74\n",
      "75\n",
      "76\n",
      "77\n",
      "78\n",
      "79\n",
      "80\n",
      "81\n",
      "82\n",
      "83\n",
      "84\n",
      "85\n",
      "86\n",
      "87\n",
      "88\n",
      "89\n",
      "90\n",
      "91\n",
      "92\n",
      "93\n",
      "94\n",
      "95\n",
      "96\n",
      "97\n",
      "98\n",
      "99\n"
     ]
    }
   ],
   "source": [
    "for i in FirstHundredIterable():\n",
    "    print(i)"
   ]
  },
  {
   "cell_type": "markdown",
   "metadata": {},
   "source": [
    "Now the generator becomes also an iterable because we added the iter dunder method"
   ]
  },
  {
   "cell_type": "code",
   "execution_count": 27,
   "metadata": {},
   "outputs": [],
   "source": [
    "class FirstHundredGenerator:\n",
    "    def __init__(self) -> None:\n",
    "        self.number = 0\n",
    "        \n",
    "    def __next__(self):\n",
    "        if self.number < 100:\n",
    "            current = self.number\n",
    "            self.number +=1\n",
    "            return current\n",
    "\n",
    "        else: \n",
    "            raise StopIteration()\n",
    "        \n",
    "    def __iter__(self):\n",
    "        return self"
   ]
  },
  {
   "cell_type": "markdown",
   "metadata": {},
   "source": [
    "But we said that in order to iterate over an object we need the len and getitem dunder methods.  However in python we can define an iterable with the iter dunder method or with the len and getitem methods"
   ]
  },
  {
   "cell_type": "code",
   "execution_count": null,
   "metadata": {},
   "outputs": [],
   "source": [
    "class AnotherIterable:\n",
    "    \n",
    "    def __init__(self) -> None:\n",
    "        self.cars = []\n",
    "        \n",
    "    def __len__(self):\n",
    "        return len(self.cars)\n",
    "    \n",
    "    def __getitem__(self,i):\n",
    "        self.cars[i]"
   ]
  },
  {
   "cell_type": "markdown",
   "metadata": {},
   "source": [
    "* An iterator is used to get the next value \n",
    "* An iterable is used to go over all the values of the iterator"
   ]
  },
  {
   "cell_type": "markdown",
   "metadata": {},
   "source": [
    "### Filter "
   ]
  },
  {
   "cell_type": "markdown",
   "metadata": {},
   "source": [
    "Filter returns a generator, so we need to call the next function\n",
    "The filter function requires that the "
   ]
  },
  {
   "cell_type": "code",
   "execution_count": 28,
   "metadata": {},
   "outputs": [],
   "source": [
    "def start_r(friend):\n",
    "    return  friend.startswith('R')"
   ]
  },
  {
   "cell_type": "code",
   "execution_count": 30,
   "metadata": {},
   "outputs": [
    {
     "name": "stdout",
     "output_type": "stream",
     "text": [
      "Rolf\n"
     ]
    }
   ],
   "source": [
    "friends = ['Rolf','Jose','Randy','Anna','Mary']\n",
    "\n",
    "start_with_r = filter(start_r,friends)\n",
    "print(next(start_with_r))"
   ]
  },
  {
   "cell_type": "code",
   "execution_count": 31,
   "metadata": {},
   "outputs": [
    {
     "name": "stdout",
     "output_type": "stream",
     "text": [
      "Rolf\n"
     ]
    }
   ],
   "source": [
    "lambda_start_with_r = filter(lambda x : x.startswith('R'), friends)\n",
    "print(next(lambda_start_with_r))"
   ]
  },
  {
   "cell_type": "markdown",
   "metadata": {},
   "source": [
    "Another form of creating a generator is with a generator comprenhension"
   ]
  },
  {
   "cell_type": "code",
   "execution_count": 32,
   "metadata": {},
   "outputs": [
    {
     "data": {
      "text/plain": [
       "<generator object <genexpr> at 0x000002E715978970>"
      ]
     },
     "execution_count": 32,
     "metadata": {},
     "output_type": "execute_result"
    }
   ],
   "source": [
    "another_starts_with_r = (friend for friend in friends if friend.startswith('R'))\n",
    "another_starts_with_r"
   ]
  },
  {
   "cell_type": "code",
   "execution_count": 33,
   "metadata": {},
   "outputs": [
    {
     "name": "stdout",
     "output_type": "stream",
     "text": [
      "Rolf\n"
     ]
    }
   ],
   "source": [
    "print(next(another_starts_with_r))"
   ]
  },
  {
   "cell_type": "markdown",
   "metadata": {},
   "source": [
    "### Map"
   ]
  },
  {
   "cell_type": "markdown",
   "metadata": {},
   "source": [
    "It outputs a generator"
   ]
  },
  {
   "cell_type": "code",
   "execution_count": 34,
   "metadata": {},
   "outputs": [
    {
     "name": "stdout",
     "output_type": "stream",
     "text": [
      "<map object at 0x000002E7157386A0>\n"
     ]
    }
   ],
   "source": [
    "friends_lower = map(lambda x: x.lower(), friends)\n",
    "print(friends_lower)"
   ]
  },
  {
   "cell_type": "code",
   "execution_count": 35,
   "metadata": {},
   "outputs": [
    {
     "name": "stdout",
     "output_type": "stream",
     "text": [
      "['rolf', 'jose', 'randy', 'anna', 'mary']\n"
     ]
    }
   ],
   "source": [
    "print(list(friends_lower))"
   ]
  },
  {
   "cell_type": "code",
   "execution_count": 47,
   "metadata": {},
   "outputs": [],
   "source": [
    "class User:\n",
    "    def __init__(self, username: str, password: str) -> None:\n",
    "        self.username = username\n",
    "        self.password = password\n",
    "    \n",
    "    @classmethod\n",
    "    def from_dict(cls,data):\n",
    "        return cls(data['username'], data['password'])\n",
    "    \n",
    "users = [{'username': 'Rolf', 'password': '123'},\n",
    "         {'username':'Juan', 'password': '456'}]\n",
    "        "
   ]
  },
  {
   "cell_type": "code",
   "execution_count": 48,
   "metadata": {},
   "outputs": [],
   "source": [
    "new_users =  map(User.from_dict, users)"
   ]
  },
  {
   "cell_type": "code",
   "execution_count": 49,
   "metadata": {},
   "outputs": [],
   "source": [
    "list_new_users = list(new_users)"
   ]
  },
  {
   "cell_type": "code",
   "execution_count": 50,
   "metadata": {},
   "outputs": [
    {
     "data": {
      "text/plain": [
       "'Rolf'"
      ]
     },
     "execution_count": 50,
     "metadata": {},
     "output_type": "execute_result"
    }
   ],
   "source": [
    "list_new_users[0].username"
   ]
  },
  {
   "cell_type": "markdown",
   "metadata": {},
   "source": [
    "### Any and all"
   ]
  },
  {
   "cell_type": "code",
   "execution_count": 51,
   "metadata": {},
   "outputs": [],
   "source": [
    "\n",
    "friends =[\n",
    "    {\n",
    "        \"name\": \"Jose\",\n",
    "        \"degree\": \"Applied computing\"\n",
    "    },\n",
    "    {\n",
    "        \"name\": \"Rolf\",\n",
    "        \"degree\": \"Computer Science\"\n",
    "    },\n",
    "    {\n",
    "        \"name\": \"Anna\",\n",
    "        \"degree\": \"physics\"\n",
    "    }\n",
    "]\n"
   ]
  },
  {
   "cell_type": "code",
   "execution_count": 52,
   "metadata": {},
   "outputs": [],
   "source": [
    "friends_nearby = [friend for friend in friends if friend['degree'] == 'physics']"
   ]
  },
  {
   "cell_type": "code",
   "execution_count": 53,
   "metadata": {},
   "outputs": [
    {
     "data": {
      "text/plain": [
       "[{'name': 'Anna', 'degree': 'physics'}]"
      ]
     },
     "execution_count": 53,
     "metadata": {},
     "output_type": "execute_result"
    }
   ],
   "source": [
    "friends_nearby"
   ]
  },
  {
   "cell_type": "markdown",
   "metadata": {},
   "source": [
    "Any returns true if there's at least one or false if empty"
   ]
  },
  {
   "cell_type": "code",
   "execution_count": 54,
   "metadata": {},
   "outputs": [
    {
     "name": "stdout",
     "output_type": "stream",
     "text": [
      "You are not alone\n"
     ]
    }
   ],
   "source": [
    "if any(friends_nearby):\n",
    "    print('You are not alone')"
   ]
  },
  {
   "cell_type": "code",
   "execution_count": 56,
   "metadata": {},
   "outputs": [
    {
     "name": "stdout",
     "output_type": "stream",
     "text": [
      "You are not alone\n"
     ]
    }
   ],
   "source": [
    "if all(friends_nearby):\n",
    "    print('You are not alone')"
   ]
  },
  {
   "cell_type": "markdown",
   "metadata": {},
   "source": [
    "All function prints false beacuase 0 evaluatesto false"
   ]
  },
  {
   "cell_type": "code",
   "execution_count": 55,
   "metadata": {},
   "outputs": [
    {
     "name": "stdout",
     "output_type": "stream",
     "text": [
      "False\n"
     ]
    }
   ],
   "source": [
    "print(all([0,1,2,3]))"
   ]
  }
 ],
 "metadata": {
  "kernelspec": {
   "display_name": "Python 3.9.12 ('api')",
   "language": "python",
   "name": "python3"
  },
  "language_info": {
   "codemirror_mode": {
    "name": "ipython",
    "version": 3
   },
   "file_extension": ".py",
   "mimetype": "text/x-python",
   "name": "python",
   "nbconvert_exporter": "python",
   "pygments_lexer": "ipython3",
   "version": "3.9.12"
  },
  "orig_nbformat": 4,
  "vscode": {
   "interpreter": {
    "hash": "754a77eb2163e505bcbfa617bbe59d48105f2918597900bb3b22264c613b39a0"
   }
  }
 },
 "nbformat": 4,
 "nbformat_minor": 2
}
