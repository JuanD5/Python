{
 "cells": [
  {
   "cell_type": "markdown",
   "metadata": {},
   "source": [
    "# OOP \n",
    "\n",
    "Object Oriented Programming "
   ]
  },
  {
   "cell_type": "markdown",
   "metadata": {},
   "source": [
    "## The complete python course"
   ]
  },
  {
   "cell_type": "markdown",
   "metadata": {},
   "source": [
    "The __init__ method is called a dunder method"
   ]
  },
  {
   "cell_type": "code",
   "execution_count": 7,
   "metadata": {},
   "outputs": [],
   "source": [
    "class Sport():\n",
    "    sport_type: str = 'Team'\n",
    "    nationality: str\n",
    "    number_of_players: str\n",
    "    name: str\n",
    "    "
   ]
  },
  {
   "cell_type": "code",
   "execution_count": 15,
   "metadata": {},
   "outputs": [],
   "source": [
    "class Student:\n",
    "    def __init__(self, \n",
    "                 name: str, \n",
    "                 grades: list[float]) -> None:\n",
    "        self.name = name\n",
    "        self.grades = grades\n",
    "        self.sport = Sport()\n",
    "    \n",
    "    def average(self):\n",
    "        return sum(self.grades) / len(self.grades)\n",
    "    \n",
    "    def get_sport_information(self):\n",
    "        self.sport.name = 'tenis'\n",
    "        print(f\"The student {self.name} plays {self.sport.name}\")\n",
    "    "
   ]
  },
  {
   "cell_type": "code",
   "execution_count": 16,
   "metadata": {},
   "outputs": [
    {
     "name": "stdout",
     "output_type": "stream",
     "text": [
      "Juan\n",
      "[89.0, 70.3, 65.0]\n",
      "The student Juan plays tenis\n"
     ]
    }
   ],
   "source": [
    "Juan = Student(name='Juan', grades=[89.0,70.3,65.0])\n",
    "Juan.average()\n",
    "print(Juan.name)\n",
    "print(Juan.grades)\n",
    "Juan.get_sport_information()"
   ]
  },
  {
   "cell_type": "code",
   "execution_count": 17,
   "metadata": {},
   "outputs": [
    {
     "data": {
      "text/plain": [
       "__main__.Student"
      ]
     },
     "execution_count": 17,
     "metadata": {},
     "output_type": "execute_result"
    }
   ],
   "source": [
    "Juan.__class__"
   ]
  },
  {
   "cell_type": "code",
   "execution_count": 18,
   "metadata": {},
   "outputs": [],
   "source": [
    "class Garage:\n",
    "    def __init__(self) -> None:\n",
    "        self.cars = []\n"
   ]
  },
  {
   "cell_type": "code",
   "execution_count": 19,
   "metadata": {},
   "outputs": [
    {
     "name": "stdout",
     "output_type": "stream",
     "text": [
      "['Ford', 'Ferrari']\n"
     ]
    }
   ],
   "source": [
    "ford = Garage()\n",
    "ford.cars.append(\"Ford\")\n",
    "ford.cars.append(\"Ferrari\")\n",
    "print(ford.cars)"
   ]
  },
  {
   "cell_type": "code",
   "execution_count": 20,
   "metadata": {},
   "outputs": [
    {
     "ename": "TypeError",
     "evalue": "object of type 'Garage' has no len()",
     "output_type": "error",
     "traceback": [
      "\u001b[1;31m---------------------------------------------------------------------------\u001b[0m",
      "\u001b[1;31mTypeError\u001b[0m                                 Traceback (most recent call last)",
      "\u001b[1;32mc:\\Users\\david\\Documents\\Juan David\\Inteligencia Artificial\\Python\\OOP\\OOP.ipynb Cell 10\u001b[0m in \u001b[0;36m<cell line: 1>\u001b[1;34m()\u001b[0m\n\u001b[1;32m----> <a href='vscode-notebook-cell:/c%3A/Users/david/Documents/Juan%20David/Inteligencia%20Artificial/Python/OOP/OOP.ipynb#X56sZmlsZQ%3D%3D?line=0'>1</a>\u001b[0m \u001b[39mprint\u001b[39m(\u001b[39mlen\u001b[39;49m(ford))\n",
      "\u001b[1;31mTypeError\u001b[0m: object of type 'Garage' has no len()"
     ]
    }
   ],
   "source": [
    "print(len(ford))"
   ]
  },
  {
   "cell_type": "markdown",
   "metadata": {},
   "source": [
    "We have to define the __len__ dunderscore method"
   ]
  },
  {
   "cell_type": "code",
   "execution_count": 28,
   "metadata": {},
   "outputs": [],
   "source": [
    "class Garage:\n",
    "    def __init__(self) -> None:\n",
    "        self.cars = []\n",
    "        \n",
    "    def __len__(self):\n",
    "        return len(self.cars)\n"
   ]
  },
  {
   "cell_type": "code",
   "execution_count": 29,
   "metadata": {},
   "outputs": [
    {
     "name": "stdout",
     "output_type": "stream",
     "text": [
      "['Ford', 'Ferrari']\n",
      "2\n"
     ]
    }
   ],
   "source": [
    "ford = Garage()\n",
    "ford.cars.append(\"Ford\")\n",
    "ford.cars.append(\"Ferrari\")\n",
    "print(ford.cars)\n",
    "print(len(ford))"
   ]
  },
  {
   "cell_type": "code",
   "execution_count": 30,
   "metadata": {},
   "outputs": [
    {
     "ename": "TypeError",
     "evalue": "'Garage' object is not subscriptable",
     "output_type": "error",
     "traceback": [
      "\u001b[1;31m---------------------------------------------------------------------------\u001b[0m",
      "\u001b[1;31mTypeError\u001b[0m                                 Traceback (most recent call last)",
      "\u001b[1;32mc:\\Users\\david\\Documents\\Juan David\\Inteligencia Artificial\\Python\\OOP\\OOP.ipynb Cell 14\u001b[0m in \u001b[0;36m<cell line: 1>\u001b[1;34m()\u001b[0m\n\u001b[1;32m----> <a href='vscode-notebook-cell:/c%3A/Users/david/Documents/Juan%20David/Inteligencia%20Artificial/Python/OOP/OOP.ipynb#X66sZmlsZQ%3D%3D?line=0'>1</a>\u001b[0m \u001b[39mprint\u001b[39m(ford[\u001b[39m0\u001b[39;49m])\n",
      "\u001b[1;31mTypeError\u001b[0m: 'Garage' object is not subscriptable"
     ]
    }
   ],
   "source": [
    "print(ford[0])"
   ]
  },
  {
   "cell_type": "markdown",
   "metadata": {},
   "source": [
    "For making our class suscriptable we need to add the __getitem__ dunder method"
   ]
  },
  {
   "cell_type": "code",
   "execution_count": 25,
   "metadata": {},
   "outputs": [],
   "source": [
    "class Garage:\n",
    "    def __init__(self) -> None:\n",
    "        self.cars = []\n",
    "        \n",
    "    def __len__(self):\n",
    "        return len(self.cars)\n",
    "\n",
    "    def __getitem__(self,i):\n",
    "        return self.cars[i]\n"
   ]
  },
  {
   "cell_type": "code",
   "execution_count": 26,
   "metadata": {},
   "outputs": [
    {
     "name": "stdout",
     "output_type": "stream",
     "text": [
      "Ford\n"
     ]
    }
   ],
   "source": [
    "ford = Garage()\n",
    "ford.cars.append(\"Ford\")\n",
    "ford.cars.append(\"Ferrari\")\n",
    "print(ford[0])"
   ]
  },
  {
   "cell_type": "markdown",
   "metadata": {},
   "source": [
    "Now with those 2 dunder methods we can iterate our object"
   ]
  },
  {
   "cell_type": "code",
   "execution_count": 27,
   "metadata": {},
   "outputs": [
    {
     "name": "stdout",
     "output_type": "stream",
     "text": [
      "Ford\n",
      "Ferrari\n"
     ]
    }
   ],
   "source": [
    "for car in ford:\n",
    "    print(car)"
   ]
  },
  {
   "cell_type": "markdown",
   "metadata": {},
   "source": [
    "The __repr__ dunder method prints a string which represents the object"
   ]
  },
  {
   "cell_type": "code",
   "execution_count": 31,
   "metadata": {},
   "outputs": [],
   "source": [
    "class Garage:\n",
    "    def __init__(self) -> None:\n",
    "        self.cars = []\n",
    "        \n",
    "    def __len__(self):\n",
    "        return len(self.cars)\n",
    "\n",
    "    def __getitem__(self,i):\n",
    "        return self.cars[i]\n",
    "    \n",
    "    def __repr__(self) -> str:\n",
    "        return f\"<Garage {self.cars}>\"\n",
    "    \n",
    "    def __str__(self) -> str:\n",
    "        return f\"Garage with {len(self)} cars\"\n"
   ]
  },
  {
   "cell_type": "code",
   "execution_count": 32,
   "metadata": {},
   "outputs": [
    {
     "name": "stdout",
     "output_type": "stream",
     "text": [
      "Garage with 2 cars\n"
     ]
    }
   ],
   "source": [
    "ford = Garage()\n",
    "ford.cars.append(\"Ford\")\n",
    "ford.cars.append(\"Ferrari\")\n",
    "print(ford)"
   ]
  },
  {
   "cell_type": "markdown",
   "metadata": {},
   "source": [
    "Inheritance"
   ]
  },
  {
   "cell_type": "code",
   "execution_count": 2,
   "metadata": {},
   "outputs": [],
   "source": [
    "class Student:\n",
    "    def __init__(self, \n",
    "                 name: str, \n",
    "                 grades: list[float],\n",
    "                 school: str) -> None:\n",
    "        self.name = name\n",
    "        self.grades = grades\n",
    "        self.school = school \n",
    "        \n",
    "    \n",
    "    def compute_grades_average(self):\n",
    "        return sum(self.grades) / len(self.grades)\n",
    "    \n",
    "class WorkingStudent(Student):\n",
    "    def __init__(self, name, school, grades,salary):\n",
    "        super().__init__(name, grades, school)\n",
    "        self.salary = salary\n",
    "        \n",
    "    def compute_weekly_salary(self):\n",
    "        return self.salary*37.5\n",
    "          "
   ]
  },
  {
   "cell_type": "code",
   "execution_count": 3,
   "metadata": {},
   "outputs": [
    {
     "data": {
      "text/plain": [
       "562.5"
      ]
     },
     "execution_count": 3,
     "metadata": {},
     "output_type": "execute_result"
    }
   ],
   "source": [
    "juan = WorkingStudent(name=\"Juan\", school=\"Andes\", grades=[5,5,6], salary= 15)\n",
    "juan.compute_weekly_salary()"
   ]
  },
  {
   "cell_type": "markdown",
   "metadata": {},
   "source": [
    "### Decorators \n",
    "\n",
    "In case that a class method does not perfom any action apart from taking one atributte and transforming it, we can turn that method into a property of the class, which will result in a property of the object "
   ]
  },
  {
   "cell_type": "markdown",
   "metadata": {},
   "source": [
    "Here we made use of the @property decorator"
   ]
  },
  {
   "cell_type": "code",
   "execution_count": 4,
   "metadata": {},
   "outputs": [],
   "source": [
    "class WorkingStudent(Student):\n",
    "    def __init__(self, name, school, grades,salary):\n",
    "        super().__init__(name, grades, school)\n",
    "        self.salary = salary\n",
    "        \n",
    "    @property  \n",
    "    def compute_weekly_salary(self):\n",
    "        return self.salary*37.5"
   ]
  },
  {
   "cell_type": "markdown",
   "metadata": {},
   "source": [
    "Now we can call the compute_weekly_salary \"method\" without the ()"
   ]
  },
  {
   "cell_type": "code",
   "execution_count": 5,
   "metadata": {},
   "outputs": [
    {
     "data": {
      "text/plain": [
       "562.5"
      ]
     },
     "execution_count": 5,
     "metadata": {},
     "output_type": "execute_result"
    }
   ],
   "source": [
    "juan = WorkingStudent(name=\"Juan\", school=\"Andes\", grades=[5,5,6], salary= 15)\n",
    "juan.compute_weekly_salary"
   ]
  },
  {
   "cell_type": "markdown",
   "metadata": {},
   "source": [
    "@classmethod  refers to the class not the object, that is why, by convention, we pass the cls parameter to the hi method because we want to refer not to the current instance of the class, but to the class itself"
   ]
  },
  {
   "cell_type": "code",
   "execution_count": 12,
   "metadata": {},
   "outputs": [],
   "source": [
    "class Foo:\n",
    "    @classmethod\n",
    "    def hi(cls):\n",
    "        print(cls.__name__)\n",
    "    \n",
    "    @classmethod\n",
    "    def other_method(cls, version):\n",
    "        cls.version = version \n",
    "        return cls.version*100\n",
    "    \n",
    "    @classmethod\n",
    "    def this_method(cls, new_update):\n",
    "        if new_update:\n",
    "            cls.version = 0\n",
    "            cls.new_version = 100\n",
    "        \n",
    "        return cls.new_version\n",
    "            \n",
    "    \n",
    "    "
   ]
  },
  {
   "cell_type": "markdown",
   "metadata": {},
   "source": [
    "Here we want to return of what class is this object"
   ]
  },
  {
   "cell_type": "code",
   "execution_count": 13,
   "metadata": {},
   "outputs": [
    {
     "name": "stdout",
     "output_type": "stream",
     "text": [
      "Foo\n"
     ]
    }
   ],
   "source": [
    "foo_object = Foo()\n",
    "foo_object.hi()"
   ]
  },
  {
   "cell_type": "code",
   "execution_count": 14,
   "metadata": {},
   "outputs": [
    {
     "data": {
      "text/plain": [
       "500"
      ]
     },
     "execution_count": 14,
     "metadata": {},
     "output_type": "execute_result"
    }
   ],
   "source": [
    "foo_object.other_method(5)"
   ]
  },
  {
   "cell_type": "code",
   "execution_count": 15,
   "metadata": {},
   "outputs": [
    {
     "data": {
      "text/plain": [
       "100"
      ]
     },
     "execution_count": 15,
     "metadata": {},
     "output_type": "execute_result"
    }
   ],
   "source": [
    "foo_object.this_method(new_update=True)"
   ]
  },
  {
   "cell_type": "code",
   "execution_count": 8,
   "metadata": {},
   "outputs": [],
   "source": [
    "class Bar:\n",
    "    @staticmethod\n",
    "    def hi():\n",
    "        print(\"I dont take any parameters\")"
   ]
  },
  {
   "cell_type": "code",
   "execution_count": 11,
   "metadata": {},
   "outputs": [
    {
     "name": "stdout",
     "output_type": "stream",
     "text": [
      "I dont take any parameters\n"
     ]
    }
   ],
   "source": [
    "bar_object = Bar()\n",
    "bar_object.hi()"
   ]
  },
  {
   "cell_type": "code",
   "execution_count": 22,
   "metadata": {},
   "outputs": [],
   "source": [
    "class FixedFloat:\n",
    "    def __init__(self, amount: float) -> None:\n",
    "        self.amount = amount \n",
    "        \n",
    "    def __repr__(self) -> str:\n",
    "        return f\"<Fixed float object with amount {self.amount:.2f}>\"\n",
    "     \n",
    "    @staticmethod   \n",
    "    def from_sum(value_1: float, value_2: float) -> float:\n",
    "        return FixedFloat(value_1+ value_2)"
   ]
  },
  {
   "cell_type": "code",
   "execution_count": 23,
   "metadata": {},
   "outputs": [
    {
     "name": "stdout",
     "output_type": "stream",
     "text": [
      "Fixed float object with amount 35.60\n"
     ]
    }
   ],
   "source": [
    "new_number = FixedFloat.from_sum(value_1=15.5, value_2= 20.1)\n",
    "print(new_number)"
   ]
  },
  {
   "cell_type": "code",
   "execution_count": 32,
   "metadata": {},
   "outputs": [],
   "source": [
    "class Euro(FixedFloat):\n",
    "    def __init__(self, amount: float) -> None:\n",
    "        super().__init__(amount=amount)\n",
    "        self.symbol = \"$\"\n",
    "    \n",
    "    def __repr__(self) -> str:\n",
    "        return f\"<Euro {self.symbol}{self.amount}>\""
   ]
  },
  {
   "cell_type": "code",
   "execution_count": 28,
   "metadata": {},
   "outputs": [
    {
     "name": "stdout",
     "output_type": "stream",
     "text": [
      "<Euro $34.5>\n"
     ]
    }
   ],
   "source": [
    "money = Euro(amount = 34.5)\n",
    "print(money)"
   ]
  },
  {
   "cell_type": "markdown",
   "metadata": {},
   "source": [
    "So when we perform the from_sum method it will say that it is of type FixedFloat but we dont want that , we want that it outputs that the money object is of type Euro. For this to happen we need to change the implementation of the from_sum method on the fixed float class "
   ]
  },
  {
   "cell_type": "code",
   "execution_count": 29,
   "metadata": {},
   "outputs": [
    {
     "name": "stdout",
     "output_type": "stream",
     "text": [
      "Fixed float object with amount 33.10\n"
     ]
    }
   ],
   "source": [
    "money = Euro.from_sum(value_1=15.9, value_2=17.2)\n",
    "print(money)"
   ]
  },
  {
   "cell_type": "code",
   "execution_count": 33,
   "metadata": {},
   "outputs": [],
   "source": [
    "class FixedFloat:\n",
    "    def __init__(self, amount: float) -> None:\n",
    "        self.amount = amount \n",
    "        \n",
    "    def __repr__(self) -> str:\n",
    "        return f\"<Fixed float object with amount {self.amount:.2f}>\"\n",
    "     \n",
    "    @classmethod  \n",
    "    def from_sum(cls, value_1: float, value_2: float) -> float:\n",
    "        return cls(value_1+ value_2)"
   ]
  },
  {
   "cell_type": "code",
   "execution_count": 34,
   "metadata": {},
   "outputs": [],
   "source": [
    "class Euro(FixedFloat):\n",
    "    def __init__(self, amount: float) -> None:\n",
    "        super().__init__(amount=amount)\n",
    "        self.symbol = \"$\"\n",
    "    \n",
    "    def __repr__(self) -> str:\n",
    "        return f\"<Euro {self.symbol}{self.amount}>\""
   ]
  },
  {
   "cell_type": "code",
   "execution_count": 35,
   "metadata": {},
   "outputs": [
    {
     "name": "stdout",
     "output_type": "stream",
     "text": [
      "<Euro $33.1>\n"
     ]
    }
   ],
   "source": [
    "money = Euro.from_sum(value_1=15.9, value_2=17.2)\n",
    "print(money)"
   ]
  },
  {
   "cell_type": "markdown",
   "metadata": {},
   "source": [
    "## Other tutorials"
   ]
  },
  {
   "cell_type": "markdown",
   "metadata": {},
   "source": [
    "* Libraries "
   ]
  },
  {
   "cell_type": "code",
   "execution_count": 20,
   "metadata": {},
   "outputs": [],
   "source": [
    "import random\n",
    "import string\n",
    "from dataclasses import dataclass, field"
   ]
  },
  {
   "cell_type": "code",
   "execution_count": 14,
   "metadata": {},
   "outputs": [],
   "source": [
    "class Rectangle:\n",
    "    def __init__(self, length, height):\n",
    "        self._length = length\n",
    "        self._height = height\n",
    "\n",
    "    @property\n",
    "    def area(self):\n",
    "        return self._length * self._height\n",
    "    \n",
    "    def name(self)->str:\n",
    "        return \"my rectangle\"\n",
    "    \n",
    "    def resize(self, new_length, new_height):\n",
    "        self._length = new_length\n",
    "        self._height = new_height\n"
   ]
  },
  {
   "cell_type": "code",
   "execution_count": 6,
   "metadata": {},
   "outputs": [],
   "source": [
    "class Square(Rectangle):\n",
    "    def __init__(self, side_size):\n",
    "        super().__init__(side_size, side_size)"
   ]
  },
  {
   "cell_type": "code",
   "execution_count": 15,
   "metadata": {},
   "outputs": [
    {
     "name": "stdout",
     "output_type": "stream",
     "text": [
      "OK!\n"
     ]
    }
   ],
   "source": [
    "rectangle = Rectangle(2, 4)\n",
    "assert rectangle.area == 8\n",
    "\n",
    "square = Square(2)\n",
    "assert square.area == 4\n",
    "\n",
    "print('OK!')"
   ]
  },
  {
   "cell_type": "markdown",
   "metadata": {},
   "source": [
    "* Class properties do not need to be called with a () at the end "
   ]
  },
  {
   "cell_type": "code",
   "execution_count": 16,
   "metadata": {},
   "outputs": [
    {
     "data": {
      "text/plain": [
       "8"
      ]
     },
     "execution_count": 16,
     "metadata": {},
     "output_type": "execute_result"
    }
   ],
   "source": [
    "rectangle.area"
   ]
  },
  {
   "cell_type": "markdown",
   "metadata": {},
   "source": [
    "* Class methods are called using a () at the end "
   ]
  },
  {
   "cell_type": "code",
   "execution_count": 11,
   "metadata": {},
   "outputs": [
    {
     "data": {
      "text/plain": [
       "'my rectangle'"
      ]
     },
     "execution_count": 11,
     "metadata": {},
     "output_type": "execute_result"
    }
   ],
   "source": [
    "rectangle.name()"
   ]
  },
  {
   "cell_type": "code",
   "execution_count": 1,
   "metadata": {},
   "outputs": [],
   "source": [
    "class MLAlgorithm():\n",
    "    \n",
    "    algorithm_type = 'tree'\n",
    "    method = True\n",
    "    \n",
    "    def get_algorithm_information(self):\n",
    "        print( \"The algorithm type is {} and the method is {}\".format(self.algorithm_type,self.method))"
   ]
  },
  {
   "cell_type": "code",
   "execution_count": 3,
   "metadata": {},
   "outputs": [
    {
     "data": {
      "text/plain": [
       "True"
      ]
     },
     "execution_count": 3,
     "metadata": {},
     "output_type": "execute_result"
    }
   ],
   "source": [
    "random_forest = MLAlgorithm() # random forest is an instance of the MLAlgorithm class and also and object of type MLAlgorithm \n",
    "random_forest.algorithm_type\n",
    "random_forest.method"
   ]
  },
  {
   "cell_type": "markdown",
   "metadata": {},
   "source": [
    "* Algorithm_type and method are class atributes. They are common to all instances of the MLAlgorithm class "
   ]
  },
  {
   "cell_type": "code",
   "execution_count": 4,
   "metadata": {},
   "outputs": [
    {
     "name": "stdout",
     "output_type": "stream",
     "text": [
      "The algorithm type is tree and the method is True\n"
     ]
    }
   ],
   "source": [
    "random_forest.get_algorithm_information()"
   ]
  },
  {
   "cell_type": "code",
   "execution_count": 17,
   "metadata": {},
   "outputs": [],
   "source": [
    "def generate_id() -> str:\n",
    "    return \"\".join(random.choices(string.ascii_uppercase, k=12))\n",
    "\n",
    "\n",
    "@dataclass\n",
    "class Person:\n",
    "    name: str\n",
    "    address: str \n",
    "\n",
    "\n",
    "def main() -> None:\n",
    "    person = Person(name=\"John\", address=\"123 Main St\")\n",
    "    print(person)"
   ]
  },
  {
   "cell_type": "code",
   "execution_count": 18,
   "metadata": {},
   "outputs": [
    {
     "name": "stdout",
     "output_type": "stream",
     "text": [
      "Person(name='John', address='123 Main St')\n"
     ]
    }
   ],
   "source": [
    "main()"
   ]
  },
  {
   "cell_type": "markdown",
   "metadata": {},
   "source": [
    "* When we want to set a default value for any class atributes we can use the _field_ and pass it a default_factory parameter that indicates the type of 'initializer' for that attribute  "
   ]
  },
  {
   "cell_type": "code",
   "execution_count": 26,
   "metadata": {},
   "outputs": [],
   "source": [
    "@dataclass\n",
    "class Person:\n",
    "    name: str\n",
    "    address: str \n",
    "    active: bool = True\n",
    "    email_addresses: list[str] = field(default_factory=list)\n",
    "    id: str = field(default_factory=generate_id)"
   ]
  },
  {
   "cell_type": "code",
   "execution_count": 27,
   "metadata": {},
   "outputs": [
    {
     "name": "stdout",
     "output_type": "stream",
     "text": [
      "Person(name='John', address='123 Main St', active=False, email_addresses=['juan.gmail'], id='yo')\n"
     ]
    }
   ],
   "source": [
    "def main() -> None:\n",
    "    person = Person(name=\"John\", address=\"123 Main St\", active=False,\n",
    "                    email_addresses=[\"juan.gmail\"],\n",
    "                    id=\"yo\")\n",
    "    print(person)\n",
    "main()"
   ]
  },
  {
   "cell_type": "markdown",
   "metadata": {},
   "source": [
    "* In the id attribute we indicate init=false in order to avoid that people can change this "
   ]
  },
  {
   "cell_type": "code",
   "execution_count": null,
   "metadata": {},
   "outputs": [],
   "source": [
    "@dataclass\n",
    "class Person:\n",
    "    name: str\n",
    "    address: str \n",
    "    active: bool = True\n",
    "    email_addresses: list[str] = field(default_factory=list)\n",
    "    id: str = field(init = False, default_factory=generate_id)"
   ]
  },
  {
   "cell_type": "markdown",
   "metadata": {},
   "source": [
    "* What is public, private and protected \n",
    "\n",
    "When the attributes or memebers are declared without a _ we said that they are public\n",
    "\n",
    "When is one _ the atributte is protected\n",
    "\n",
    "When are two __ the atribute is private "
   ]
  },
  {
   "cell_type": "code",
   "execution_count": 30,
   "metadata": {},
   "outputs": [],
   "source": [
    "@dataclass\n",
    "class Person:\n",
    "    name: str\n",
    "    address: str \n",
    "    active: bool = True\n",
    "    email_addresses: list[str] = field(default_factory=list)\n",
    "    id: str = field(init = False, default_factory=generate_id)\n",
    "    _search_string : str = field(init=False) # protected attribute or member \n",
    "    \n",
    "    def __post_init__(self) -> None:\n",
    "        self._search_string = f\"{self.name} {self.address}\""
   ]
  },
  {
   "cell_type": "code",
   "execution_count": 33,
   "metadata": {},
   "outputs": [
    {
     "name": "stdout",
     "output_type": "stream",
     "text": [
      "Person(name='John', address='123 Main St', active=False, email_addresses=['juan.gmail'], id='VZKQGQDJHOWN', _search_string='John 123 Main St')\n"
     ]
    }
   ],
   "source": [
    "def main() -> None:\n",
    "    person = Person(name=\"John\", address=\"123 Main St\", active=False,\n",
    "                    email_addresses=[\"juan.gmail\"])\n",
    "    print(person)\n",
    "main()"
   ]
  },
  {
   "cell_type": "markdown",
   "metadata": {},
   "source": [
    "* If we do not want to print the _search_string attribute we can do the following: \n",
    "Inside the field function we say repr = False "
   ]
  },
  {
   "cell_type": "code",
   "execution_count": 34,
   "metadata": {},
   "outputs": [],
   "source": [
    "@dataclass\n",
    "class Person:\n",
    "    name: str\n",
    "    address: str \n",
    "    active: bool = True\n",
    "    email_addresses: list[str] = field(default_factory=list)\n",
    "    id: str = field(init = False, default_factory=generate_id)\n",
    "    _search_string : str = field(init=False , repr= False)\n",
    "    \n",
    "    def __post_init__(self) -> None:\n",
    "        self._search_string = f\"{self.name} {self.address}\""
   ]
  },
  {
   "cell_type": "code",
   "execution_count": 35,
   "metadata": {},
   "outputs": [
    {
     "name": "stdout",
     "output_type": "stream",
     "text": [
      "Person(name='John', address='123 Main St', active=False, email_addresses=['juan.gmail'], id='TJXROIGOSDOB')\n"
     ]
    }
   ],
   "source": [
    "def main() -> None:\n",
    "    person = Person(name=\"John\", address=\"123 Main St\", active=False,\n",
    "                    email_addresses=[\"juan.gmail\"])\n",
    "    print(person)\n",
    "main()"
   ]
  },
  {
   "cell_type": "markdown",
   "metadata": {},
   "source": [
    "* In case we want our instances to be unmutable we pass an argument to the dataclass decorator which is _frozen = True_"
   ]
  },
  {
   "cell_type": "code",
   "execution_count": 36,
   "metadata": {},
   "outputs": [],
   "source": [
    "@dataclass(frozen=True)\n",
    "class Person:\n",
    "    name: str\n",
    "    address: str \n",
    "    active: bool = True\n",
    "    email_addresses: list[str] = field(default_factory=list)\n",
    "    id: str = field(init = False, default_factory=generate_id)\n",
    "    _search_string : str = field(init=False , repr= False)\n",
    "    \n",
    "    def __post_init__(self) -> None:\n",
    "        self._search_string = f\"{self.name} {self.address}\""
   ]
  },
  {
   "cell_type": "code",
   "execution_count": 37,
   "metadata": {},
   "outputs": [
    {
     "ename": "FrozenInstanceError",
     "evalue": "cannot assign to field '_search_string'",
     "output_type": "error",
     "traceback": [
      "\u001b[1;31m---------------------------------------------------------------------------\u001b[0m",
      "\u001b[1;31mFrozenInstanceError\u001b[0m                       Traceback (most recent call last)",
      "\u001b[1;32mc:\\Users\\david\\Documents\\Juan David\\Inteligencia Artificial\\Python\\OOP\\OOP.ipynb Cell 30\u001b[0m in \u001b[0;36m<cell line: 5>\u001b[1;34m()\u001b[0m\n\u001b[0;32m      <a href='vscode-notebook-cell:/c%3A/Users/david/Documents/Juan%20David/Inteligencia%20Artificial/Python/OOP/OOP.ipynb#X41sZmlsZQ%3D%3D?line=1'>2</a>\u001b[0m     person \u001b[39m=\u001b[39m Person(name\u001b[39m=\u001b[39m\u001b[39m\"\u001b[39m\u001b[39mJohn\u001b[39m\u001b[39m\"\u001b[39m, address\u001b[39m=\u001b[39m\u001b[39m\"\u001b[39m\u001b[39m123 Main St\u001b[39m\u001b[39m\"\u001b[39m, active\u001b[39m=\u001b[39m\u001b[39mFalse\u001b[39;00m,\n\u001b[0;32m      <a href='vscode-notebook-cell:/c%3A/Users/david/Documents/Juan%20David/Inteligencia%20Artificial/Python/OOP/OOP.ipynb#X41sZmlsZQ%3D%3D?line=2'>3</a>\u001b[0m                     email_addresses\u001b[39m=\u001b[39m[\u001b[39m\"\u001b[39m\u001b[39mjuan.gmail\u001b[39m\u001b[39m\"\u001b[39m])\n\u001b[0;32m      <a href='vscode-notebook-cell:/c%3A/Users/david/Documents/Juan%20David/Inteligencia%20Artificial/Python/OOP/OOP.ipynb#X41sZmlsZQ%3D%3D?line=3'>4</a>\u001b[0m     \u001b[39mprint\u001b[39m(person)\n\u001b[1;32m----> <a href='vscode-notebook-cell:/c%3A/Users/david/Documents/Juan%20David/Inteligencia%20Artificial/Python/OOP/OOP.ipynb#X41sZmlsZQ%3D%3D?line=4'>5</a>\u001b[0m main()\n",
      "\u001b[1;32mc:\\Users\\david\\Documents\\Juan David\\Inteligencia Artificial\\Python\\OOP\\OOP.ipynb Cell 30\u001b[0m in \u001b[0;36mmain\u001b[1;34m()\u001b[0m\n\u001b[0;32m      <a href='vscode-notebook-cell:/c%3A/Users/david/Documents/Juan%20David/Inteligencia%20Artificial/Python/OOP/OOP.ipynb#X41sZmlsZQ%3D%3D?line=0'>1</a>\u001b[0m \u001b[39mdef\u001b[39;00m \u001b[39mmain\u001b[39m() \u001b[39m-\u001b[39m\u001b[39m>\u001b[39m \u001b[39mNone\u001b[39;00m:\n\u001b[1;32m----> <a href='vscode-notebook-cell:/c%3A/Users/david/Documents/Juan%20David/Inteligencia%20Artificial/Python/OOP/OOP.ipynb#X41sZmlsZQ%3D%3D?line=1'>2</a>\u001b[0m     person \u001b[39m=\u001b[39m Person(name\u001b[39m=\u001b[39;49m\u001b[39m\"\u001b[39;49m\u001b[39mJohn\u001b[39;49m\u001b[39m\"\u001b[39;49m, address\u001b[39m=\u001b[39;49m\u001b[39m\"\u001b[39;49m\u001b[39m123 Main St\u001b[39;49m\u001b[39m\"\u001b[39;49m, active\u001b[39m=\u001b[39;49m\u001b[39mFalse\u001b[39;49;00m,\n\u001b[0;32m      <a href='vscode-notebook-cell:/c%3A/Users/david/Documents/Juan%20David/Inteligencia%20Artificial/Python/OOP/OOP.ipynb#X41sZmlsZQ%3D%3D?line=2'>3</a>\u001b[0m                     email_addresses\u001b[39m=\u001b[39;49m[\u001b[39m\"\u001b[39;49m\u001b[39mjuan.gmail\u001b[39;49m\u001b[39m\"\u001b[39;49m])\n\u001b[0;32m      <a href='vscode-notebook-cell:/c%3A/Users/david/Documents/Juan%20David/Inteligencia%20Artificial/Python/OOP/OOP.ipynb#X41sZmlsZQ%3D%3D?line=3'>4</a>\u001b[0m     \u001b[39mprint\u001b[39m(person)\n",
      "File \u001b[1;32m<string>:8\u001b[0m, in \u001b[0;36m__init__\u001b[1;34m(self, name, address, active, email_addresses)\u001b[0m\n",
      "\u001b[1;32mc:\\Users\\david\\Documents\\Juan David\\Inteligencia Artificial\\Python\\OOP\\OOP.ipynb Cell 30\u001b[0m in \u001b[0;36mPerson.__post_init__\u001b[1;34m(self)\u001b[0m\n\u001b[0;32m     <a href='vscode-notebook-cell:/c%3A/Users/david/Documents/Juan%20David/Inteligencia%20Artificial/Python/OOP/OOP.ipynb#X41sZmlsZQ%3D%3D?line=9'>10</a>\u001b[0m \u001b[39mdef\u001b[39;00m \u001b[39m__post_init__\u001b[39m(\u001b[39mself\u001b[39m) \u001b[39m-\u001b[39m\u001b[39m>\u001b[39m \u001b[39mNone\u001b[39;00m:\n\u001b[1;32m---> <a href='vscode-notebook-cell:/c%3A/Users/david/Documents/Juan%20David/Inteligencia%20Artificial/Python/OOP/OOP.ipynb#X41sZmlsZQ%3D%3D?line=10'>11</a>\u001b[0m     \u001b[39mself\u001b[39;49m\u001b[39m.\u001b[39;49m_search_string \u001b[39m=\u001b[39m \u001b[39mf\u001b[39m\u001b[39m\"\u001b[39m\u001b[39m{\u001b[39;00m\u001b[39mself\u001b[39m\u001b[39m.\u001b[39mname\u001b[39m}\u001b[39;00m\u001b[39m \u001b[39m\u001b[39m{\u001b[39;00m\u001b[39mself\u001b[39m\u001b[39m.\u001b[39maddress\u001b[39m}\u001b[39;00m\u001b[39m\"\u001b[39m\n",
      "File \u001b[1;32m<string>:4\u001b[0m, in \u001b[0;36m__setattr__\u001b[1;34m(self, name, value)\u001b[0m\n",
      "\u001b[1;31mFrozenInstanceError\u001b[0m: cannot assign to field '_search_string'"
     ]
    }
   ],
   "source": [
    "def main() -> None:\n",
    "    person = Person(name=\"John\", address=\"123 Main St\", active=False,\n",
    "                    email_addresses=[\"juan.gmail\"])\n",
    "    print(person)\n",
    "main()"
   ]
  }
 ],
 "metadata": {
  "kernelspec": {
   "display_name": "Python 3.9.12 ('api')",
   "language": "python",
   "name": "python3"
  },
  "language_info": {
   "codemirror_mode": {
    "name": "ipython",
    "version": 3
   },
   "file_extension": ".py",
   "mimetype": "text/x-python",
   "name": "python",
   "nbconvert_exporter": "python",
   "pygments_lexer": "ipython3",
   "version": "3.9.12"
  },
  "orig_nbformat": 4,
  "vscode": {
   "interpreter": {
    "hash": "bd1743daccd822e67f87c326a93feffb4cdea09f05e5aa13eecd66286e1bba98"
   }
  }
 },
 "nbformat": 4,
 "nbformat_minor": 2
}
