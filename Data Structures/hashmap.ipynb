{
 "cells": [
  {
   "cell_type": "markdown",
   "source": [
    "NOTEBOOK CON PROBLEMAS DE HASHMAPS "
   ],
   "metadata": {}
  },
  {
   "cell_type": "code",
   "execution_count": 2,
   "source": [
    "# Two sum \r\n",
    "# Dado un array y un entero retorne el índice de los números que sumen dicho número \r\n",
    "\r\n",
    "def twoSum(nums, target):\r\n",
    "    dic = {} # crea un diccionario \r\n",
    "    for i, n in enumerate(nums): \r\n",
    "        if n in dic: # si n está como llave en ese diccionario \r\n",
    "            return [dic[n], i] # devuelva el valor correspondiente a esa llave y la posición i \r\n",
    "        dic[target-n] = i # de lo contrario adicione una llave que sea igual a  target-n y su value es i \r\n",
    "\r\n",
    "\r\n",
    "twoSum(nums = [2,7,11,15], target = 9)"
   ],
   "outputs": [
    {
     "output_type": "execute_result",
     "data": {
      "text/plain": [
       "[0, 1]"
      ]
     },
     "metadata": {},
     "execution_count": 2
    }
   ],
   "metadata": {}
  },
  {
   "cell_type": "code",
   "execution_count": 3,
   "source": [
    "twoSum(nums = [3,2,4], target = 6)"
   ],
   "outputs": [
    {
     "output_type": "execute_result",
     "data": {
      "text/plain": [
       "[1, 2]"
      ]
     },
     "metadata": {},
     "execution_count": 3
    }
   ],
   "metadata": {}
  },
  {
   "cell_type": "code",
   "execution_count": 4,
   "source": [
    "nums = [3,2,4]\r\n",
    "for i , n in enumerate(nums):\r\n",
    "    print(i,n)"
   ],
   "outputs": [
    {
     "output_type": "stream",
     "name": "stdout",
     "text": [
      "0 3\n",
      "1 2\n",
      "2 4\n"
     ]
    }
   ],
   "metadata": {}
  }
 ],
 "metadata": {
  "orig_nbformat": 4,
  "language_info": {
   "name": "python",
   "version": "3.8.10",
   "mimetype": "text/x-python",
   "codemirror_mode": {
    "name": "ipython",
    "version": 3
   },
   "pygments_lexer": "ipython3",
   "nbconvert_exporter": "python",
   "file_extension": ".py"
  },
  "kernelspec": {
   "name": "python3",
   "display_name": "Python 3.8.10 64-bit (windows store)"
  },
  "interpreter": {
   "hash": "e7af1529e4d76ec781ed9838a77aa0fe5e785493bea653a6db3a304e31c3c8e6"
  }
 },
 "nbformat": 4,
 "nbformat_minor": 2
}