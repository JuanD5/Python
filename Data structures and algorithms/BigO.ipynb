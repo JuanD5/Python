{
 "cells": [
  {
   "cell_type": "code",
   "execution_count": 1,
   "metadata": {},
   "outputs": [],
   "source": [
    "def func2(n):\n",
    "  a = 0\n",
    "  for i in range(n):\n",
    "    for j in range(n, i, -1):\n",
    "      a = a + i + j\n",
    "  return a"
   ]
  },
  {
   "cell_type": "code",
   "execution_count": 7,
   "metadata": {},
   "outputs": [
    {
     "name": "stdout",
     "output_type": "stream",
     "text": [
      "2\n",
      "1\n",
      "0\n"
     ]
    }
   ],
   "source": [
    "def func3(n):\n",
    "  a = 0\n",
    "  i = n\n",
    "  while i > 0:\n",
    "    a += i\n",
    "    i //=2\n",
    "    print(i)\n",
    "  return a\n",
    "\n",
    "a = func3(5)"
   ]
  },
  {
   "cell_type": "code",
   "execution_count": 10,
   "metadata": {},
   "outputs": [
    {
     "name": "stdout",
     "output_type": "stream",
     "text": [
      "<generator object <genexpr> at 0x00000259E2B68190>\n"
     ]
    }
   ],
   "source": [
    "def func4(n):\n",
    "  a = 0\n",
    "  j = 2\n",
    "  for i in range(n // 2, n, 1):\n",
    "    while j <= n:\n",
    "      a = a + n // 2\n",
    "      j *= 2\n",
    "  return a\n",
    "\n",
    "a = func4(10)"
   ]
  },
  {
   "cell_type": "code",
   "execution_count": 15,
   "metadata": {},
   "outputs": [],
   "source": [
    "def func4(n):\n",
    "  a = 0\n",
    "  j = 2\n",
    "  for i in range(n // 2, n, 1):\n",
    "    while j <= n:\n",
    "      a = a + n // 2\n",
    "      j *= 2\n",
    "  return a\n",
    "\n",
    "a = func4(10)"
   ]
  },
  {
   "cell_type": "code",
   "execution_count": 14,
   "metadata": {},
   "outputs": [
    {
     "name": "stdout",
     "output_type": "stream",
     "text": [
      "5\n",
      "7\n",
      "9\n"
     ]
    }
   ],
   "source": [
    "for i in range(10//2,10,2):\n",
    "    print(i)"
   ]
  },
  {
   "cell_type": "code",
   "execution_count": 18,
   "metadata": {},
   "outputs": [],
   "source": [
    "from typing import List \n",
    " \n",
    "Vector = List[int]\n",
    "def func5(arr: Vector): \n",
    "    for i in range(1, len(arr)): \n",
    "      key = arr[i] \n",
    "      j = i-1\n",
    "      while j >=0 and key < arr[j] : \n",
    "        arr[j+1] = arr[j] \n",
    "        j -= 1\n",
    "      arr[j+1] = key \n",
    "    return arr\n",
    "\n",
    "arr = func5([1,2,3,4,5])"
   ]
  },
  {
   "cell_type": "code",
   "execution_count": 17,
   "metadata": {},
   "outputs": [
    {
     "name": "stdout",
     "output_type": "stream",
     "text": [
      "[1, 2, 3, 4, 5]\n"
     ]
    }
   ],
   "source": [
    "arr = func5([1,2,3,4,5])\n",
    "print(arr)"
   ]
  }
 ],
 "metadata": {
  "kernelspec": {
   "display_name": "Python 3.9.12 ('venv': venv)",
   "language": "python",
   "name": "python3"
  },
  "language_info": {
   "codemirror_mode": {
    "name": "ipython",
    "version": 3
   },
   "file_extension": ".py",
   "mimetype": "text/x-python",
   "name": "python",
   "nbconvert_exporter": "python",
   "pygments_lexer": "ipython3",
   "version": "3.9.12"
  },
  "orig_nbformat": 4,
  "vscode": {
   "interpreter": {
    "hash": "20f144789bf24080991812d21b55a56432d841c27d104b385ae1eb36e8d0eb63"
   }
  }
 },
 "nbformat": 4,
 "nbformat_minor": 2
}
