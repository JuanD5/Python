{
 "cells": [
  {
   "cell_type": "markdown",
   "metadata": {},
   "source": [
    "# **Programación orientada por objetos (OOP)**"
   ]
  },
  {
   "cell_type": "markdown",
   "metadata": {},
   "source": [
    "* Las clases tienen atributos y métodos \n",
    "* Los _atributos_ son las variables que pertenecen a las clases \n",
    "* Los _atributos_ son siempre públicos y se pueden acceder con un punto como Perro.raza\n",
    "* Los _objetos_ son entidades que tienen asociados un estado y un comportamiento \n",
    "* Los _estados_ de un objeto son representados por sus atributos los cuales reflejan las propiedades de un objeto\n",
    "* El _comportamiento_ de un objeto es representado por sus métodos, lo cual refleja la respuesta del objeto a otros objetos \n",
    "* La _identidad_ da un nombre único al objeto y le permite interactuar con otros objetos "
   ]
  },
  {
   "cell_type": "code",
   "execution_count": 1,
   "metadata": {},
   "outputs": [],
   "source": [
    "class Dog:\n",
    "    pass"
   ]
  },
  {
   "cell_type": "markdown",
   "metadata": {},
   "source": [
    "* La identidad puede ser representada por el nombre del perro \n",
    "* El estado o atributos pueden ser la raza, edad o color del perro \n",
    "* El comportamiento puede ser si el perro está comiendo o durmiendo "
   ]
  },
  {
   "cell_type": "code",
   "execution_count": 2,
   "metadata": {},
   "outputs": [],
   "source": [
    "obj = Dog()# así creamos un objeto"
   ]
  },
  {
   "cell_type": "markdown",
   "metadata": {},
   "source": [
    "* El método _init_ es el constructor de la clase, este se corre apenas creamos el objeto. Se usa para crear inicializaciones del objeto "
   ]
  },
  {
   "cell_type": "code",
   "execution_count": 18,
   "metadata": {},
   "outputs": [
    {
     "name": "stdout",
     "output_type": "stream",
     "text": [
      "Rodger is a mammal\n",
      "Tommy is also a mammal\n",
      " name is Rodger\n",
      " name is Tommy\n",
      "My name is Rodger\n",
      "My name is Tommy\n"
     ]
    }
   ],
   "source": [
    "class Dog:\n",
    "  \n",
    "    # class attribute\n",
    "    attr1 = \"mammal\"\n",
    "  \n",
    "    # Instance attribute\n",
    "    def __init__(self, name):\n",
    "        self.name = name\n",
    "          \n",
    "    def speak(self):\n",
    "        print(\"My name is {}\".format(self.name))\n",
    "  \n",
    "# Driver code\n",
    "# Object instantiation\n",
    "Rodger = Dog(\"Rodger\")\n",
    "Tommy = Dog(\"Tommy\")\n",
    "\n",
    "# Accessing class attributes\n",
    "print(\"Rodger is a {}\".format(Rodger.__class__.attr1))\n",
    "print(\"Tommy is also a {}\".format(Tommy.__class__.attr1))\n",
    "  \n",
    "# Accessing instance attributes\n",
    "print(\" name is {}\".format(Rodger.name))\n",
    "print(\" name is {}\".format(Tommy.name))\n",
    "\n",
    "# Accessing class methods\n",
    "Rodger.speak()\n",
    "Tommy.speak()\n",
    "\n"
   ]
  },
  {
   "cell_type": "markdown",
   "metadata": {},
   "source": [
    "## **Herencia de clases (inheritance)**\n",
    "* Esto es la capacidad de una clase de derivar las propiedades de otra clase \n"
   ]
  },
  {
   "cell_type": "code",
   "execution_count": 19,
   "metadata": {},
   "outputs": [
    {
     "name": "stdout",
     "output_type": "stream",
     "text": [
      "Rahul\n",
      "886012\n",
      "My name is Rahul\n",
      "IdNumber: 886012\n",
      "Post: Intern\n"
     ]
    }
   ],
   "source": [
    "\n",
    "# Python code to demonstrate how parent constructors\n",
    "# are called.\n",
    "  \n",
    "# parent class\n",
    "class Person(object):\n",
    "  \n",
    "    # __init__ is known as the constructor\n",
    "    def __init__(self, name, idnumber):\n",
    "        self.name = name\n",
    "        self.idnumber = idnumber\n",
    "  \n",
    "    def display(self):\n",
    "        print(self.name)\n",
    "        print(self.idnumber)\n",
    "          \n",
    "    def details(self):\n",
    "        print(\"My name is {}\".format(self.name))\n",
    "        print(\"IdNumber: {}\".format(self.idnumber))\n",
    "      \n",
    "# child class\n",
    "class Employee(Person):\n",
    "    def __init__(self, name, idnumber, salary, post):\n",
    "        self.salary = salary\n",
    "        self.post = post\n",
    "  \n",
    "        # invocamos el constructor de la clase Person\n",
    "        Person.__init__(self, name, idnumber)\n",
    "          \n",
    "    def details(self):\n",
    "        print(\"My name is {}\".format(self.name))\n",
    "        print(\"IdNumber: {}\".format(self.idnumber))\n",
    "        print(\"Post: {}\".format(self.post))\n",
    "  \n",
    "  \n",
    "# creation of an object variable or an instance\n",
    "a = Employee('Rahul', 886012, 200000, \"Intern\")\n",
    "  \n",
    "# calling a function of the class Person using\n",
    "# its instance\n",
    "a.display() # Este método no es de la clase Employee pero si de la clase Person, pero como hay una herencia entonces lo podemos usar \n",
    "a.details()"
   ]
  },
  {
   "cell_type": "code",
   "execution_count": 20,
   "metadata": {},
   "outputs": [],
   "source": [
    "b = Person('Juan',97125)"
   ]
  },
  {
   "cell_type": "code",
   "execution_count": 22,
   "metadata": {},
   "outputs": [
    {
     "name": "stdout",
     "output_type": "stream",
     "text": [
      "My name is Juan\n",
      "IdNumber: 97125\n"
     ]
    }
   ],
   "source": [
    "b.details()"
   ]
  },
  {
   "cell_type": "code",
   "execution_count": 23,
   "metadata": {},
   "outputs": [
    {
     "name": "stdout",
     "output_type": "stream",
     "text": [
      "Juan\n",
      "97125\n"
     ]
    }
   ],
   "source": [
    "b.display()"
   ]
  },
  {
   "cell_type": "markdown",
   "metadata": {},
   "source": [
    "## **Polimorfismo**\n",
    "* Tener varias formas \n",
    "* Por ejemplo necesitamos determinar si una especie dada de ave puede volar o no, esto lo podemos hacer con el polimorfismo"
   ]
  },
  {
   "cell_type": "code",
   "execution_count": 24,
   "metadata": {},
   "outputs": [
    {
     "name": "stdout",
     "output_type": "stream",
     "text": [
      "There are many types of birds.\n",
      "Most of the birds can fly but some cannot.\n",
      "There are many types of birds.\n",
      "Sparrows can fly.\n",
      "There are many types of birds.\n",
      "Ostriches cannot fly.\n"
     ]
    }
   ],
   "source": [
    "\n",
    "class Bird:\n",
    "    \n",
    "    def intro(self):\n",
    "        print(\"There are many types of birds.\")\n",
    "  \n",
    "    def flight(self):\n",
    "        print(\"Most of the birds can fly but some cannot.\")\n",
    "  \n",
    "class sparrow(Bird): # herencia de la clase Bird\n",
    "    \n",
    "    def flight(self):\n",
    "        print(\"Sparrows can fly.\")\n",
    "  \n",
    "class ostrich(Bird): # herencia de la clase Bird\n",
    "  \n",
    "    def flight(self):\n",
    "        print(\"Ostriches cannot fly.\")\n",
    "  \n",
    "obj_bird = Bird()\n",
    "obj_spr = sparrow()\n",
    "obj_ost = ostrich()\n",
    "  \n",
    "obj_bird.intro()\n",
    "obj_bird.flight()\n",
    "  \n",
    "obj_spr.intro()\n",
    "obj_spr.flight()\n",
    "  \n",
    "obj_ost.intro()\n",
    "obj_ost.flight()"
   ]
  },
  {
   "cell_type": "markdown",
   "metadata": {},
   "source": [
    "## **Encapsulación**\n",
    "* La encapsulación es uno de los conceptos fundamentales de la programación orientada a objetos (POO). \n",
    "* Describe la idea de envolver los datos y los métodos que trabajan con ellos dentro de una unidad. \n",
    "* Esto pone restricciones en el acceso a las variables y métodos directamente y puede prevenir la modificación accidental de los datos. \n",
    "* Para evitar un cambio accidental, una variable de un objeto sólo puede ser modificada por un método de un objeto. \n",
    "* Estos tipos de variables se conocen como variables privadas"
   ]
  },
  {
   "cell_type": "code",
   "execution_count": 29,
   "metadata": {},
   "outputs": [
    {
     "name": "stdout",
     "output_type": "stream",
     "text": [
      "GeeksforGeeks\n"
     ]
    }
   ],
   "source": [
    "\n",
    "# Python program to\n",
    "# demonstrate private members\n",
    "  \n",
    "# Creating a Base class\n",
    "class Base:\n",
    "    def __init__(self):\n",
    "        self.a = \"GeeksforGeeks\"\n",
    "        self.__c = \"GeeksforGeeks\" # esta es la encapsulación, atributo privado de la clase, no podemos cambiar su valor \n",
    "  \n",
    "# Creating a derived class\n",
    "class Derived(Base):\n",
    "    def __init__(self):\n",
    "  \n",
    "        # Calling constructor of\n",
    "        # Base class\n",
    "        Base.__init__(self)\n",
    "        print(\"Calling private member of base class: \")\n",
    "        print(self.__c)\n",
    "  \n",
    "  \n",
    "# Driver code\n",
    "obj1 = Base()\n",
    "print(obj1.a)\n",
    "  \n",
    "# Uncommenting print(obj1.c) will\n",
    "# raise an AttributeError\n",
    "  \n",
    "# obj2 = Derived() \n",
    "# also raise an AtrributeError as\n",
    "# private member of base class\n",
    "# is called inside derived class"
   ]
  },
  {
   "cell_type": "markdown",
   "metadata": {},
   "source": [
    "## **Data Hiding**\n",
    "* En python se usa el doble __ antes del nombre del atributo y dichos atributo no seran visibles  "
   ]
  },
  {
   "cell_type": "code",
   "execution_count": 31,
   "metadata": {},
   "outputs": [
    {
     "name": "stdout",
     "output_type": "stream",
     "text": [
      "2\n",
      "7\n"
     ]
    }
   ],
   "source": [
    "\n",
    "class MyClass:\n",
    " \n",
    "    # Hidden member of MyClass\n",
    "    __hiddenVariable = 0\n",
    "   \n",
    "    # A member method that changes\n",
    "    # __hiddenVariable\n",
    "    def add(self, increment):\n",
    "        self.__hiddenVariable += increment\n",
    "        print (self.__hiddenVariable)\n",
    "  \n",
    "# Driver code\n",
    "myObject = MyClass()    \n",
    "myObject.add(2)\n",
    "myObject.add(5)\n",
    " \n",
    "# This line causes error\n",
    "#print (myObject.__hiddenVariable)\n"
   ]
  },
  {
   "cell_type": "markdown",
   "metadata": {},
   "source": [
    "## **Print objects**\n",
    "\n",
    "* Nos da información de los objetos con loa que estamos trabajando \n",
    "* En python se hace con los métodos --repr-- o --str-- "
   ]
  },
  {
   "cell_type": "code",
   "execution_count": 32,
   "metadata": {},
   "outputs": [
    {
     "name": "stdout",
     "output_type": "stream",
     "text": [
      "From str method of Test: a is 1234,b is 5678\n",
      "[Test a:1234 b:5678]\n"
     ]
    }
   ],
   "source": [
    "\n",
    "class Test:\n",
    "    def __init__(self, a, b):\n",
    "        self.a = a\n",
    "        self.b = b\n",
    " \n",
    "    def __repr__(self):\n",
    "        return \"Test a:%s b:%s\" % (self.a, self.b)\n",
    " \n",
    "    def __str__(self):\n",
    "        return \"From str method of Test: a is %s,\" \\\n",
    "              \"b is %s\" % (self.a, self.b) # entiendo yo que esto funciona como la función format \n",
    " \n",
    "# Driver Code       \n",
    "t = Test(1234, 5678)\n",
    "print(t) # This calls __str__()\n",
    "print([t]) # This calls __repr__()"
   ]
  },
  {
   "cell_type": "code",
   "execution_count": 33,
   "metadata": {},
   "outputs": [
    {
     "name": "stdout",
     "output_type": "stream",
     "text": [
      "Geek1 False\n",
      "Geek2 True\n"
     ]
    }
   ],
   "source": [
    "\n",
    "# A Python program to demonstrate inheritance\n",
    "\n",
    "# Base or Super class. Note object in bracket.\n",
    "# (Generally, object is made ancestor of all classes)\n",
    "# In Python 3.x \"class Person\" is\n",
    "# equivalent to \"class Person(object)\"\n",
    "class Person(object):\n",
    "\t\n",
    "\t# Constructor\n",
    "\tdef __init__(self, name):\n",
    "\t\tself.name = name\n",
    "\n",
    "\t# To get name\n",
    "\tdef getName(self):\n",
    "\t\treturn self.name\n",
    "\n",
    "\t# To check if this person is employee\n",
    "\tdef isEmployee(self):\n",
    "\t\treturn False\n",
    "\n",
    "\n",
    "# Inherited or Sub class (Note Person in bracket)\n",
    "class Employee(Person):\n",
    "\n",
    "\t# Here we return true\n",
    "\tdef isEmployee(self):\n",
    "\t\treturn True\n",
    "\n",
    "# Driver code\n",
    "emp = Person(\"Geek1\") # An Object of Person\n",
    "print(emp.getName(), emp.isEmployee())\n",
    "\n",
    "emp = Employee(\"Geek2\") # An Object of Employee\n",
    "print(emp.getName(), emp.isEmployee())\n"
   ]
  },
  {
   "cell_type": "markdown",
   "metadata": {},
   "source": [
    "* Con la función issubclass podemos saber si una clase es herencia de otra"
   ]
  },
  {
   "cell_type": "code",
   "execution_count": 34,
   "metadata": {},
   "outputs": [
    {
     "name": "stdout",
     "output_type": "stream",
     "text": [
      "True\n",
      "False\n",
      "False\n",
      "True\n"
     ]
    }
   ],
   "source": [
    "\n",
    "# Python example to check if a class is\n",
    "# subclass of another\n",
    "  \n",
    "class Base(object):\n",
    "    pass   # Empty Class\n",
    "  \n",
    "class Derived(Base):\n",
    "    pass   # Empty Class\n",
    "  \n",
    "# Driver Code\n",
    "print(issubclass(Derived, Base))\n",
    "print(issubclass(Base, Derived))\n",
    "  \n",
    "\n",
    "b = Base()\n",
    "d = Derived()\n",
    "  \n",
    "# b is not an instance of Derived\n",
    "print(isinstance(b, Derived))\n",
    "  \n",
    "# But d is an instance of Base\n",
    "print(isinstance(d, Base))"
   ]
  },
  {
   "cell_type": "markdown",
   "metadata": {},
   "source": [
    "* Como acceder los miembros del parent dentro de la subclase? "
   ]
  },
  {
   "cell_type": "code",
   "execution_count": 2,
   "metadata": {},
   "outputs": [
    {
     "name": "stdout",
     "output_type": "stream",
     "text": [
      "10 20\n"
     ]
    }
   ],
   "source": [
    "# Python example to show that base\n",
    "# class members can be accessed in\n",
    "# derived class using base class name\n",
    "class Base(object):\n",
    "\n",
    "\t# Constructor\n",
    "\tdef __init__(self, x):\n",
    "\t\tself.x = x\t\n",
    "\n",
    "class Derived(Base):\n",
    "\n",
    "\t# Constructor\n",
    "\tdef __init__(self, x, y):\n",
    "\t\tBase.x = x\n",
    "\t\tself.y = y\n",
    "\n",
    "\tdef printXY(self):\n",
    "\t\n",
    "\t# print(self.x, self.y) will also work\n",
    "\t    print(Base.x, self.y)\n",
    "\n",
    "\n",
    "# Driver Code\n",
    "d = Derived(10, 20)\n",
    "d.printXY()\n"
   ]
  }
 ],
 "metadata": {
  "interpreter": {
   "hash": "66e4a4b7c121db4243309d1eb7f3fba70ad006b305f754897095e92fca8ac47b"
  },
  "kernelspec": {
   "display_name": "Python 3.8.5 ('base')",
   "language": "python",
   "name": "python3"
  },
  "language_info": {
   "codemirror_mode": {
    "name": "ipython",
    "version": 3
   },
   "file_extension": ".py",
   "mimetype": "text/x-python",
   "name": "python",
   "nbconvert_exporter": "python",
   "pygments_lexer": "ipython3",
   "version": "3.8.5"
  },
  "orig_nbformat": 4
 },
 "nbformat": 4,
 "nbformat_minor": 2
}
