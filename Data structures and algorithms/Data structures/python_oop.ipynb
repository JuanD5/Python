{
 "cells": [
  {
   "cell_type": "markdown",
   "metadata": {},
   "source": [
    "# **Programación orientada por objetos (OOP)**"
   ]
  },
  {
   "cell_type": "markdown",
   "metadata": {},
   "source": [
    "* Las clases tienen atributos y métodos \n",
    "* Los _atributos_ son las variables que pertenecen a las clases \n",
    "* Los _atributos_ son siempre públicos y se pueden acceder con un punto como Perro.raza\n",
    "* Los _objetos_ son entidades que tienen asociados un estado y un comportamiento \n",
    "* Los _estados_ de un objeto son representados por sus atributos los cuales reflejan las propiedades de un objeto\n",
    "* El _comportamiento_ de un objeto es representado por sus métodos, lo cual refleja la respuesta del objeto a otros objetos \n",
    "* La _identidad_ da un nombre único al objeto y le permite interactuar con otros objetos \n",
    "\n",
    "* Attributos : propiedades de los objetos : esto es el estado también \n",
    "* Métodos : comportamiento \n",
    "\n",
    "Haciendo el ejemplo de una persona sus propiedades (atributos) son su nombre, edad, color del pelo \n",
    "Métodos(comportamiento) : caminar o saludar "
   ]
  },
  {
   "cell_type": "markdown",
   "metadata": {},
   "source": [
    "* Se siguen ciertos principios como lo son:\n",
    "1. Encapsulación : todos los atributos y métodos de un objeto se mantienen privados y a salvo de ser heredados por otro objeto \n",
    "* Con esto podemos definir atributos y métodos ya sean públicos y privados \n",
    "* Los métodos públicos pueden ser usados por cualquiera que use el programa, los privados no \n",
    "\n",
    "2. Abstracción: con esto solo exponemos los mecanimos de alto nivel para hacer ciertas cosas mientras que ocultamos los mecanismos complejos detrás de ello \n",
    "3. Inheritance (herencia) : crear un objeto que sirva como base para otros objetos \n",
    "4. Polimorfismo : Es bueno usar la herencia pero hay clases hijo que pueden crear y usar sus propios métodos. \n",
    "\n",
    "* Por ejemplo si tenemos un método que sea prender un carro, este puede ser diferente para un caminón a una mula "
   ]
  },
  {
   "cell_type": "markdown",
   "metadata": {},
   "source": [
    "* Una clase es una marca para crear un objeto \n",
    "* Una instancia es el objeto que se crea cuando la clase es creada "
   ]
  },
  {
   "cell_type": "code",
   "execution_count": 1,
   "metadata": {},
   "outputs": [],
   "source": [
    "# Adding details to the Person class\n",
    "class Person:\n",
    "    def __init__(self, name, age, company):\n",
    "        self.name = name # esto es un atributo\n",
    "        self.age = age # esto es otro atributo\n",
    "        self.company = company # esto es otro atributo "
   ]
  },
  {
   "cell_type": "code",
   "execution_count": 2,
   "metadata": {},
   "outputs": [],
   "source": [
    "# Creating our first Person instance\n",
    "Nik = Person('Nik', 33, 'datagy.io')"
   ]
  },
  {
   "cell_type": "code",
   "execution_count": 3,
   "metadata": {},
   "outputs": [
    {
     "name": "stdout",
     "output_type": "stream",
     "text": [
      "33\n"
     ]
    }
   ],
   "source": [
    "print(Nik.age)"
   ]
  },
  {
   "cell_type": "markdown",
   "metadata": {},
   "source": [
    "* Hay dos tipos de atributos , atributos de las clases y atributos de las instancias "
   ]
  },
  {
   "cell_type": "code",
   "execution_count": 5,
   "metadata": {},
   "outputs": [],
   "source": [
    "# Looking at the difference between class and instance attributes\n",
    "class Person:\n",
    "    # Class attribute\n",
    "    type = 'Human'\n",
    "\n",
    "    def __init__(self, name, age, company):\n",
    "        # Instance attributes\n",
    "        self.name = name\n",
    "        self.age = age\n",
    "        self.company = company\n",
    "    \n",
    "    \n",
    "    def greet(self):\n",
    "        print('Hi there! My name is ', self.name)    \n",
    "\n",
    "Nik = Person('Nik', 33, 'datagy.io')"
   ]
  },
  {
   "cell_type": "markdown",
   "metadata": {},
   "source": [
    "* If you want an attribute to be the same for every instance of your class, such as the type attribute in the Person class, then use a class attribute. This prevents you from needing to pass it in as a value each time you create a class.\n",
    "* If you want an attribute to specific to an object, then use an instance attribute. This lets you customize the object to meet your needs."
   ]
  },
  {
   "cell_type": "code",
   "execution_count": 6,
   "metadata": {},
   "outputs": [
    {
     "name": "stdout",
     "output_type": "stream",
     "text": [
      "Hi there! My name is  Nik\n"
     ]
    }
   ],
   "source": [
    "Nik.greet()"
   ]
  },
  {
   "cell_type": "code",
   "execution_count": 7,
   "metadata": {},
   "outputs": [],
   "source": [
    "# Creating your first sub-class\n",
    "class Employee(Person):\n",
    "    def __init__(self, name, age, company, employee_number, income):\n",
    "        super().__init__(name, age, company) # con esta función tomamos todos los argumentos de la clase padre \n",
    "        self.employee_number = employee_number\n",
    "        self.income = income\n",
    "\n",
    "    def do_work(self):\n",
    "        print(\"Working hard!\")\n",
    "\n",
    "kate = Employee('Kate', 33, 'government', 12345, 90000)"
   ]
  },
  {
   "cell_type": "code",
   "execution_count": 8,
   "metadata": {},
   "outputs": [
    {
     "name": "stdout",
     "output_type": "stream",
     "text": [
      "Hi there! My name is  Kate\n"
     ]
    }
   ],
   "source": [
    "kate.greet()"
   ]
  },
  {
   "cell_type": "code",
   "execution_count": 9,
   "metadata": {},
   "outputs": [
    {
     "name": "stdout",
     "output_type": "stream",
     "text": [
      "Welcome! How may I help you?\n"
     ]
    }
   ],
   "source": [
    "# Polymorphism in Python classes\n",
    "class Employee(Person):\n",
    "    def __init__(self, name, age, company, employee_number, income):\n",
    "        super().__init__(name, age, company)\n",
    "        self.employee_number = employee_number\n",
    "        self.income = income\n",
    "\n",
    "    def greet(self): # acá aplicamos el polimorfismo reescribiendo el método greet \n",
    "        print('Welcome! How may I help you?')\n",
    "\n",
    "    def do_work(self):\n",
    "        print(\"Working hard!\")\n",
    "\n",
    "kate = Employee('Kate', 33, 'government', 12345, 90000)\n",
    "kate.greet()\n",
    "\n",
    "# Returns: Welcome! How may I help you?"
   ]
  },
  {
   "cell_type": "code",
   "execution_count": 10,
   "metadata": {},
   "outputs": [],
   "source": [
    "class Point:\n",
    "    def __init__(self, x, y):\n",
    "        self.x = x\n",
    "        self.y = y\n",
    "\n",
    "\n",
    "p = Point(42, 43)"
   ]
  },
  {
   "cell_type": "code",
   "execution_count": 11,
   "metadata": {},
   "outputs": [
    {
     "data": {
      "text/plain": [
       "42"
      ]
     },
     "execution_count": 11,
     "metadata": {},
     "output_type": "execute_result"
    }
   ],
   "source": [
    "p.x"
   ]
  },
  {
   "cell_type": "code",
   "execution_count": 12,
   "metadata": {},
   "outputs": [
    {
     "name": "stdout",
     "output_type": "stream",
     "text": [
      "50\n"
     ]
    }
   ],
   "source": [
    "p.x = 50\n",
    "print(p.x)"
   ]
  },
  {
   "cell_type": "code",
   "execution_count": 1,
   "metadata": {},
   "outputs": [],
   "source": [
    "class Dog:\n",
    "    pass"
   ]
  },
  {
   "cell_type": "markdown",
   "metadata": {},
   "source": [
    "* La identidad puede ser representada por el nombre del perro \n",
    "* El estado o atributos pueden ser la raza, edad o color del perro \n",
    "* El comportamiento puede ser si el perro está comiendo o durmiendo "
   ]
  },
  {
   "cell_type": "code",
   "execution_count": 2,
   "metadata": {},
   "outputs": [],
   "source": [
    "obj = Dog()# así creamos un objeto"
   ]
  },
  {
   "cell_type": "markdown",
   "metadata": {},
   "source": [
    "* El método _init_ es el constructor de la clase, este se corre apenas creamos el objeto. Se usa para crear inicializaciones del objeto "
   ]
  },
  {
   "cell_type": "code",
   "execution_count": 18,
   "metadata": {},
   "outputs": [
    {
     "name": "stdout",
     "output_type": "stream",
     "text": [
      "Rodger is a mammal\n",
      "Tommy is also a mammal\n",
      " name is Rodger\n",
      " name is Tommy\n",
      "My name is Rodger\n",
      "My name is Tommy\n"
     ]
    }
   ],
   "source": [
    "class Dog:\n",
    "  \n",
    "    # class attribute\n",
    "    attr1 = \"mammal\"\n",
    "  \n",
    "    # Instance attribute\n",
    "    def __init__(self, name):\n",
    "        self.name = name\n",
    "          \n",
    "    def speak(self):\n",
    "        print(\"My name is {}\".format(self.name))\n",
    "  \n",
    "# Driver code\n",
    "# Object instantiation\n",
    "Rodger = Dog(\"Rodger\")\n",
    "Tommy = Dog(\"Tommy\")\n",
    "\n",
    "# Accessing class attributes\n",
    "print(\"Rodger is a {}\".format(Rodger.__class__.attr1))\n",
    "print(\"Tommy is also a {}\".format(Tommy.__class__.attr1))\n",
    "  \n",
    "# Accessing instance attributes\n",
    "print(\" name is {}\".format(Rodger.name))\n",
    "print(\" name is {}\".format(Tommy.name))\n",
    "\n",
    "# Accessing class methods\n",
    "Rodger.speak()\n",
    "Tommy.speak()\n",
    "\n"
   ]
  },
  {
   "cell_type": "markdown",
   "metadata": {},
   "source": [
    "## **Herencia de clases (inheritance)**\n",
    "* Esto es la capacidad de una clase de derivar las propiedades de otra clase \n"
   ]
  },
  {
   "cell_type": "code",
   "execution_count": 19,
   "metadata": {},
   "outputs": [
    {
     "name": "stdout",
     "output_type": "stream",
     "text": [
      "Rahul\n",
      "886012\n",
      "My name is Rahul\n",
      "IdNumber: 886012\n",
      "Post: Intern\n"
     ]
    }
   ],
   "source": [
    "\n",
    "# Python code to demonstrate how parent constructors\n",
    "# are called.\n",
    "  \n",
    "# parent class\n",
    "class Person(object):\n",
    "  \n",
    "    # __init__ is known as the constructor\n",
    "    def __init__(self, name, idnumber):\n",
    "        self.name = name\n",
    "        self.idnumber = idnumber\n",
    "  \n",
    "    def display(self):\n",
    "        print(self.name)\n",
    "        print(self.idnumber)\n",
    "          \n",
    "    def details(self):\n",
    "        print(\"My name is {}\".format(self.name))\n",
    "        print(\"IdNumber: {}\".format(self.idnumber))\n",
    "      \n",
    "# child class\n",
    "class Employee(Person):\n",
    "    def __init__(self, name, idnumber, salary, post):\n",
    "        self.salary = salary\n",
    "        self.post = post\n",
    "  \n",
    "        # invocamos el constructor de la clase Person\n",
    "        Person.__init__(self, name, idnumber)\n",
    "          \n",
    "    def details(self):\n",
    "        print(\"My name is {}\".format(self.name))\n",
    "        print(\"IdNumber: {}\".format(self.idnumber))\n",
    "        print(\"Post: {}\".format(self.post))\n",
    "  \n",
    "  \n",
    "# creation of an object variable or an instance\n",
    "a = Employee('Rahul', 886012, 200000, \"Intern\")\n",
    "  \n",
    "# calling a function of the class Person using\n",
    "# its instance\n",
    "a.display() # Este método no es de la clase Employee pero si de la clase Person, pero como hay una herencia entonces lo podemos usar \n",
    "a.details()"
   ]
  },
  {
   "cell_type": "code",
   "execution_count": 20,
   "metadata": {},
   "outputs": [],
   "source": [
    "b = Person('Juan',97125)"
   ]
  },
  {
   "cell_type": "code",
   "execution_count": 22,
   "metadata": {},
   "outputs": [
    {
     "name": "stdout",
     "output_type": "stream",
     "text": [
      "My name is Juan\n",
      "IdNumber: 97125\n"
     ]
    }
   ],
   "source": [
    "b.details()"
   ]
  },
  {
   "cell_type": "code",
   "execution_count": 23,
   "metadata": {},
   "outputs": [
    {
     "name": "stdout",
     "output_type": "stream",
     "text": [
      "Juan\n",
      "97125\n"
     ]
    }
   ],
   "source": [
    "b.display()"
   ]
  },
  {
   "cell_type": "markdown",
   "metadata": {},
   "source": [
    "## **Polimorfismo**\n",
    "* Tener varias formas \n",
    "* Por ejemplo necesitamos determinar si una especie dada de ave puede volar o no, esto lo podemos hacer con el polimorfismo"
   ]
  },
  {
   "cell_type": "code",
   "execution_count": 24,
   "metadata": {},
   "outputs": [
    {
     "name": "stdout",
     "output_type": "stream",
     "text": [
      "There are many types of birds.\n",
      "Most of the birds can fly but some cannot.\n",
      "There are many types of birds.\n",
      "Sparrows can fly.\n",
      "There are many types of birds.\n",
      "Ostriches cannot fly.\n"
     ]
    }
   ],
   "source": [
    "\n",
    "class Bird:\n",
    "    \n",
    "    def intro(self):\n",
    "        print(\"There are many types of birds.\")\n",
    "  \n",
    "    def flight(self):\n",
    "        print(\"Most of the birds can fly but some cannot.\")\n",
    "  \n",
    "class sparrow(Bird): # herencia de la clase Bird\n",
    "    \n",
    "    def flight(self):\n",
    "        print(\"Sparrows can fly.\")\n",
    "  \n",
    "class ostrich(Bird): # herencia de la clase Bird\n",
    "  \n",
    "    def flight(self):\n",
    "        print(\"Ostriches cannot fly.\")\n",
    "  \n",
    "obj_bird = Bird()\n",
    "obj_spr = sparrow()\n",
    "obj_ost = ostrich()\n",
    "  \n",
    "obj_bird.intro()\n",
    "obj_bird.flight()\n",
    "  \n",
    "obj_spr.intro()\n",
    "obj_spr.flight()\n",
    "  \n",
    "obj_ost.intro()\n",
    "obj_ost.flight()"
   ]
  },
  {
   "cell_type": "markdown",
   "metadata": {},
   "source": [
    "## **Encapsulación**\n",
    "* La encapsulación es uno de los conceptos fundamentales de la programación orientada a objetos (POO). \n",
    "* Describe la idea de envolver los datos y los métodos que trabajan con ellos dentro de una unidad. \n",
    "* Esto pone restricciones en el acceso a las variables y métodos directamente y puede prevenir la modificación accidental de los datos. \n",
    "* Para evitar un cambio accidental, una variable de un objeto sólo puede ser modificada por un método de un objeto. \n",
    "* Estos tipos de variables se conocen como variables privadas"
   ]
  },
  {
   "cell_type": "code",
   "execution_count": 29,
   "metadata": {},
   "outputs": [
    {
     "name": "stdout",
     "output_type": "stream",
     "text": [
      "GeeksforGeeks\n"
     ]
    }
   ],
   "source": [
    "\n",
    "# Python program to\n",
    "# demonstrate private members\n",
    "  \n",
    "# Creating a Base class\n",
    "class Base:\n",
    "    def __init__(self):\n",
    "        self.a = \"GeeksforGeeks\"\n",
    "        self.__c = \"GeeksforGeeks\" # esta es la encapsulación, atributo privado de la clase, no podemos cambiar su valor \n",
    "  \n",
    "# Creating a derived class\n",
    "class Derived(Base):\n",
    "    def __init__(self):\n",
    "  \n",
    "        # Calling constructor of\n",
    "        # Base class\n",
    "        Base.__init__(self)\n",
    "        print(\"Calling private member of base class: \")\n",
    "        print(self.__c)\n",
    "  \n",
    "  \n",
    "# Driver code\n",
    "obj1 = Base()\n",
    "print(obj1.a)\n",
    "  \n",
    "# Uncommenting print(obj1.c) will\n",
    "# raise an AttributeError\n",
    "  \n",
    "# obj2 = Derived() \n",
    "# also raise an AtrributeError as\n",
    "# private member of base class\n",
    "# is called inside derived class"
   ]
  },
  {
   "cell_type": "markdown",
   "metadata": {},
   "source": [
    "## **Data Hiding**\n",
    "* En python se usa el doble __ antes del nombre del atributo y dichos atributo no seran visibles  "
   ]
  },
  {
   "cell_type": "code",
   "execution_count": 31,
   "metadata": {},
   "outputs": [
    {
     "name": "stdout",
     "output_type": "stream",
     "text": [
      "2\n",
      "7\n"
     ]
    }
   ],
   "source": [
    "\n",
    "class MyClass:\n",
    " \n",
    "    # Hidden member of MyClass\n",
    "    __hiddenVariable = 0\n",
    "   \n",
    "    # A member method that changes\n",
    "    # __hiddenVariable\n",
    "    def add(self, increment):\n",
    "        self.__hiddenVariable += increment\n",
    "        print (self.__hiddenVariable)\n",
    "  \n",
    "# Driver code\n",
    "myObject = MyClass()    \n",
    "myObject.add(2)\n",
    "myObject.add(5)\n",
    " \n",
    "# This line causes error\n",
    "#print (myObject.__hiddenVariable)\n"
   ]
  },
  {
   "cell_type": "markdown",
   "metadata": {},
   "source": [
    "## **Print objects**\n",
    "\n",
    "* Nos da información de los objetos con loa que estamos trabajando \n",
    "* En python se hace con los métodos --repr-- o --str-- "
   ]
  },
  {
   "cell_type": "code",
   "execution_count": 32,
   "metadata": {},
   "outputs": [
    {
     "name": "stdout",
     "output_type": "stream",
     "text": [
      "From str method of Test: a is 1234,b is 5678\n",
      "[Test a:1234 b:5678]\n"
     ]
    }
   ],
   "source": [
    "\n",
    "class Test:\n",
    "    def __init__(self, a, b):\n",
    "        self.a = a\n",
    "        self.b = b\n",
    " \n",
    "    def __repr__(self):\n",
    "        return \"Test a:%s b:%s\" % (self.a, self.b)\n",
    " \n",
    "    def __str__(self):\n",
    "        return \"From str method of Test: a is %s,\" \\\n",
    "              \"b is %s\" % (self.a, self.b) # entiendo yo que esto funciona como la función format \n",
    " \n",
    "# Driver Code       \n",
    "t = Test(1234, 5678)\n",
    "print(t) # This calls __str__()\n",
    "print([t]) # This calls __repr__()"
   ]
  },
  {
   "cell_type": "code",
   "execution_count": 33,
   "metadata": {},
   "outputs": [
    {
     "name": "stdout",
     "output_type": "stream",
     "text": [
      "Geek1 False\n",
      "Geek2 True\n"
     ]
    }
   ],
   "source": [
    "\n",
    "# A Python program to demonstrate inheritance\n",
    "\n",
    "# Base or Super class. Note object in bracket.\n",
    "# (Generally, object is made ancestor of all classes)\n",
    "# In Python 3.x \"class Person\" is\n",
    "# equivalent to \"class Person(object)\"\n",
    "class Person(object):\n",
    "\t\n",
    "\t# Constructor\n",
    "\tdef __init__(self, name):\n",
    "\t\tself.name = name\n",
    "\n",
    "\t# To get name\n",
    "\tdef getName(self):\n",
    "\t\treturn self.name\n",
    "\n",
    "\t# To check if this person is employee\n",
    "\tdef isEmployee(self):\n",
    "\t\treturn False\n",
    "\n",
    "\n",
    "# Inherited or Sub class (Note Person in bracket)\n",
    "class Employee(Person):\n",
    "\n",
    "\t# Here we return true\n",
    "\tdef isEmployee(self):\n",
    "\t\treturn True\n",
    "\n",
    "# Driver code\n",
    "emp = Person(\"Geek1\") # An Object of Person\n",
    "print(emp.getName(), emp.isEmployee())\n",
    "\n",
    "emp = Employee(\"Geek2\") # An Object of Employee\n",
    "print(emp.getName(), emp.isEmployee())\n"
   ]
  },
  {
   "cell_type": "markdown",
   "metadata": {},
   "source": [
    "* Con la función issubclass podemos saber si una clase es herencia de otra"
   ]
  },
  {
   "cell_type": "code",
   "execution_count": 34,
   "metadata": {},
   "outputs": [
    {
     "name": "stdout",
     "output_type": "stream",
     "text": [
      "True\n",
      "False\n",
      "False\n",
      "True\n"
     ]
    }
   ],
   "source": [
    "\n",
    "# Python example to check if a class is\n",
    "# subclass of another\n",
    "  \n",
    "class Base(object):\n",
    "    pass   # Empty Class\n",
    "  \n",
    "class Derived(Base):\n",
    "    pass   # Empty Class\n",
    "  \n",
    "# Driver Code\n",
    "print(issubclass(Derived, Base))\n",
    "print(issubclass(Base, Derived))\n",
    "  \n",
    "\n",
    "b = Base()\n",
    "d = Derived()\n",
    "  \n",
    "# b is not an instance of Derived\n",
    "print(isinstance(b, Derived))\n",
    "  \n",
    "# But d is an instance of Base\n",
    "print(isinstance(d, Base))"
   ]
  },
  {
   "cell_type": "markdown",
   "metadata": {},
   "source": [
    "* Como acceder los miembros del parent dentro de la subclase? "
   ]
  },
  {
   "cell_type": "code",
   "execution_count": 2,
   "metadata": {},
   "outputs": [
    {
     "name": "stdout",
     "output_type": "stream",
     "text": [
      "10 20\n"
     ]
    }
   ],
   "source": [
    "# Python example to show that base\n",
    "# class members can be accessed in\n",
    "# derived class using base class name\n",
    "class Base(object):\n",
    "\n",
    "\t# Constructor\n",
    "\tdef __init__(self, x):\n",
    "\t\tself.x = x\t\n",
    "\n",
    "class Derived(Base):\n",
    "\n",
    "\t# Constructor\n",
    "\tdef __init__(self, x, y):\n",
    "\t\tBase.x = x\n",
    "\t\tself.y = y\n",
    "\n",
    "\tdef printXY(self):\n",
    "\t\n",
    "\t# print(self.x, self.y) will also work\n",
    "\t    print(Base.x, self.y)\n",
    "\n",
    "\n",
    "# Driver Code\n",
    "d = Derived(10, 20)\n",
    "d.printXY()\n"
   ]
  },
  {
   "cell_type": "markdown",
   "metadata": {},
   "source": [
    "# **Curso Python 2022**"
   ]
  },
  {
   "cell_type": "code",
   "execution_count": 1,
   "metadata": {},
   "outputs": [],
   "source": [
    "my_student = { 'name' : 'rolf',\n",
    "              'grades' : [70,88,90,99]}"
   ]
  },
  {
   "cell_type": "code",
   "execution_count": 2,
   "metadata": {},
   "outputs": [],
   "source": [
    "def average(student):\n",
    "    return sum(student['grades'])/ len(student['grades'])"
   ]
  },
  {
   "cell_type": "code",
   "execution_count": 3,
   "metadata": {},
   "outputs": [],
   "source": [
    "class Student:\n",
    "    def __init__(self,name,grades):\n",
    "        self.name = name\n",
    "        self.grades = grades\n",
    "        \n",
    "    def average(self):\n",
    "        return sum(self.grades) / len(self.grades)\n",
    "            "
   ]
  },
  {
   "cell_type": "code",
   "execution_count": 4,
   "metadata": {},
   "outputs": [],
   "source": [
    "juan = Student('Juan',[5,6,4,3]) # así creamos el objeto "
   ]
  },
  {
   "cell_type": "code",
   "execution_count": 5,
   "metadata": {},
   "outputs": [
    {
     "data": {
      "text/plain": [
       "'Juan'"
      ]
     },
     "execution_count": 5,
     "metadata": {},
     "output_type": "execute_result"
    }
   ],
   "source": [
    "juan.name"
   ]
  },
  {
   "cell_type": "code",
   "execution_count": 6,
   "metadata": {},
   "outputs": [
    {
     "data": {
      "text/plain": [
       "[5, 6, 4, 3]"
      ]
     },
     "execution_count": 6,
     "metadata": {},
     "output_type": "execute_result"
    }
   ],
   "source": [
    "juan.grades"
   ]
  },
  {
   "cell_type": "code",
   "execution_count": 8,
   "metadata": {},
   "outputs": [
    {
     "data": {
      "text/plain": [
       "4.5"
      ]
     },
     "execution_count": 8,
     "metadata": {},
     "output_type": "execute_result"
    }
   ],
   "source": [
    "juan.average()"
   ]
  },
  {
   "cell_type": "markdown",
   "metadata": {},
   "source": [
    "## Magic functions : dunder methods "
   ]
  },
  {
   "cell_type": "code",
   "execution_count": 15,
   "metadata": {},
   "outputs": [],
   "source": [
    "class Garage :\n",
    "    def __init__(self):\n",
    "        self.cars = [] \n",
    "        \n",
    "    def __len__(self):\n",
    "        return len(self.cars)\n",
    "        \n",
    "    def __getitem__(self,i):\n",
    "        return self.cars[i]\n",
    "    \n",
    "    def __repr__(self): # for debbuging \n",
    "        return f'<Garage {self.cars}>'\n",
    "    \n",
    "    def __str__(self):# use the function len and print something about the object \n",
    "        return f'Garage with {len(self)} cars' "
   ]
  },
  {
   "cell_type": "markdown",
   "metadata": {},
   "source": [
    "### __repr__ debe ser usado para devolver un string que representa al objeto. Con este string uno debe ser capaz de recrear ese objeto por completo \n",
    "### __str__ un string más adecuado para los usuarios "
   ]
  },
  {
   "cell_type": "code",
   "execution_count": 17,
   "metadata": {},
   "outputs": [
    {
     "name": "stdout",
     "output_type": "stream",
     "text": [
      "Garage with 2 cars\n"
     ]
    }
   ],
   "source": [
    "ford = Garage()\n",
    "ford.cars.append('Fiesta')\n",
    "ford.cars.append('Focus')\n",
    "print(ford)"
   ]
  },
  {
   "cell_type": "markdown",
   "metadata": {},
   "source": [
    "## Inheritance "
   ]
  },
  {
   "cell_type": "code",
   "execution_count": 18,
   "metadata": {},
   "outputs": [],
   "source": [
    "class Student:\n",
    "    def __init__(self,name,school):\n",
    "        self.name = name\n",
    "        self.school = school\n",
    "        self.marks = []\n",
    "        \n",
    "    def average(self):\n",
    "        return sum(self.marks) / len(self.marks)"
   ]
  },
  {
   "cell_type": "markdown",
   "metadata": {},
   "source": [
    "### Working student extendes Student "
   ]
  },
  {
   "cell_type": "code",
   "execution_count": 21,
   "metadata": {},
   "outputs": [],
   "source": [
    "class WorkingStudent(Student):# Acá se define la herencia, esto quiere decir que la clase working student extiende de la clase student \n",
    "    def __init__(self,name,school,salary):\n",
    "        super().__init__(name,school)\n",
    "        self.salary = salary\n",
    "    \n",
    "    @property    \n",
    "    def weekly_salary(self): # esta función solo calcula un valor  a partir de otro valor y no toma ningún otro argumento  como entrada \n",
    "        return self.salary*37.5    \n",
    "\n"
   ]
  },
  {
   "cell_type": "code",
   "execution_count": 22,
   "metadata": {},
   "outputs": [
    {
     "name": "stdout",
     "output_type": "stream",
     "text": [
      "78.0\n",
      "581.25\n"
     ]
    }
   ],
   "source": [
    "rolf = WorkingStudent('Rolf','MIT',15.50)\n",
    "rolf.marks.append(57)\n",
    "rolf.marks.append(99)\n",
    "print(rolf.average())\n",
    "print(rolf.weekly_salary)"
   ]
  },
  {
   "cell_type": "markdown",
   "metadata": {},
   "source": [
    "### @classmethod nos da accesso al objeto con self o cls , si no necesitamos tener acceso a eso podemos hacer uso de Qstaticmethod"
   ]
  },
  {
   "cell_type": "code",
   "execution_count": 26,
   "metadata": {},
   "outputs": [],
   "source": [
    "class Person:\n",
    "    def __init__(self, name):\n",
    "        self.name = name\n",
    "        \n",
    "    @staticmethod\n",
    "    def greet_friend(friend_name):\n",
    "        return f'Hey there, {friend_name}!'"
   ]
  },
  {
   "cell_type": "code",
   "execution_count": 27,
   "metadata": {},
   "outputs": [
    {
     "data": {
      "text/plain": [
       "'Hey there, Pablo!'"
      ]
     },
     "execution_count": 27,
     "metadata": {},
     "output_type": "execute_result"
    }
   ],
   "source": [
    "juan = Person('Juan')\n",
    "juan.greet_friend('Pablo')"
   ]
  }
 ],
 "metadata": {
  "interpreter": {
   "hash": "66e4a4b7c121db4243309d1eb7f3fba70ad006b305f754897095e92fca8ac47b"
  },
  "kernelspec": {
   "display_name": "Python 3.8.5 ('base')",
   "language": "python",
   "name": "python3"
  },
  "language_info": {
   "codemirror_mode": {
    "name": "ipython",
    "version": 3
   },
   "file_extension": ".py",
   "mimetype": "text/x-python",
   "name": "python",
   "nbconvert_exporter": "python",
   "pygments_lexer": "ipython3",
   "version": "3.8.5"
  },
  "orig_nbformat": 4
 },
 "nbformat": 4,
 "nbformat_minor": 2
}
