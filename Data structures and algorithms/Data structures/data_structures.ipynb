{
 "cells": [
  {
   "cell_type": "markdown",
   "metadata": {},
   "source": [
    "# **1) Arrays (listas)**"
   ]
  },
  {
   "cell_type": "markdown",
   "metadata": {},
   "source": [
    "## **Big O**\n"
   ]
  },
  {
   "cell_type": "markdown",
   "metadata": {},
   "source": [
    "* Lookup O(1) acceder \n",
    "* Push O(1) meter un elemento al final \n",
    "* Insert O(n) meter un elemento en una posición dada\n",
    "* Delete O(n)\n",
    "* También llamados listas organizan los datos de forma secuencial\n",
    "* Tenemos un indice para saber la posición de cada elemento\n",
    "  "
   ]
  },
  {
   "cell_type": "markdown",
   "metadata": {},
   "source": [
    "## **Operaciones**"
   ]
  },
  {
   "cell_type": "code",
   "execution_count": 1,
   "metadata": {},
   "outputs": [],
   "source": [
    "strings = ['a','b','c','d']"
   ]
  },
  {
   "cell_type": "code",
   "execution_count": 2,
   "metadata": {},
   "outputs": [
    {
     "name": "stdout",
     "output_type": "stream",
     "text": [
      "['a', 'b', 'c', 'd', 'e']\n"
     ]
    }
   ],
   "source": [
    "# Push : append en python : añadir al final del array \n",
    "strings.append('e') # O(1) no estamos haciendo un loop sobre nada \n",
    "print(strings)"
   ]
  },
  {
   "cell_type": "code",
   "execution_count": 3,
   "metadata": {},
   "outputs": [
    {
     "name": "stdout",
     "output_type": "stream",
     "text": [
      "['a', 'b', 'c', 'd']\n"
     ]
    }
   ],
   "source": [
    "# Pop : pop en python : quitar el último elemento \n",
    "strings.pop() # O(1) no estamos haciendo ningun loop sobre el array \n",
    "print(strings)"
   ]
  },
  {
   "cell_type": "code",
   "execution_count": 4,
   "metadata": {},
   "outputs": [
    {
     "name": "stdout",
     "output_type": "stream",
     "text": [
      "['x', 'a', 'b', 'c', 'd']\n"
     ]
    }
   ],
   "source": [
    "# Insert : insert en python : insertar un elemento en una posición dada \n",
    "strings.insert(0,'x') # O(n) : porque internamente el computador debe correr todos los índices para reasignar todos los indices \n",
    "print(strings)"
   ]
  },
  {
   "cell_type": "code",
   "execution_count": 5,
   "metadata": {},
   "outputs": [
    {
     "name": "stdout",
     "output_type": "stream",
     "text": [
      "['x', 'a', 'alien', 'b', 'c', 'd']\n"
     ]
    }
   ],
   "source": [
    "# Splice : insert en python : insertar un elemento en una posición dada \n",
    "strings.insert(2,'alien') # O(n) : porque internamente el computador debe correr todos los índices para reasignar todos los indices \n",
    "print(strings)"
   ]
  },
  {
   "cell_type": "markdown",
   "metadata": {},
   "source": [
    "### Array native python methods :-\n",
    "* append()\tAdds an element at the end of the list\n",
    "* clear()\tRemoves all the elements from the list\n",
    "* copy()\tReturns a copy of the list\n",
    "* count()\tReturns the number of elements with the specified value\n",
    "* extend()\tAdd the elements of a list (or any iterable), to the end of the current list\n",
    "* index()\tReturns the index of the first element with the specified value\n",
    "* insert()\tAdds an element at the specified position\n",
    "* pop()\tRemoves the element at the specified position\n",
    "* remove()\tRemoves the first item with the specified value\n",
    "* reverse()\tReverses the order of the list\n",
    "* sort()\tSorts the list\n",
    "\n",
    "* List objects are implemented as arrays. \n",
    "* They are optimized for fast fixed-length operations and incur O(n) memory movement costs for pop(0) and insert(0, v) \n",
    "#operations which change both the size and position of the underlying data representation."
   ]
  },
  {
   "cell_type": "markdown",
   "metadata": {},
   "source": [
    "### Tipos de arrays\n",
    "\n",
    "* Estaticos : tienen el mismo tamaño, hay que especificar el tamaño del array desde un principio. Si queremos agregar un elemento, se debe hacer una copia del que tenemos y ahí si agregar después el elemento \n",
    "* Dinámicos : No hay que pensar sobre la memoria que se gasta ya que todo lo hace el compu. Estos se expanden a medida que hacemos las operaciones. "
   ]
  },
  {
   "cell_type": "markdown",
   "metadata": {},
   "source": [
    "## **Implementación de un array**"
   ]
  },
  {
   "cell_type": "code",
   "execution_count": 20,
   "metadata": {},
   "outputs": [],
   "source": [
    "class Array:\n",
    "    def __init__(self):\n",
    "        self.length = 0 # longitud inicial del array \n",
    "        self.data = {} # datos iniciales del array \n",
    "    \n",
    "    def __str__(self):\n",
    "        return str(self.__dict__) \n",
    "    \n",
    "    def get(self,index): # acceder a un elemento \n",
    "        return self.data[index]   \n",
    "    \n",
    "    def push(self,item):\n",
    "        self.data[self.length] = item # en el indice actual, 0 en un principio vamos a meter el valor que diga la persona \n",
    "        self.length+=1 # Incrementamos la longitud del array en 1 y luego cuando una persona inserte otro valor se hará en el indice 1 \n",
    "        return self.length\n",
    "    \n",
    "    def pop(self):\n",
    "        lastitem = self.data[self.length-1]\n",
    "        del self.data[self.length-1]\n",
    "        self.length-=1\n",
    "        return lastitem\n",
    "    \n",
    "    def shiftItems(self,index):\n",
    "        for i in range(index,self.length-1):# un rango que va desde el indice que nos dan hasta la longitud del array -1 \n",
    "            self.data[i] = self.data[i+1] # corremos todos los elementos hacia la izquierda una posicion \n",
    "        del self.data[self.length-1]\n",
    "        self.length-=1\n",
    "        \n",
    "    def delete(self,index): # debemos elminar el valor y correr todos los indices \n",
    "        item = self.data[index]\n",
    "        self.shiftItems(index)\n",
    "        return item\n",
    "        "
   ]
  },
  {
   "cell_type": "code",
   "execution_count": 23,
   "metadata": {},
   "outputs": [
    {
     "name": "stdout",
     "output_type": "stream",
     "text": [
      "{'length': 4, 'data': {0: 'you', 1: '!', 2: 'are', 3: 'nice'}}\n"
     ]
    }
   ],
   "source": [
    "arr = Array()\n",
    "arr.push('hi')\n",
    "arr.push('you')\n",
    "arr.push('!')\n",
    "arr.push('are')\n",
    "arr.push('nice')\n",
    "arr.delete(0)\n",
    "print(arr)"
   ]
  },
  {
   "cell_type": "markdown",
   "metadata": {},
   "source": [
    "* Los strings se deben manejar como arrays"
   ]
  },
  {
   "cell_type": "code",
   "execution_count": 24,
   "metadata": {},
   "outputs": [
    {
     "name": "stdout",
     "output_type": "stream",
     "text": [
      "3\n"
     ]
    }
   ],
   "source": [
    "my_string = 'are'\n",
    "print(len(my_string))"
   ]
  },
  {
   "cell_type": "markdown",
   "metadata": {},
   "source": [
    "## **Reverse a string**"
   ]
  },
  {
   "cell_type": "code",
   "execution_count": 25,
   "metadata": {},
   "outputs": [],
   "source": [
    "# Yo lo haria con algo que cambie los indices el último al primero y listo \n",
    "def reverse(my_string):\n",
    "    if not my_string or len(my_string) < 2:\n",
    "        return 'El input es incorrecto'\n",
    "    backwards = []\n",
    "    for i in range(len(my_string)-1,-1,-1): # va desde el indice del último elemento del array, hasta el indice 0 a pasos de -1 \n",
    "        backwards.append(i)\n",
    "    return ''.join(backwards) # para transformarlo denuevo al array \n",
    "        "
   ]
  },
  {
   "cell_type": "code",
   "execution_count": 31,
   "metadata": {},
   "outputs": [
    {
     "name": "stdout",
     "output_type": "stream",
     "text": [
      "3\n",
      "2\n",
      "1\n",
      "0\n"
     ]
    }
   ],
   "source": [
    "my_string = 'hola'\n",
    "# El string tiene longitud 4 pero los indices son 0,1,2,3\n",
    "x = range(len(my_string)-1,-1,-1)\n",
    "         # Cree un rango que comience en 3, termine en 0 y vaya decreciendo de a -1 \n",
    "         # inicio posicion 4-1 : 3\n",
    "         # Ponemos fin -1 ya que esto es exclusivo entonces si ponemos 0 aca llegaría hasta 1 \n",
    "         # Pasos de -1 \n",
    "for i in x:\n",
    "    print(i)"
   ]
  },
  {
   "cell_type": "code",
   "execution_count": 46,
   "metadata": {},
   "outputs": [
    {
     "name": "stdout",
     "output_type": "stream",
     "text": [
      "6\n",
      "5\n",
      "4\n",
      "3\n",
      "2\n",
      "1\n",
      "0\n"
     ]
    }
   ],
   "source": [
    "my_string = 'holaLAURA'\n",
    "x = range(6,-1,-1)\n",
    "         # inicio posicion 4-1 : 3      \n",
    "for i in x:\n",
    "    print(i)"
   ]
  },
  {
   "cell_type": "code",
   "execution_count": 50,
   "metadata": {},
   "outputs": [
    {
     "data": {
      "text/plain": [
       "'holaLA'"
      ]
     },
     "execution_count": 50,
     "metadata": {},
     "output_type": "execute_result"
    }
   ],
   "source": [
    "my_string[0:6:1]"
   ]
  },
  {
   "cell_type": "markdown",
   "metadata": {},
   "source": [
    "## **Merge sorted Arrays**"
   ]
  },
  {
   "cell_type": "code",
   "execution_count": null,
   "metadata": {},
   "outputs": [],
   "source": [
    "def mergesortedarray(array1,array2):\n",
    "    mergedArray = []\n",
    "    array1Item = array1[0]\n",
    "    array2Item = array2[0]\n",
    "    i = 1\n",
    "    j = 1\n",
    "    # Check input \n",
    "    if not array2:\n",
    "        return array1\n",
    "    elif not array1:\n",
    "        return array2\n",
    "\n",
    "    while (array1Item or array2Item):# mientras que tengamos un elmento dentro del array \n",
    "        if not array2Item or (array1Item < array2Item):\n",
    "            mergedArray.append(array1Item)\n",
    "            array1Item = array1[i]\n",
    "            i+=1\n",
    "        else:\n",
    "            mergedArray.append(array2Item)\n",
    "            array2Item = array2[j]\n",
    "            j+=1      \n",
    "    return mergedArray"
   ]
  },
  {
   "cell_type": "code",
   "execution_count": 51,
   "metadata": {},
   "outputs": [],
   "source": [
    "arr2 = []"
   ]
  },
  {
   "cell_type": "code",
   "execution_count": 55,
   "metadata": {},
   "outputs": [
    {
     "data": {
      "text/plain": [
       "True"
      ]
     },
     "execution_count": 55,
     "metadata": {},
     "output_type": "execute_result"
    }
   ],
   "source": [
    "not arr2"
   ]
  },
  {
   "cell_type": "markdown",
   "metadata": {},
   "source": [
    "# **2) Hash tables (diccionarios)**"
   ]
  },
  {
   "cell_type": "markdown",
   "metadata": {},
   "source": [
    "* Hacemos uso de una llave para acceder a un valor en específico\n",
    "* Los diccionarios son aveces la respuesta para mejorar la complejidad temporal de un algoritmo\n",
    "* A pesar de que hacemos uso un poo más de la memoria, mejoramos en cuanto a eficiencia\n",
    "\n",
    "### Big O \n",
    "\n",
    "1. Insert O(1)\n",
    "2. Lookup O(1)\n",
    "3. Delete O(1)\n",
    "4. Search O(1)"
   ]
  },
  {
   "cell_type": "code",
   "execution_count": 1,
   "metadata": {},
   "outputs": [],
   "source": [
    "user = {'age':54,\n",
    "         'name':'Kylie',\n",
    "         'magic':True     \n",
    "             }"
   ]
  },
  {
   "cell_type": "code",
   "execution_count": 4,
   "metadata": {},
   "outputs": [
    {
     "data": {
      "text/plain": [
       "54"
      ]
     },
     "execution_count": 4,
     "metadata": {},
     "output_type": "execute_result"
    }
   ],
   "source": [
    "user['age']"
   ]
  },
  {
   "cell_type": "code",
   "execution_count": 5,
   "metadata": {},
   "outputs": [],
   "source": [
    "user['spell'] = 'abra kadabra'"
   ]
  },
  {
   "cell_type": "code",
   "execution_count": 6,
   "metadata": {},
   "outputs": [
    {
     "name": "stdout",
     "output_type": "stream",
     "text": [
      "{'one': 1, 'two': 2, 'three': 3, 'four': 4, 'five': 5}\n",
      "dict_keys(['one', 'two', 'three', 'four', 'five'])\n",
      "dict_values([1, 2, 3, 4, 5])\n",
      "dict_items([('one', 1), ('two', 2), ('three', 3), ('four', 4), ('five', 5)])\n",
      "1\n",
      "{'one': 1, 'two': 2, 'three': 3, 'four': 4, 'five': 5, 'six': 6}\n"
     ]
    }
   ],
   "source": [
    "dictionary = dict()\n",
    "dictionary = {'one':1, 'two':2, 'three':3, 'four':4, 'five':5}\n",
    "print(dictionary)\n",
    "#{'one': 1, 'two': 2, 'three': 3, 'four': 4, 'five': 5}\n",
    "\n",
    "print(dictionary.keys())\n",
    "#dict_keys(['one', 'two', 'three', 'four', 'five'])\n",
    "\n",
    "print(dictionary.values())\n",
    "#dict_values([1, 2, 3, 4, 5])\n",
    "\n",
    "print(dictionary.items())\n",
    "#dict_items([('one', 1), ('two', 2), ('three', 3), ('four', 4), ('five', 5)])\n",
    "\n",
    "print(dictionary['one']) #Accessing a value by its key in O(1) time\n",
    "#1\n",
    "\n",
    "dictionary['six'] = 6 #Inserting the value 6 for the key 'six' in O(1) time.\n",
    "print(dictionary)\n",
    "#{'one': 1, 'two': 2, 'three': 3, 'four': 4, 'five': 5, 'six': 6}"
   ]
  },
  {
   "cell_type": "code",
   "execution_count": 12,
   "metadata": {},
   "outputs": [
    {
     "data": {
      "text/plain": [
       "True"
      ]
     },
     "execution_count": 12,
     "metadata": {},
     "output_type": "execute_result"
    }
   ],
   "source": [
    "'two' in dictionary\n"
   ]
  },
  {
   "cell_type": "markdown",
   "metadata": {},
   "source": [
    "### **Building a hash table**"
   ]
  },
  {
   "cell_type": "code",
   "execution_count": 7,
   "metadata": {},
   "outputs": [],
   "source": [
    "class hash_table():\n",
    "    def __init__(self,size): #We initialize the size of our hash table(no. of buckets) with the size given to the class object\n",
    "        self.size = size\n",
    "        self.data = [None]*self.size #We initialize an array of size 'size' with None\n",
    "\n",
    "\n",
    "    def __str__(self): #As in the array implementation, this method is used to print the attributes of the class object in a dictionary format\n",
    "        return str(self.__dict__)\n",
    "\n",
    "    def _hash(self, key): #Our custom hash function\n",
    "        hash = 0\n",
    "        for i in range(len(key)):\n",
    "            hash = (hash + ord(key[i])*i) % self.size #ord(key[i]) gives the unicode code point of the character key[i]\n",
    "        return hash #The hash value obtained after applying the hash function to the key is returned\n",
    "\n",
    "    def get(self,key): #Function to return the value of the key entered by the user (digamos que buscamos la llave one )\n",
    "        hash = self._hash(key) # Calculamos el hash value de la llave 'ONE'\n",
    "        if self.data[hash]: # \n",
    "            for i in range(len(self.data[hash])): #We loop over the entire list of lists that may be present in the 'hash' position of the data array\n",
    "                #[['one',1]['two',2]]\n",
    "                if self.data[hash][i][0] == key: #For every list in the list of lists(extracted by 'i'), we match the first element of the list with the given key\n",
    "                    return self.data[hash][i][1] #If we get a match, we return the second element of that list, which is the value\n",
    "        return None #If we don't find the key, we return None\n",
    "\n",
    "    def set(self, key, value): #Function to insert a new key, value pair\n",
    "        hash = self._hash(key) #Hash value of the key is calculated using the _hash function\n",
    "        if not self.data[hash]: #If the 'hash' position of the data array is empty, we insert the key, value pair as a list\n",
    "            self.data[hash] = [[key,value]]\n",
    "        else: #If the 'hash' position is not empty, implying a collision, we simply append the list of key,value pair to the lists already present\n",
    "            self.data[hash].append([key, value])\n",
    "        print(self.data) \n",
    "\n",
    "    def keys(self): #Function to return all the keys\n",
    "        keys_array = [] #Array to hold the keys\n",
    "        for i in range(self.size): #We loop over the entire table\n",
    "            if self.data[i]: #If we find a non-empty bucket, we go in and loop over all the key,value pairs that might be in it\n",
    "                if len(self.data[i]) > 1:\n",
    "                    for j in range(len(self.data[i])): #Looping over all the lists(key,value pairs) in the current bucket\n",
    "                        keys_array.append(self.data[i][j][0]) #Adding the key of each list to the keys_array\n",
    "                else:\n",
    "                    keys_array.append(self.data[i][0][0])\n",
    "        return keys_array\n",
    "\n",
    "    def values(self): #Function to return all the values, with exactly the same logic as the keys function\n",
    "        values_array = []\n",
    "        for i in range(self.size):\n",
    "            if self.data[i]:\n",
    "                for j in range(len(self.data[i])):\n",
    "                    values_array.append(self.data[i][j][1])  #Only difference from the keys function is instead of appending the first element, we are appending the last element of each list\n",
    "        return values_array\n"
   ]
  },
  {
   "cell_type": "code",
   "execution_count": 8,
   "metadata": {},
   "outputs": [
    {
     "name": "stdout",
     "output_type": "stream",
     "text": [
      "{'size': 2, 'data': [None, None]}\n",
      "[[['one', 1]], None]\n",
      "[[['one', 1]], [['two', 2]]]\n",
      "[[['one', 1]], [['two', 2], ['three', 3]]]\n",
      "[[['one', 1]], [['two', 2], ['three', 3], ['four', 4]]]\n",
      "[[['one', 1], ['five', 5]], [['two', 2], ['three', 3], ['four', 4]]]\n",
      "{'size': 2, 'data': [[['one', 1], ['five', 5]], [['two', 2], ['three', 3], ['four', 4]]]}\n",
      "1\n",
      "['one', 'five', 'two', 'three', 'four']\n",
      "[1, 5, 2, 3, 4]\n"
     ]
    }
   ],
   "source": [
    "new_hash = hash_table(2)\n",
    "print(new_hash)\n",
    "#{'size': 2, 'data': [None, None]}\n",
    "\n",
    "new_hash.set('one',1)\n",
    "new_hash.set('two',2)\n",
    "new_hash.set('three',3)\n",
    "new_hash.set('four',4)\n",
    "new_hash.set('five',5)\n",
    "print(new_hash)\n",
    "#{'size': 2, 'data': [[['one', 1], ['five', 5]], [['two', 2], ['three', 3], ['four', 4]]]}\n",
    "\n",
    "print(new_hash.get('one'))\n",
    "#1\n",
    "\n",
    "print(new_hash.keys())\n",
    "#['one', 'five', 'two', 'three', 'four']\n",
    "print(new_hash.values())\n",
    "#[1, 5, 2, 3, 4]\n"
   ]
  },
  {
   "cell_type": "markdown",
   "metadata": {},
   "source": [
    "### **First recurremt item**\n",
    "\n",
    "* Devolver el primer elemento que se repite dentro de un array\n",
    "* Yo lo haría como vaya sumando uno mientras que la ocurrencia sea menor a 2, cuando encuentre la primera ocurrencia igual a 2 devuelva ese item"
   ]
  },
  {
   "cell_type": "code",
   "execution_count": 24,
   "metadata": {},
   "outputs": [],
   "source": [
    "def first_recurrent(array):\n",
    "    ocurrence = {}\n",
    "    for item in array:\n",
    "        ocurrence[str(item)] = 1\n",
    "        if ocurrence[str(item)] == 2:\n",
    "            return item\n",
    "        else:\n",
    "            ocurrence[str(item)] +=1 \n",
    "            \n",
    "                       "
   ]
  },
  {
   "cell_type": "code",
   "execution_count": 25,
   "metadata": {},
   "outputs": [
    {
     "name": "stdout",
     "output_type": "stream",
     "text": [
      "None\n"
     ]
    }
   ],
   "source": [
    "item = first_recurrent(array = [2,1,4,2,6,5,1,4])\n",
    "print(item)"
   ]
  },
  {
   "cell_type": "markdown",
   "metadata": {},
   "source": [
    "* Si el item está en el diccionario, devolvemos ese item, de lo contrario lo agregamos a este, entonces cuando se repita ya se encontrará dentro del diccionario y ya lo podrá devolver\n",
    "* Algo chevre de esto es que apenas encuentre el primero que se repite terminará el ciclo ahí."
   ]
  },
  {
   "cell_type": "code",
   "execution_count": 14,
   "metadata": {},
   "outputs": [],
   "source": [
    "def simple_frc(array):\n",
    "    dictionary = dict()\n",
    "    for item in array:\n",
    "        if item in dictionary:\n",
    "            return item\n",
    "        else:\n",
    "            dictionary[item] = True\n",
    "    return None # esto es como decir, else return None "
   ]
  },
  {
   "cell_type": "markdown",
   "metadata": {},
   "source": [
    "# **3) Linked lists**"
   ]
  },
  {
   "cell_type": "markdown",
   "metadata": {},
   "source": [
    "* Singly and double linked list \n",
    "* Aumentar la memoria de un array es una operación que toma O(n)\n",
    "* Hash tables are not ordered\n",
    "* Listas que están unidas \n",
    "* Una lista contiene varios nodos\n",
    "* Cada nodo tiene dos elementos, el valor que deseamos guardar y un pointer al siguiente nodo\n",
    "* Un pointer es simplemente una referencia a otro lugar, u objeto en memoria\n",
    "* El primer nodo se llama Head y el último se llama Tail \n",
    "* Son null terminated: El tail de la lista apunta hacia null \n"
   ]
  },
  {
   "cell_type": "markdown",
   "metadata": {},
   "source": [
    "* Talvez son mejores a la hora de insertar eliminar un elemento por ese pointer que tienen. Creo que no habría que cambiar los índices. \n",
    "* Traversal de un linked list es empezar en la cabeza del linked list y seguir hasta cuando la condición se cumpla. Según entiendo acá ya no tenemos índices. \n",
    "* Casi nunca sabemos que tan larga es la lista \n",
    "* Los datos pueden estar organizados, según los pointers "
   ]
  },
  {
   "cell_type": "markdown",
   "metadata": {},
   "source": [
    "## **Big O**\n",
    "* prepend : insertar un elemento al inicio O(1)\n",
    "* append : insertar un lemento al final O(1)\n",
    "* Lookup : traversal: buscar un elemento O(n)\n",
    "* Insert : insertar un elemento O(n)\n",
    "* Delete : eliminar un elemento O(n)"
   ]
  },
  {
   "cell_type": "code",
   "execution_count": 1,
   "metadata": {},
   "outputs": [],
   "source": [
    "mylinkedlist = dict()\n",
    "mylinkedlist['head'] = {'value':10,'next':{'value':5,'next':{'value':16,'next':None}}}"
   ]
  },
  {
   "cell_type": "code",
   "execution_count": 2,
   "metadata": {},
   "outputs": [
    {
     "data": {
      "text/plain": [
       "{'head': {'value': 10,\n",
       "  'next': {'value': 5, 'next': {'value': 16, 'next': None}}}}"
      ]
     },
     "execution_count": 2,
     "metadata": {},
     "output_type": "execute_result"
    }
   ],
   "source": [
    "mylinkedlist"
   ]
  },
  {
   "cell_type": "code",
   "execution_count": 16,
   "metadata": {},
   "outputs": [],
   "source": [
    "#First we define a class Node which will act as a blueprint for each of our nodes\n",
    "class Node():\n",
    "    def __init__(self, data): #When instantiating a Node, we will pass the data we want the node to hold\n",
    "        self.data = data #The data passed during instantiation will be stored in self.data\n",
    "        self.next = None #This self.next will act as a pointer to the next node in the list. When creating a new node, it always points to null(or None).\n",
    "\n",
    "class LinkedList():\n",
    "    \n",
    "    def __init__(self):\n",
    "        self.head = None\n",
    "        self.tail = self.head\n",
    "        self.length = 0\n",
    "        \n",
    "    def append(self, data):\n",
    "        new_node = Node(data) # cada nodo tiene un valor y un pointer al siguiente nodo llamado Next \n",
    "        if self.head == None:\n",
    "            self.head = new_node # si no hay ningún nodo agregelo como la cabeza de la lista \n",
    "            self.tail = self.head # la cola de la lista será igual a su cabeza\n",
    "            self.length = 1 # La longitud es de uno \n",
    "        else:\n",
    "            self.tail.next = new_node #referenciamos al siguiente nodo, en vez de apuntar a null   \n",
    "            self.tail = new_node \n",
    "            self.length += 1\n",
    "\n",
    "    def prepend(self, data): # no hay que hacer un loop de nada\n",
    "        new_node = Node(data)\n",
    "        if self.head == None: # si no hay una cabeza\n",
    "            self.head = new_node # la cabeza será el nuevo nodo \n",
    "            self.tail = self.head  \n",
    "            self.length += 1\n",
    "        else:\n",
    "            new_node.next = self.head # ponemos al new node como head y su next es el nodo que estaba como head \n",
    "            self.head = new_node # ahora el nuevo head es el nuevo nodo \n",
    "            self.length += 1\n",
    "\n",
    "    def print_list(self):\n",
    "        if self.head == None:\n",
    "            print(\"Empty\")\n",
    "        else:\n",
    "            current_node = self.head\n",
    "            while current_node!= None:\n",
    "                print(current_node.data, end= ' ')\n",
    "                current_node = current_node.next\n",
    "        print()\n",
    "\n",
    "    def insert(self, position, data):\n",
    "        if position >= self.length:\n",
    "            if position>self.length:# si la posición donde se quiere insertar es mayor a la longitud de la lista \n",
    "                print(\"This position is not available. Inserting at the end of the list\")\n",
    "            new_node = Node(data)\n",
    "            self.tail.next = new_node # la cola de la lista será igual a ese nodo \n",
    "            self.tail = new_node\n",
    "            self.length += 1\n",
    "            \n",
    "        elif position == 0: # si la posición es 0 \n",
    "            new_node = Node(data)\n",
    "            new_node.next = self.head # movemos la cabeza original a ser el next de la cabeza actual \n",
    "            self.head = new_node \n",
    "            self.length += 1\n",
    "        else:\n",
    "            new_node = Node(data)\n",
    "            current_node = self.head\n",
    "            for i in range(position-1):\n",
    "                current_node = current_node.next\n",
    "            new_node.next = current_node.next\n",
    "            current_node.next = new_node\n",
    "            self.length += 1\n",
    "\n",
    "    def delete_by_value(self, data):\n",
    "        if self.head == None:\n",
    "            print(\"Linked List is empty. Nothing to delete.\")\n",
    "            return\n",
    "        current_node = self.head\n",
    "        if current_node.data == data:\n",
    "            self.head = self.head.next\n",
    "            if self.head == None or self.head.next==None:\n",
    "                self.tail = self.head\n",
    "            self.length -= 1\n",
    "            return\n",
    "        while current_node.next!= None and current_node.next.data != data:\n",
    "            #if current_node.data == data:\n",
    "            #    previous_node.next = current_node.next\n",
    "            #    return\n",
    "            current_node = current_node.next\n",
    "        if current_node.next!=None:\n",
    "            current_node.next = current_node.next.next\n",
    "            if current_node.next == None:\n",
    "                self.tail = current_node\n",
    "            self.length -= 1\n",
    "            return\n",
    "        else:\n",
    "            print(\"Given value not found.\")\n",
    "            \n",
    "    def delete_by_position(self, position):\n",
    "        if self.head == None:\n",
    "            print(\"Linked List is empty. Nothing to delete.\")\n",
    "            return\n",
    "        if position == 0:\n",
    "            self.head = self.head.next\n",
    "            if self.head == None or self.head.next == None:\n",
    "                self.tail = self.head\n",
    "            self.length -= 1\n",
    "            return\n",
    "        if position>=self.length:\n",
    "            position = self.length-1\n",
    "        current_node = self.head\n",
    "        for i in range(position - 1):\n",
    "            current_node = current_node.next\n",
    "        current_node.next = current_node.next.next\n",
    "        self.length -= 1\n",
    "        if current_node.next == None:\n",
    "            self.tail = current_node\n",
    "        return"
   ]
  },
  {
   "cell_type": "code",
   "execution_count": 18,
   "metadata": {},
   "outputs": [
    {
     "name": "stdout",
     "output_type": "stream",
     "text": [
      "5 2 9 \n"
     ]
    }
   ],
   "source": [
    "my_linked_list = LinkedList()\n",
    "my_linked_list.append(5)\n",
    "my_linked_list.append(2)\n",
    "my_linked_list.append(9)\n",
    "my_linked_list.print_list()"
   ]
  },
  {
   "cell_type": "markdown",
   "metadata": {},
   "source": [
    "# **4) Stacks and Queues**"
   ]
  },
  {
   "cell_type": "markdown",
   "metadata": {},
   "source": [
    "* Son lineales \n",
    "* Nos permite hacer un traverse de los datos uno a uno\n",
    "* Operaciones con los elementos del inicio o final "
   ]
  },
  {
   "cell_type": "markdown",
   "metadata": {},
   "source": [
    "## **Stacks (LIFO)**"
   ]
  },
  {
   "cell_type": "markdown",
   "metadata": {},
   "source": [
    "* Un plato encima del otro \n",
    "* Solo podemos tocar el último plato de nuestra torre\n",
    "* Last in , first out : el último elemento que ingresa es el primero que sale \n",
    "* Se úeden crear con arrays o linked list \n",
    "\n",
    "### **Big O**\n",
    "* Pop : quitar el último elemento O(1) \n",
    "* Push : agregar un elemento al final O(1)\n",
    "* Peek : ver el elemento que está en lo más alto \n",
    "* Lookup : revisar O(n)  "
   ]
  },
  {
   "cell_type": "code",
   "execution_count": 29,
   "metadata": {},
   "outputs": [],
   "source": [
    "class Node():\n",
    "    def __init__(self, data):\n",
    "        self.data = data\n",
    "        self.next = None\n",
    "\n",
    "\n",
    "#Now we create the Stack class\n",
    "#It will consist of a constructor having the top pointer, i.e., the pointer which points to the top element of the stack at any given time\n",
    "#The length variable which keeps track of the length of the stack, and a bottom pointer which points to bottom most element of the stack\n",
    "#After this will come the methods associated with a stack\n",
    "class Stack():\n",
    "    def __init__(self):\n",
    "        self.top = None\n",
    "        self.bottom = None\n",
    "        self.length = 0\n",
    "\n",
    "#The peek method will allow us to peek at the top element,i.e.,\n",
    "#It will return the element at the top of the stack without removing it from the stack.\n",
    "#Since for this we only need to see what the top pointer points at, the time complexity will be O(1)\n",
    "    def peek(self):\n",
    "        if self.top is None:\n",
    "            return None\n",
    "        return self.top.data\n",
    "\n",
    "\n",
    "#Next comes the push operation, where we insert an element at the top of the stack\n",
    "#Again this only requires access to the top pointer and inl=volves no looping.\n",
    "#So time complexity is O(1)\n",
    "    def push(self, data):\n",
    "        new_node = Node(data)\n",
    "        if self.top == None: #If the stack is empty, we make the top and bottom pointer both point to the new node\n",
    "            self.top = new_node\n",
    "            self.bottom = new_node\n",
    "        else: #Otherwise, we make the next of the new node, which was pointing to None, point to the present top and then update the top pointer\n",
    "            new_node.next = self.top\n",
    "            self.top = new_node\n",
    "        self.length += 1\n",
    "\n",
    "#Next comes the pop operation wehere we remove the top element from the stack\n",
    "#Its time complexity is O(1) as well\n",
    "    def pop(self):\n",
    "        if self.top == None: #If the stack is empty, we print an appropriate message\n",
    "            print(\"Stack empty\")\n",
    "        else: #Else we make the top pointer point to the next of the top pointer and decrease the length by 1, effectively deleting the top element.\n",
    "            self.top = self.top.next\n",
    "            self.length -= 1\n",
    "            if(self.length == 0): #We make the bottom pointer None if there was only 1 element in the stack and that gets popped\n",
    "                self.bottom = None\n",
    "\n",
    "#Finally we'll implement a print method which prints the elements of the stack from top to bottom\n",
    "#This will be an O(n) operation as we'll obviously have to traverse the entire linked list to print all elelments\n",
    "    def print_stack(self):\n",
    "        if self.top == None:\n",
    "            print(\"Stack empty\")\n",
    "        else:\n",
    "            current_pointer = self.top\n",
    "            while(current_pointer!=None):\n",
    "                print(current_pointer.data)\n",
    "                current_pointer = current_pointer.next\n"
   ]
  },
  {
   "cell_type": "code",
   "execution_count": 28,
   "metadata": {},
   "outputs": [
    {
     "data": {
      "text/plain": [
       "<__main__.Stack at 0x1ffe39bf190>"
      ]
     },
     "execution_count": 28,
     "metadata": {},
     "output_type": "execute_result"
    }
   ],
   "source": [
    "mystack = Stack()\n",
    "mystack.push('google')\n",
    "mystack"
   ]
  },
  {
   "cell_type": "markdown",
   "metadata": {},
   "source": [
    "## **Queues (FIFO)**"
   ]
  },
  {
   "cell_type": "markdown",
   "metadata": {},
   "source": [
    "* First in first out : el primer elemento que ingresa al queue es el primero que sale \n",
    "* No usar arrays para crear queues porque a la hora de elimnar tenemos que correr todos los índices \n",
    "* Usar linked list porque a la hora de sacar el primero simpelmente el head de la lista cambia y ya \n",
    "    \n",
    "### **Big O**\n",
    "\n",
    "* lookup : O(n)\n",
    "* enqueue : push : O(1)\n",
    "* dequeue : pop :  O(1)\n",
    "* peek :  cual es el primer elemento que va a salir : O(1)"
   ]
  },
  {
   "cell_type": "code",
   "execution_count": null,
   "metadata": {},
   "outputs": [],
   "source": [
    "\n",
    "#Like for stacks, we need a node class which will contain the data and a pointer to the next node\n",
    "class Node():\n",
    "    def __init__(self, data):\n",
    "        self.data = data\n",
    "        self.next = None\n",
    "\n",
    "\n",
    "#Next we need the Queue class itself which will contain a constructor initialising the queue and then the methods we require\n",
    "class Queue():\n",
    "\n",
    "#The 'first' pointer will always point to the front of the queue, the element which is to be removed next that is\n",
    "#The 'last' pointer will always point to the end of the queue, i.e., the element which has last been entered\n",
    "    def __init__(self):\n",
    "        self.first = None\n",
    "        self.last = None\n",
    "        self.length = 0\n",
    "\n",
    "#Now comes the peek method which will return the element at the front of the queue\n",
    "    def peek(self):\n",
    "        return self.first.data\n",
    "\n",
    "#The enqueue operation will add an element at the end of the queue\n",
    "#If the queue is empty, it will make both the first and last pointer point to the new node\n",
    "#Else, if will first make the next of the new node to point to the present last node and then it will update the last node to point to the new node\n",
    "#Time complexity will be O(1)\n",
    "    def enqueue(self, data):\n",
    "        new_node = Node(data)\n",
    "        if self.last == None:\n",
    "            self.last = new_node\n",
    "            self.first = self.last\n",
    "            self.length += 1\n",
    "            return\n",
    "        else:\n",
    "            self.last.next = new_node\n",
    "            self.last = new_node\n",
    "            self.length += 1\n",
    "            return\n",
    "\n",
    "\n",
    "#Next comes the dequeue operation which removes the front element of the queue\n",
    "#If the queue is empty, it will print an apropriate message\n",
    "#Else, it will simply make the first pointer point to the next element of the first pointer.\n",
    "    def dequeue(self):\n",
    "        if self.last == None:\n",
    "            print(\"Quue Empty\")\n",
    "            return\n",
    "        if self.last == self.first:\n",
    "            self.last = None\n",
    "        self.first = self.first.next\n",
    "        self.length -= 1\n",
    "        return\n",
    "\n",
    "#Finally we'll create the print method which prints the elements of the queue in, well, a queue like format\n",
    "    def print_queue(self):\n",
    "        if self.length == 0:\n",
    "            print(\"Queue Empty\")\n",
    "            return\n",
    "        else:\n",
    "            current_pointer = self.first\n",
    "            while(current_pointer!= None):\n",
    "                if current_pointer.next == None:\n",
    "                    print(current_pointer.data)\n",
    "                else:\n",
    "                    print(f'{current_pointer.data}  <<--  ', end='')\n",
    "                current_pointer = current_pointer.next\n",
    "            return\n"
   ]
  },
  {
   "cell_type": "markdown",
   "metadata": {},
   "source": [
    "# **5) Árboles**"
   ]
  },
  {
   "cell_type": "markdown",
   "metadata": {},
   "source": [
    "* Es una estructura jerarquica \n",
    "* Tienen nodos hijos\n",
    "* Funciona similar a los linked lists \n",
    "* Los nodos hijos no referencian a los nodos padres "
   ]
  },
  {
   "cell_type": "markdown",
   "metadata": {},
   "source": [
    "## **Binary Tree**"
   ]
  },
  {
   "cell_type": "markdown",
   "metadata": {},
   "source": [
    "* Cada nodo puede tener 0 o 2 nodos hijos \n",
    "* Árboles perfectos: cada nodo tiene dos hijos \n",
    "     o\n",
    "  o     o\n",
    "o   o  o  o\n",
    "\n",
    "* Cada nivel tiene el doble del anterior \n",
    "* Esto quiere decir que la mitad de los datos siempre están en el nivel más bajo "
   ]
  },
  {
   "cell_type": "markdown",
   "metadata": {},
   "source": [
    "### Para calcular el número de nodos en cada nivel se puede hacer 2^n = numero de nodos. Siendo n el nivel en el que estamos empezando en 0 \n",
    "### Para calcular el número de nodos total será 2^h-1 siendo h el número de niveles del árbol \n",
    "\n",
    "* nodes = 2^h-1 \n",
    "* log nodes = h \n",
    "\n",
    "Log N es como una forma de decidir y no tener que recorrer todo, es más eficiente que O(n)"
   ]
  },
  {
   "cell_type": "markdown",
   "metadata": {},
   "source": [
    "### **Binary search tree**"
   ]
  },
  {
   "cell_type": "markdown",
   "metadata": {},
   "source": [
    "* Cada valor a la derecha debe ser mayor que el parent \n",
    "* Cada valor a la izquierda debe ser menor que el parent \n",
    "* Los valores entonces se encuentran ordenados \n",
    "\n",
    "#### Big O \n",
    "* lookup : O(log N)\n",
    "* insert : O(log N)\n",
    "* delete : O(log N)\n",
    "  \n",
    "* Cuando está balanceado se maneja como O(log N)\n",
    "* Cuando está desbalanceado se transforma como en un linked list O(n) para las operaciones "
   ]
  },
  {
   "cell_type": "code",
   "execution_count": 3,
   "metadata": {},
   "outputs": [],
   "source": [
    "class Node():\n",
    "    def __init__(self,value):\n",
    "        self.value = value\n",
    "        self.left = None\n",
    "        self.right = None"
   ]
  },
  {
   "cell_type": "code",
   "execution_count": null,
   "metadata": {},
   "outputs": [],
   "source": [
    "class BinaryTreeNone():\n",
    "    def __init__(self):\n",
    "        self.root = None\n",
    "        self.number_of_nodes = 0\n",
    "    \n",
    "    def insert(self, data):\n",
    "        new_node = Node(data)\n",
    "        if self.root == None:\n",
    "            self.root = new_node\n",
    "            self.number_of_nodes += 1\n",
    "            return\n",
    "        else:\n",
    "            current_node = self.root\n",
    "            while(current_node.left != new_node) and (current_node.right != new_node):\n",
    "                \n",
    "                if new_node.data > current_node.data: # si el valor que quiero insertar es mayor al valor que está como root \n",
    "                    # Derecha \n",
    "                    if current_node.right == None: # Si no hay ningún valor a la derecha, meta este valor ahí. \n",
    "                        current_node.right = new_node \n",
    "                    else: # De lo contrario, el nuevo nodo actual será ese en el que estamos dentro del loop \n",
    "                        current_node = current_node.right# seguiremos dentro del loop hasta cuando se cumpla la condición del If \n",
    "                        \n",
    "                elif new_node.data < current_node.data:\n",
    "                    if current_node.left == None:\n",
    "                        current_node.left = new_node\n",
    "                    else:\n",
    "                        current_node = current_node.left\n",
    "                        \n",
    "            self.number_of_nodes += 1\n",
    "            return\n",
    "        \n",
    "    def lookup(self,data):\n",
    "        new_node = Node(data)\n",
    "        # Miro si el root del arbol es el valor que estamos buscando,de ser así lo devolvemos \n",
    "        if self.root == None:\n",
    "            return False\n",
    "        else:\n",
    "            current_node = self.root\n",
    "            \n",
    "            while True:\n",
    "                \n",
    "                if current_node.value < new_node.value:\n",
    "                    if current_node.left == None:\n",
    "                        return None \n",
    "                    else:\n",
    "                        current_node =  current_node.left\n",
    "                        \n",
    "                elif current_node.value > new_node.value:# si el valor que estamos buscando es mayor a el valor del nodo en donde estamos parados \n",
    "                    if current_node.right == None:\n",
    "                        return None \n",
    "                    else:\n",
    "                        current_node = current_node.right\n",
    "\n",
    "        \n",
    " "
   ]
  },
  {
   "cell_type": "markdown",
   "metadata": {},
   "source": [
    "### **Binary heap**"
   ]
  },
  {
   "cell_type": "markdown",
   "metadata": {},
   "source": [
    "* Cada nodo en un nivel superior tiene un valor mayor que los nodos del siguiente nivel \n",
    "* Usado en prioridades \n",
    "* Como ya no hay un orden específico de left menor y right mayor, a la hora de buscar toca uno por uno \n",
    "* Son siempre un complete tree \n",
    "* La insersión siempre se hace de izquierda a derecha \n",
    "* Encontrar el máximo o el mínimo"
   ]
  }
 ],
 "metadata": {
  "kernelspec": {
   "display_name": "Python 3.9.12 ('venv': venv)",
   "language": "python",
   "name": "python3"
  },
  "language_info": {
   "codemirror_mode": {
    "name": "ipython",
    "version": 3
   },
   "file_extension": ".py",
   "mimetype": "text/x-python",
   "name": "python",
   "nbconvert_exporter": "python",
   "pygments_lexer": "ipython3",
   "version": "3.9.12"
  },
  "orig_nbformat": 4,
  "vscode": {
   "interpreter": {
    "hash": "20f144789bf24080991812d21b55a56432d841c27d104b385ae1eb36e8d0eb63"
   }
  }
 },
 "nbformat": 4,
 "nbformat_minor": 2
}
