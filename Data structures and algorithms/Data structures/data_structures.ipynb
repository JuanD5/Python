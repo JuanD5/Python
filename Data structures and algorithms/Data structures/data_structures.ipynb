{
 "cells": [
  {
   "cell_type": "markdown",
   "metadata": {},
   "source": [
    "# **1) Arrays**"
   ]
  },
  {
   "cell_type": "markdown",
   "metadata": {},
   "source": [
    "## **Big O**\n"
   ]
  },
  {
   "cell_type": "markdown",
   "metadata": {},
   "source": [
    "* Lookup O(1) acceder \n",
    "* Push O(1) meter un elemento al final \n",
    "* Insert O(n) meter un elemento en una posición dada\n",
    "* Delete O(n)\n",
    "* También llamados listas organizan los datos de forma secuencial\n",
    "* Tenemos un indice para saber la posición de cada elemento\n",
    "  "
   ]
  },
  {
   "cell_type": "markdown",
   "metadata": {},
   "source": [
    "## **Operaciones**"
   ]
  },
  {
   "cell_type": "code",
   "execution_count": 1,
   "metadata": {},
   "outputs": [],
   "source": [
    "strings = ['a','b','c','d']"
   ]
  },
  {
   "cell_type": "code",
   "execution_count": 2,
   "metadata": {},
   "outputs": [
    {
     "name": "stdout",
     "output_type": "stream",
     "text": [
      "['a', 'b', 'c', 'd', 'e']\n"
     ]
    }
   ],
   "source": [
    "# Push : append en python : añadir al final del array \n",
    "strings.append('e') # O(1) no estamos haciendo un loop sobre nada \n",
    "print(strings)"
   ]
  },
  {
   "cell_type": "code",
   "execution_count": 3,
   "metadata": {},
   "outputs": [
    {
     "name": "stdout",
     "output_type": "stream",
     "text": [
      "['a', 'b', 'c', 'd']\n"
     ]
    }
   ],
   "source": [
    "# Pop : pop en python : quitar el último elemento \n",
    "strings.pop() # O(1) no estamos haciendo ningun loop sobre el array \n",
    "print(strings)"
   ]
  },
  {
   "cell_type": "code",
   "execution_count": 4,
   "metadata": {},
   "outputs": [
    {
     "name": "stdout",
     "output_type": "stream",
     "text": [
      "['x', 'a', 'b', 'c', 'd']\n"
     ]
    }
   ],
   "source": [
    "# Insert : insert en python : insertar un elemento en una posición dada \n",
    "strings.insert(0,'x') # O(n) : porque internamente el computador debe correr todos los índices para reasignar todos los indices \n",
    "print(strings)"
   ]
  },
  {
   "cell_type": "code",
   "execution_count": 5,
   "metadata": {},
   "outputs": [
    {
     "name": "stdout",
     "output_type": "stream",
     "text": [
      "['x', 'a', 'alien', 'b', 'c', 'd']\n"
     ]
    }
   ],
   "source": [
    "# Splice : insert en python : insertar un elemento en una posición dada \n",
    "strings.insert(2,'alien') # O(n) : porque internamente el computador debe correr todos los índices para reasignar todos los indices \n",
    "print(strings)"
   ]
  },
  {
   "cell_type": "markdown",
   "metadata": {},
   "source": [
    "### Array native python methods :-\n",
    "* append()\tAdds an element at the end of the list\n",
    "* clear()\tRemoves all the elements from the list\n",
    "* copy()\tReturns a copy of the list\n",
    "* count()\tReturns the number of elements with the specified value\n",
    "* extend()\tAdd the elements of a list (or any iterable), to the end of the current list\n",
    "* index()\tReturns the index of the first element with the specified value\n",
    "* insert()\tAdds an element at the specified position\n",
    "* pop()\tRemoves the element at the specified position\n",
    "* remove()\tRemoves the first item with the specified value\n",
    "* reverse()\tReverses the order of the list\n",
    "* sort()\tSorts the list\n",
    "\n",
    "* List objects are implemented as arrays. \n",
    "* They are optimized for fast fixed-length operations and incur O(n) memory movement costs for pop(0) and insert(0, v) \n",
    "#operations which change both the size and position of the underlying data representation."
   ]
  },
  {
   "cell_type": "markdown",
   "metadata": {},
   "source": [
    "### Tipos de arrays\n",
    "\n",
    "* Estaticos : tienen el mismo tamaño, hay que especificar el tamaño del array desde un principio. Si queremos agregar un elemento, se debe hacer una copia del que tenemos y ahí si agregar después el elemento \n",
    "* Dinámicos : No hay que pensar sobre la memoria que se gasta ya que todo lo hace el compu. Estos se expanden a medida que hacemos las operaciones. "
   ]
  },
  {
   "cell_type": "markdown",
   "metadata": {},
   "source": [
    "## **Implementación de un array**"
   ]
  },
  {
   "cell_type": "code",
   "execution_count": 20,
   "metadata": {},
   "outputs": [],
   "source": [
    "class Array:\n",
    "    def __init__(self):\n",
    "        self.length = 0 # longitud inicial del array \n",
    "        self.data = {} # datos iniciales del array \n",
    "    \n",
    "    def __str__(self):\n",
    "        return str(self.__dict__) \n",
    "    \n",
    "    def get(self,index): # acceder a un elemento \n",
    "        return self.data[index]   \n",
    "    \n",
    "    def push(self,item):\n",
    "        self.data[self.length] = item # en el indice actual, 0 en un principio vamos a meter el valor que diga la persona \n",
    "        self.length+=1 # Incrementamos la longitud del array en 1 y luego cuando una persona inserte otro valor se hará en el indice 1 \n",
    "        return self.length\n",
    "    \n",
    "    def pop(self):\n",
    "        lastitem = self.data[self.length-1]\n",
    "        del self.data[self.length-1]\n",
    "        self.length-=1\n",
    "        return lastitem\n",
    "    \n",
    "    def shiftItems(self,index):\n",
    "        for i in range(index,self.length-1):# un rango que va desde el indice que nos dan hasta la longitud del array -1 \n",
    "            self.data[i] = self.data[i+1] # corremos todos los elementos hacia la izquierda una posicion \n",
    "        del self.data[self.length-1]\n",
    "        self.length-=1\n",
    "        \n",
    "    def delete(self,index): # debemos elminar el valor y correr todos los indices \n",
    "        item = self.data[index]\n",
    "        self.shiftItems(index)\n",
    "        return item\n",
    "        "
   ]
  },
  {
   "cell_type": "code",
   "execution_count": 23,
   "metadata": {},
   "outputs": [
    {
     "name": "stdout",
     "output_type": "stream",
     "text": [
      "{'length': 4, 'data': {0: 'you', 1: '!', 2: 'are', 3: 'nice'}}\n"
     ]
    }
   ],
   "source": [
    "arr = Array()\n",
    "arr.push('hi')\n",
    "arr.push('you')\n",
    "arr.push('!')\n",
    "arr.push('are')\n",
    "arr.push('nice')\n",
    "arr.delete(0)\n",
    "print(arr)"
   ]
  },
  {
   "cell_type": "markdown",
   "metadata": {},
   "source": [
    "* Los strings se deben manejar como arrays"
   ]
  },
  {
   "cell_type": "code",
   "execution_count": 24,
   "metadata": {},
   "outputs": [
    {
     "name": "stdout",
     "output_type": "stream",
     "text": [
      "3\n"
     ]
    }
   ],
   "source": [
    "my_string = 'are'\n",
    "print(len(my_string))"
   ]
  },
  {
   "cell_type": "markdown",
   "metadata": {},
   "source": [
    "## **Reverse a string**"
   ]
  },
  {
   "cell_type": "code",
   "execution_count": 25,
   "metadata": {},
   "outputs": [],
   "source": [
    "# Yo lo haria con algo que cambie los indices el último al primero y listo \n",
    "def reverse(my_string):\n",
    "    if not my_string or len(my_string) < 2:\n",
    "        return 'El input es incorrecto'\n",
    "    backwards = []\n",
    "    for i in range(len(my_string)-1,-1,-1): # va desde el indice del último elemento del array, hasta el indice 0 a pasos de -1 \n",
    "        backwards.append(i)\n",
    "    return ''.join(backwards) # para transformarlo denuevo al array \n",
    "        "
   ]
  },
  {
   "cell_type": "code",
   "execution_count": 31,
   "metadata": {},
   "outputs": [
    {
     "name": "stdout",
     "output_type": "stream",
     "text": [
      "3\n",
      "2\n",
      "1\n",
      "0\n"
     ]
    }
   ],
   "source": [
    "my_string = 'hola'\n",
    "# El string tiene longitud 4 pero los indices son 0,1,2,3\n",
    "x = range(len(my_string)-1,-1,-1)\n",
    "         # Cree un rango que comience en 3, termine en 0 y vaya decreciendo de a -1 \n",
    "         # inicio posicion 4-1 : 3\n",
    "         # Ponemos fin -1 ya que esto es exclusivo entonces si ponemos 0 aca llegaría hasta 1 \n",
    "         # Pasos de -1 \n",
    "for i in x:\n",
    "    print(i)"
   ]
  },
  {
   "cell_type": "code",
   "execution_count": 46,
   "metadata": {},
   "outputs": [
    {
     "name": "stdout",
     "output_type": "stream",
     "text": [
      "6\n",
      "5\n",
      "4\n",
      "3\n",
      "2\n",
      "1\n",
      "0\n"
     ]
    }
   ],
   "source": [
    "my_string = 'holaLAURA'\n",
    "x = range(6,-1,-1)\n",
    "         # inicio posicion 4-1 : 3      \n",
    "for i in x:\n",
    "    print(i)"
   ]
  },
  {
   "cell_type": "code",
   "execution_count": 50,
   "metadata": {},
   "outputs": [
    {
     "data": {
      "text/plain": [
       "'holaLA'"
      ]
     },
     "execution_count": 50,
     "metadata": {},
     "output_type": "execute_result"
    }
   ],
   "source": [
    "my_string[0:6:1]"
   ]
  },
  {
   "cell_type": "markdown",
   "metadata": {},
   "source": [
    "## **Merge sorted Arrays**"
   ]
  },
  {
   "cell_type": "code",
   "execution_count": null,
   "metadata": {},
   "outputs": [],
   "source": [
    "def mergesortedarray(array1,array2):\n",
    "    mergedArray = []\n",
    "    array1Item = array1[0]\n",
    "    array2Item = array2[0]\n",
    "    i = 1\n",
    "    j = 1\n",
    "    # Check input \n",
    "    if not array2:\n",
    "        return array1\n",
    "    elif not array1:\n",
    "        return array2\n",
    "\n",
    "    while (array1Item or array2Item):# mientras que tengamos un elmento dentro del array \n",
    "        if not array2Item or (array1Item < array2Item):\n",
    "            mergedArray.append(array1Item)\n",
    "            array1Item = array1[i]\n",
    "            i+=1\n",
    "        else:\n",
    "            mergedArray.append(array2Item)\n",
    "            array2Item = array2[j]\n",
    "            j+=1      \n",
    "    return mergedArray"
   ]
  },
  {
   "cell_type": "code",
   "execution_count": 51,
   "metadata": {},
   "outputs": [],
   "source": [
    "arr2 = []"
   ]
  },
  {
   "cell_type": "code",
   "execution_count": 55,
   "metadata": {},
   "outputs": [
    {
     "data": {
      "text/plain": [
       "True"
      ]
     },
     "execution_count": 55,
     "metadata": {},
     "output_type": "execute_result"
    }
   ],
   "source": [
    "not arr2"
   ]
  }
 ],
 "metadata": {
  "interpreter": {
   "hash": "66e4a4b7c121db4243309d1eb7f3fba70ad006b305f754897095e92fca8ac47b"
  },
  "kernelspec": {
   "display_name": "Python 3.8.5 ('base')",
   "language": "python",
   "name": "python3"
  },
  "language_info": {
   "codemirror_mode": {
    "name": "ipython",
    "version": 3
   },
   "file_extension": ".py",
   "mimetype": "text/x-python",
   "name": "python",
   "nbconvert_exporter": "python",
   "pygments_lexer": "ipython3",
   "version": "3.8.5"
  },
  "orig_nbformat": 4
 },
 "nbformat": 4,
 "nbformat_minor": 2
}
