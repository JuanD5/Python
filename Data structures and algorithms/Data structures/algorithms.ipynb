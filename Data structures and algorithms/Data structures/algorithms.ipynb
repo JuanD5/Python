{
 "cells": [
  {
   "cell_type": "markdown",
   "metadata": {},
   "source": [
    "# **_Algoritmos_**"
   ]
  },
  {
   "cell_type": "markdown",
   "metadata": {},
   "source": [
    "## **1) Recursion**"
   ]
  },
  {
   "cell_type": "markdown",
   "metadata": {},
   "source": [
    "* La recursión es cuando definimos algo en términos de si mismo \n",
    "* Una función que se refiere a si misma \n",
    "* Es muy usada en algoritmos de busqueda y para ordenar \n",
    "* Hay que entender cuando detener la llamada de la función  "
   ]
  },
  {
   "cell_type": "markdown",
   "metadata": {},
   "source": [
    "### Todas las funciones de recursión deben tener un base case o llamado stopper \n",
    "* Puede ser un contador que vaya contando las veces que llamemos la función \n",
    "* Siempre hay dos paths uno donde seguimos haciendo la recursion y otro donde nos detenemos \n",
    "* Usado con arboles y hacer traversals \n",
    "* Problemas que se vuelven más pequeños pero que siguen siendo el mismo problema "
   ]
  },
  {
   "cell_type": "markdown",
   "metadata": {},
   "source": [
    "### **Factorial**"
   ]
  },
  {
   "cell_type": "code",
   "execution_count": 7,
   "metadata": {},
   "outputs": [],
   "source": [
    "def factorial_recursive(num):\n",
    "    if num == 2:\n",
    "        return 2 \n",
    "    return(num*factorial_iterative(num-1))"
   ]
  },
  {
   "cell_type": "markdown",
   "metadata": {},
   "source": [
    "#### Esta función es O(n) porque la llamamos tantas veces como el número"
   ]
  },
  {
   "cell_type": "markdown",
   "metadata": {},
   "source": [
    "* Sería es 5 = 2 : no\n",
    "* Ejecute 5 * factorial(5-1 = 4)\n",
    "* Es 4 = 2 : no \n",
    "* Ejecute 4 * factorial (4-1 = 3)  \n",
    "* Es 3 = 2 : no\n",
    "Y así hasta llegar a 2 "
   ]
  },
  {
   "cell_type": "code",
   "execution_count": 5,
   "metadata": {},
   "outputs": [],
   "source": [
    "def factorial_iterative(num):\n",
    "    ans = 1\n",
    "    if num == 2:\n",
    "        ans = 2\n",
    "    for i in range(2,num+1,1):\n",
    "        ans = ans*i\n",
    "    return ans    \n",
    "        "
   ]
  },
  {
   "cell_type": "markdown",
   "metadata": {},
   "source": [
    "#### Esta función es 0(n)"
   ]
  },
  {
   "cell_type": "code",
   "execution_count": 6,
   "metadata": {},
   "outputs": [
    {
     "data": {
      "text/plain": [
       "120"
      ]
     },
     "execution_count": 6,
     "metadata": {},
     "output_type": "execute_result"
    }
   ],
   "source": [
    "factorial_iterative(5)"
   ]
  },
  {
   "cell_type": "code",
   "execution_count": 8,
   "metadata": {},
   "outputs": [
    {
     "data": {
      "text/plain": [
       "120"
      ]
     },
     "execution_count": 8,
     "metadata": {},
     "output_type": "execute_result"
    }
   ],
   "source": [
    "factorial_recursive(5)"
   ]
  },
  {
   "cell_type": "markdown",
   "metadata": {},
   "source": [
    "### **Fibonacci**"
   ]
  },
  {
   "cell_type": "markdown",
   "metadata": {},
   "source": [
    "* O(2^n): exponencial"
   ]
  },
  {
   "cell_type": "code",
   "execution_count": 9,
   "metadata": {},
   "outputs": [],
   "source": [
    "def fibonacci(n):\n",
    "    if n < 2:\n",
    "        return n \n",
    "    return fibonacci(n-1) + fibonacci(n-2) \n",
    "                    #fib(3)  +fib(2)\n",
    "                    #fib(2) + fib(1) + fib(1) + fib(0)\n",
    "                    #fib(1) + fib(0) "
   ]
  },
  {
   "cell_type": "markdown",
   "metadata": {},
   "source": [
    "0 1 1 2 3 "
   ]
  },
  {
   "cell_type": "code",
   "execution_count": 10,
   "metadata": {},
   "outputs": [
    {
     "data": {
      "text/plain": [
       "3"
      ]
     },
     "execution_count": 10,
     "metadata": {},
     "output_type": "execute_result"
    }
   ],
   "source": [
    "fibonacci(4)"
   ]
  },
  {
   "cell_type": "markdown",
   "metadata": {},
   "source": [
    "## **2) Searching (BFS + DFS)**"
   ]
  },
  {
   "cell_type": "markdown",
   "metadata": {},
   "source": [
    "### **Linear Search**\n",
    "* Encontrar un valor en una lista \n",
    "* Mira cada elemento de la lista hasta que lo encuentra O(n)\n",
    "* Si los datos estuviesen ordenados hay una mejor opción\n",
    "\n",
    "### **Binary Search**\n",
    "* Podemos buscar como en un diccionario de palabras, partiendo por la mitad cada vez \n",
    "* Como está ordenado, entonces podemos hacerlo mejor que O(n)\n",
    "* Al final esto es un Binary Search Tree O log(n)\n",
    "\n",
    "*  Traversal : ir nodo a nodo buscando un valor en específico o asegurandonos que tocamos cada nodo\n",
    "  "
   ]
  },
  {
   "cell_type": "markdown",
   "metadata": {},
   "source": [
    "### **Breath First search (BFS) (a lo ancho)**\n",
    "\n",
    "* Nos movemos de izquierda a derecha por cada uno de los diferentes niveles\n",
    "* Tenemos que tener en cuenta cada uno de los nodos y sus correspondientes hijos \n",
    "\n",
    "### **Depth first search (DFS) (a lo profundo)**\n",
    "\n",
    "* Nos movemos todo hacia la izquierda lo que podamos, llegamos a un hoja, subimos y visitamos la otra hoja. \n",
    "\n",
    "#### Ventajas y desventajas:\n",
    "* O(n) para ambos \n",
    "* BFS : bueno para encontrar el camino más corto, buscamos los nodos más cercanos al root primero : mas memoria \n",
    "* DFS: si lo que buscamos está bien cerca a las hojas este es la mejor opción, existe un path entre un nodo y otro? \n",
    "\n",
    "#### Preguntas frecuentes:\n",
    "* Si la solución no está muy lejos del nodo root: BFS \n",
    "* Si el árbol es muy profundo y las soluciones son raras : BFS\n",
    "* Si el árbol es ancho : DFS\n",
    "* Si las soluciones son frecuentes pero localizadas profundo :DFS\n",
    "* Determinar si un path existe entre dos nodos : DFS \n",
    "* Encontrar el path más corto : BFS \n"
   ]
  },
  {
   "cell_type": "code",
   "execution_count": null,
   "metadata": {},
   "outputs": [],
   "source": [
    "class Node():\n",
    "    def __init__(self, data):\n",
    "        self.data = data\n",
    "        self.left = None\n",
    "        self.right = None\n",
    "\n",
    "class BinarySearchTree():\n",
    "    def __init__(self):\n",
    "        self.root = None\n",
    "        self.number_of_nodes = 0 \n",
    "         \n",
    "    def breathFirstSearch(self): \n",
    "        current_node = self.root    \n",
    "        lista = []\n",
    "        queue = []\n",
    "        queue.append(current_node)\n",
    "        while queue:\n",
    "            current_node = queue.pop(0) # el primer elemento dentro del queue (FIFO, first in first out)\n",
    "            lista.append(current_node.data)\n",
    "            if current_node.left: \n",
    "                queue.append(current_node.left)\n",
    "            if current_node.right:\n",
    "                queue.append(current_node.right)\n",
    "        return lista \n",
    "    \n",
    "    def breathFirstSearchR(self,queue,lista):\n",
    "        if not queue:\n",
    "            return lista  \n",
    "        current_node = queue.pop(0)\n",
    "        lista.append(current_node.data)\n",
    "        if current_node.left: \n",
    "            queue.append(current_node.left)\n",
    "        if current_node.right:\n",
    "            queue.append(current_node.right)\n",
    "        return self.breathFirstSearchR(queue,lista)\n",
    "            "
   ]
  },
  {
   "cell_type": "code",
   "execution_count": null,
   "metadata": {},
   "outputs": [],
   "source": [
    "#           101 \n",
    "#       33       105 "
   ]
  },
  {
   "cell_type": "code",
   "execution_count": null,
   "metadata": {},
   "outputs": [],
   "source": [
    "#             9 \n",
    "#         4       20 \n",
    "#       1   6  15   170 "
   ]
  },
  {
   "cell_type": "markdown",
   "metadata": {},
   "source": [
    "#### A la hora de implementar el DFS se puede hacer de 3 formas\n",
    "* Haciendo uso de un Binary search tree el Inorder devolverá el árbol de forma ascendente \n",
    "* Inorder : (33, 101, 105) (1,4,6,9,15,20,170)\n",
    "* Preorder  : (101,33,105) (9,4,1,6,20,15,170) - para recrear un árbol \n",
    "* Postorder : (33,105,101) (1,6,4,15,170,20,9) - hijos antes que padres "
   ]
  }
 ],
 "metadata": {
  "interpreter": {
   "hash": "66e4a4b7c121db4243309d1eb7f3fba70ad006b305f754897095e92fca8ac47b"
  },
  "kernelspec": {
   "display_name": "Python 3.8.5 ('base')",
   "language": "python",
   "name": "python3"
  },
  "language_info": {
   "codemirror_mode": {
    "name": "ipython",
    "version": 3
   },
   "file_extension": ".py",
   "mimetype": "text/x-python",
   "name": "python",
   "nbconvert_exporter": "python",
   "pygments_lexer": "ipython3",
   "version": "3.8.5"
  },
  "orig_nbformat": 4
 },
 "nbformat": 4,
 "nbformat_minor": 2
}
