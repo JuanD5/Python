{
 "cells": [
  {
   "cell_type": "markdown",
   "metadata": {},
   "source": [
    "* Random user api "
   ]
  },
  {
   "cell_type": "code",
   "execution_count": 47,
   "metadata": {},
   "outputs": [
    {
     "data": {
      "text/plain": [
       "<Response [200]>"
      ]
     },
     "execution_count": 47,
     "metadata": {},
     "output_type": "execute_result"
    }
   ],
   "source": [
    "import requests\n",
    "import json\n",
    "requests.get(\"https://randomuser.me/api/\")"
   ]
  },
  {
   "cell_type": "markdown",
   "metadata": {},
   "source": [
    "* Response 200 means that everything is OK "
   ]
  },
  {
   "cell_type": "code",
   "execution_count": 2,
   "metadata": {},
   "outputs": [
    {
     "data": {
      "text/plain": [
       "'{\"results\":[{\"gender\":\"male\",\"name\":{\"title\":\"Mr\",\"first\":\"Liam\",\"last\":\"Claire\"},\"location\":{\"street\":{\"number\":4283,\"name\":\"Oak St\"},\"city\":\"Trenton\",\"state\":\"New Brunswick\",\"country\":\"Canada\",\"postcode\":\"C6R 0G5\",\"coordinates\":{\"latitude\":\"-66.4419\",\"longitude\":\"-50.8915\"},\"timezone\":{\"offset\":\"+11:00\",\"description\":\"Magadan, Solomon Islands, New Caledonia\"}},\"email\":\"liam.claire@example.com\",\"login\":{\"uuid\":\"83f6ae49-0fe9-4a9c-adfa-3d348afc409e\",\"username\":\"yellowmouse293\",\"password\":\"stuff\",\"salt\":\"d04JPKWO\",\"md5\":\"978dc3587bc30ed8695ddb51afc2beca\",\"sha1\":\"d4cb386ba21ce889b8fd7c0baa0d8ef695995f6b\",\"sha256\":\"d6f7836804ccb4f8bf6fd75212f0c745bb08c4e075e5da3d709d9172d3d14e65\"},\"dob\":{\"date\":\"1993-04-20T23:50:26.002Z\",\"age\":29},\"registered\":{\"date\":\"2006-07-05T16:29:10.164Z\",\"age\":16},\"phone\":\"O69 U30-5923\",\"cell\":\"C27 U40-1455\",\"id\":{\"name\":\"SIN\",\"value\":\"656251873\"},\"picture\":{\"large\":\"https://randomuser.me/api/portraits/men/31.jpg\",\"medium\":\"https://randomuser.me/api/portraits/med/men/31.jpg\",\"thumbnail\":\"https://randomuser.me/api/portraits/thumb/men/31.jpg\"},\"nat\":\"CA\"}],\"info\":{\"seed\":\"e3e180c369697c1f\",\"results\":1,\"page\":1,\"version\":\"1.4\"}}'"
      ]
     },
     "execution_count": 2,
     "metadata": {},
     "output_type": "execute_result"
    }
   ],
   "source": [
    "response = requests.get(\"https://randomuser.me/api/\")\n",
    "response.text"
   ]
  },
  {
   "cell_type": "code",
   "execution_count": 3,
   "metadata": {},
   "outputs": [
    {
     "data": {
      "text/plain": [
       "requests.models.Response"
      ]
     },
     "execution_count": 3,
     "metadata": {},
     "output_type": "execute_result"
    }
   ],
   "source": [
    "type(response)"
   ]
  },
  {
   "cell_type": "code",
   "execution_count": 4,
   "metadata": {},
   "outputs": [
    {
     "data": {
      "text/plain": [
       "str"
      ]
     },
     "execution_count": 4,
     "metadata": {},
     "output_type": "execute_result"
    }
   ],
   "source": [
    "type(response.text)"
   ]
  },
  {
   "cell_type": "markdown",
   "metadata": {},
   "source": [
    "* DOG API "
   ]
  },
  {
   "cell_type": "code",
   "execution_count": 5,
   "metadata": {},
   "outputs": [
    {
     "data": {
      "text/plain": [
       "'{\"message\":\"The Dog API\",\"version\":\"1.0.15\"}'"
      ]
     },
     "execution_count": 5,
     "metadata": {},
     "output_type": "execute_result"
    }
   ],
   "source": [
    "response = requests.get(\"https://api.thedogapi.com/\")\n",
    "response.text"
   ]
  },
  {
   "cell_type": "markdown",
   "metadata": {},
   "source": [
    "Here we are calling the base URL, so we are not accesing any significant data \n",
    "\n",
    "Now we are going to call the breeds endpoint "
   ]
  },
  {
   "cell_type": "code",
   "execution_count": 6,
   "metadata": {},
   "outputs": [],
   "source": [
    "response = requests.get(\"https://api.thedogapi.com/v1/breeds\")"
   ]
  },
  {
   "cell_type": "markdown",
   "metadata": {},
   "source": [
    "Inside the response we have  _headers_, _status-code_ y el _text_"
   ]
  },
  {
   "cell_type": "code",
   "execution_count": 7,
   "metadata": {},
   "outputs": [
    {
     "data": {
      "text/plain": [
       "200"
      ]
     },
     "execution_count": 7,
     "metadata": {},
     "output_type": "execute_result"
    }
   ],
   "source": [
    "response.status_code"
   ]
  },
  {
   "cell_type": "code",
   "execution_count": 8,
   "metadata": {},
   "outputs": [
    {
     "data": {
      "text/plain": [
       "{'x-dns-prefetch-control': 'off', 'x-frame-options': 'SAMEORIGIN', 'strict-transport-security': 'max-age=15552000; includeSubDomains', 'x-download-options': 'noopen', 'x-content-type-options': 'nosniff', 'x-xss-protection': '1; mode=block', 'vary': 'Origin', 'pagination-count': '172', 'pagination-page': '0', 'pagination-limit': '1000', 'access-control-expose-headers': 'Pagination-Count, Pagination-Page, Pagination-Limit', 'content-type': 'application/json; charset=utf-8', 'x-response-time': '6ms', 'X-Cloud-Trace-Context': '8279ef6dea260e79d56a7864645fd5c6', 'Date': 'Fri, 12 Aug 2022 14:37:36 GMT', 'Server': 'Google Frontend', 'Content-Length': '76246'}"
      ]
     },
     "execution_count": 8,
     "metadata": {},
     "output_type": "execute_result"
    }
   ],
   "source": [
    "response.headers"
   ]
  },
  {
   "cell_type": "markdown",
   "metadata": {},
   "source": [
    "Inside our request we have: \n",
    "\n",
    "_base-url_, _path-url_, _method_ and _headers_"
   ]
  },
  {
   "cell_type": "code",
   "execution_count": 9,
   "metadata": {},
   "outputs": [],
   "source": [
    "request = response.request"
   ]
  },
  {
   "cell_type": "code",
   "execution_count": 10,
   "metadata": {},
   "outputs": [
    {
     "data": {
      "text/plain": [
       "'https://api.thedogapi.com/v1/breeds'"
      ]
     },
     "execution_count": 10,
     "metadata": {},
     "output_type": "execute_result"
    }
   ],
   "source": [
    "request.url"
   ]
  },
  {
   "cell_type": "code",
   "execution_count": 11,
   "metadata": {},
   "outputs": [
    {
     "data": {
      "text/plain": [
       "'/v1/breeds'"
      ]
     },
     "execution_count": 11,
     "metadata": {},
     "output_type": "execute_result"
    }
   ],
   "source": [
    "request.path_url"
   ]
  },
  {
   "cell_type": "code",
   "execution_count": 12,
   "metadata": {},
   "outputs": [
    {
     "data": {
      "text/plain": [
       "'GET'"
      ]
     },
     "execution_count": 12,
     "metadata": {},
     "output_type": "execute_result"
    }
   ],
   "source": [
    "request.method"
   ]
  },
  {
   "cell_type": "code",
   "execution_count": 13,
   "metadata": {},
   "outputs": [
    {
     "data": {
      "text/plain": [
       "{'User-Agent': 'python-requests/2.27.1', 'Accept-Encoding': 'gzip, deflate', 'Accept': '*/*', 'Connection': 'keep-alive'}"
      ]
     },
     "execution_count": 13,
     "metadata": {},
     "output_type": "execute_result"
    }
   ],
   "source": [
    "request.headers"
   ]
  },
  {
   "cell_type": "markdown",
   "metadata": {},
   "source": [
    "All of this are _attributes_ of the requests and response objects"
   ]
  },
  {
   "cell_type": "code",
   "execution_count": 14,
   "metadata": {},
   "outputs": [
    {
     "data": {
      "text/plain": [
       "404"
      ]
     },
     "execution_count": 14,
     "metadata": {},
     "output_type": "execute_result"
    }
   ],
   "source": [
    "response = requests.get(\"https://api.thedogapi.com/v1/breedz\")\n",
    "response.status_code"
   ]
  },
  {
   "cell_type": "code",
   "execution_count": 15,
   "metadata": {},
   "outputs": [
    {
     "data": {
      "text/plain": [
       "'Not Found'"
      ]
     },
     "execution_count": 15,
     "metadata": {},
     "output_type": "execute_result"
    }
   ],
   "source": [
    "response.reason"
   ]
  },
  {
   "cell_type": "markdown",
   "metadata": {},
   "source": [
    "_Headers_ are used to define parameters governing requests and responses"
   ]
  },
  {
   "cell_type": "markdown",
   "metadata": {},
   "source": [
    "* In case that we want, for example sending a custom request ID we made use of the X-Request ID file "
   ]
  },
  {
   "cell_type": "code",
   "execution_count": 16,
   "metadata": {},
   "outputs": [
    {
     "data": {
      "text/plain": [
       "{'User-Agent': 'python-requests/2.27.1', 'Accept-Encoding': 'gzip, deflate', 'Accept': '*/*', 'Connection': 'keep-alive', 'X-Request-Id': '<my-request-id>'}"
      ]
     },
     "execution_count": 16,
     "metadata": {},
     "output_type": "execute_result"
    }
   ],
   "source": [
    "headers = {\"X-Request-Id\": \"<my-request-id>\"}\n",
    "response = requests.get(\"https://example.org\", headers=headers)\n",
    "response.request.headers\n",
    "\n"
   ]
  },
  {
   "cell_type": "code",
   "execution_count": 21,
   "metadata": {},
   "outputs": [
    {
     "data": {
      "text/plain": [
       "'application/json; charset=utf-8'"
      ]
     },
     "execution_count": 21,
     "metadata": {},
     "output_type": "execute_result"
    }
   ],
   "source": [
    "response = requests.get(\"https://api.thedogapi.com/v1/breeds/1\")\n",
    "response.headers.get('Content-Type')"
   ]
  },
  {
   "cell_type": "markdown",
   "metadata": {},
   "source": [
    "* unicode "
   ]
  },
  {
   "cell_type": "code",
   "execution_count": 22,
   "metadata": {},
   "outputs": [
    {
     "data": {
      "text/plain": [
       "b'{\"weight\":{\"imperial\":\"6 - 13\",\"metric\":\"3 - 6\"},\"height\":{\"imperial\":\"9 - 11.5\",\"metric\":\"23 - 29\"},\"id\":1,\"name\":\"Affenpinscher\",\"bred_for\":\"Small rodent hunting, lapdog\",\"breed_group\":\"Toy\",\"life_span\":\"10 - 12 years\",\"temperament\":\"Stubborn, Curious, Playful, Adventurous, Active, Fun-loving\",\"origin\":\"Germany, France\",\"reference_image_id\":\"BJa4kxc4X\"}'"
      ]
     },
     "execution_count": 22,
     "metadata": {},
     "output_type": "execute_result"
    }
   ],
   "source": [
    "response.content"
   ]
  },
  {
   "cell_type": "markdown",
   "metadata": {},
   "source": [
    "* bytes"
   ]
  },
  {
   "cell_type": "code",
   "execution_count": 23,
   "metadata": {},
   "outputs": [
    {
     "data": {
      "text/plain": [
       "'{\"weight\":{\"imperial\":\"6 - 13\",\"metric\":\"3 - 6\"},\"height\":{\"imperial\":\"9 - 11.5\",\"metric\":\"23 - 29\"},\"id\":1,\"name\":\"Affenpinscher\",\"bred_for\":\"Small rodent hunting, lapdog\",\"breed_group\":\"Toy\",\"life_span\":\"10 - 12 years\",\"temperament\":\"Stubborn, Curious, Playful, Adventurous, Active, Fun-loving\",\"origin\":\"Germany, France\",\"reference_image_id\":\"BJa4kxc4X\"}'"
      ]
     },
     "execution_count": 23,
     "metadata": {},
     "output_type": "execute_result"
    }
   ],
   "source": [
    "response.text\n"
   ]
  },
  {
   "cell_type": "code",
   "execution_count": 24,
   "metadata": {},
   "outputs": [
    {
     "data": {
      "text/plain": [
       "{'weight': {'imperial': '6 - 13', 'metric': '3 - 6'},\n",
       " 'height': {'imperial': '9 - 11.5', 'metric': '23 - 29'},\n",
       " 'id': 1,\n",
       " 'name': 'Affenpinscher',\n",
       " 'bred_for': 'Small rodent hunting, lapdog',\n",
       " 'breed_group': 'Toy',\n",
       " 'life_span': '10 - 12 years',\n",
       " 'temperament': 'Stubborn, Curious, Playful, Adventurous, Active, Fun-loving',\n",
       " 'origin': 'Germany, France',\n",
       " 'reference_image_id': 'BJa4kxc4X'}"
      ]
     },
     "execution_count": 24,
     "metadata": {},
     "output_type": "execute_result"
    }
   ],
   "source": [
    "response.json()"
   ]
  },
  {
   "cell_type": "code",
   "execution_count": 25,
   "metadata": {},
   "outputs": [
    {
     "data": {
      "text/plain": [
       "'text/html; charset=utf-8'"
      ]
     },
     "execution_count": 25,
     "metadata": {},
     "output_type": "execute_result"
    }
   ],
   "source": [
    "response = requests.get(\"http://placegoat.com/200/200\")\n",
    "response.headers.get(\"Content-Type\")"
   ]
  },
  {
   "cell_type": "code",
   "execution_count": 26,
   "metadata": {},
   "outputs": [
    {
     "data": {
      "text/plain": [
       "b'<!DOCTYPE html>\\n<html lang=\"en\">\\n<head>\\n<meta http-equiv=\"Content-Type\" content=\"text/html; charset=UTF-8\">\\n\\n<meta name=\"viewport\" content=\"width=device-width, initial-scale=1, shrink-to-fit=no\">\\n<link rel=\"stylesheet\" href=\"https://cdn.jsdelivr.net/gh/fancyapps/fancybox@3.5.7/dist/jquery.fancybox.min.css\" />\\n<link rel=\"stylesheet\" href=\"https://static.HugeDomains.com/css/hdv3-css/reboot.min.css\">\\n<link rel=\"stylesheet\" href=\"https://static.HugeDomains.com/css/hdv3-css/style.css?aa=2021-06-09a\">\\n<link rel=\"stylesheet\" href=\"https://static.HugeDomains.com/css/hdv3-css/responsive.css?aa=2021-06-09a\">\\n<link rel=\"stylesheet\" href=\"https://static.HugeDomains.com/css/hdv3-css/hd-style.css\">\\n<meta name=\"theme-color\" content=\"#4e73b7\">\\n<meta property=\"og:site_name\" content=\"HugeDomains\">\\n<meta property=\"og:type\" content=\"website\">\\n<meta property=\"og:image\" content=\"https://static.HugeDomains.com/images/hdv3-img/og_hugedomains.png\" />\\n<title>placegoat.com is for sale | HugeDomains</title>\\n<meta property=\"og:title\" content=\"placegoat.com is for sale | HugeDomains\" />\\n<meta property=\"og:url\" content=\"https://www.HugeDomains.com/domain_profile.cfm?d=placegoat.com\" />\\n<link rel=\"canonical\" href=\"https://www.HugeDomains.com/domain_profile.cfm?d=placegoat.com\" />\\n<meta property=\"og:description\" content=\"Friendly and helpful customer support that goes above and beyond. We help you get the perfect domain name.\" />\\n<meta name=\"description\" content=\"Friendly and helpful customer support that goes above and beyond. We help you get the perfect domain name.\" />\\n<link rel=\"stylesheet\" href=\"https://fonts.googleapis.com/css?family=Noto+Sans:400,700&display=swap\">\\n<link rel=\"stylesheet\" href=\"https://use.typekit.net/zyw6mds.css\">\\n\\n<script async src=\"https://www.googletagmanager.com/gtag/js?id=UA-7117339-4\"></script>\\n<script>\\r\\nwindow.dataLayer = window.dataLayer || [];\\r\\nfunction gtag(){dataLayer.push(arguments);}\\r\\ngtag(\\'js\\', new Date());\\r\\n/* gtag(\\'config\\', \\'UA-7117339-4\\'); */\\r\\ngtag(\\'config\\', \\'UA-7117339-4\\', {\\r\\n\\'custom_map\\': {\\r\\n\\'dimension3\\': \\'siteversion\\'\\r\\n}\\r\\n});\\r\\ngtag(\\'event\\', \\'pageLoad\\', { \\'siteversion\\': \\'HDv3\\' });\\r\\n</script>\\n</head>\\n<body>\\n<header id=\"header\">\\n<div class=\"js-overlay-modal overlay-modal\"></div>\\n<div class=\"container \">\\n<div class=\"header-top d-flex ai-center\">\\n<div class=\"navBurger\" role=\"button\" id=\"navToggle\" aria-label=\"Navigation Toggle\"></div>\\n<a class=\"logo\" href=\"https://www.HugeDomains.com/index.cfm\"><img src=\"https://static.HugeDomains.com/images/hdv3-img/hugedomains_logo.svg\" alt=\"logo\" class=\"img-fluid\"></a>\\n<div class=\"d-flex ai-center jc-end\">\\n<div class=\"search-trigger\">\\n<a href=\"tel:1-303-893-0552\" class=\"header-tel headerMobileSearchPhone\"><img src=\"https://static.HugeDomains.com/images/hdv3-img/phone-icon.png\" alt=\"\" border=\"0\"></a>\\n<input type=\"image\" class=\"headerSearchMagInputImg\" src=\"https://static.HugeDomains.com/images/hdv3-img/search-icon.png\" tabindex=\"0\" alt=\"Header Mobile Search\" border=\"0\" onclick=\"headerMobileSearchMagFunc(); return false;\">\\n</div>\\n<div class=\"search-box \" id=\"hdv3HeaderSearchBoxDivID\">\\n\\n<form action=\"https://www.HugeDomains.com/domain_search.cfm\" method=\"get\" class=\"search-form\" id=\"siteHeaderFormSearchID\">\\n<input type=\"text\" name=\"domain_name\" value=\"\" class=\"search-input\" id=\"hdv3HeaderSearchTextID\" aria-label=\"Header Domain Search\">\\n<button type=\"submit\" value=\"\" class=\"search-btn\" onClick=\"hdv3HeaderSearchSubmitFunc(); return false; \" style=\"min-width:90px; height:35px;\" id=\"hdv3HeaderSearchButtonID\">Search</button>\\n<button type=\"button\" value=\"\" id=\"hdv3HeaderSearchProcessingID\" class=\"search-btn btn hiddenAtLoad width50\" onclick=\"return false;\" style=\" height:35px; min-width:90px; width:90px; padding-left:0px; padding-right:0px; padding-bottom:0px; padding-top:0px; margin-bottom:0px; overflow:hidden;\">\\n<div id=\"circularG\" style=\"margin-left:0px; margin-right:0px; margin-top:2px;\">\\n<div id=\"circularG_1\" class=\"circularG\"></div>\\n<div id=\"circularG_2\" class=\"circularG\"></div>\\n<div id=\"circularG_3\" class=\"circularG\"></div>\\n<div id=\"circularG_4\" class=\"circularG\"></div>\\n<div id=\"circularG_5\" class=\"circularG\"></div>\\n<div id=\"circularG_6\" class=\"circularG\"></div>\\n<div id=\"circularG_7\" class=\"circularG\"></div>\\n<div id=\"circularG_8\" class=\"circularG\"></div>\\n</div>\\n</button>\\n</form>\\n</div>\\n<span class=\"questions\">Questions?</span><a href=\"tel:1-303-893-0552\" class=\"header-tel hideAt991Width\"><img src=\"https://static.HugeDomains.com/images/hdv3-img/phone-icon.png\" alt=\"\"><span class=\"tell-text\">+1-303-893-0552</span></a>\\n</div>\\n</div>\\n</div>\\n<nav class=\"navbar hQQQideAt991Width\">\\n<div class=\"overlay \">\\n<div class=\"overlayMenu d-flex ai-center jc-between\">\\n<ul class=\"navbar-nav\">\\n<li class=\"nav-item\">\\n<a class=\"nav-link\" href=\"https://www.HugeDomains.com/index.cfm\">Home</a>\\n</li>\\n<li class=\"nav-item\">\\n<a class=\"nav-link\" href=\"https://www.HugeDomains.com/faq.cfm\">FAQs</a>\\n</li>\\n<li class=\"nav-item\">\\n<a class=\"nav-link\" href=\"https://www.HugeDomains.com/about.cfm\">About us</a>\\n</li>\\n<li class=\"nav-item\">\\n<a class=\"nav-link\" href=\"https://www.HugeDomains.com/contact.cfm\">Contact us</a>\\n</li>\\n<li class=\"nav-item\">\\n<a href=\"https://www.HugeDomains.com/payment-plan-login.cfm\" class=\"nav-link\">My account</a>\\n</li>\\n</ul>\\n<div class=\"shop-links\">\\n<div class=\"cart-icon favorit-ico \" style=\"padding-top:0px;\"><a href=\"https://www.HugeDomains.com/my-favorites.cfm\" class=\"whiteLink\" id=\"hdv3HeaderFavIconLinkID\" aria-label=\"My favorites\"><span class=\"mobile-show\">My favorites</span><img src=\"https://static.HugeDomains.com/images/hdv3-img/favorite-header.png\" alt=\"\"><span class=\"cart-number hiddenAtLoad\" id=\"hdv3FavNumberSpanID\"></span></a></div>\\n<div class=\"cart-icon\" style=\"padding-top:0px;\"><a href=\"https://www.HugeDomains.com/shopping_cart.cfm\" class=\"whiteLink\" id=\"hdv3HeaderShoppingCartLinkID\" aria-label=\"Shopping Cart\"><span class=\"mobile-show\">Shopping cart</span><img src=\"https://static.HugeDomains.com/images/hdv3-img/cart.png\" alt=\"\"><span class=\"cart-number hiddenAtLoad\" id=\"hdv3CartNumberSpanID\"></span></a></div>\\n</div>\\n</div>\\n</div>\\n</nav>\\n</header>\\n<main class=\"site-main \">\\n\\n\\n<div class=\"product-fav-wrapp container\">\\n<div class=\"side-wrapp dn-mobile\">\\n<div class=\"slide-sidebar-block\">\\n<div class=\"ss-block-inner\">\\n<div class=\"ss-block-inner-new\">\\n<span class=\"ss-block-title green\">placegoat.com</span>\\n<span class=\"row-save ss-bn \">\\n<span>Buy now:</span><span class=\"big-text green\">$10,295</span>\\n</span>\\n\\n<a href=\"https://www.HugeDomains.com/shopping_cart.cfm?d=placegoat&e=com\" class=\"btn m-b-0 m-t-0 \" id=\"hdv3Billboard197BuyID\" onClick=\"$(\\'#hdv3Billboard197BuyID\\').addClass(\\'hiddenAtLoad\\'); $(\\'#hdv3Billboard197BuyProceID\\').removeClass(\\'hiddenAtLoad\\'); landerFuncB44C0733CEDF4D34AA317EE3556330ADFunc(); return false;\" style=\"height:50px; padding-right:30px;\">&#9656; Buy now</a>\\n<button type=\"button\" value=\"\" id=\"hdv3Billboard197BuyProceID\" class=\" place-order-btn paymentpay-accaunt-content-btn btn hiddenAtLoad\" onclick=\"return false;\" style=\"height:50px; margin-left:0px; min-width:273px; margin-top:0px; margin-bottom:0px; display:flex;\">Processing\\n<div id=\"circularG\">\\n<div id=\"circularG_1\" class=\"circularG\"></div>\\n<div id=\"circularG_2\" class=\"circularG\"></div>\\n<div id=\"circularG_3\" class=\"circularG\"></div>\\n<div id=\"circularG_4\" class=\"circularG\"></div>\\n<div id=\"circularG_5\" class=\"circularG\"></div>\\n<div id=\"circularG_6\" class=\"circularG\"></div>\\n<div id=\"circularG_7\" class=\"circularG\"></div>\\n<div id=\"circularG_8\" class=\"circularG\"></div>\\n</div>\\n</button>\\n<span class=\"or\">or</span>\\n\\n<a href=\"https://www.HugeDomains.com/payment-plan-setup.cfm?d=placegoat.com\" class=\"btn m-t-0 \" id=\"hdv3Billboard197PPID\" onClick=\"$(\\'#hdv3Billboard197PPID\\').addClass(\\'hiddenAtLoad\\'); $(\\'#hdv3Billboard197PPProceID\\').removeClass(\\'hiddenAtLoad\\');\" style=\"height:50px; padding-right:30px;\">&#9656; Start payment plan</a>\\n<button type=\"button\" value=\"\" id=\"hdv3Billboard197PPProceID\" class=\" place-order-btn paymentpay-accaunt-content-btn btn hiddenAtLoad\" onclick=\"return false;\" style=\"height:50px; margin-left:0px; min-width:273px; margin-top:0px; margin-bottom:25px; display:flex;\">Processing\\n<div id=\"circularG\">\\n<div id=\"circularG_1\" class=\"circularG\"></div>\\n<div id=\"circularG_2\" class=\"circularG\"></div>\\n<div id=\"circularG_3\" class=\"circularG\"></div>\\n<div id=\"circularG_4\" class=\"circularG\"></div>\\n<div id=\"circularG_5\" class=\"circularG\"></div>\\n<div id=\"circularG_6\" class=\"circularG\"></div>\\n<div id=\"circularG_7\" class=\"circularG\"></div>\\n<div id=\"circularG_8\" class=\"circularG\"></div>\\n</div>\\n</button>\\n<span class=\"ssblock-footer\">Only $428.96/mo. for 24 months</span>\\n<a href=\"https://www.HugeDomains.com/payment-plan-setup.cfm?d=placegoat.com\" class=\"link dif-l\">See details</a>\\n</div>\\n<div class=\"crediti \">\\n<ul>\\n<li>\\n<div class=\"img\">\\n<img src=\"https://static.HugeDomains.com/images/hdv3-img/30daysmallico.png\" alt=\"\">\\n</div>\\n<div class=\"content\">\\n<span>30-day money back guarantee</span>\\n</div>\\n</li>\\n<li>\\n<div class=\"img\">\\n<img src=\"https://static.HugeDomains.com/images/hdv3-img/roket-side-ico.png\" alt=\"\">\\n</div>\\n<div class=\"content\">\\n<span>Take immediate ownership</span>\\n</div>\\n</li>\\n<li>\\n<div class=\"img\">\\n<img src=\"https://static.HugeDomains.com/images/hdv3-img/safesmallico.png\" alt=\"\">\\n</div>\\n<div class=\"content\">\\n<span>Safe and secure shopping</span>\\n</div>\\n</li>\\n</ul>\\n</div>\\n</div>\\n</div>\\n</div>\\n<form action=\"https://www.HugeDomains.com/shopping_cart.cfm?d=placegoat.com\" method=\"post\" id=\"landerFormB44C0733CEDF4D34AA317EE3556330ADID\">\\n<input type=\"hidden\" name=\"cartCheck\" value=\"0\" id=\"landerFormB44C0733CEDF4D34AA317EE3556330ADCheckID\">\\n</form>\\n<script>\\r\\nfunction landerFuncB44C0733CEDF4D34AA317EE3556330ADFunc() {\\r\\ndocument.getElementById(\\'landerFormB44C0733CEDF4D34AA317EE3556330ADCheckID\\').value = 42;\\r\\ndocument.getElementById(\\'landerFormB44C0733CEDF4D34AA317EE3556330ADID\\').submit();\\r\\n}\\r\\n</script>\\n<div class=\"content-wrapp\">\\n<section class=\"buy-now single-product top-container-new-product\">\\n<div class=\"container\">\\n<div class=\"single-product-block\">\\n<div class=\"bn-block\">\\n<h1 class=\"domain-name\">placegoat.com</h1>\\n<p class=\"d-t-n\">This domain is for sale: <span class=\"green\">$10,295</span></p>\\n</div>\\n\\n<div class=\"tablet-block-s\">\\n<p class=\"text-center\">Buy now for <span class=\"green\">$10,295</span> or pay <span class=\"green\">$428.96</span> per month for 24 months</p>\\n<div class=\"tablet-block-row\">\\n<div class=\"tablet-block-left\">\\n<a href=\"https://www.HugeDomains.com/shopping_cart.cfm?d=placegoat&e=com\" class=\"btn\" style=\"padding-right:30px; width:170px; min-width:170px; margin-top:10px; \" id=\"hdv3Billboard197BuyTabID\" onClick=\"$(\\'#hdv3Billboard197BuyTabID\\').addClass(\\'hiddenAtLoad\\'); $(\\'#hdv3Billboard197BuyTabProceID\\').removeClass(\\'hiddenAtLoad\\'); landerFuncB44C0733CEDF4D34AA317EE3556330ADFunc(); return false;\">&#9656; Buy now</a>\\n<button type=\"button\" value=\"\" id=\"hdv3Billboard197BuyTabProceID\" class=\" place-order-btn paymentpay-accaunt-content-btn btn hiddenAtLoad\" onclick=\"return false;\" style=\"height:50px; margin-left:0px; min-width:170px; margin-top:10px; margin-bottom:25px; display:flex;\">Processing\\n<div id=\"circularG\">\\n<div id=\"circularG_1\" class=\"circularG\"></div>\\n<div id=\"circularG_2\" class=\"circularG\"></div>\\n<div id=\"circularG_3\" class=\"circularG\"></div>\\n<div id=\"circularG_4\" class=\"circularG\"></div>\\n<div id=\"circularG_5\" class=\"circularG\"></div>\\n<div id=\"circularG_6\" class=\"circularG\"></div>\\n<div id=\"circularG_7\" class=\"circularG\"></div>\\n<div id=\"circularG_8\" class=\"circularG\"></div>\\n</div>\\n</button>\\n</div>\\n<div class=\"tablet-block-midle\" style=\"padding-bottom:25px;\">\\n<span style=\"font-size:16px;\">or</span>\\n</div>\\n<div class=\"tablet-block-right\">\\n<a href=\"https://www.HugeDomains.com/payment-plan-setup.cfm?d=placegoat.com\" class=\"btn\" style=\"padding-right:30px; width:247px; min-width:247px; margin-top:10px; \" id=\"hdv3Billboard197BuyTabPPID\" onClick=\"$(\\'#hdv3Billboard197BuyTabPPID\\').addClass(\\'hiddenAtLoad\\'); $(\\'#hdv3Billboard197BuyTabPPProceID\\').removeClass(\\'hiddenAtLoad\\');\">&#9656; Start payment plan</a>\\n<button type=\"button\" value=\"\" id=\"hdv3Billboard197BuyTabPPProceID\" class=\" place-order-btn paymentpay-accaunt-content-btn btn hiddenAtLoad\" onclick=\"return false;\" style=\"height:50px; margin-left:0px; min-width:247px; margin-top:10px; margin-bottom:25px; display:flex;\">Processing\\n<div id=\"circularG\">\\n<div id=\"circularG_1\" class=\"circularG\"></div>\\n<div id=\"circularG_2\" class=\"circularG\"></div>\\n<div id=\"circularG_3\" class=\"circularG\"></div>\\n<div id=\"circularG_4\" class=\"circularG\"></div>\\n<div id=\"circularG_5\" class=\"circularG\"></div>\\n<div id=\"circularG_6\" class=\"circularG\"></div>\\n<div id=\"circularG_7\" class=\"circularG\"></div>\\n<div id=\"circularG_8\" class=\"circularG\"></div>\\n</div>\\n</button>\\n</div>\\n</div>\\n\\n<div class=\"tablet-block-footer hdv3Product3b196TabletPPOneLine\" style=\"\" id=\"\">\\n<p>\\n<span>Make 24 monthly payments</span>\\n<span>Pay 0% interest</span>\\n<span>Start using the domain today. <a href=\"https://www.HugeDomains.com/payment-plan-setup.cfm?d=placegoat.com\" class=\"blueLink linkUnderlineHover\">See details</a></span>\\n</p>\\n</div>\\n\\n<div class=\"tablet-block-footer hdv3Product3b196TabletPPTwoLine\" style=\"margin-top:0px;\">\\n<p>\\n<span>Make 24 monthly payments</span>\\n<span>Pay 0% interest</span>\\n</p>\\n<p>\\n<span>Start using the domain today. <a href=\"https://www.HugeDomains.com/payment-plan-setup.cfm?d=placegoat.com\" class=\"blueLink linkUnderlineHover\">See details</a></span>\\n</p>\\n</div>\\n</div>\\n\\n<div class=\"moble-block leftRightMargin20Mobile560\">\\n<p class=\"text-center\" style=\"margin-bottom:0px;\">This domain is for sale: <span class=\"green\">$10,295</span></p>\\n<div class=\"ss-block-inner-new bb-none\">\\n<a href=\"https://www.HugeDomains.com/shopping_cart.cfm?d=placegoat&e=com\" class=\"btn m-b-0 m-t-0\" id=\"hdv3Billboard197BuyMobileID\" onClick=\"$(\\'#hdv3Billboard197BuyMobileID\\').addClass(\\'hiddenAtLoad\\'); $(\\'#hdv3Billboard197BuyMobileProceID\\').removeClass(\\'hiddenAtLoad\\'); landerFuncB44C0733CEDF4D34AA317EE3556330ADFunc(); return false;\" style=\"height:50px; padding-right:30px;\">&#9656; Buy now</a>\\n\\n<button type=\"button\" value=\"\" id=\"hdv3Billboard197BuyMobileProceID\" class=\" place-order-btn paymentpay-accaunt-content-btn btn hiddenAtLoad\" onclick=\"return false;\" style=\"height:50px; margin-left:0px; min-width:170px; margin-top:0px; margin-bottom:0px; display:flex;\"><span style=\"font-size:20px;\">Processing</span>\\n<div id=\"circularG\">\\n<div id=\"circularG_1\" class=\"circularG\"></div>\\n<div id=\"circularG_2\" class=\"circularG\"></div>\\n<div id=\"circularG_3\" class=\"circularG\"></div>\\n<div id=\"circularG_4\" class=\"circularG\"></div>\\n<div id=\"circularG_5\" class=\"circularG\"></div>\\n<div id=\"circularG_6\" class=\"circularG\"></div>\\n<div id=\"circularG_7\" class=\"circularG\"></div>\\n<div id=\"circularG_8\" class=\"circularG\"></div>\\n</div>\\n</button>\\n<span class=\"or\" style=\"text-align:center;\">or</span>\\n<a href=\"https://www.HugeDomains.com/payment-plan-setup.cfm?d=placegoat.com\" class=\"btn m-t-0\" id=\"hdv3Billboard197BuyMobilePPID\" onClick=\"$(\\'#hdv3Billboard197BuyMobilePPID\\').addClass(\\'hiddenAtLoad\\'); $(\\'#hdv3Billboard197BuyMobilePPProceID\\').removeClass(\\'hiddenAtLoad\\');\" style=\"height:50px; padding-right:30px;\">&#9656; Start payment plan</a>\\n\\n<button type=\"button\" value=\"\" id=\"hdv3Billboard197BuyMobilePPProceID\" class=\" place-order-btn paymentpay-accaunt-content-btn btn hiddenAtLoad\" onclick=\"return false;\" style=\"height:50px; margin-left:0px; min-width:247px; margin-top:0px; margin-bottom:25px; display:flex;\"><span style=\"font-size:20px;\">Processing</span>\\n<div id=\"circularG\">\\n<div id=\"circularG_1\" class=\"circularG\"></div>\\n<div id=\"circularG_2\" class=\"circularG\"></div>\\n<div id=\"circularG_3\" class=\"circularG\"></div>\\n<div id=\"circularG_4\" class=\"circularG\"></div>\\n<div id=\"circularG_5\" class=\"circularG\"></div>\\n<div id=\"circularG_6\" class=\"circularG\"></div>\\n<div id=\"circularG_7\" class=\"circularG\"></div>\\n<div id=\"circularG_8\" class=\"circularG\"></div>\\n</div>\\n</button>\\n<span class=\"ssblock-footer\">Only $428.96/mo. for 24 month</span>\\n<a href=\"https://www.HugeDomains.com/payment-plan-setup.cfm?d=placegoat.com\" class=\"link dif-l\">See details</a>\\n</div>\\n</div>\\n<form action=\"https://www.HugeDomains.com/shopping_cart.cfm?d=placegoat.com\" method=\"post\" id=\"landerFormB44C0733CEDF4D34AA317EE3556330ADID\">\\n<input type=\"hidden\" name=\"cartCheck\" value=\"0\" id=\"landerFormB44C0733CEDF4D34AA317EE3556330ADCheckID\">\\n</form>\\n<script>\\r\\nfunction landerFuncB44C0733CEDF4D34AA317EE3556330ADFunc() {\\r\\ndocument.getElementById(\\'landerFormB44C0733CEDF4D34AA317EE3556330ADCheckID\\').value = 42;\\r\\ndocument.getElementById(\\'landerFormB44C0733CEDF4D34AA317EE3556330ADID\\').submit();\\r\\n}\\r\\n</script>\\n\\n<div class=\"full-width-favorite favorite-left-side\">\\n<div class=\"favorite-check-wrap topBottomMargin4Mobile560\">\\n<label for=\"hdv3ProductFavoriteHeartID\">\\n<input type=\"checkbox\" id=\"hdv3ProductFavoriteHeartID\" onChange=\"favoriteProductBarFirstFunc(\\'placegoat.com\\');\">\\n<span>Favorite <span id=\"hdv3ProductHurrySpanID\" class=\"hiddenAtLoad\"></span></span>\\n</label>\\n</div>\\n</div>\\n<div style=\"\" class=\"leftRightMargin20Mobile560 borderTopGreyBar560 marginTop15px560\"></div>\\n<div class=\"top-bottom-bordered-block noBorderTop560 noMarginTop560 \">\\n<span>Questions? Talk to a domain expert: <a href=\"tel:1-303-893-0552\" class=\"link\">1&#8209;303&#8209;893&#8209;0552</a></span>\\n</div>\\n</div>\\n</div>\\n</section>\\n<div class=\"crediti tablet-block hdv3pitch noMobileLeftRightBorder560 leftRightPadding20Mobile560\">\\n<ul>\\n<li>\\n<div class=\"img\">\\n<img src=\"https://static.HugeDomains.com/images/hdv3-img/zero-side-ico.png\" alt=\"\">\\n</div>\\n<div class=\"content\">\\n<span>Enjoy zero percent financing</span>\\n</div>\\n</li>\\n<li>\\n<div class=\"img\">\\n<img src=\"https://static.HugeDomains.com/images/hdv3-img/roket-side-ico.png\" alt=\"\">\\n</div>\\n<div class=\"content\">\\n<span>Quick delivery of the domain</span>\\n</div>\\n</li>\\n<li>\\n<div class=\"img\">\\n<img src=\"https://static.HugeDomains.com/images/hdv3-img/safesmallico.png\" alt=\"\">\\n</div>\\n<div class=\"content\">\\n<span>Safe and secure shopping</span>\\n</div>\\n</li>\\n</ul>\\n</div>\\n<form action=\"https://www.HugeDomains.com/shopping_cart.cfm?d=placegoat.com\" method=\"post\" id=\"landerFormB44C0733CEDF4D34AA317EE3556330ADID\">\\n<input type=\"hidden\" name=\"cartCheck\" value=\"0\" id=\"landerFormB44C0733CEDF4D34AA317EE3556330ADCheckID\">\\n</form>\\n<script>\\r\\nfunction landerFuncB44C0733CEDF4D34AA317EE3556330ADFunc() {\\r\\ndocument.getElementById(\\'landerFormB44C0733CEDF4D34AA317EE3556330ADCheckID\\').value = 42;\\r\\ndocument.getElementById(\\'landerFormB44C0733CEDF4D34AA317EE3556330ADID\\').submit();\\r\\n}\\r\\n</script>\\n\\n<section class=\"testimonails single-product hdv3pitch leftRightPadding20Mobile991 leftRightPadding20Mobile560 leftRightPaddingImp20Mobile991 \" style=\"border-bottom:0px; \">\\n<div class=\"testimonails-wrap container\">\\n<div class=\"single-product-block\">\\n<h2>Since 2005, we\\'ve helped thousands of people get the perfect domain name</h2>\\n\\n<div class=\"testimonials-container\">\\n<div class=\"testimonials-item\">\\n<div class=\"testimonials-item_image\"><div class=\"img-placeholder darkblue\" style=\"background-color:#939999;\">R</div></div>\\n<div class=\"testimonials-item_content bb-quotes-content\">\\n<p class=\"feedback\">As a startup, cash flow is king - so the financing was helpful to spread out costs during the ramp-up period.\\nHuge Domains seems to have a good portfolio, and these days good domains are like real estate.\\nThe process was smooth and easy and I&#39;d recommend them.</p>\\n<span class=\"feedback-owner\">- Roger Vaughn, July 21, 2022</span>\\n</div>\\n</div>\\n<div class=\"testimonials-item\">\\n<div class=\"testimonials-item_image\"><div class=\"img-placeholder darkblue\" style=\"background-color:#9085ff;\">J</div></div>\\n<div class=\"testimonials-item_content bb-quotes-content\">\\n<p class=\"feedback\">The purchase of the domain was easy and straight forward. Then, after a year and we accidentally lost our domain, HugeDomains was accommodating and helpful in us regaining our domain. I will definitely continue using them for my domain selling and purchasing.\\nBest,</p>\\n<span class=\"feedback-owner\">- Jose Delacruz, July 19, 2022</span>\\n</div>\\n</div>\\n<div class=\"testimonials-item\">\\n<div class=\"testimonials-item_image\"><div class=\"img-placeholder darkblue\" style=\"background-color:#0047af;\">S</div></div>\\n<div class=\"testimonials-item_content bb-quotes-content\">\\n<p class=\"feedback\">The financing was very helpful - Thanks!</p>\\n<span class=\"feedback-owner\">- Steve Foose, July 18, 2022</span>\\n</div>\\n</div>\\n<div class=\"testimonials-item\">\\n<div class=\"testimonials-item_image\"><div class=\"img-placeholder darkblue\" style=\"background-color:#830000;\">D</div></div>\\n<div class=\"testimonials-item_content bb-quotes-content\">\\n<p class=\"feedback\">I was very happy with the responsiveness and professionalism of the HugeDomains team. They are honest, straightforward and deliver what they promise. While I hope I don&#39;t have to purchase a premium domain again, I will be happy to work with HugeDomains if I have to purchase another.</p>\\n<span class=\"feedback-owner\">- Dorian Dickinson, July 14, 2022</span>\\n</div>\\n</div>\\n<div class=\"testimonials-item\">\\n<div class=\"testimonials-item_image\"><div class=\"img-placeholder darkblue\" style=\"background-color:#89969f;\">K</div></div>\\n<div class=\"testimonials-item_content bb-quotes-content\">\\n<p class=\"feedback\">Superfast purchase and the transfer was smooth.</p>\\n<span class=\"feedback-owner\">- Kajsa Fredriksson, July 13, 2022</span>\\n</div>\\n</div>\\n</div>\\n<a href=\"https://www.HugeDomains.com/testimonials.cfm\" class=\"see-more testim-see-more blueLink linkUnderlineHover centerTextAt560Width\" target=\"_blank\">See more testimonials</a>\\n</div>\\n</div>\\n</section>\\n\\n<style>\\r\\n.testimonailQQQs {\\r\\nborder-bottom: 0px solid #d2d6da !important;\\r\\n}\\r\\n</style>\\n<h2 class=\"size24\">Our promise to you</h2>\\n<section class=\"noMobileLeftRightBorder560 leftRightMargin20Mobile991 noLeftRightMargin20Mobile560 noMiddleBorderBottomMobile991 width100Minus42Mobile991 widthQQQ100Mobile991 width100Mobile560 testimonails single-product colored-section m-mb-0 boreder-b-none hdv3pitch \">\\n<div class=\"testimonails-wrap container widthQQQ100Mobile991 widthAutoMobile991 \">\\n<div class=\"single-product-block small-p\">\\n<h3 class=\"subtitels\">30-day money back guarantee</h3>\\n<p>HugeDomains provides a 100% satisfaction guarantee on every domain name that we sell through our website. If you buy a domain and are unhappy with it, we will accept the return within 30 days and issue a full refund \\xe2\\x80\\x93 no questions asked.</p>\\n</div>\\n</div>\\n</section>\\n<section class=\"testimonails single-product colored-section m-mb-0 boreder-t-none boreder-b-none m-border-block noMobileLeftRightBorder560 leftRightMargin20Mobile991 width100Mobile560 noLeftRightMargin20Mobile560 noMiddleBorderBottomMobile991 width100Minus42Mobile991 widthQQQ100Mobile991\">\\n<div class=\"testimonails-wrap container widthAutoMobile991\">\\n<div class=\"single-product-block small-p\">\\n<h3 class=\"subtitels\">Quick delivery of the domain</h3>\\n<p>In most cases access to the domain will be available within one to two hours of purchase, however access to domains purchased after business hours will be available within the next business day.</p>\\n</div>\\n</div>\\n</section>\\n<section class=\"testimonails single-product colored-section boreder-t-none noMobileLeftRightBorder560 leftRightMargin20Mobile991 noLeftRightMargin20Mobile560 width100Minus42Mobile991 width100Mobile560 widthQQQ100Mobile991\">\\n<div class=\"testimonails-wrap container widthAutoMobile991\">\\n<div class=\"single-product-block small-p\">\\n<h3 class=\"subtitels\">Safe and secure shopping</h3>\\n<p>Your online safety and security is our top priority. We understand the importance of protecting your personal information.</p>\\n<br />\\n<p>We protect your information through SSL encryption technology, providing the safest, most secure shopping experience possible. Additionally, you may checkout with PayPal or Escrow.com.</p>\\n</div>\\n</div>\\n</section>\\n\\n\\n<section class=\"faq-section single-product bordered-section hdv3pitch lQQQeftRightPadding20Mobile991 leftRightPadding20Mobile560 lQQQeftRightPaddingImp20Mobile991 LeftRightPaddingImp20Mobile560 lQQQeftRightMargin20Mobile560 width100Minus40Mobile991 leftRightMargin20Mobile991 noLeftRightPaddingImpMobile991 \">\\n<div class=\"container\">\\n<div class=\"single-product-block\">\\n<div class=\"oter-domain-title d-flex jc-between\">\\n<h2 class=\"size24\">FAQs</h2>\\n<a href=\"https://www.HugeDomains.com/faq.cfm\" class=\"see-more-domains blueLink linkUnderlineHover hideAt560Width\" target=\"_blank\">See more FAQs</a>\\n</div>\\n\\n<div class=\"faq-block\">\\n\\n\\n<div class=\"faq-block-item\">\\n<div class=\"faq-bi-title\"><a href=\"#\" style=\"color:white; \">How do I transfer to another registrar such as GoDaddy?</a></div>\\n<div class=\"faq-bi-content\"><p>Yes, you can transfer your domain to any registrar or hosting company once you have purchased it. Since domain transfers are a manual process, it can take up to 5 days to transfer the domain.</p>\\n<p>&nbsp;</p>\\n<p>Domains purchased with payment plans are not eligible to transfer until all payments have been made. Please remember that our 30-day money back guarantee is void once a domain has been transferred.</p>\\n<p>&nbsp;</p>\\n<p>For transfer instructions to GoDaddy, please <a href=\"https://www.HugeDomains.com/transfer-domain-to-godaddy.cfm\" class=\"whiteLink\" style=\"text-decoration:underline;\">click here</a>.</p>\\n</div>\\n</div>\\n<div class=\"faq-block-item\">\\n<div class=\"faq-bi-title\"><a href=\"#\" style=\"color:white; \">How do I get the domain after the purchase?</a></div>\\n<div class=\"faq-bi-content\"><p>Once you purchase the domain we will push it into an account for you at our registrar, NameBright.com, we will then send you an email with your NameBright username and password. In most cases access to the domain will be available within one to two hours of purchase, however access to domains purchased after business hours will be available within the next business day.</p></div>\\n</div>\\n<div class=\"faq-block-item\">\\n<div class=\"faq-bi-title\"><a href=\"#\" style=\"color:white; \">What comes with the domain name?</a></div>\\n<div class=\"faq-bi-content\"><p>Nothing else is included with the purchase of the domain name. Our registrar NameBright.com does offer email packages for a yearly fee, however you will need to find hosting and web design services on your own.</p></div>\\n</div>\\n<div class=\"faq-block-item\">\\n<div class=\"faq-bi-title\"><a href=\"#\" style=\"color:white; \">Do you offer payment plans?</a></div>\\n<div class=\"faq-bi-content\"><p>Yes we offer payment plans for up to 12 months. <a href=\"https://www.HugeDomains.com/payment-plans.cfm?d=placegoat.com\" style=\"color:white; text-decoration:underline;\" target=\"_blank\">See details</a>.</p></div>\\n</div>\\n<div class=\"faq-block-item\">\\n<div class=\"faq-bi-title\"><a href=\"#\" style=\"color:white; \">How do I keep my personal information private?</a></div>\\n<div class=\"faq-bi-content\"><p>If you wish the domain ownership information to be private, add WhoIs Privacy Protection to your domain. This hides your personal information from the general public.</p>\\n<p>&nbsp;</p>\\n<p>To add privacy protection to your domain, do so within your registrar account. NameBright offers WhoIs Privacy Protection for free for the first year, and then for a small fee for subsequent years.</p>\\n<p>&nbsp;</p>\\n<p>Whois information is not updated immediately. It typically takes several hours for Whois data to update, and different registrars are faster than others. Usually your Whois information will be fully updated within two days.</p></div>\\n</div>\\n\\n<div class=\"more-w hiddenAtLoad showAt560Width\">\\n<a href=\"https://www.HugeDomains.com/faq.cfm\" class=\"see-more-faq link blueLink\" target=\"_blank\">See more FAQs</a>\\n</div>\\n</div>\\n</div>\\n\\n\\n</section>\\n\\n\\n\\n\\n<section class=\"testimonails single-product bordered-section hdv3pitch lQQQeftRightPadding20Mobile991 leftRightPadding20Mobile560 width100Minus40Mobile991 leftRightMargin20Mobile991 noLeftRightPaddingImpMobile991 \">\\n<div class=\"testimonails-wrap container\">\\n<div class=\"single-product-block\">\\n<div class=\"video-block\">\\n<iframe width=\"480\" height=\"270\" src=\"https://www.youtube.com/embed/bqLUp7GuUTg?rel=0&autoplay=0&showinfo=0&controls=0\" frameborder=\"0\" allow=\"accelerometer; autoplay; encrypted-media; gyroscope; picture-in-picture\" allowfullscreen></iframe>\\n</div>\\n<div class=\"text-video hideAt630Width \"><p>Your Web address means everything \\xe2\\x80\\x93 watch our video see why</p></div>\\n<div class=\"text-video showAt630Width \"><p align=\"center\">Your Web address means everything<br />watch our video see why</p></div>\\n</div>\\n</div>\\n</section>\\n\\n<section class=\"other-domains-update-v-1 single-product\">\\n<div class=\"container\">\\n<div class=\"single-product-block\">\\n<div class=\"oter-domain-title d-flex jc-between\">\\n<h2 class=\"size24\">Other domains you might like</h2>\\n</div>\\n<div class=\"domains-table border-none\">\\n<div class=\"domain-row\">\\n<div class=\"domain\">\\n<a href=\"https://www.HugeDomains.com/domain_profile.cfm?d=SiteUnder.com\">SiteUnder.com</a>\\n<a href=\"https://www.HugeDomains.com/domain_profile.cfm?d=SiteUnder.com\" class=\"btn\" style=\"height:35px;\">&#9656; See domain</a>\\n<span class=\"price\">$6,595</span>\\n</div>\\n</div>\\n<div class=\"domain-row\">\\n<div class=\"domain\">\\n<a href=\"https://www.HugeDomains.com/domain_profile.cfm?d=DexterFarm.com\">DexterFarm.com</a>\\n<a href=\"https://www.HugeDomains.com/domain_profile.cfm?d=DexterFarm.com\" class=\"btn\" style=\"height:35px;\">&#9656; See domain</a>\\n<span class=\"price\">$5,795</span>\\n</div>\\n</div>\\n<div class=\"domain-row\">\\n<div class=\"domain\">\\n<a href=\"https://www.HugeDomains.com/domain_profile.cfm?d=AtlantaNeighborhood.com\">AtlantaNeighborhood.com</a>\\n<a href=\"https://www.HugeDomains.com/domain_profile.cfm?d=AtlantaNeighborhood.com\" class=\"btn\" style=\"height:35px;\">&#9656; See domain</a>\\n<span class=\"price\">$5,495</span>\\n</div>\\n</div>\\n\\n</div>\\n</div>\\n</div>\\n</section>\\n\\n<section class=\"quick-stats-section single-product hdv3pitch leftRightMargin20Mobile991 width100Minus40Mobile991\" style=\"margin-top:30px;\">\\n<div class=\"container\">\\n<div class=\"single-product-block\">\\n<div class=\"oter-domain-title d-flex jc-between\">\\n<h2 class=\"size24\">Quick stats</h2>\\n</div>\\n<div class=\"quick-stat-block\">\\n<div class=\"qs-row\">\\n<div>Domain length</div>\\n<div>9 characters</div>\\n</div>\\n<div class=\"qs-row\">\\n<div>Keywords</div>\\n<div>\\n<a href=\"https://www.HugeDomains.com/domain_search.cfm?domain_name=placegoat\">placegoat</a>\\n</div>\\n</div>\\n<div class=\"qs-row\">\\n<div>Base domain</div>\\n<div>placegoat</div>\\n</div>\\n<div class=\"qs-row\">\\n<div>TLD extension</div>\\n<div>.com</div>\\n</div>\\n</div>\\n</div>\\n</div>\\n</section>\\n\\n</div>\\n<div class=\"mobile-fixed-block hiddenAtLoad\" style=\"border-top:1px solid #d2d6da;\" id=\"hdv3Product3FooterBarrID\">\\n<div class=\"ss-block-inner-new\">\\n<span class=\"ss-block-title\">placegoat.com</span>\\n\\n<a href=\"https://www.HugeDomains.com/shopping_cart.cfm?d=placegoat&e=com\" class=\"btn\" style=\"margin-bottom:5px; padding-right:30px; height:50px; \" id=\"hdv3Billboard184BuyID\" onClick=\"$(\\'#hdv3Billboard184BuyID\\').addClass(\\'hiddenAtLoad\\'); $(\\'#hdv3Billboard184BuyProceID\\').removeClass(\\'hiddenAtLoad\\'); landerFunc8AF20C6389F74184868C9AD34913DF4BFunc(); return false;\">&rtrif; Buy now</a>\\n<button type=\"button\" value=\"\" id=\"hdv3Billboard184BuyProceID\" class=\" place-order-btn paymentpay-accaunt-content-btn btn hiddenAtLoad\" onclick=\"return false;\" style=\"height:50px; margin-left:0px; min-width:30px; margin-top:0px; margin-bottom:5px; display:block;\">\\n<div id=\"circularG\">\\n<div id=\"circularG_1\" class=\"circularG\"></div>\\n<div id=\"circularG_2\" class=\"circularG\"></div>\\n<div id=\"circularG_3\" class=\"circularG\"></div>\\n<div id=\"circularG_4\" class=\"circularG\"></div>\\n<div id=\"circularG_5\" class=\"circularG\"></div>\\n<div id=\"circularG_6\" class=\"circularG\"></div>\\n<div id=\"circularG_7\" class=\"circularG\"></div>\\n<div id=\"circularG_8\" class=\"circularG\"></div>\\n</div>\\n</button>\\n\\n<a href=\"https://www.HugeDomains.com/payment-plan-setup.cfm?d=placegoat.com\" class=\"btn bordered-btn\" style=\"border:3px solid #2aa527; background-color:white; color:#2aa527; height:50px; padding-top:8px; padding-bottom:0px; padding-right:30px; \" onclick=\"hdv39ADA26CE378541BB87C9F7DA7FE78A7DFunc(); return false;\" id=\"hdv39ADA26CE378541BB87C9F7DA7FE78A7DLinkID\">&#9656; Start Payment Plan</a>\\n<button type=\"button\" value=\"\" id=\"hdv39ADA26CE378541BB87C9F7DA7FE78A7DProcID\" class=\" place-order-btn paymentpay-accaunt-content-btn btn hiddenAtLoad\" onclick=\"return false;\" style=\"height:50px; margin-left:0px; margin-top:0px; width:100%;\">\\n<div id=\"circularG\">\\n<div id=\"circularG_1\" class=\"circularG\"></div>\\n<div id=\"circularG_2\" class=\"circularG\"></div>\\n<div id=\"circularG_3\" class=\"circularG\"></div>\\n<div id=\"circularG_4\" class=\"circularG\"></div>\\n<div id=\"circularG_5\" class=\"circularG\"></div>\\n<div id=\"circularG_6\" class=\"circularG\"></div>\\n<div id=\"circularG_7\" class=\"circularG\"></div>\\n<div id=\"circularG_8\" class=\"circularG\"></div>\\n</div>\\n</button>\\n<script>\\r\\nfunction hdv39ADA26CE378541BB87C9F7DA7FE78A7DFunc() {\\r\\n$(\\'#hdv39ADA26CE378541BB87C9F7DA7FE78A7DLinkID\\').addClass(\\'hiddenAtLoad\\');\\r\\n$(\\'#hdv39ADA26CE378541BB87C9F7DA7FE78A7DProcID\\').removeClass(\\'hiddenAtLoad\\');\\r\\n/* reset the button */\\r\\nwindow.addEventListener(\"unload\", function(event) {\\r\\n$(\\'#hdv39ADA26CE378541BB87C9F7DA7FE78A7DLinkID\\').removeClass(\\'hiddenAtLoad\\');\\r\\n$(\\'#hdv39ADA26CE378541BB87C9F7DA7FE78A7DProcID\\').addClass(\\'hiddenAtLoad\\');\\r\\n});\\r\\nwindow.addEventListener(\"pageshow\", function(event) {\\r\\nif (event.persisted) {\\r\\n}\\r\\n$(\\'#hdv39ADA26CE378541BB87C9F7DA7FE78A7DLinkID\\').removeClass(\\'hiddenAtLoad\\');\\r\\n$(\\'#hdv39ADA26CE378541BB87C9F7DA7FE78A7DProcID\\').addClass(\\'hiddenAtLoad\\');\\r\\n});\\r\\nwindow.location.href = \\'https://www.HugeDomains.com/payment-plan-setup.cfm?d=placegoat.com\\';\\r\\nreturn false;\\r\\n}\\r\\n</script>\\n</div>\\n</div>\\n</div>\\n<form action=\"https://www.HugeDomains.com/shopping_cart.cfm?d=placegoat.com\" method=\"post\" id=\"landerForm8AF20C6389F74184868C9AD34913DF4BID\">\\n<input type=\"hidden\" name=\"cartCheck\" value=\"0\" id=\"landerForm8AF20C6389F74184868C9AD34913DF4BCheckID\">\\n</form>\\n<script>\\r\\nfunction landerFunc8AF20C6389F74184868C9AD34913DF4BFunc() {\\r\\ndocument.getElementById(\\'landerForm8AF20C6389F74184868C9AD34913DF4BCheckID\\').value = 42;\\r\\ndocument.getElementById(\\'landerForm8AF20C6389F74184868C9AD34913DF4BID\\').submit();\\r\\n}\\r\\n</script>\\n<script>\\r\\ngtag(\\'event\\', \\'view_item\\', {\\r\\n\"items\": [\\r\\n{\\r\\n\"name\": \"placegoat.com\",\\r\\n\"list_name\": \"Product Page\",\\r\\n\"quantity\": 1,\\r\\n\"price\": \\'10295\\'\\r\\n}\\r\\n]\\r\\n});\\r\\n</script>\\n<div class=\"fab-btn-wrap\">\\n<a href=\"https://www.HugeDomains.com/contact.cfm\" class=\"fab-btn modal-trigger\" data-modal=\"contact-form-modal\" id=\"fabButtonIconLinkID\" aria-label=\"Contact HugeDomains with our FAB Icon\"><img src=\"https://static.HugeDomains.com/images/hdv3-img/mail-icon.png\" alt=\"\" id=\"fabButtonIconID\"></a>\\n</div>\\n<script>\\r\\nvar fabButtonIconLinkExists = document.getElementById(\\'fabButtonIconLinkID\\');\\r\\nif (typeof(fabButtonIconLinkExists) != \\'undefined\\' && fabButtonIconLinkExists != null)\\r\\n{\\r\\ndocument.getElementById(\\'fabButtonIconLinkID\\').addEventListener(\"click\", function(){\\r\\nfigureOutFab();\\r\\n});\\r\\n}\\r\\nfunction figureOutFab() {\\r\\n$(\\'#fabButtonPopopOuterDivID\\').load(\"https://www.HugeDomains.com/rjs/hdv3-rjs/contact.cfm\", function() { $(\\'#fabButtonPopopHeadID\\').html(\\'Email us\\'); $(\\'#fabButtonPopopErrorDivID\\').hide(); $(\\'#hdv3FabContactSubjectID\\').val(\\'placegoat.com\\'); $(\\'#hdv3FabContactSubjectRowID\\').hide(); figureOutFabContactDried = 0; figureOutFabContactDoubleDown = 0; figureOutFabContactDdp = 0; $(\\'#hdv3FabContactNameID\\').focus(); } );\\r\\n}\\r\\n</script>\\n<div class=\"contact-modal modal\" data-modal=\"contact-form-modal\" id=\"hdv3FabPopupDivOuterID\">\\n<div class=\"modal-header\">\\n<span class=\"head\" id=\"fabButtonPopopHeadID\"></span>\\n<span class=\"close-modal js-modal-close\" tabindex=\"-1\" id=\"hdv3FabPopupDivCloseID\"></span>\\n</div>\\n<div class=\"modal-content hass-errore\" id=\"fabButtonPopopOuterDivID\">\\n</div>\\n</div>\\n</main>\\n<footer id=\"footer\">\\n<div class=\"container \">\\n<div class=\"d-flex footer-links jc-between threeColFooterNav\">\\n<div class=\"col\">\\n<h4>Shop</h4>\\n<ul class=\"footer-menu\">\\n<li><a href=\"https://www.HugeDomains.com/index.cfm\" class=\"link whiteLink\">Home</a></li>\\n<li><a href=\"https://www.HugeDomains.com/categories.cfm\" class=\"link whiteLink\">Categories</a></li>\\n<li><a href=\"https://www.HugeDomains.com/payment-plans.cfm\" class=\"link whiteLink\">Payment plans</a></li>\\n<li><a href=\"https://www.HugeDomains.com/payment-plan-login.cfm\" class=\"link whiteLink\">My account</a></li>\\n</ul>\\n<h4>Buying Guide</h4>\\n<ul class=\"footer-menu\">\\n<li><a href=\"https://www.HugeDomains.com/buying_guide.cfm\" class=\"link whiteLink\">Helpful tips and articles</a></li>\\n</ul>\\n</div>\\n<div class=\"col\">\\n<h4>Safe and secure</h4>\\n<ul class=\"footer-menu\">\\n<li><a href=\"https://www.HugeDomains.com/testimonials.cfm\" class=\"link whiteLink\">Testimonials</a></li>\\n<li><a href=\"https://www.HugeDomains.com/satisfaction_guaranteed.cfm\" class=\"link whiteLink\">Money back guarantee</a></li>\\n<li><a href=\"https://www.HugeDomains.com/faq.cfm\" class=\"link whiteLink\">FAQs</a></li>\\n<li><a href=\"https://www.HugeDomains.com/escrow.cfm\" class=\"link whiteLink\">Escrow.com</a></li>\\n<li><a href=\"https://www.HugeDomains.com/namebright.cfm\" class=\"link whiteLink\">NameBright.com</a></li>\\n</ul>\\n</div>\\n<div class=\"col\">\\n<h4>About us</h4>\\n<ul class=\"footer-menu\">\\n<li><a href=\"https://www.HugeDomains.com/about.cfm\" class=\"link whiteLink\">Overview</a></li>\\n<li><a href=\"https://www.HugeDomains.com/contact.cfm\" class=\"link whiteLink\">Contact us</a></li>\\n<li><a href=\"https://www.HugeDomains.com/case-studies.cfm\" class=\"link whiteLink\">Case Studies</a></li>\\n<li><a href=\"https://www.HugeDomains.com/terms.cfm\" class=\"link whiteLink\">Terms and conditions</a></li>\\n<li><a href=\"https://www.HugeDomains.com/privacy_policy.cfm\" class=\"link whiteLink\">Privacy policy</a></li>\\n</ul>\\n</div>\\n</div>\\n<div class=\"d-flex badge-row ai-center threeColFooterNavLogos\">\\n<div class=\"d-flex jc-center threeColFooterNavLogo1\"><a href=\"https://www.HugeDomains.com/buying_guide.cfm\" aria-label=\"Explore the HugeDomains buying guides to learn about .com domains\"><img src=\"https://static.HugeDomains.com/images/hdv3-img/footer-logo-1.png\" alt=\"\" border=\"0\"></a></div>\\n<div class=\"d-flex jc-center threeColFooterNavLogo2\"><a href=\"https://www.HugeDomains.com/namebright.cfm\" aria-label=\"NameBright.com is a HugeDomains partner\"><img src=\"https://static.HugeDomains.com/images/hdv3-img/footer-logo-2.png\" alt=\"\" border=\"0\"></a></div>\\n<div class=\"d-flex jc-center threeColFooterNavLogo3\"><img src=\"https://static.HugeDomains.com/images/hdv3-img/footer-logo-3.png\" alt=\"\"></div>\\n<div class=\"d-flex jc-center threeColFooterNavLogo4\"><img src=\"https://static.HugeDomains.com/images/hdv3-img/footer-logo-4.png\" alt=\"\"></div>\\n<div class=\"d-flex jc-center threeColFooterNavLogo5\"><a href=\"https://www.HugeDomains.com/escrow.cfm\" aria-label=\"Escrow.com is a HugeDomains partner\"><img src=\"https://static.HugeDomains.com/images/hdv3-img/footer-logo-5.png\" alt=\"\" border=\"0\"></a></div>\\n</div>\\n<div class=\"text-center\">\\n<h4 class=\"cta\">Talk to a domain expert: <a href=\"tel:1-303-893-0552\" class=\"link\">+1-303-893-0552</a></h4>\\n</div>\\n<p class=\"copyright text-center\">&copy; 2022 HugeDomains.com. All rights reserved.</p>\\n<a href=\"https://www.HugeDomains.com/get-more.cfm\" tabindex=\"-1\" aria-label=\"more.\"></a>\\n</div>\\n</footer>\\n<script src=\"https://static.HugeDomains.com/js/hdv3-js/jquery.min.js\"></script>\\n<script src=\"https://static.HugeDomains.com/js/hdv3-js/intlTelInput.js\"></script>\\n<script src=\"https://static.HugeDomains.com/js/hdv3-js/script.js\"></script>\\n<script src=\"https://static.HugeDomains.com/js/hdv3-js/common.js\"></script>\\n<script src=\"https://static.HugeDomains.com/js/hdv3-js/hd-js.js?a=20220124a\"></script>\\n<script>\\r\\n/* shopping cart number */\\r\\ncartJs = readCookie(\\'SHOPPINGCART\\');\\r\\nif ((cartJs == \\'\\') || (cartJs == \\'%2C\\') || (cartJs == \\',\\')) {\\r\\n/* empty */\\r\\n$(\\'#hdv3HeaderCartIconDivID\\').addClass(\\'empty-cart\\');\\r\\n} else if (cartJs !== null) {\\r\\ncartItems = readCookie(\\'SHOPPINGCART\\').split(\"%2C\");\\r\\n$(\\'#hdv3HeaderCartIconDivID\\').removeClass(\\'empty-cart\\');\\r\\n$(\\'#hdv3CartNumberSpanID\\').removeClass(\\'hiddenAtLoad\\');\\r\\n$(\\'#hdv3CartNumberSpanID\\').html(cartItems.length);\\r\\n}\\r\\ndomainNumberFavorite(\\'hdv3FavNumberSpanID\\');\\r\\n</script>\\n<script>\\r\\ndomainHurryProductThree(\\'placegoat.com\\');\\r\\ndomainStarredFavorite(\\'placegoat.com\\', \\'hdv3ProductFavoriteHeartID\\' );\\r\\n$(function() {\\r\\nvar wv = $(window).outerWidth();\\r\\nif (wv > 768) {\\r\\nvar $window = $(window);\\r\\nvar $sidebar = $(\".ss-block-inner\");\\r\\nvar $sidebarTop = $sidebar.position().top ;\\r\\nvar $sidebarHeight = $sidebar.height();\\r\\nvar $footer = $(\\'#footer\\');\\r\\nvar $footerTop = $footer.position().top;\\r\\nvar $footerTop = $footerTop - 85;\\r\\n$window.scroll(function(event) {\\r\\n$sidebar.addClass(\"fixed\");\\r\\nvar $scrollTop = $window.scrollTop();\\r\\nvar $topPosition = Math.max(85, $sidebarTop - $scrollTop);\\r\\nvar $maindiv = $(\".site-main\");\\r\\nvar $maindivTop = $maindiv.position().top;\\r\\nvar $maindivTop = $maindivTop - 85;\\r\\n/* qqq */\\r\\n/* required */\\r\\nif ($scrollTop + $sidebarHeight > $footerTop ) {\\r\\nvar $topPosition = Math.min($topPosition, $footerTop - $scrollTop - $sidebarHeight );\\r\\n}\\r\\nif ( false == $( \"header#header\" ).hasClass( \"fixed-header\" ) ) {\\r\\nif ($topPosition == 85) {\\r\\n$topPosition = 140; /* 140 org */\\r\\n}\\r\\nif (140 > $topPosition) {\\r\\n$topPosition = 140; /* 140 org */\\r\\n}\\r\\n}\\r\\n$sidebar.css(\"top\", $topPosition );\\r\\n});\\r\\n}\\r\\n});\\r\\n$(window).scroll(function () {\\r\\nif ( $(\\'.hdv3pitch\\').length ) {\\r\\nvar offset = $(\".hdv3pitch\").offset();\\r\\nvar w = $(window);\\r\\nvar ww = offset.top-w.scrollTop();\\r\\nif ( ww > 85) {\\r\\n$(\\'#hdv3Product3FooterBarrID\\').addClass(\\'hiddenAtLoad\\');\\r\\n} else if ( ww <= 85) {\\r\\n$(\\'#hdv3Product3FooterBarrID\\').removeClass(\\'hiddenAtLoad\\');\\r\\n}\\r\\n} else {\\r\\n$(\\'#hdv3Product3FooterBarrID\\').removeClass(\\'hiddenAtLoad\\');\\r\\n}\\r\\n});\\r\\n</script>\\n\\n<script>(function(){var js = \"window[\\'__CF$cv$params\\']={r:\\'739aaa133ce2e5ab\\',m:\\'R0W4khY4X0rdvilW.oZgt7Dx6z7ROIDM3Pk1BXE3zyo-1660322547-0-AapXaNUDQOMRBs3X+GpjCDxC/WWGqAvtX80ewnnyuGBh3h0RDW2k1wGo1LPbUQOb4TIpqZWkMRjuDZuVaLEG7RzQoJoiAgyrHsHZ0RErI34ECvHletU2s3oailDMOkPMeXSB7nSewibDzbfIqrjlCSXDg/7AGAbarkV01qKCxe1l\\',s:[0x76575dc26c,0x78693ec115],u:\\'/cdn-cgi/challenge-platform/h/g\\'};var now=Date.now()/1000,offset=14400,ts=\\'\\'+(Math.floor(now)-Math.floor(now%offset)),_cpo=document.createElement(\\'script\\');_cpo.nonce=\\'\\',_cpo.src=\\'/cdn-cgi/challenge-platform/h/g/scripts/alpha/invisible.js?ts=\\'+ts,document.getElementsByTagName(\\'head\\')[0].appendChild(_cpo);\";var _0xh = document.createElement(\\'iframe\\');_0xh.height = 1;_0xh.width = 1;_0xh.style.position = \\'absolute\\';_0xh.style.top = 0;_0xh.style.left = 0;_0xh.style.border = \\'none\\';_0xh.style.visibility = \\'hidden\\';document.body.appendChild(_0xh);function handler() {var _0xi = _0xh.contentDocument || _0xh.contentWindow.document;if (_0xi) {var _0xj = _0xi.createElement(\\'script\\');_0xj.nonce = \\'\\';_0xj.innerHTML = js;_0xi.getElementsByTagName(\\'head\\')[0].appendChild(_0xj);}}if (document.readyState !== \\'loading\\') {handler();} else if (window.addEventListener) {document.addEventListener(\\'DOMContentLoaded\\', handler);} else {var prev = document.onreadystatechange || function () {};document.onreadystatechange = function (e) {prev(e);if (document.readyState !== \\'loading\\') {document.onreadystatechange = prev;handler();}};}})();</script></body></html>\\n'"
      ]
     },
     "execution_count": 26,
     "metadata": {},
     "output_type": "execute_result"
    }
   ],
   "source": [
    "response.content"
   ]
  },
  {
   "cell_type": "code",
   "execution_count": 27,
   "metadata": {},
   "outputs": [],
   "source": [
    "file = open(\"script.html\",\"wb\")\n",
    "file.write(response.content)\n",
    "file.close()\n"
   ]
  },
  {
   "cell_type": "code",
   "execution_count": 32,
   "metadata": {},
   "outputs": [
    {
     "data": {
      "text/plain": [
       "<Response [200]>"
      ]
     },
     "execution_count": 32,
     "metadata": {},
     "output_type": "execute_result"
    }
   ],
   "source": [
    "random_user_response = requests.get(\"https://randomuser.me/api/?gender=female\")\n",
    "random_user_response"
   ]
  },
  {
   "cell_type": "code",
   "execution_count": 33,
   "metadata": {},
   "outputs": [
    {
     "data": {
      "text/plain": [
       "b'{\"results\":[{\"gender\":\"female\",\"name\":{\"title\":\"Ms\",\"first\":\"Lilia\",\"last\":\"Centeno\"},\"location\":{\"street\":{\"number\":7283,\"name\":\"Ampliaci\\xc3\\xb3n Hidalgo\"},\"city\":\"San Mateo Otzacatipan\",\"state\":\"Hidalgo\",\"country\":\"Mexico\",\"postcode\":70151,\"coordinates\":{\"latitude\":\"27.9406\",\"longitude\":\"27.0905\"},\"timezone\":{\"offset\":\"+9:00\",\"description\":\"Tokyo, Seoul, Osaka, Sapporo, Yakutsk\"}},\"email\":\"lilia.centeno@example.com\",\"login\":{\"uuid\":\"3ceb0b6a-360a-4e6c-acf4-d181d1875922\",\"username\":\"yellowfish859\",\"password\":\"shawn\",\"salt\":\"mxcQ5zXQ\",\"md5\":\"6a872cd18ecd563349216756304a5e69\",\"sha1\":\"561ade7f58de4c187e33c5081fd32df8ef9f09ea\",\"sha256\":\"fc1f65709b11843b0e3be8b3f383747214d02164fec75f91d2f043a8ae1ea587\"},\"dob\":{\"date\":\"1949-01-29T13:52:10.434Z\",\"age\":73},\"registered\":{\"date\":\"2012-11-14T10:35:08.907Z\",\"age\":9},\"phone\":\"(680) 543 6112\",\"cell\":\"(619) 263 5499\",\"id\":{\"name\":\"NSS\",\"value\":\"97 60 02 0219 1\"},\"picture\":{\"large\":\"https://randomuser.me/api/portraits/women/10.jpg\",\"medium\":\"https://randomuser.me/api/portraits/med/women/10.jpg\",\"thumbnail\":\"https://randomuser.me/api/portraits/thumb/women/10.jpg\"},\"nat\":\"MX\"}],\"info\":{\"seed\":\"cc07eacfead122df\",\"results\":1,\"page\":1,\"version\":\"1.4\"}}'"
      ]
     },
     "execution_count": 33,
     "metadata": {},
     "output_type": "execute_result"
    }
   ],
   "source": [
    "random_user_response.content"
   ]
  },
  {
   "cell_type": "code",
   "execution_count": 34,
   "metadata": {},
   "outputs": [
    {
     "data": {
      "text/plain": [
       "{'results': [{'gender': 'female',\n",
       "   'name': {'title': 'Ms', 'first': 'Lilia', 'last': 'Centeno'},\n",
       "   'location': {'street': {'number': 7283, 'name': 'Ampliación Hidalgo'},\n",
       "    'city': 'San Mateo Otzacatipan',\n",
       "    'state': 'Hidalgo',\n",
       "    'country': 'Mexico',\n",
       "    'postcode': 70151,\n",
       "    'coordinates': {'latitude': '27.9406', 'longitude': '27.0905'},\n",
       "    'timezone': {'offset': '+9:00',\n",
       "     'description': 'Tokyo, Seoul, Osaka, Sapporo, Yakutsk'}},\n",
       "   'email': 'lilia.centeno@example.com',\n",
       "   'login': {'uuid': '3ceb0b6a-360a-4e6c-acf4-d181d1875922',\n",
       "    'username': 'yellowfish859',\n",
       "    'password': 'shawn',\n",
       "    'salt': 'mxcQ5zXQ',\n",
       "    'md5': '6a872cd18ecd563349216756304a5e69',\n",
       "    'sha1': '561ade7f58de4c187e33c5081fd32df8ef9f09ea',\n",
       "    'sha256': 'fc1f65709b11843b0e3be8b3f383747214d02164fec75f91d2f043a8ae1ea587'},\n",
       "   'dob': {'date': '1949-01-29T13:52:10.434Z', 'age': 73},\n",
       "   'registered': {'date': '2012-11-14T10:35:08.907Z', 'age': 9},\n",
       "   'phone': '(680) 543 6112',\n",
       "   'cell': '(619) 263 5499',\n",
       "   'id': {'name': 'NSS', 'value': '97 60 02 0219 1'},\n",
       "   'picture': {'large': 'https://randomuser.me/api/portraits/women/10.jpg',\n",
       "    'medium': 'https://randomuser.me/api/portraits/med/women/10.jpg',\n",
       "    'thumbnail': 'https://randomuser.me/api/portraits/thumb/women/10.jpg'},\n",
       "   'nat': 'MX'}],\n",
       " 'info': {'seed': 'cc07eacfead122df',\n",
       "  'results': 1,\n",
       "  'page': 1,\n",
       "  'version': '1.4'}}"
      ]
     },
     "execution_count": 34,
     "metadata": {},
     "output_type": "execute_result"
    }
   ],
   "source": [
    "random_user_response.json()"
   ]
  },
  {
   "cell_type": "code",
   "execution_count": 38,
   "metadata": {},
   "outputs": [
    {
     "data": {
      "text/plain": [
       "{'results': [{'gender': 'female',\n",
       "   'name': {'title': 'Ms', 'first': 'Emilie', 'last': 'Nielsen'},\n",
       "   'location': {'street': {'number': 1990, 'name': 'Søgårdsvej'},\n",
       "    'city': 'Gørløse',\n",
       "    'state': 'Hovedstaden',\n",
       "    'country': 'Denmark',\n",
       "    'postcode': 57491,\n",
       "    'coordinates': {'latitude': '-44.1322', 'longitude': '-92.8505'},\n",
       "    'timezone': {'offset': '+5:00',\n",
       "     'description': 'Ekaterinburg, Islamabad, Karachi, Tashkent'}},\n",
       "   'email': 'emilie.nielsen@example.com',\n",
       "   'login': {'uuid': '9fb3d438-08db-4a6f-84b8-11154d201da1',\n",
       "    'username': 'redlion203',\n",
       "    'password': 'corolla',\n",
       "    'salt': 'bHYSQy9q',\n",
       "    'md5': '162229b2d9da705923fdc54876a65819',\n",
       "    'sha1': '057b7c1444884c7ca8063e394fc08480e7ced5b0',\n",
       "    'sha256': '019c47219b8a33aad60bec39b9c6cf043b772e13bd02cc5748a8bb392318556d'},\n",
       "   'dob': {'date': '1948-05-15T15:12:19.060Z', 'age': 74},\n",
       "   'registered': {'date': '2003-08-03T23:46:24.857Z', 'age': 19},\n",
       "   'phone': '28100860',\n",
       "   'cell': '15076690',\n",
       "   'id': {'name': 'CPR', 'value': '150548-3634'},\n",
       "   'picture': {'large': 'https://randomuser.me/api/portraits/women/33.jpg',\n",
       "    'medium': 'https://randomuser.me/api/portraits/med/women/33.jpg',\n",
       "    'thumbnail': 'https://randomuser.me/api/portraits/thumb/women/33.jpg'},\n",
       "   'nat': 'DK'}],\n",
       " 'info': {'seed': '4c93dfeb35f04275',\n",
       "  'results': 1,\n",
       "  'page': 1,\n",
       "  'version': '1.4'}}"
      ]
     },
     "execution_count": 38,
     "metadata": {},
     "output_type": "execute_result"
    }
   ],
   "source": [
    "requests.get(\"https://randomuser.me/api/?gender=female\").json()\n"
   ]
  },
  {
   "cell_type": "code",
   "execution_count": 39,
   "metadata": {},
   "outputs": [
    {
     "data": {
      "text/plain": [
       "{'results': [{'gender': 'female',\n",
       "   'name': {'title': 'Miss', 'first': 'Oya', 'last': 'Egeli'},\n",
       "   'location': {'street': {'number': 9884, 'name': 'Maçka Cd'},\n",
       "    'city': 'Zonguldak',\n",
       "    'state': 'İstanbul',\n",
       "    'country': 'Turkey',\n",
       "    'postcode': 25279,\n",
       "    'coordinates': {'latitude': '71.9765', 'longitude': '100.1354'},\n",
       "    'timezone': {'offset': '-7:00',\n",
       "     'description': 'Mountain Time (US & Canada)'}},\n",
       "   'email': 'oya.egeli@example.com',\n",
       "   'login': {'uuid': '542fbd62-6299-41a9-80d7-50ba2d6fbfe9',\n",
       "    'username': 'ticklishkoala436',\n",
       "    'password': '951753',\n",
       "    'salt': 'AkLMhMKV',\n",
       "    'md5': '5b0c214185609485d3ef655fcb60e1aa',\n",
       "    'sha1': '1d9dac30e35333d392b88ace1698ea9496c9c2b8',\n",
       "    'sha256': 'b0980c7b9f13c995cfb01e49c2852e6a574f483fd452db1cca17ace912ebda4d'},\n",
       "   'dob': {'date': '1944-12-06T14:31:21.879Z', 'age': 77},\n",
       "   'registered': {'date': '2016-02-08T16:30:12.934Z', 'age': 6},\n",
       "   'phone': '(183)-969-9573',\n",
       "   'cell': '(651)-458-0609',\n",
       "   'id': {'name': '', 'value': None},\n",
       "   'picture': {'large': 'https://randomuser.me/api/portraits/women/65.jpg',\n",
       "    'medium': 'https://randomuser.me/api/portraits/med/women/65.jpg',\n",
       "    'thumbnail': 'https://randomuser.me/api/portraits/thumb/women/65.jpg'},\n",
       "   'nat': 'TR'}],\n",
       " 'info': {'seed': 'e76bbda62aece0fb',\n",
       "  'results': 1,\n",
       "  'page': 1,\n",
       "  'version': '1.4'}}"
      ]
     },
     "execution_count": 39,
     "metadata": {},
     "output_type": "execute_result"
    }
   ],
   "source": [
    "requests.get(\"https://randomuser.me/api/?gender=female\").json()\n"
   ]
  },
  {
   "cell_type": "code",
   "execution_count": 40,
   "metadata": {},
   "outputs": [
    {
     "data": {
      "text/plain": [
       "{'results': [{'gender': 'female',\n",
       "   'name': {'title': 'Mrs', 'first': 'Emmi', 'last': 'Rinne'},\n",
       "   'location': {'street': {'number': 4664, 'name': 'Tehtaankatu'},\n",
       "    'city': 'Posio',\n",
       "    'state': 'Southern Savonia',\n",
       "    'country': 'Finland',\n",
       "    'postcode': 85919,\n",
       "    'coordinates': {'latitude': '-23.6431', 'longitude': '-93.5888'},\n",
       "    'timezone': {'offset': '+9:00',\n",
       "     'description': 'Tokyo, Seoul, Osaka, Sapporo, Yakutsk'}},\n",
       "   'email': 'emmi.rinne@example.com',\n",
       "   'login': {'uuid': 'c8d7eadd-862c-4d45-8bbc-3c3506bb4f95',\n",
       "    'username': 'sadrabbit272',\n",
       "    'password': 'plasma',\n",
       "    'salt': 'FzhX2qwF',\n",
       "    'md5': '3491bd27f4fc4e7e1ce4efc12840fdae',\n",
       "    'sha1': '2efffae248cb779a84033fa2e06f8bcdc2b199c4',\n",
       "    'sha256': '74be997c992af1fb426921626af09444e15df795e2a0478d7f5ba77fcbf8197c'},\n",
       "   'dob': {'date': '1989-08-01T08:51:32.031Z', 'age': 33},\n",
       "   'registered': {'date': '2006-05-25T12:03:46.783Z', 'age': 16},\n",
       "   'phone': '02-477-295',\n",
       "   'cell': '043-643-01-34',\n",
       "   'id': {'name': 'HETU', 'value': 'NaNNA024undefined'},\n",
       "   'picture': {'large': 'https://randomuser.me/api/portraits/women/34.jpg',\n",
       "    'medium': 'https://randomuser.me/api/portraits/med/women/34.jpg',\n",
       "    'thumbnail': 'https://randomuser.me/api/portraits/thumb/women/34.jpg'},\n",
       "   'nat': 'FI'}],\n",
       " 'info': {'seed': '65c19798becbfc6f',\n",
       "  'results': 1,\n",
       "  'page': 1,\n",
       "  'version': '1.4'}}"
      ]
     },
     "execution_count": 40,
     "metadata": {},
     "output_type": "execute_result"
    }
   ],
   "source": [
    "requests.get(\"https://randomuser.me/api/?gender=female\").json()\n"
   ]
  },
  {
   "cell_type": "code",
   "execution_count": 41,
   "metadata": {},
   "outputs": [
    {
     "data": {
      "text/plain": [
       "{'results': [{'gender': 'female',\n",
       "   'name': {'title': 'Miss', 'first': 'Kira', 'last': 'Schepers'},\n",
       "   'location': {'street': {'number': 4014, 'name': 'Friedhofstraße'},\n",
       "    'city': 'Bad Berka',\n",
       "    'state': 'Hamburg',\n",
       "    'country': 'Germany',\n",
       "    'postcode': 38874,\n",
       "    'coordinates': {'latitude': '47.0263', 'longitude': '18.6247'},\n",
       "    'timezone': {'offset': '+8:00',\n",
       "     'description': 'Beijing, Perth, Singapore, Hong Kong'}},\n",
       "   'email': 'kira.schepers@example.com',\n",
       "   'login': {'uuid': 'c3d65055-e06e-447f-9f55-e268e011fa58',\n",
       "    'username': 'greengoose922',\n",
       "    'password': 'yessir',\n",
       "    'salt': '5az4tD0w',\n",
       "    'md5': '7fd4b5abb8215269d619be4a66a535a5',\n",
       "    'sha1': '60da6ac7ac7b6f2018bc593c88e4f698e449a8c6',\n",
       "    'sha256': '0c8faa6b5e622fd1426411e4e5dd9c00cde4a9fc6aaccc842ec1a2535bc3f283'},\n",
       "   'dob': {'date': '1952-02-05T12:58:28.162Z', 'age': 70},\n",
       "   'registered': {'date': '2011-01-16T06:25:46.495Z', 'age': 11},\n",
       "   'phone': '0901-1963591',\n",
       "   'cell': '0175-8301016',\n",
       "   'id': {'name': 'SVNR', 'value': '56 050252 S 953'},\n",
       "   'picture': {'large': 'https://randomuser.me/api/portraits/women/53.jpg',\n",
       "    'medium': 'https://randomuser.me/api/portraits/med/women/53.jpg',\n",
       "    'thumbnail': 'https://randomuser.me/api/portraits/thumb/women/53.jpg'},\n",
       "   'nat': 'DE'}],\n",
       " 'info': {'seed': '74744633eca53f4a',\n",
       "  'results': 1,\n",
       "  'page': 1,\n",
       "  'version': '1.4'}}"
      ]
     },
     "execution_count": 41,
     "metadata": {},
     "output_type": "execute_result"
    }
   ],
   "source": [
    "query_params = {\"gender\": \"female\", \"nat\": \"de\"}\n",
    "requests.get(\"https://randomuser.me/api/\", params=query_params).json()\n"
   ]
  },
  {
   "cell_type": "code",
   "execution_count": 42,
   "metadata": {},
   "outputs": [
    {
     "data": {
      "text/plain": [
       "[{'weight': {'imperial': '45 - 100', 'metric': '20 - 45'},\n",
       "  'height': {'imperial': '14 - 24', 'metric': '36 - 61'},\n",
       "  'id': 148,\n",
       "  'name': 'Labradoodle',\n",
       "  'breed_group': 'Mixed',\n",
       "  'life_span': '10 - 15 years'}]"
      ]
     },
     "execution_count": 42,
     "metadata": {},
     "output_type": "execute_result"
    }
   ],
   "source": [
    "query_params = {\"q\": \"labradoodle\"}\n",
    "endpoint = \"https://api.thedogapi.com/v1/breeds/search\"\n",
    "requests.get(url = endpoint, params= query_params).json()\n"
   ]
  },
  {
   "cell_type": "code",
   "execution_count": 43,
   "metadata": {},
   "outputs": [
    {
     "name": "stdout",
     "output_type": "stream",
     "text": [
      "Total Confirmed Covid-19 cases in germany: 31489484\n"
     ]
    }
   ],
   "source": [
    "from datetime import date, timedelta\n",
    "\n",
    "today = date.today()\n",
    "yesterday = today - timedelta(days=1)\n",
    "country = \"germany\"\n",
    "endpoint = f\"https://api.covid19api.com/country/{country}/status/confirmed\"\n",
    "params = {\"from\": str(yesterday), \"to\": str(today)}\n",
    "\n",
    "response = requests.get(endpoint, params=params).json()\n",
    "total_confirmed = 0\n",
    "for day in response:\n",
    "    cases = day.get(\"Cases\", 0)\n",
    "    total_confirmed += cases\n",
    "\n",
    "print(f\"Total Confirmed Covid-19 cases in {country}: {total_confirmed}\")"
   ]
  },
  {
   "cell_type": "markdown",
   "metadata": {},
   "source": [
    "* Post method"
   ]
  },
  {
   "cell_type": "code",
   "execution_count": 45,
   "metadata": {},
   "outputs": [],
   "source": [
    "todo = {\n",
    "    \"userId\": 1,\n",
    "    \"title\": \"Buy milk\",\n",
    "    \"completed\": False\n",
    "    \n",
    "}\n"
   ]
  },
  {
   "cell_type": "code",
   "execution_count": 46,
   "metadata": {},
   "outputs": [
    {
     "data": {
      "text/plain": [
       "{'userId': 1, 'title': 'Buy milk', 'completed': False, 'id': 201}"
      ]
     },
     "execution_count": 46,
     "metadata": {},
     "output_type": "execute_result"
    }
   ],
   "source": [
    "api_url = \"https://jsonplaceholder.typicode.com/todos\"\n",
    "response = requests.post(api_url,json = todo)\n",
    "response.json()\n"
   ]
  },
  {
   "cell_type": "markdown",
   "metadata": {},
   "source": [
    "* Alternate version "
   ]
  },
  {
   "cell_type": "code",
   "execution_count": 48,
   "metadata": {},
   "outputs": [
    {
     "data": {
      "text/plain": [
       "{'userId': 1, 'title': 'Buy milk', 'completed': False, 'id': 201}"
      ]
     },
     "execution_count": 48,
     "metadata": {},
     "output_type": "execute_result"
    }
   ],
   "source": [
    "headers = {\"Content-Type\":\"application/json\"}\n",
    "response = requests.post(api_url,data = json.dumps(todo), headers = headers)\n",
    "response.json()"
   ]
  },
  {
   "cell_type": "markdown",
   "metadata": {},
   "source": [
    "# Tiangolo tutorial"
   ]
  },
  {
   "cell_type": "code",
   "execution_count": 5,
   "metadata": {},
   "outputs": [],
   "source": [
    "import requests\n",
    "import json"
   ]
  },
  {
   "cell_type": "code",
   "execution_count": 8,
   "metadata": {},
   "outputs": [],
   "source": [
    "api_url =  'http://localhost:3000/food'"
   ]
  },
  {
   "cell_type": "code",
   "execution_count": 3,
   "metadata": {},
   "outputs": [],
   "source": [
    "food = {'name':'Taco', 'ingredients' : [\"lechona\",\"tomate\"]}"
   ]
  },
  {
   "cell_type": "code",
   "execution_count": 13,
   "metadata": {},
   "outputs": [],
   "source": [
    "query_params = {\"delivery\":True}"
   ]
  },
  {
   "cell_type": "code",
   "execution_count": 14,
   "metadata": {},
   "outputs": [],
   "source": [
    "response = requests.post(url=api_url,data=json.dumps(food), params=query_params)"
   ]
  },
  {
   "cell_type": "code",
   "execution_count": 15,
   "metadata": {},
   "outputs": [
    {
     "data": {
      "text/plain": [
       "{'message': 'preparingTaco', 'delivery': True}"
      ]
     },
     "execution_count": 15,
     "metadata": {},
     "output_type": "execute_result"
    }
   ],
   "source": [
    "response.json()"
   ]
  },
  {
   "cell_type": "code",
   "execution_count": 18,
   "metadata": {},
   "outputs": [
    {
     "data": {
      "text/plain": [
       "<PreparedRequest [POST]>"
      ]
     },
     "execution_count": 18,
     "metadata": {},
     "output_type": "execute_result"
    }
   ],
   "source": [
    "response.request"
   ]
  },
  {
   "cell_type": "code",
   "execution_count": 19,
   "metadata": {},
   "outputs": [
    {
     "data": {
      "text/plain": [
       "{'date': 'Fri, 16 Sep 2022 16:55:35 GMT', 'server': 'uvicorn', 'content-length': '43', 'content-type': 'application/json'}"
      ]
     },
     "execution_count": 19,
     "metadata": {},
     "output_type": "execute_result"
    }
   ],
   "source": [
    "response.headers"
   ]
  },
  {
   "cell_type": "code",
   "execution_count": 20,
   "metadata": {},
   "outputs": [
    {
     "data": {
      "text/plain": [
       "b'{\"message\":\"preparingTaco\",\"delivery\":true}'"
      ]
     },
     "execution_count": 20,
     "metadata": {},
     "output_type": "execute_result"
    }
   ],
   "source": [
    "response._content"
   ]
  }
 ],
 "metadata": {
  "kernelspec": {
   "display_name": "Python 3.9.12 ('api')",
   "language": "python",
   "name": "python3"
  },
  "language_info": {
   "codemirror_mode": {
    "name": "ipython",
    "version": 3
   },
   "file_extension": ".py",
   "mimetype": "text/x-python",
   "name": "python",
   "nbconvert_exporter": "python",
   "pygments_lexer": "ipython3",
   "version": "3.9.12"
  },
  "orig_nbformat": 4,
  "vscode": {
   "interpreter": {
    "hash": "754a77eb2163e505bcbfa617bbe59d48105f2918597900bb3b22264c613b39a0"
   }
  }
 },
 "nbformat": 4,
 "nbformat_minor": 2
}
